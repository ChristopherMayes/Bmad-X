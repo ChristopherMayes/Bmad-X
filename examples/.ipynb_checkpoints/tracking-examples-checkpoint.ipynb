{
 "cells": [
  {
   "cell_type": "markdown",
   "id": "cfe2f3e6-ab7f-4493-8ca4-acd56731bc0b",
   "metadata": {
    "tags": []
   },
   "source": [
    "# Tracking through elements with autodiff"
   ]
  },
  {
   "cell_type": "code",
   "execution_count": 1,
   "id": "8af3d886-d3bd-4e34-9556-d645ee9f761e",
   "metadata": {
    "tags": []
   },
   "outputs": [
    {
     "data": {
      "text/plain": [
       "('1.11.0', '1.22.4')"
      ]
     },
     "execution_count": 1,
     "metadata": {},
     "output_type": "execute_result"
    }
   ],
   "source": [
    "import numpy as np\n",
    "import torch\n",
    "from torch.autograd.functional import jacobian\n",
    "from torch.autograd.functional import hessian\n",
    "from pytao import Tao\n",
    "import matplotlib.pyplot as plt\n",
    "import numdifftools as nd\n",
    "from bmadx.track import *\n",
    "tkwargs = {\n",
    "    \"dtype\" : torch.double\n",
    "}\n",
    "import time\n",
    "np.set_printoptions(precision= 16, suppress=False)\n",
    "torch.set_printoptions(precision= 16, sci_mode=True)\n",
    "torch.__version__, np.__version__"
   ]
  },
  {
   "cell_type": "markdown",
   "id": "4195b788-22c6-4f75-bb00-a417cf041292",
   "metadata": {
    "tags": []
   },
   "source": [
    "# Constants"
   ]
  },
  {
   "cell_type": "code",
   "execution_count": 2,
   "id": "c3f66538-b1d3-448d-a15b-82cae88067f6",
   "metadata": {
    "tags": []
   },
   "outputs": [],
   "source": [
    "c_light = 2.99792458e8 #speed of light in m/s\n",
    "m_e = 0.510998950e6 #electron mass in eV"
   ]
  },
  {
   "cell_type": "markdown",
   "id": "7638cac6-72c7-4e95-ae44-6ff97b375ae3",
   "metadata": {
    "tags": []
   },
   "source": [
    "# Drift tests"
   ]
  },
  {
   "cell_type": "code",
   "execution_count": 3,
   "id": "ee6fdf69-c492-4bc0-83c9-9b6a0400ef1f",
   "metadata": {
    "tags": []
   },
   "outputs": [
    {
     "data": {
      "text/plain": [
       "Drift(L=tensor(1.0000000000000000e+00, dtype=torch.float64))"
      ]
     },
     "execution_count": 3,
     "metadata": {},
     "output_type": "execute_result"
    }
   ],
   "source": [
    "# Create drift\n",
    "L=1.0 # Drift length in m\n",
    "d1 = Drift(L=torch.tensor(L, **tkwargs)) #named tuple is in track.py module\n",
    "d1"
   ]
  },
  {
   "cell_type": "markdown",
   "id": "f47cc1d4-c514-4f23-a70b-b692e4a0c4dc",
   "metadata": {
    "tags": []
   },
   "source": [
    "## Drift one particle test"
   ]
  },
  {
   "cell_type": "code",
   "execution_count": 4,
   "id": "22f5b59f-a16b-4e85-bc07-d9a6022c9dc2",
   "metadata": {
    "tags": []
   },
   "outputs": [
    {
     "data": {
      "text/plain": [
       "Particle(x=tensor(2.0000000000000000e-03, dtype=torch.float64, grad_fn=<UnbindBackward0>), px=tensor(3.0000000000000001e-03, dtype=torch.float64, grad_fn=<UnbindBackward0>), y=tensor(-3.0000000000000001e-03, dtype=torch.float64, grad_fn=<UnbindBackward0>), py=tensor(-1.0000000000000000e-03, dtype=torch.float64, grad_fn=<UnbindBackward0>), z=tensor(2.0000000000000000e-03, dtype=torch.float64, grad_fn=<UnbindBackward0>), pz=tensor(-2.0000000000000000e-03, dtype=torch.float64, grad_fn=<UnbindBackward0>), s=tensor(0., dtype=torch.float64), p0c=tensor(4.0000000000000000e+07, dtype=torch.float64), mc2=tensor( 5.1099895000000001e+05, dtype=torch.float64))"
      ]
     },
     "execution_count": 4,
     "metadata": {},
     "output_type": "execute_result"
    }
   ],
   "source": [
    "# Incoming particle\n",
    "s = 0.0 #initial s\n",
    "p0c = 4.0E+07 #Reference particle momentum in eV\n",
    "mc2 = 1*m_e # electron mass in eV\n",
    "ts = torch.tensor(s, **tkwargs)\n",
    "tp0c = torch.tensor(p0c, **tkwargs)\n",
    "tmc2 = torch.tensor(mc2, **tkwargs)\n",
    "pvec1 = [2e-3,3e-3,-3e-3,-1e-3,2e-3,-2e-3] \n",
    "tvec1 = torch.tensor(pvec1, requires_grad=True, **tkwargs)\n",
    "p_in = Particle(*tvec1,ts, tp0c, tmc2)\n",
    "p_in"
   ]
  },
  {
   "cell_type": "code",
   "execution_count": 5,
   "id": "2f852ced-da43-4f95-8578-779f46d15eb1",
   "metadata": {},
   "outputs": [
    {
     "data": {
      "text/plain": [
       "tensor([5.0060271145229325e-03, 3.0000000000000001e-03, -4.0020090381743109e-03,\n",
       "        -1.0000000000000000e-03, 1.9946525738924175e-03, -2.0000000000000000e-03],\n",
       "       dtype=torch.float64)"
      ]
     },
     "execution_count": 5,
     "metadata": {},
     "output_type": "execute_result"
    }
   ],
   "source": [
    "#create track_a_drift_torch\n",
    "track_a_drift_torch = make_track_a_drift(torch)\n",
    "# Outgoing particle\n",
    "p_out = track_a_drift_torch(p_in, d1)\n",
    "x_py = torch.hstack([p_out.x,p_out.px,p_out.y,p_out.py,p_out.z,p_out.pz]).detach()\n",
    "x_py"
   ]
  },
  {
   "cell_type": "code",
   "execution_count": 6,
   "id": "7a6c2d68-8d1e-4eaa-9fd0-aa67111276da",
   "metadata": {
    "tags": []
   },
   "outputs": [],
   "source": [
    "# bmad lattice for comparison\n",
    "tao = Tao('-lat bmad_lattices/test_drift.bmad -noplot')\n",
    "tao.cmd('set particle_start x='+str(pvec1[0]))\n",
    "tao.cmd('set particle_start px='+str(pvec1[1]))\n",
    "tao.cmd('set particle_start y='+str(pvec1[2]))\n",
    "tao.cmd('set particle_start py='+str(pvec1[3]))\n",
    "tao.cmd('set particle_start z='+str(pvec1[4]))\n",
    "tao.cmd('set particle_start pz='+str(pvec1[5]))\n",
    "orbit_out=tao.orbit_at_s(ele=1)\n",
    "#orbit_out"
   ]
  },
  {
   "cell_type": "code",
   "execution_count": 7,
   "id": "f986a53a-edc8-48cc-93b7-28911872bc94",
   "metadata": {},
   "outputs": [
    {
     "data": {
      "text/plain": [
       "tensor([5.0060271145229299e-03, 3.0000000000000001e-03, -4.0020090381743100e-03,\n",
       "        -1.0000000000000000e-03, 1.9946525738923598e-03, -2.0000000000000000e-03],\n",
       "       dtype=torch.float64)"
      ]
     },
     "execution_count": 7,
     "metadata": {},
     "output_type": "execute_result"
    }
   ],
   "source": [
    "# bmad outgoing particle\n",
    "x_tao = torch.tensor([orbit_out['x'],orbit_out['px'],orbit_out['y'],orbit_out['py'],orbit_out['z'],orbit_out['pz']],**tkwargs)\n",
    "x_tao"
   ]
  },
  {
   "cell_type": "code",
   "execution_count": 8,
   "id": "729e2c24-ee37-4d5b-8b76-81d1f5107dbf",
   "metadata": {},
   "outputs": [
    {
     "data": {
      "text/plain": [
       "True"
      ]
     },
     "execution_count": 8,
     "metadata": {},
     "output_type": "execute_result"
    }
   ],
   "source": [
    "torch.allclose(x_py, x_tao)"
   ]
  },
  {
   "cell_type": "markdown",
   "id": "d8fae022-eda1-4b37-89a3-48d9c9fc3ddb",
   "metadata": {
    "tags": []
   },
   "source": [
    "## Drift Jacobian test"
   ]
  },
  {
   "cell_type": "code",
   "execution_count": 9,
   "id": "062c3a71-b3b9-48b5-85a3-d332f716496d",
   "metadata": {},
   "outputs": [],
   "source": [
    "f_drift = lambda x: track_a_drift_torch(Particle(*x, ts, tp0c, tmc2), d1)[:6]\n",
    "J = jacobian(f_drift, tvec1)"
   ]
  },
  {
   "cell_type": "code",
   "execution_count": 10,
   "id": "2f3a581f-157b-44bd-b596-185155a9c972",
   "metadata": {
    "tags": []
   },
   "outputs": [
    {
     "data": {
      "text/plain": [
       "tensor([[ 1.0000000000000000e+00,  1.0020180925273929e+00,\n",
       "          0.0000000000000000e+00, -3.0181176940051169e-06,\n",
       "          0.0000000000000000e+00, -3.0120814586171068e-03],\n",
       "        [ 0.0000000000000000e+00,  1.0000000000000000e+00,\n",
       "          0.0000000000000000e+00,  0.0000000000000000e+00,\n",
       "          0.0000000000000000e+00,  0.0000000000000000e+00],\n",
       "        [ 0.0000000000000000e+00, -3.0181176940051169e-06,\n",
       "          1.0000000000000000e+00,  1.0020100442135422e+00,\n",
       "          0.0000000000000000e+00,  1.0040271528723688e-03],\n",
       "        [ 0.0000000000000000e+00,  0.0000000000000000e+00,\n",
       "          0.0000000000000000e+00,  1.0000000000000000e+00,\n",
       "          0.0000000000000000e+00,  0.0000000000000000e+00],\n",
       "        [ 0.0000000000000000e+00, -3.0120814586171063e-03,\n",
       "          0.0000000000000000e+00,  1.0040271528723688e-03,\n",
       "          1.0000000000000000e+00,  1.7421652474771806e-04],\n",
       "        [ 0.0000000000000000e+00,  0.0000000000000000e+00,\n",
       "          0.0000000000000000e+00,  0.0000000000000000e+00,\n",
       "          0.0000000000000000e+00,  1.0000000000000000e+00]],\n",
       "       dtype=torch.float64)"
      ]
     },
     "execution_count": 10,
     "metadata": {},
     "output_type": "execute_result"
    }
   ],
   "source": [
    "# Jacobian matrix\n",
    "mat_py = torch.vstack(J)\n",
    "mat_py"
   ]
  },
  {
   "cell_type": "code",
   "execution_count": 11,
   "id": "9f168d28-5c4a-4db0-a649-c8bde823496c",
   "metadata": {},
   "outputs": [
    {
     "data": {
      "text/plain": [
       "tensor([[ 1.0000000000000000e+00,  1.0020180925273900e+00,\n",
       "          0.0000000000000000e+00, -3.0181176940051199e-06,\n",
       "          0.0000000000000000e+00, -3.0120814586171098e-03],\n",
       "        [ 0.0000000000000000e+00,  1.0000000000000000e+00,\n",
       "          0.0000000000000000e+00,  0.0000000000000000e+00,\n",
       "          0.0000000000000000e+00,  0.0000000000000000e+00],\n",
       "        [ 0.0000000000000000e+00, -3.0181176940051199e-06,\n",
       "          1.0000000000000000e+00,  1.0020100442135400e+00,\n",
       "          0.0000000000000000e+00,  1.0040271528723699e-03],\n",
       "        [ 0.0000000000000000e+00,  0.0000000000000000e+00,\n",
       "          0.0000000000000000e+00,  1.0000000000000000e+00,\n",
       "          0.0000000000000000e+00,  0.0000000000000000e+00],\n",
       "        [ 0.0000000000000000e+00, -3.0120814586171098e-03,\n",
       "          0.0000000000000000e+00,  1.0040271528723699e-03,\n",
       "          1.0000000000000000e+00,  1.7421652474810300e-04],\n",
       "        [ 0.0000000000000000e+00,  0.0000000000000000e+00,\n",
       "          0.0000000000000000e+00,  0.0000000000000000e+00,\n",
       "          0.0000000000000000e+00,  1.0000000000000000e+00]],\n",
       "       dtype=torch.float64)"
      ]
     },
     "execution_count": 11,
     "metadata": {},
     "output_type": "execute_result"
    }
   ],
   "source": [
    "# Tao Jacobian\n",
    "drift_tao = tao.matrix(0,1)\n",
    "mat_tao = torch.tensor(drift_tao['mat6'], **tkwargs)\n",
    "mat_tao"
   ]
  },
  {
   "cell_type": "code",
   "execution_count": 12,
   "id": "4707f2f9-3e23-4497-9dda-78205b54965f",
   "metadata": {},
   "outputs": [
    {
     "data": {
      "text/plain": [
       "True"
      ]
     },
     "execution_count": 12,
     "metadata": {},
     "output_type": "execute_result"
    }
   ],
   "source": [
    "# is it close to Tao result?\n",
    "torch.allclose(mat_py, mat_tao)"
   ]
  },
  {
   "cell_type": "markdown",
   "id": "c3f3188a-39d8-4d68-bb0e-131a8dbb22a6",
   "metadata": {
    "tags": []
   },
   "source": [
    "# Quadrupole tests"
   ]
  },
  {
   "cell_type": "code",
   "execution_count": 13,
   "id": "9e48ff76-4946-4386-9a86-716f08cc1a8b",
   "metadata": {},
   "outputs": [],
   "source": [
    "def torchquadrupole(L: torch.Tensor, K1: torch.Tensor, NUM_STEPS=1,\n",
    "                    X_OFFSET: torch.Tensor=torch.tensor(0.0,**tkwargs),\n",
    "                    Y_OFFSET: torch.Tensor=torch.tensor(0.0,**tkwargs),\n",
    "                    TILT: torch.Tensor=torch.tensor(0.0,**tkwargs)):\n",
    "    return Quadrupole(L=L, K1=K1, NUM_STEPS=NUM_STEPS, X_OFFSET=X_OFFSET,\n",
    "                     Y_OFFSET=Y_OFFSET, TILT=TILT)"
   ]
  },
  {
   "cell_type": "code",
   "execution_count": 14,
   "id": "5dcd7b1a-ba3f-4b45-a5e6-455650fd6598",
   "metadata": {
    "tags": []
   },
   "outputs": [
    {
     "data": {
      "text/plain": [
       "Quadrupole(L=tensor(1.0000000000000001e-01, dtype=torch.float64), K1=tensor(1.0000000000000000e+01, dtype=torch.float64), NUM_STEPS=1, X_OFFSET=tensor(0., dtype=torch.float64), Y_OFFSET=tensor(0., dtype=torch.float64), TILT=tensor(0., dtype=torch.float64))"
      ]
     },
     "execution_count": 14,
     "metadata": {},
     "output_type": "execute_result"
    }
   ],
   "source": [
    "# Create quad\n",
    "L = 0.1 #Length in m\n",
    "K1 = 10 #Quad focusing strength. Positive is focusing in x\n",
    "#NUM_STEPS = 1 #number of divisions for tracking. 1 is bmad default when there are no other multipoles\n",
    "q1 = torchquadrupole(L=torch.tensor(L, **tkwargs), K1=torch.tensor(K1, **tkwargs))\n",
    "q1"
   ]
  },
  {
   "cell_type": "markdown",
   "id": "b73fdb87-f4bd-4b42-8ad9-6eb54030ad99",
   "metadata": {
    "tags": []
   },
   "source": [
    "## Quadrupole one particle test"
   ]
  },
  {
   "cell_type": "code",
   "execution_count": 15,
   "id": "7ef8b038-c06f-4474-b98b-79592da924f0",
   "metadata": {},
   "outputs": [
    {
     "data": {
      "text/plain": [
       "Particle(x=tensor(2.0000000000000000e-03, dtype=torch.float64, grad_fn=<UnbindBackward0>), px=tensor(3.0000000000000001e-03, dtype=torch.float64, grad_fn=<UnbindBackward0>), y=tensor(-3.0000000000000001e-03, dtype=torch.float64, grad_fn=<UnbindBackward0>), py=tensor(-1.0000000000000000e-03, dtype=torch.float64, grad_fn=<UnbindBackward0>), z=tensor(2.0000000000000000e-03, dtype=torch.float64, grad_fn=<UnbindBackward0>), pz=tensor(-2.0000000000000000e-03, dtype=torch.float64, grad_fn=<UnbindBackward0>), s=tensor(0., dtype=torch.float64), p0c=tensor(4.0000000000000000e+07, dtype=torch.float64), mc2=tensor( 5.1099895000000001e+05, dtype=torch.float64))"
      ]
     },
     "execution_count": 15,
     "metadata": {},
     "output_type": "execute_result"
    }
   ],
   "source": [
    "# Incoming particle\n",
    "s = 0.0 #initial s\n",
    "p0c = 4.0E+07 #Reference particle momentum in eV\n",
    "mc2 = 1*m_e # electron mass in eV\n",
    "ts = torch.tensor(s, **tkwargs)\n",
    "tp0c = torch.tensor(p0c, **tkwargs)\n",
    "tmc2 = torch.tensor(mc2, **tkwargs) \n",
    "pvec1 = [2e-3,3e-3,-3e-3,-1e-3,2e-3,-2e-3] \n",
    "tvec1 = torch.tensor(pvec1, requires_grad=True, **tkwargs)\n",
    "p_in = Particle(*tvec1,ts, tp0c, tmc2)\n",
    "p_in"
   ]
  },
  {
   "cell_type": "code",
   "execution_count": 16,
   "id": "0d16dea9-7c66-4c92-bd7e-b0bca1097b8f",
   "metadata": {},
   "outputs": [
    {
     "data": {
      "text/plain": [
       "tensor([2.1962397193025516e-03, 8.8418342648533682e-04, -3.2534419732692245e-03,\n",
       "        -4.1008717415728594e-03, 1.9993946642253308e-03, -2.0000000000000000e-03],\n",
       "       dtype=torch.float64)"
      ]
     },
     "execution_count": 16,
     "metadata": {},
     "output_type": "execute_result"
    }
   ],
   "source": [
    "# create track_a_quadrupole_torch\n",
    "track_a_quadrupole_torch = make_track_a_quadrupole(torch)\n",
    "# Outgoing particle\n",
    "p_out = track_a_quadrupole_torch(p_in, q1)\n",
    "x_py = torch.hstack(p_out[:6]).detach()\n",
    "x_py"
   ]
  },
  {
   "cell_type": "code",
   "execution_count": 17,
   "id": "7670ad81-5961-41bc-8719-1e23e97fb9a0",
   "metadata": {},
   "outputs": [],
   "source": [
    "# Bmad lattice to compare\n",
    "tao = Tao('-lat bmad_lattices/test_quad.bmad -noplot')\n",
    "tao.cmd('set particle_start x='+str(pvec1[0]))\n",
    "tao.cmd('set particle_start px='+str(pvec1[1]))\n",
    "tao.cmd('set particle_start y='+str(pvec1[2]))\n",
    "tao.cmd('set particle_start py='+str(pvec1[3]))\n",
    "tao.cmd('set particle_start z='+str(pvec1[4]))\n",
    "tao.cmd('set particle_start pz='+str(pvec1[5]))\n",
    "orbit_out = tao.orbit_at_s(ele=1)"
   ]
  },
  {
   "cell_type": "code",
   "execution_count": 18,
   "id": "82aa9e17-97ec-4556-93d1-2f54163d7f35",
   "metadata": {},
   "outputs": [
    {
     "data": {
      "text/plain": [
       "tensor([2.1962397193025498e-03, 8.8418342648533704e-04, -3.2534419732692201e-03,\n",
       "        -4.1008717415728603e-03, 1.9993946642253299e-03, -2.0000000000000000e-03],\n",
       "       dtype=torch.float64)"
      ]
     },
     "execution_count": 18,
     "metadata": {},
     "output_type": "execute_result"
    }
   ],
   "source": [
    "# Bmad outgoing particle\n",
    "x_tao = torch.tensor([orbit_out['x'],orbit_out['px'],orbit_out['y'],orbit_out['py'],orbit_out['z'],orbit_out['pz']],**tkwargs)\n",
    "x_tao"
   ]
  },
  {
   "cell_type": "code",
   "execution_count": 19,
   "id": "0174f8be-14cc-4aab-8b10-cecb0f044eb3",
   "metadata": {},
   "outputs": [
    {
     "data": {
      "text/plain": [
       "True"
      ]
     },
     "execution_count": 19,
     "metadata": {},
     "output_type": "execute_result"
    }
   ],
   "source": [
    "# close to Tao result?\n",
    "torch.allclose(x_py, x_tao)"
   ]
  },
  {
   "cell_type": "markdown",
   "id": "18d8ab23-f846-44e9-88c9-987b2267f9a1",
   "metadata": {
    "tags": []
   },
   "source": [
    "## Quadrupole Jacobian test"
   ]
  },
  {
   "cell_type": "code",
   "execution_count": 20,
   "id": "ea343dea-8c1f-4ce8-8d5c-3aa0f89d9812",
   "metadata": {},
   "outputs": [],
   "source": [
    "f_quadrupole = lambda x: track_a_quadrupole_torch(Particle(*x,ts, tp0c, tmc2), q1)[:6]\n",
    "J = jacobian(f_quadrupole, tvec1)"
   ]
  },
  {
   "cell_type": "code",
   "execution_count": 21,
   "id": "f0f45bf6-e8a9-469d-9883-76e85edb777b",
   "metadata": {},
   "outputs": [
    {
     "data": {
      "text/plain": [
       "tensor([[ 9.5031674318754977e-01,  9.8535410975817278e-02,\n",
       "          0.0000000000000000e+00,  0.0000000000000000e+00,\n",
       "          0.0000000000000000e+00, -1.9248585503177227e-04],\n",
       "        [-9.8338340153865633e-01,  9.5031674318754977e-01,\n",
       "         -0.0000000000000000e+00,  0.0000000000000000e+00,\n",
       "          0.0000000000000000e+00,  1.1496639089440819e-04],\n",
       "        [ 0.0000000000000000e+00,  0.0000000000000000e+00,\n",
       "          1.0505199385060540e+00,  1.0188215775106230e-01,\n",
       "          0.0000000000000000e+00,  2.5690939373378331e-04],\n",
       "        [-0.0000000000000000e+00,  0.0000000000000000e+00,\n",
       "          1.0167839343556018e+00,  1.0505199385060540e+00,\n",
       "          0.0000000000000000e+00,  1.0174858226574043e-04],\n",
       "        [ 8.0032908698420230e-05, -1.9425079143865157e-04,\n",
       "          1.5433242974866441e-04,  2.5952207539749645e-04,\n",
       "          1.0000000000000000e+00,  1.7567092021426940e-05],\n",
       "        [ 0.0000000000000000e+00,  0.0000000000000000e+00,\n",
       "          0.0000000000000000e+00,  0.0000000000000000e+00,\n",
       "          0.0000000000000000e+00,  1.0000000000000000e+00]],\n",
       "       dtype=torch.float64)"
      ]
     },
     "execution_count": 21,
     "metadata": {},
     "output_type": "execute_result"
    }
   ],
   "source": [
    "# Jacobian matrix\n",
    "mat_py = torch.vstack(J)\n",
    "mat_py"
   ]
  },
  {
   "cell_type": "code",
   "execution_count": 22,
   "id": "9e6cd8cc-4f9d-4072-a48b-b27961ad5762",
   "metadata": {},
   "outputs": [
    {
     "data": {
      "text/plain": [
       "tensor([[ 9.5031674318754999e-01,  9.8535410975817306e-02,\n",
       "          0.0000000000000000e+00,  0.0000000000000000e+00,\n",
       "          0.0000000000000000e+00, -1.9248585503177200e-04],\n",
       "        [-9.8338340153865600e-01,  9.5031674318754999e-01,\n",
       "          0.0000000000000000e+00,  0.0000000000000000e+00,\n",
       "          0.0000000000000000e+00,  1.1496639089440800e-04],\n",
       "        [ 0.0000000000000000e+00,  0.0000000000000000e+00,\n",
       "          1.0505199385060500e+00,  1.0188215775106201e-01,\n",
       "          0.0000000000000000e+00,  2.5690939373378298e-04],\n",
       "        [ 0.0000000000000000e+00,  0.0000000000000000e+00,\n",
       "          1.0167839343556000e+00,  1.0505199385060500e+00,\n",
       "          0.0000000000000000e+00,  1.0174858226574100e-04],\n",
       "        [ 8.0032908698420203e-05, -1.9425079143865201e-04,\n",
       "          1.5433242974866401e-04,  2.5952207539749601e-04,\n",
       "          1.0000000000000000e+00,  1.7567092021426899e-05],\n",
       "        [ 0.0000000000000000e+00,  0.0000000000000000e+00,\n",
       "          0.0000000000000000e+00,  0.0000000000000000e+00,\n",
       "          0.0000000000000000e+00,  1.0000000000000000e+00]],\n",
       "       dtype=torch.float64)"
      ]
     },
     "execution_count": 22,
     "metadata": {},
     "output_type": "execute_result"
    }
   ],
   "source": [
    "# Bmad Jacobian\n",
    "quad_tao = tao.matrix(0,1)\n",
    "mat_tao = torch.tensor(quad_tao['mat6'], **tkwargs)\n",
    "mat_tao"
   ]
  },
  {
   "cell_type": "code",
   "execution_count": 23,
   "id": "daea008b-7368-4f75-9fe0-fb3de156d68f",
   "metadata": {},
   "outputs": [
    {
     "data": {
      "text/plain": [
       "True"
      ]
     },
     "execution_count": 23,
     "metadata": {},
     "output_type": "execute_result"
    }
   ],
   "source": [
    "# close to Tao result?\n",
    "torch.allclose(mat_py, mat_tao)"
   ]
  },
  {
   "cell_type": "markdown",
   "id": "f973149b-da83-4b8c-9da4-88b4578c9ebe",
   "metadata": {
    "tags": []
   },
   "source": [
    "## Quadrupole offset test"
   ]
  },
  {
   "cell_type": "code",
   "execution_count": 24,
   "id": "4542eae6-b1b7-4438-a985-fe7733144f54",
   "metadata": {},
   "outputs": [],
   "source": [
    "# Quad params\n",
    "L = 0.1 #Length in m\n",
    "K1 = 10 #Quad focusing strength. Positive is focusing in x\n",
    "\n",
    "# quad w/o offsets\n",
    "q_no_off = torchquadrupole(L=torch.tensor(L, **tkwargs), K1=torch.tensor(K1, **tkwargs))\n",
    "# quad with offsets\n",
    "x_off = 1e-3\n",
    "y_off = -2e-3\n",
    "q_off = torchquadrupole(L=torch.tensor(L, **tkwargs), K1=torch.tensor(K1, **tkwargs), \n",
    "                   X_OFFSET=torch.tensor(x_off, **tkwargs),\n",
    "                   Y_OFFSET=torch.tensor(y_off, **tkwargs) )"
   ]
  },
  {
   "cell_type": "code",
   "execution_count": 25,
   "id": "4ccafa2f-5371-4dcd-b039-60385251cb96",
   "metadata": {},
   "outputs": [
    {
     "data": {
      "text/plain": [
       "Particle(x=tensor(2.0000000000000000e-03, dtype=torch.float64, grad_fn=<UnbindBackward0>), px=tensor(3.0000000000000001e-03, dtype=torch.float64, grad_fn=<UnbindBackward0>), y=tensor(-3.0000000000000001e-03, dtype=torch.float64, grad_fn=<UnbindBackward0>), py=tensor(-1.0000000000000000e-03, dtype=torch.float64, grad_fn=<UnbindBackward0>), z=tensor(2.0000000000000000e-03, dtype=torch.float64, grad_fn=<UnbindBackward0>), pz=tensor(-2.0000000000000000e-03, dtype=torch.float64, grad_fn=<UnbindBackward0>), s=tensor(0., dtype=torch.float64), p0c=tensor(4.0000000000000000e+07, dtype=torch.float64), mc2=tensor( 5.1099895000000001e+05, dtype=torch.float64))"
      ]
     },
     "execution_count": 25,
     "metadata": {},
     "output_type": "execute_result"
    }
   ],
   "source": [
    "# Incoming particle\n",
    "s = 0.0 #initial s\n",
    "p0c = 4.0E+07 #Reference particle momentum in eV\n",
    "mc2 = 1*m_e # electron mass in eV\n",
    "ts = torch.tensor(s, **tkwargs)\n",
    "tp0c = torch.tensor(p0c, **tkwargs)\n",
    "tmc2 = torch.tensor(mc2, **tkwargs) \n",
    "pvec1 = [2e-3,3e-3,-3e-3,-1e-3,2e-3,-2e-3] \n",
    "tvec1 = torch.tensor(pvec1, requires_grad=True, **tkwargs)\n",
    "p_in = Particle(*tvec1,ts, tp0c, tmc2)\n",
    "p_in"
   ]
  },
  {
   "cell_type": "code",
   "execution_count": 26,
   "id": "eef795f4-4537-4430-853f-fa81c201a181",
   "metadata": {},
   "outputs": [
    {
     "data": {
      "text/plain": [
       "tensor([2.1962397193025516e-03, 8.8418342648533682e-04, -3.2534419732692245e-03,\n",
       "        -4.1008717415728594e-03, 1.9993946642253308e-03, -2.0000000000000000e-03],\n",
       "       dtype=torch.float64)"
      ]
     },
     "execution_count": 26,
     "metadata": {},
     "output_type": "execute_result"
    }
   ],
   "source": [
    "# Outgoing particle no offset\n",
    "p_out = track_a_quadrupole_torch(p_in, q_no_off)\n",
    "x_py = torch.hstack(p_out[:6]).detach()\n",
    "x_py"
   ]
  },
  {
   "cell_type": "code",
   "execution_count": 27,
   "id": "7d5f8fdd-2fe1-4e40-a4e8-4547779a8cf3",
   "metadata": {},
   "outputs": [
    {
     "data": {
      "text/plain": [
       "tensor([2.2459229761150018e-03, 1.8675668280239931e-03, -3.1524020962571163e-03,\n",
       "        -2.0673038728616557e-03, 1.9995386064283046e-03, -2.0000000000000000e-03],\n",
       "       dtype=torch.float64)"
      ]
     },
     "execution_count": 27,
     "metadata": {},
     "output_type": "execute_result"
    }
   ],
   "source": [
    "# Outgoing particle offset\n",
    "p_out = track_a_quadrupole_torch(p_in, q_off)\n",
    "x_py = torch.hstack(p_out[:6]).detach()\n",
    "x_py"
   ]
  },
  {
   "cell_type": "code",
   "execution_count": 28,
   "id": "3d6da4fc-be97-465f-923e-9b89394ed2fa",
   "metadata": {},
   "outputs": [
    {
     "name": "stdout",
     "output_type": "stream",
     "text": [
      "CPU times: user 6.82 ms, sys: 1.21 ms, total: 8.03 ms\n",
      "Wall time: 8.54 ms\n"
     ]
    }
   ],
   "source": [
    "%%time\n",
    "# Bmad lattice to compare\n",
    "tao = Tao('-lat bmad_lattices/test_quad_offset.bmad -noplot')\n",
    "tao.cmd('set particle_start x='+str(pvec1[0]))\n",
    "tao.cmd('set particle_start px='+str(pvec1[1]))\n",
    "tao.cmd('set particle_start y='+str(pvec1[2]))\n",
    "tao.cmd('set particle_start py='+str(pvec1[3]))\n",
    "tao.cmd('set particle_start z='+str(pvec1[4]))\n",
    "tao.cmd('set particle_start pz='+str(pvec1[5]))\n",
    "orbit_out = tao.orbit_at_s(ele=1)"
   ]
  },
  {
   "cell_type": "code",
   "execution_count": 29,
   "id": "54771004-092a-4669-9429-7b33b867dbea",
   "metadata": {
    "tags": []
   },
   "outputs": [
    {
     "data": {
      "text/plain": [
       "tensor([2.2459229761150000e-03, 1.8675668280239901e-03, -3.1524020962571198e-03,\n",
       "        -2.0673038728616601e-03, 1.9995386064282999e-03, -2.0000000000000000e-03],\n",
       "       dtype=torch.float64)"
      ]
     },
     "execution_count": 29,
     "metadata": {},
     "output_type": "execute_result"
    }
   ],
   "source": [
    "# Bmad outgoing particle\n",
    "x_tao = torch.tensor([orbit_out['x'],orbit_out['px'],orbit_out['y'],orbit_out['py'],orbit_out['z'],orbit_out['pz']],**tkwargs)\n",
    "x_tao"
   ]
  },
  {
   "cell_type": "code",
   "execution_count": 30,
   "id": "fda592ee-2116-436b-a46a-2d7be549a8f5",
   "metadata": {},
   "outputs": [
    {
     "data": {
      "text/plain": [
       "True"
      ]
     },
     "execution_count": 30,
     "metadata": {},
     "output_type": "execute_result"
    }
   ],
   "source": [
    "# close to Tao result?\n",
    "torch.allclose(x_py, x_tao)"
   ]
  },
  {
   "cell_type": "markdown",
   "id": "f8d7bedf-6116-41d3-8eac-5a3000e2b7bb",
   "metadata": {
    "tags": []
   },
   "source": [
    "## Quadrupole tilt test (transverse rotation)"
   ]
  },
  {
   "cell_type": "code",
   "execution_count": 31,
   "id": "e7873687-1fee-4033-91b1-f3090a4d166d",
   "metadata": {},
   "outputs": [],
   "source": [
    "# Quad params\n",
    "L = 0.1 #Length in m\n",
    "K1 = 10 #Quad focusing strength. Positive is focusing in x\n",
    "\n",
    "# quad w/o offsets\n",
    "q_no_off = torchquadrupole(L=torch.tensor(L, **tkwargs), K1=torch.tensor(K1, **tkwargs))\n",
    "# quad with offsets\n",
    "tilt = 0.3\n",
    "q_off = torchquadrupole(L=torch.tensor(L, **tkwargs), K1=torch.tensor(K1, **tkwargs),\n",
    "                        TILT = torch.tensor(tilt, **tkwargs))"
   ]
  },
  {
   "cell_type": "code",
   "execution_count": 32,
   "id": "79bae548-0cc3-4907-9353-6ba27977baea",
   "metadata": {},
   "outputs": [
    {
     "data": {
      "text/plain": [
       "Particle(x=tensor(2.0000000000000000e-03, dtype=torch.float64, grad_fn=<UnbindBackward0>), px=tensor(3.0000000000000001e-03, dtype=torch.float64, grad_fn=<UnbindBackward0>), y=tensor(-3.0000000000000001e-03, dtype=torch.float64, grad_fn=<UnbindBackward0>), py=tensor(-1.0000000000000000e-03, dtype=torch.float64, grad_fn=<UnbindBackward0>), z=tensor(2.0000000000000000e-03, dtype=torch.float64, grad_fn=<UnbindBackward0>), pz=tensor(-2.0000000000000000e-03, dtype=torch.float64, grad_fn=<UnbindBackward0>), s=tensor(0., dtype=torch.float64), p0c=tensor(4.0000000000000000e+07, dtype=torch.float64), mc2=tensor( 5.1099895000000001e+05, dtype=torch.float64))"
      ]
     },
     "execution_count": 32,
     "metadata": {},
     "output_type": "execute_result"
    }
   ],
   "source": [
    "# Incoming particle\n",
    "s = 0.0 #initial s\n",
    "p0c = 4.0E+07 #Reference particle momentum in eV\n",
    "mc2 = 1*m_e # electron mass in eV\n",
    "ts = torch.tensor(s, **tkwargs)\n",
    "tp0c = torch.tensor(p0c, **tkwargs)\n",
    "tmc2 = torch.tensor(mc2, **tkwargs) \n",
    "pvec1 = [2e-3,3e-3,-3e-3,-1e-3,2e-3,-2e-3] \n",
    "tvec1 = torch.tensor(pvec1, requires_grad=True, **tkwargs)\n",
    "p_in = Particle(*tvec1,ts, tp0c, tmc2)\n",
    "p_in"
   ]
  },
  {
   "cell_type": "code",
   "execution_count": 33,
   "id": "500e6c60-e125-49f3-8417-0bed6931112e",
   "metadata": {},
   "outputs": [
    {
     "data": {
      "text/plain": [
       "tensor([2.1962397193025516e-03, 8.8418342648533682e-04, -3.2534419732692245e-03,\n",
       "        -4.1008717415728594e-03, 1.9993946642253308e-03, -2.0000000000000000e-03],\n",
       "       dtype=torch.float64)"
      ]
     },
     "execution_count": 33,
     "metadata": {},
     "output_type": "execute_result"
    }
   ],
   "source": [
    "# Outgoing particle no offset\n",
    "p_out = track_a_quadrupole_torch(p_in, q_no_off)\n",
    "x_py = torch.hstack(p_out[:6]).detach()\n",
    "x_py"
   ]
  },
  {
   "cell_type": "code",
   "execution_count": 34,
   "id": "d2e966bb-05fa-46f8-9ad0-3d56a85c625a",
   "metadata": {},
   "outputs": [
    {
     "data": {
      "text/plain": [
       "tensor([2.3004318127568596e-03, 2.9821529561669434e-03, -3.2863103534060884e-03,\n",
       "        -4.7823316819364681e-03, 1.9990464049858686e-03, -2.0000000000000000e-03],\n",
       "       dtype=torch.float64)"
      ]
     },
     "execution_count": 34,
     "metadata": {},
     "output_type": "execute_result"
    }
   ],
   "source": [
    "# Outgoing particle offset\n",
    "p_out = track_a_quadrupole_torch(Particle(*tvec1,ts, tp0c, tmc2), q_off)\n",
    "x_py = torch.hstack(p_out[:6]).detach()\n",
    "x_py"
   ]
  },
  {
   "cell_type": "code",
   "execution_count": 35,
   "id": "eef6f7ec-81ae-4109-96b6-179c6e2fdb0d",
   "metadata": {},
   "outputs": [
    {
     "name": "stdout",
     "output_type": "stream",
     "text": [
      "CPU times: user 6.45 ms, sys: 1.11 ms, total: 7.56 ms\n",
      "Wall time: 8.15 ms\n"
     ]
    }
   ],
   "source": [
    "%%time\n",
    "# Bmad lattice to compare\n",
    "tao = Tao('-lat bmad_lattices/test_quad_tilt.bmad -noplot')\n",
    "tao.cmd('set particle_start x='+str(pvec1[0]))\n",
    "tao.cmd('set particle_start px='+str(pvec1[1]))\n",
    "tao.cmd('set particle_start y='+str(pvec1[2]))\n",
    "tao.cmd('set particle_start py='+str(pvec1[3]))\n",
    "tao.cmd('set particle_start z='+str(pvec1[4]))\n",
    "tao.cmd('set particle_start pz='+str(pvec1[5]))\n",
    "orbit_out = tao.orbit_at_s(ele=1)"
   ]
  },
  {
   "cell_type": "code",
   "execution_count": 36,
   "id": "91c33264-efb9-438f-9d4b-778fabe27616",
   "metadata": {},
   "outputs": [
    {
     "data": {
      "text/plain": [
       "tensor([2.3004318127568600e-03, 2.9821529561669400e-03, -3.2863103534060902e-03,\n",
       "        -4.7823316819364699e-03, 1.9990464049858699e-03, -2.0000000000000000e-03],\n",
       "       dtype=torch.float64)"
      ]
     },
     "execution_count": 36,
     "metadata": {},
     "output_type": "execute_result"
    }
   ],
   "source": [
    "# Bmad outgoing particle\n",
    "x_tao = torch.tensor([orbit_out['x'],orbit_out['px'],orbit_out['y'],orbit_out['py'],orbit_out['z'],orbit_out['pz']],**tkwargs)\n",
    "x_tao"
   ]
  },
  {
   "cell_type": "code",
   "execution_count": 37,
   "id": "7ee01084-9bf2-4f96-988a-72523ff39f66",
   "metadata": {},
   "outputs": [
    {
     "data": {
      "text/plain": [
       "True"
      ]
     },
     "execution_count": 37,
     "metadata": {},
     "output_type": "execute_result"
    }
   ],
   "source": [
    "# close to Tao result?\n",
    "torch.allclose(x_py, x_tao)"
   ]
  },
  {
   "cell_type": "markdown",
   "id": "491331ff-7285-470a-85fe-b795668e5d13",
   "metadata": {
    "tags": []
   },
   "source": [
    "# Lattice tracking"
   ]
  },
  {
   "cell_type": "markdown",
   "id": "0c8ca256-7abd-466c-976a-9c754ac22571",
   "metadata": {
    "tags": []
   },
   "source": [
    "## Lattice one particle test"
   ]
  },
  {
   "cell_type": "code",
   "execution_count": 38,
   "id": "e382de98-ca91-4511-9ff0-190dba00655b",
   "metadata": {
    "tags": []
   },
   "outputs": [],
   "source": [
    "# Create drift\n",
    "L_d = 1.0 # Drift length in m\n",
    "d1 = Drift(torch.tensor(L_d, **tkwargs))\n",
    "# Create quad\n",
    "L_q = 0.1  # quad length in m\n",
    "K1 = 10  # Quad focusing strength. Positive is focusing in x\n",
    "#NUM_STEPS = 1  # number of divisions for tracking. 1 is bmad default when there are no other multipoles\n",
    "q1 = torchquadrupole(L=torch.tensor(L_q, **tkwargs), K1=torch.tensor(K1, **tkwargs))"
   ]
  },
  {
   "cell_type": "code",
   "execution_count": 39,
   "id": "a9fad1a8-13d6-45ce-b38a-3c9fd27e39c6",
   "metadata": {},
   "outputs": [
    {
     "data": {
      "text/plain": [
       "Particle(x=tensor(2.0000000000000000e-03, dtype=torch.float64, grad_fn=<UnbindBackward0>), px=tensor(3.0000000000000001e-03, dtype=torch.float64, grad_fn=<UnbindBackward0>), y=tensor(-3.0000000000000001e-03, dtype=torch.float64, grad_fn=<UnbindBackward0>), py=tensor(-1.0000000000000000e-03, dtype=torch.float64, grad_fn=<UnbindBackward0>), z=tensor(2.0000000000000000e-03, dtype=torch.float64, grad_fn=<UnbindBackward0>), pz=tensor(-2.0000000000000000e-03, dtype=torch.float64, grad_fn=<UnbindBackward0>), s=tensor(0., dtype=torch.float64), p0c=tensor(4.0000000000000000e+07, dtype=torch.float64), mc2=tensor( 5.1099895000000001e+05, dtype=torch.float64))"
      ]
     },
     "execution_count": 39,
     "metadata": {},
     "output_type": "execute_result"
    }
   ],
   "source": [
    "# Incoming particle\n",
    "s = 0.0 #initial s\n",
    "p0c = 4.0E+07  # Reference particle momentum in eV\n",
    "mc2 = 1*m_e  # electron mass in eV\n",
    "ts = torch.tensor(s, **tkwargs)\n",
    "tp0c = torch.tensor(p0c, **tkwargs)\n",
    "tmc2 = torch.tensor(mc2, **tkwargs)\n",
    "pvec1 = [2e-3,3e-3,-3e-3,-1e-3,2e-3,-2e-3] \n",
    "tvec1 = torch.tensor(pvec1, requires_grad=True, **tkwargs)\n",
    "p_in = Particle(*tvec1, ts, tp0c, tmc2)\n",
    "p_in"
   ]
  },
  {
   "cell_type": "code",
   "execution_count": 40,
   "id": "5c8e5ad9-3309-4323-bfeb-a57209658750",
   "metadata": {},
   "outputs": [
    {
     "data": {
      "text/plain": [
       "tensor([-2.2819679612099907e-03, -4.8963303496563082e-03, -2.5439131659086591e-02,\n",
       "        -1.4972829678474660e-02, 1.8473246819740532e-03, -2.0000000000000000e-03],\n",
       "       dtype=torch.float64)"
      ]
     },
     "execution_count": 40,
     "metadata": {},
     "output_type": "execute_result"
    }
   ],
   "source": [
    "# Lattice example\n",
    "lattice = [d1, q1, d1, q1, d1]  # lattice is a list of elements\n",
    "# List of particle coordinates after each element:\n",
    "x_list = [torch.hstack(coords[:6]).detach() for coords in track_a_lattice(p_in, lattice)]\n",
    "# Outgoing particle after complete lattice:\n",
    "x_py = torch.hstack(track_a_lattice(p_in, lattice)[-1][:6]).detach()\n",
    "# alternative: x_list[-1]\n",
    "x_py"
   ]
  },
  {
   "cell_type": "code",
   "execution_count": 41,
   "id": "9723f930-5c64-4fdc-a94c-df2a816bfe0a",
   "metadata": {},
   "outputs": [],
   "source": [
    "# Bmad lattice to compare\n",
    "tao = Tao('-lat bmad_lattices/test_drift_quad.bmad -noplot')\n",
    "tao.cmd('set particle_start x='+str(pvec1[0]))\n",
    "tao.cmd('set particle_start px='+str(pvec1[1]))\n",
    "tao.cmd('set particle_start y='+str(pvec1[2]))\n",
    "tao.cmd('set particle_start py='+str(pvec1[3]))\n",
    "tao.cmd('set particle_start z='+str(pvec1[4]))\n",
    "tao.cmd('set particle_start pz='+str(pvec1[5]))\n",
    "orbit_out = tao.orbit_at_s(ele=5)"
   ]
  },
  {
   "cell_type": "code",
   "execution_count": 42,
   "id": "d3911c94-0464-4b62-ad7a-55e197ed22be",
   "metadata": {},
   "outputs": [
    {
     "data": {
      "text/plain": [
       "tensor([-2.2819679612099898e-03, -4.8963303496563099e-03, -2.5439131659086602e-02,\n",
       "        -1.4972829678474700e-02, 1.8473246819741701e-03, -2.0000000000000000e-03],\n",
       "       dtype=torch.float64)"
      ]
     },
     "execution_count": 42,
     "metadata": {},
     "output_type": "execute_result"
    }
   ],
   "source": [
    "# Bmad outgoing particle\n",
    "x_tao = torch.tensor([orbit_out['x'],orbit_out['px'],orbit_out['y'],orbit_out['py'],orbit_out['z'],orbit_out['pz']],**tkwargs)\n",
    "x_tao"
   ]
  },
  {
   "cell_type": "code",
   "execution_count": 43,
   "id": "09dfa314-fd81-443b-9084-970a0ee22e1f",
   "metadata": {},
   "outputs": [
    {
     "data": {
      "text/plain": [
       "True"
      ]
     },
     "execution_count": 43,
     "metadata": {},
     "output_type": "execute_result"
    }
   ],
   "source": [
    "# close to Tao result?\n",
    "torch.allclose(x_py, x_tao)"
   ]
  },
  {
   "cell_type": "markdown",
   "id": "f9ba321b-16ba-4616-b64a-86a0fab6df3f",
   "metadata": {
    "tags": []
   },
   "source": [
    "## Lattice Jacobian test"
   ]
  },
  {
   "cell_type": "code",
   "execution_count": 44,
   "id": "dc9d30da-be29-4072-a9fa-b982030531de",
   "metadata": {
    "tags": []
   },
   "outputs": [],
   "source": [
    "f_driftquadrupole = lambda x: track_a_lattice(Particle(*x, ts, tp0c, tmc2), lattice)[-1][:6]\n",
    "J = jacobian(f_driftquadrupole, tvec1)"
   ]
  },
  {
   "cell_type": "code",
   "execution_count": 45,
   "id": "a15024cb-8d00-434c-9642-3cf3105db844",
   "metadata": {},
   "outputs": [
    {
     "data": {
      "text/plain": [
       "tensor([[-1.0322023903174575e+00, -7.2569681151011811e-02,\n",
       "          2.3367174796365382e-04,  4.0490038958197793e-04,\n",
       "          0.0000000000000000e+00,  8.2182839451539688e-03],\n",
       "        [-9.0005153171126384e-01, -1.0320809782928480e+00,\n",
       "         -1.0670671153299335e-05, -1.9000372936436179e-05,\n",
       "          0.0000000000000000e+00,  5.5475642315005796e-04],\n",
       "        [-8.8127328798467028e-05, -9.3392943713694148e-05,\n",
       "          5.4572583903073202e+00,  9.0710195783967222e+00,\n",
       "          0.0000000000000000e+00,  3.3612658955446149e-02],\n",
       "        [-1.0670671153299331e-05, -9.9546185436680993e-06,\n",
       "          3.1722681310803358e+00,  5.4561657512786770e+00,\n",
       "          0.0000000000000000e+00,  9.3914704183099551e-03],\n",
       "        [-6.8237891712833116e-03, -8.4411335413884098e-03,\n",
       "          5.5376468742080333e-02,  9.8205645796140759e-02,\n",
       "          1.0000000000000000e+00,  9.9199631964399224e-04],\n",
       "        [ 0.0000000000000000e+00,  0.0000000000000000e+00,\n",
       "          0.0000000000000000e+00,  0.0000000000000000e+00,\n",
       "          0.0000000000000000e+00,  1.0000000000000000e+00]],\n",
       "       dtype=torch.float64)"
      ]
     },
     "execution_count": 45,
     "metadata": {},
     "output_type": "execute_result"
    }
   ],
   "source": [
    "# Jacobian matrix\n",
    "mat_py = torch.vstack(J)\n",
    "mat_py"
   ]
  },
  {
   "cell_type": "code",
   "execution_count": 46,
   "id": "3649facd-33ea-46e7-9a4c-b561dd5e5388",
   "metadata": {},
   "outputs": [
    {
     "data": {
      "text/plain": [
       "tensor([[-1.0322023903174600e+00, -7.2569681151011395e-02,\n",
       "          2.3367174796365400e-04,  4.0490038958197798e-04,\n",
       "          0.0000000000000000e+00,  8.2182839451539601e-03],\n",
       "        [-9.0005153171126395e-01, -1.0320809782928499e+00,\n",
       "         -1.0670671153299301e-05, -1.9000372936436199e-05,\n",
       "          0.0000000000000000e+00,  5.5475642315005796e-04],\n",
       "        [-8.8127328798467001e-05, -9.3392943713694094e-05,\n",
       "          5.4572583903073202e+00,  9.0710195783967205e+00,\n",
       "          0.0000000000000000e+00,  3.3612658955446101e-02],\n",
       "        [-1.0670671153299301e-05, -9.9546185436680993e-06,\n",
       "          3.1722681310803398e+00,  5.4561657512786796e+00,\n",
       "          0.0000000000000000e+00,  9.3914704183099499e-03],\n",
       "        [-6.8237891712833098e-03, -8.4411335413884098e-03,\n",
       "          5.5376468742080298e-02,  9.8205645796140703e-02,\n",
       "          1.0000000000000000e+00,  9.9199631964514605e-04],\n",
       "        [ 0.0000000000000000e+00,  0.0000000000000000e+00,\n",
       "          0.0000000000000000e+00,  0.0000000000000000e+00,\n",
       "          0.0000000000000000e+00,  1.0000000000000000e+00]],\n",
       "       dtype=torch.float64)"
      ]
     },
     "execution_count": 46,
     "metadata": {},
     "output_type": "execute_result"
    }
   ],
   "source": [
    "# Bmad Jacobian\n",
    "lat_tao = tao.matrix(0,5)\n",
    "mat_tao = torch.tensor(lat_tao['mat6'], **tkwargs)\n",
    "mat_tao"
   ]
  },
  {
   "cell_type": "code",
   "execution_count": 47,
   "id": "35e3965b-95d8-4f25-87f2-675435b7fa49",
   "metadata": {},
   "outputs": [
    {
     "data": {
      "text/plain": [
       "True"
      ]
     },
     "execution_count": 47,
     "metadata": {},
     "output_type": "execute_result"
    }
   ],
   "source": [
    "# close to Tao result?\n",
    "torch.allclose(mat_py, mat_tao)"
   ]
  },
  {
   "cell_type": "markdown",
   "id": "abd7f307-4e0e-4530-99ec-3ca70109d3f0",
   "metadata": {
    "tags": []
   },
   "source": [
    "## Multi-particle propagation through lattice"
   ]
  },
  {
   "cell_type": "code",
   "execution_count": 48,
   "id": "6429e104-311c-444b-98dd-5075a05e9bdd",
   "metadata": {
    "tags": []
   },
   "outputs": [],
   "source": [
    "# Particle bunch with Gaussian distribution\n",
    "sample_size = 1000\n",
    "mean = torch.zeros(6, **tkwargs)\n",
    "cov = torch.diag(torch.tensor([1e-6, 2e-6, 1e-6, 2e-6, 1e-6, 2e-6],**tkwargs))\n",
    "dist = torch.distributions.multivariate_normal.MultivariateNormal(mean, cov)\n",
    "sample = dist.sample(torch.Size([sample_size]))\n",
    "p_in = Particle(*sample.T, ts, tp0c, tmc2)"
   ]
  },
  {
   "cell_type": "code",
   "execution_count": 49,
   "id": "c89db535-74b8-4afd-82b6-f70e52f98723",
   "metadata": {},
   "outputs": [],
   "source": [
    "p_out = track_a_lattice(p_in, lattice)"
   ]
  },
  {
   "cell_type": "code",
   "execution_count": 50,
   "id": "aca6346f-c4bf-4e62-9274-76dcf6a05b40",
   "metadata": {},
   "outputs": [
    {
     "data": {
      "text/plain": [
       "(tensor(1.0125089688782115e-03, dtype=torch.float64),\n",
       " tensor(1.4075356113438329e-02, dtype=torch.float64))"
      ]
     },
     "execution_count": 50,
     "metadata": {},
     "output_type": "execute_result"
    }
   ],
   "source": [
    "# some beam properties up and downstream\n",
    "torch.std(p_out[0].y),torch.std(p_out[-1].y)"
   ]
  },
  {
   "cell_type": "markdown",
   "id": "a35d4b34-6c23-48d8-af4c-7daad3055b20",
   "metadata": {
    "tags": []
   },
   "source": [
    "## Stub element test"
   ]
  },
  {
   "cell_type": "code",
   "execution_count": 51,
   "id": "62fc1a71-37f7-4651-8b4b-2168581ebf0d",
   "metadata": {},
   "outputs": [
    {
     "data": {
      "text/plain": [
       "[Quadrupole(L=tensor(1.0000000000000000e-02, dtype=torch.float64), K1=tensor(1.0000000000000000e+01, dtype=torch.float64), NUM_STEPS=1, X_OFFSET=tensor(0., dtype=torch.float64), Y_OFFSET=tensor(0., dtype=torch.float64), TILT=tensor(0., dtype=torch.float64)),\n",
       " Quadrupole(L=tensor(1.0000000000000000e-02, dtype=torch.float64), K1=tensor(1.0000000000000000e+01, dtype=torch.float64), NUM_STEPS=1, X_OFFSET=tensor(0., dtype=torch.float64), Y_OFFSET=tensor(0., dtype=torch.float64), TILT=tensor(0., dtype=torch.float64)),\n",
       " Quadrupole(L=tensor(1.0000000000000000e-02, dtype=torch.float64), K1=tensor(1.0000000000000000e+01, dtype=torch.float64), NUM_STEPS=1, X_OFFSET=tensor(0., dtype=torch.float64), Y_OFFSET=tensor(0., dtype=torch.float64), TILT=tensor(0., dtype=torch.float64)),\n",
       " Quadrupole(L=tensor(1.0000000000000000e-02, dtype=torch.float64), K1=tensor(1.0000000000000000e+01, dtype=torch.float64), NUM_STEPS=1, X_OFFSET=tensor(0., dtype=torch.float64), Y_OFFSET=tensor(0., dtype=torch.float64), TILT=tensor(0., dtype=torch.float64)),\n",
       " Quadrupole(L=tensor(1.0000000000000000e-02, dtype=torch.float64), K1=tensor(1.0000000000000000e+01, dtype=torch.float64), NUM_STEPS=1, X_OFFSET=tensor(0., dtype=torch.float64), Y_OFFSET=tensor(0., dtype=torch.float64), TILT=tensor(0., dtype=torch.float64)),\n",
       " Quadrupole(L=tensor(1.0000000000000000e-02, dtype=torch.float64), K1=tensor(1.0000000000000000e+01, dtype=torch.float64), NUM_STEPS=1, X_OFFSET=tensor(0., dtype=torch.float64), Y_OFFSET=tensor(0., dtype=torch.float64), TILT=tensor(0., dtype=torch.float64)),\n",
       " Quadrupole(L=tensor(1.0000000000000000e-02, dtype=torch.float64), K1=tensor(1.0000000000000000e+01, dtype=torch.float64), NUM_STEPS=1, X_OFFSET=tensor(0., dtype=torch.float64), Y_OFFSET=tensor(0., dtype=torch.float64), TILT=tensor(0., dtype=torch.float64)),\n",
       " Quadrupole(L=tensor(1.0000000000000000e-02, dtype=torch.float64), K1=tensor(1.0000000000000000e+01, dtype=torch.float64), NUM_STEPS=1, X_OFFSET=tensor(0., dtype=torch.float64), Y_OFFSET=tensor(0., dtype=torch.float64), TILT=tensor(0., dtype=torch.float64)),\n",
       " Quadrupole(L=tensor(1.0000000000000000e-02, dtype=torch.float64), K1=tensor(1.0000000000000000e+01, dtype=torch.float64), NUM_STEPS=1, X_OFFSET=tensor(0., dtype=torch.float64), Y_OFFSET=tensor(0., dtype=torch.float64), TILT=tensor(0., dtype=torch.float64)),\n",
       " Quadrupole(L=tensor(1.0000000000000000e-02, dtype=torch.float64), K1=tensor(1.0000000000000000e+01, dtype=torch.float64), NUM_STEPS=1, X_OFFSET=tensor(0., dtype=torch.float64), Y_OFFSET=tensor(0., dtype=torch.float64), TILT=tensor(0., dtype=torch.float64))]"
      ]
     },
     "execution_count": 51,
     "metadata": {},
     "output_type": "execute_result"
    }
   ],
   "source": [
    "# divide a quad into 10 parts\n",
    "divided_quad = stub_element(q1, 10)\n",
    "divided_quad"
   ]
  },
  {
   "cell_type": "markdown",
   "id": "08840928-57b7-49f3-8dcc-7cf4bb94d265",
   "metadata": {},
   "source": [
    "## Plotting using stub_element"
   ]
  },
  {
   "cell_type": "code",
   "execution_count": 52,
   "id": "b4421345-df0c-4db4-817c-fc2954492414",
   "metadata": {},
   "outputs": [],
   "source": [
    "# make a quadrupole triplet\n",
    "L_d = 1.5  # Drift length in m\n",
    "d1 = Drift(torch.tensor(L_d, **tkwargs)) # drift\n",
    "L_q = 0.1  # Quadrupole length in m\n",
    "K1 = 10  # Quadrupole strengths\n",
    "NUM_STEPS = 1\n",
    "q1 = torchquadrupole(L=torch.tensor(L_q,**tkwargs), K1=torch.tensor(K1, **tkwargs))  # x-focusing\n",
    "q2 = torchquadrupole(L=torch.tensor(L_q,**tkwargs), K1=torch.tensor(-K1, **tkwargs))  # y-focusing\n",
    "lattice = [d1, q1, d1, q2, d1, q1, d1]\n",
    "\n",
    "# stub each element into n equal parts each\n",
    "n=50\n",
    "stubbed_lattice = stub_lattice(lattice, n)"
   ]
  },
  {
   "cell_type": "code",
   "execution_count": 53,
   "id": "ded144f0-a02a-4bd2-8bb3-1878929eab80",
   "metadata": {},
   "outputs": [
    {
     "data": {
      "text/plain": [
       "<matplotlib.legend.Legend at 0x7fefca4b6dc0>"
      ]
     },
     "execution_count": 53,
     "metadata": {},
     "output_type": "execute_result"
    },
    {
     "data": {
      "image/png": "[encoded data removed]",
      "text/plain": [
       "<Figure size 432x288 with 1 Axes>"
      ]
     },
     "metadata": {
      "needs_background": "light"
     },
     "output_type": "display_data"
    }
   ],
   "source": [
    "all_p = track_a_lattice(p_in, stubbed_lattice)\n",
    "stdx = np.array([torch.std(par.x).item() for par in all_p])\n",
    "stdy = np.array([torch.std(par.y).item() for par in all_p])\n",
    "s = np.array([par.s.item() for par in all_p])\n",
    "plt.plot(s, stdx*1000, label=r'$\\sigma_x$')\n",
    "plt.plot(s, stdy*1000, label=r'$\\sigma_y$')\n",
    "plt.xlabel(r'$s$ (m)')\n",
    "plt.ylabel(r'$\\sigma_{x,y}$ (mm)')\n",
    "plt.legend()"
   ]
  },
  {
   "cell_type": "markdown",
   "id": "eb16025c-6d9c-4fa0-bb5b-32684c107898",
   "metadata": {
    "tags": []
   },
   "source": [
    "# Hessian Matrix example"
   ]
  },
  {
   "cell_type": "code",
   "execution_count": 54,
   "id": "a2d0abb8-7d84-464a-a1c1-a687e1fe62d8",
   "metadata": {},
   "outputs": [],
   "source": [
    "# Particle bunch with Gaussian distribution\n",
    "sample_size = 1000\n",
    "mean = torch.zeros(6, **tkwargs)\n",
    "cov = torch.diag(torch.tensor([1e-6, 2e-6, 1e-6, 2e-6, 1e-6, 2e-6],**tkwargs))\n",
    "dist = torch.distributions.multivariate_normal.MultivariateNormal(mean, cov)\n",
    "sample = dist.sample(torch.Size([sample_size]))\n",
    "p_in = Particle(*sample.T, ts, tp0c, tmc2)\n",
    "\n",
    "L_d = 1.00 # Drift length\n",
    "L_q = 0.1 # Quad length \n",
    "drift = Drift(torch.tensor(L_d, **tkwargs))\n",
    "\n",
    "def sigmax_end(k1s):\n",
    "    \"\"\"returns x beamsize after lattice composed by len(k1s)+1 \n",
    "    drifts with len(k1s) quadrupoles in between.\n",
    "    \"\"\"\n",
    "    lattice = [drift]\n",
    "    \n",
    "    for k1 in k1s:\n",
    "        lattice.append(torchquadrupole(L=torch.tensor(L_q, **tkwargs), K1=k1))\n",
    "        lattice.append(drift)\n",
    "\n",
    "    p_out = track_a_lattice(p_in, lattice)[-1]\n",
    "    return torch.std(p_out.x)\n",
    "\n",
    "#k1s = torch.tensor([10,-10,10,-10,10,-10,10,-10,10,-10], **tkwargs)\n",
    "k1s = torch.zeros(10, **tkwargs)"
   ]
  },
  {
   "cell_type": "code",
   "execution_count": 55,
   "id": "09322973-50ab-454e-a711-75a87572f6c4",
   "metadata": {},
   "outputs": [
    {
     "name": "stdout",
     "output_type": "stream",
     "text": [
      "CPU times: user 6 µs, sys: 1e+03 ns, total: 7 µs\n",
      "Wall time: 8.58 µs\n"
     ]
    },
    {
     "data": {
      "text/plain": [
       "tensor([[6.3384405625091405e-05, 1.9247689210619696e-04, 3.0368740917991599e-04,\n",
       "         3.8131251837322767e-04, 4.2535221968613191e-04, 4.3580651311862881e-04,\n",
       "         4.1267539867071817e-04, 3.5595887634240025e-04, 2.6565694613367484e-04,\n",
       "         1.4176960804454216e-04],\n",
       "        [1.9247689210619693e-04, 4.1505306911590451e-05, 2.9073924675835841e-04,\n",
       "         4.9830678709624865e-04, 6.3514792381283631e-04, 7.0126265690812145e-04,\n",
       "         6.9665098638210386e-04, 6.2131291223478397e-04, 4.7524843446616134e-04,\n",
       "         2.5845755307623625e-04],\n",
       "        [3.0368740917991605e-04, 2.9073924675835841e-04, 2.5855413671406255e-05,\n",
       "         3.6100651640784626e-04, 6.2737847449697290e-04, 7.8590889084211339e-04,\n",
       "         8.3659776544326792e-04, 7.7944509830043629e-04, 6.1445088941361871e-04,\n",
       "         3.4161513878281529e-04],\n",
       "        [3.8131251837322767e-04, 4.9830678709624843e-04, 3.6100651640784604e-04,\n",
       "         1.5122323733784668e-05, 4.0204387173854131e-04, 6.8974521492060439e-04,\n",
       "         8.3251573585420974e-04, 8.3035543453935726e-04, 6.8326431097604694e-04,\n",
       "         3.9124236516427895e-04],\n",
       "        [4.2535221968613201e-04, 6.3514792381283620e-04, 6.2737847449697290e-04,\n",
       "         4.0204387173854164e-04, 8.1487806372426484e-06, 4.1277162914359555e-04,\n",
       "         6.8440489761493041e-04, 7.7404392095154742e-04, 6.8168869915344657e-04,\n",
       "         4.0733923222062760e-04],\n",
       "        [4.3580651311862881e-04, 7.0126265690812145e-04, 7.8590889084211339e-04,\n",
       "         6.8974521492060471e-04, 4.1277162914359544e-04, 3.9326736295653458e-06,\n",
       "         3.9226525072542907e-04, 6.1051055753700613e-04, 6.0972405394581685e-04,\n",
       "         3.8990573995186114e-04],\n",
       "        [4.1267539867071817e-04, 6.9665098638210376e-04, 8.3659776544326770e-04,\n",
       "         8.3251573585420985e-04, 6.8440489761493019e-04, 3.9226525072542885e-04,\n",
       "         1.6270376678092546e-06, 3.3975534429573349e-04, 4.6737037535315800e-04,\n",
       "         3.3894188835797929e-04],\n",
       "        [3.5595887634240036e-04, 6.2131291223478397e-04, 7.7944509830043650e-04,\n",
       "         8.3035543453935769e-04, 7.7404392095154764e-04, 6.1051055753700634e-04,\n",
       "         3.3975534429573381e-04, 5.4005341830115857e-07, 2.5462766337547044e-04,\n",
       "         2.5444767743898245e-04],\n",
       "        [2.6565694613367490e-04, 4.7524843446616134e-04, 6.1445088941361871e-04,\n",
       "         6.8326431097604716e-04, 6.8168869915344636e-04, 6.0972405394581675e-04,\n",
       "         4.6737037535315805e-04, 2.5462766337547028e-04, 1.3504725663628528e-07,\n",
       "         1.3642310719487032e-04],\n",
       "        [1.4176960804454216e-04, 2.5845755307623631e-04, 3.4161513878281524e-04,\n",
       "         3.9124236516427900e-04, 4.0733923222062760e-04, 3.8990573995186114e-04,\n",
       "         3.3894188835797935e-04, 2.5444767743898245e-04, 1.3642310719487035e-04,\n",
       "         3.0491267681488888e-08]], dtype=torch.float64)"
      ]
     },
     "execution_count": 55,
     "metadata": {},
     "output_type": "execute_result"
    }
   ],
   "source": [
    "#Hessian using autodiff\n",
    "%time\n",
    "hessian_py = hessian(sigmax_end,k1s)\n",
    "hessian_py"
   ]
  },
  {
   "cell_type": "code",
   "execution_count": 56,
   "id": "c720fe84-b5a2-4bcf-831c-caf194a12146",
   "metadata": {},
   "outputs": [
    {
     "data": {
      "text/plain": [
       "<matplotlib.colorbar.Colorbar at 0x7fefca27b070>"
      ]
     },
     "execution_count": 56,
     "metadata": {},
     "output_type": "execute_result"
    },
    {
     "data": {
      "image/png": "[encoded data removed]",
      "text/plain": [
       "<Figure size 432x288 with 2 Axes>"
      ]
     },
     "metadata": {
      "needs_background": "light"
     },
     "output_type": "display_data"
    }
   ],
   "source": [
    "plt.imshow(hessian_py.detach().numpy())\n",
    "plt.colorbar()\n",
    "#plt.savefig(\"hessian.eps\")"
   ]
  },
  {
   "cell_type": "code",
   "execution_count": 57,
   "id": "90145244-6aca-43ad-aed3-d444a8f11706",
   "metadata": {},
   "outputs": [],
   "source": [
    "#Hessian using numerical differentiation\n",
    "\n",
    "p_in = Particle(*sample.detach().numpy().T, 0, p0c, mc2)\n",
    "\n",
    "L_d = 1.00 # Drift length\n",
    "L_q = 0.1 # Quad length \n",
    "drift = Drift(L_d)\n",
    "def sigmax_end2(k1s):\n",
    "    \"\"\"returns x beamsize after lattice composed by len(k1s)+1 \n",
    "    drifts with len(k1s) quadrupoles in between.\n",
    "    \"\"\"\n",
    "    lattice = [drift]\n",
    "    \n",
    "    for k1 in k1s:\n",
    "        lattice.append(Quadrupole(L=L_q, K1=k1))\n",
    "        lattice.append(drift)\n",
    "\n",
    "    p_out = track_a_lattice(p_in, lattice)[-1]\n",
    "    \n",
    "    return np.std(p_out.x)\n",
    "\n",
    "#k1s = np.array([10,-10,10,-10,10,-10,10,-10,10,-10])\n",
    "k1s = np.zeros(10)"
   ]
  },
  {
   "cell_type": "code",
   "execution_count": 58,
   "id": "ec5b71f2-cc0c-43d3-b40b-d77b89b75579",
   "metadata": {},
   "outputs": [
    {
     "name": "stdout",
     "output_type": "stream",
     "text": [
      "CPU times: user 3 µs, sys: 1 µs, total: 4 µs\n",
      "Wall time: 6.91 µs\n"
     ]
    },
    {
     "data": {
      "text/plain": [
       "array([[6.8726126356926799e-05, 2.1466626675285062e-04,\n",
       "        3.3087046279338611e-04, 4.1182980128579217e-04,\n",
       "        4.5754428223194327e-04, 4.6801390563444773e-04,\n",
       "        4.4323867148955855e-04, 3.8321857979277906e-04,\n",
       "        2.8795363055728762e-04, 1.5744382377258081e-04],\n",
       "       [2.1466626675285062e-04, 5.1307522749177077e-05,\n",
       "        3.2455269633502900e-04, 5.3538946672939791e-04,\n",
       "        6.7385895896062548e-04, 7.3996117304271994e-04,\n",
       "        7.3369610899010106e-04, 6.5506376678510297e-04,\n",
       "        5.0406414643932793e-04, 2.8069724794974217e-04],\n",
       "       [3.3087046279338611e-04, 3.2455269633502900e-04,\n",
       "        3.8997524011403841e-05, 4.0310555999999230e-04,\n",
       "        6.7104108019618166e-04, 8.2951274633581598e-04,\n",
       "        8.7852055842405248e-04, 8.1806451645318932e-04,\n",
       "        6.4814462042850297e-04, 3.6876087034911790e-04],\n",
       "       [4.1182980128579217e-04, 5.3538946672939791e-04,\n",
       "        4.0310555999999230e-04, 3.0484384324509569e-05,\n",
       "        4.4909064595276840e-04, 7.3666862550877770e-04,\n",
       "        8.7771201979103253e-04, 8.7222082878726022e-04,\n",
       "        7.2019505252468390e-04, 4.2163469097031698e-04],\n",
       "       [4.5754428223194327e-04, 6.7385895896062548e-04,\n",
       "        6.7104108019618166e-04, 4.4909064595276840e-04,\n",
       "        2.4611425970970914e-05, 4.6142881056488870e-04,\n",
       "        7.3127049310684541e-04, 8.1753270382343881e-04,\n",
       "        7.2021544272964490e-04, 4.3931870981006176e-04],\n",
       "       [4.6801390563444773e-04, 7.3996117304271994e-04,\n",
       "        8.2951274633581598e-04, 7.3666862550877770e-04,\n",
       "        4.6142881056488870e-04, 2.0377039454299726e-05,\n",
       "        4.3919597835694220e-04, 6.5400014153222427e-04,\n",
       "        6.4820579104055609e-04, 4.2181292687763062e-04],\n",
       "       [4.4323867148955855e-04, 7.3369610899010106e-04,\n",
       "        8.7852055842405248e-04, 8.7771201979103253e-04,\n",
       "        7.3127049310684541e-04, 4.3919597835694220e-04,\n",
       "        1.6934683287282841e-05, 3.8162314192091869e-04,\n",
       "        5.0416609746082219e-04, 3.6911734216609886e-04],\n",
       "       [3.8321857979277906e-04, 6.5506376678510297e-04,\n",
       "        8.1806451645318932e-04, 8.7222082878726022e-04,\n",
       "        8.1753270382343881e-04, 6.5400014153222427e-04,\n",
       "        3.8162314192091869e-04, 1.3592884149725345e-05,\n",
       "        2.8809636198945496e-04, 2.8123195567371541e-04],\n",
       "       [2.8795363055728762e-04, 5.0406414643932793e-04,\n",
       "        6.4814462042850297e-04, 7.2019505252468390e-04,\n",
       "        7.2021544272964490e-04, 6.4820579104055609e-04,\n",
       "        5.0416609746082219e-04, 2.8809636198945496e-04,\n",
       "        9.8152368193268509e-06, 1.5815676740435529e-04],\n",
       "       [1.5744382377258081e-04, 2.8069724794974217e-04,\n",
       "        3.6876087034911790e-04, 4.2163469097031698e-04,\n",
       "        4.3931870981006176e-04, 4.2181292687763062e-04,\n",
       "        3.6911734216609886e-04, 2.8123195567371541e-04,\n",
       "        1.5815676740435529e-04, 5.2204042035500371e-06]])"
      ]
     },
     "execution_count": 58,
     "metadata": {},
     "output_type": "execute_result"
    }
   ],
   "source": [
    "%time\n",
    "hessian_nd = nd.Hessian(sigmax_end2)(k1s)\n",
    "hessian_nd"
   ]
  },
  {
   "cell_type": "code",
   "execution_count": 59,
   "id": "9ffa33a1-b971-491b-a120-18c46b854892",
   "metadata": {},
   "outputs": [
    {
     "data": {
      "text/plain": [
       "<matplotlib.colorbar.Colorbar at 0x7fefca201130>"
      ]
     },
     "execution_count": 59,
     "metadata": {},
     "output_type": "execute_result"
    },
    {
     "data": {
      "image/png": "[encoded data removed]",
      "text/plain": [
       "<Figure size 432x288 with 2 Axes>"
      ]
     },
     "metadata": {
      "needs_background": "light"
     },
     "output_type": "display_data"
    }
   ],
   "source": [
    "plt.imshow(hessian_nd)\n",
    "plt.colorbar()"
   ]
  },
  {
   "cell_type": "code",
   "execution_count": 60,
   "id": "8748858c-daa8-4408-9c3f-6e0a794130ae",
   "metadata": {},
   "outputs": [
    {
     "data": {
      "text/plain": [
       "False"
      ]
     },
     "execution_count": 60,
     "metadata": {},
     "output_type": "execute_result"
    }
   ],
   "source": [
    "np.allclose(hessian_nd, hessian_py.detach().numpy())"
   ]
  },
  {
   "cell_type": "code",
   "execution_count": 61,
   "id": "8191b91e-d26d-4528-bad0-e24b759094a4",
   "metadata": {},
   "outputs": [
    {
     "data": {
      "text/plain": [
       "<matplotlib.colorbar.Colorbar at 0x7fefca0b7fa0>"
      ]
     },
     "execution_count": 61,
     "metadata": {},
     "output_type": "execute_result"
    },
    {
     "data": {
      "image/png": "[encoded data removed]",
      "text/plain": [
       "<Figure size 720x720 with 4 Axes>"
      ]
     },
     "metadata": {
      "needs_background": "light"
     },
     "output_type": "display_data"
    }
   ],
   "source": [
    "fig, axs = plt.subplots(2, figsize=(10,10))\n",
    "cm = axs[0].imshow(hessian_py.detach().numpy())\n",
    "fig.colorbar(cm,ax=axs[0])\n",
    "#ax.imshow(hessian_py.detach().numpy())\n",
    "#ax = axs[1]\n",
    "#ax.imshow(1-hessian_nd)\n",
    "cm = axs[1].imshow(hessian_nd)\n",
    "fig.colorbar(cm,ax=axs[1])"
   ]
  },
  {
   "cell_type": "code",
   "execution_count": 62,
   "id": "e1766ef4-0d4b-4c05-b7bc-959e0d524b2e",
   "metadata": {},
   "outputs": [
    {
     "data": {
      "text/plain": [
       "<matplotlib.colorbar.Colorbar at 0x7fefc9f293a0>"
      ]
     },
     "execution_count": 62,
     "metadata": {},
     "output_type": "execute_result"
    },
    {
     "data": {
      "image/png": "[encoded data removed]",
      "text/plain": [
       "<Figure size 720x720 with 4 Axes>"
      ]
     },
     "metadata": {
      "needs_background": "light"
     },
     "output_type": "display_data"
    }
   ],
   "source": [
    "hessian_numpy = hessian_py.detach().numpy()\n",
    "for i in range(len(hessian_nd[:,0])):\n",
    "    hessian_numpy[i,i]=0\n",
    "fig, axs = plt.subplots(2, figsize=(10,10))\n",
    "cm = axs[0].imshow(hessian_numpy)\n",
    "fig.colorbar(cm,ax=axs[0])\n",
    "#ax.imshow(hessian_py.detach().numpy())\n",
    "#ax = axs[1]\n",
    "#ax.imshow(1-hessian_nd)\n",
    "cm = axs[1].imshow(hessian_nd)\n",
    "fig.colorbar(cm,ax=axs[1])"
   ]
  }
 ],
 "metadata": {
  "kernelspec": {
   "display_name": "Python 3 (ipykernel)",
   "language": "python",
   "name": "python3"
  },
  "language_info": {
   "codemirror_mode": {
    "name": "ipython",
    "version": 3
   },
   "file_extension": ".py",
   "mimetype": "text/x-python",
   "name": "python",
   "nbconvert_exporter": "python",
   "pygments_lexer": "ipython3",
   "version": "3.9.13"
  },
  "toc-autonumbering": true,
  "toc-showcode": false,
  "toc-showmarkdowntxt": false,
  "toc-showtags": false
 },
 "nbformat": 4,
 "nbformat_minor": 5
}
