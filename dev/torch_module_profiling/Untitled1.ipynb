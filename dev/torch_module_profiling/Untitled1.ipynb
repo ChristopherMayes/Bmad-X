{
 "cells": [
  {
   "cell_type": "code",
   "execution_count": 16,
   "id": "f2775bce-24fd-46cc-b79d-e70fdb7d389c",
   "metadata": {},
   "outputs": [],
   "source": [
    "import json"
   ]
  },
  {
   "cell_type": "code",
   "execution_count": 23,
   "id": "d54fb0a1-288f-4749-aa67-77e6f8a18754",
   "metadata": {},
   "outputs": [
    {
     "data": {
      "text/plain": [
       "43.936644554138184"
      ]
     },
     "execution_count": 23,
     "metadata": {},
     "output_type": "execute_result"
    }
   ],
   "source": [
    "f = open('./profile.json')\n",
    "data = json.load(f)\n",
    "data['files']['./torch_module_profiling.py']['lines'][3]['n_peak_mb']"
   ]
  },
  {
   "cell_type": "code",
   "execution_count": null,
   "id": "156de8ea-72d6-4fba-8762-e76f283e85bc",
   "metadata": {},
   "outputs": [],
   "source": []
  }
 ],
 "metadata": {
  "kernelspec": {
   "display_name": "Python 3 (ipykernel)",
   "language": "python",
   "name": "python3"
  },
  "language_info": {
   "codemirror_mode": {
    "name": "ipython",
    "version": 3
   },
   "file_extension": ".py",
   "mimetype": "text/x-python",
   "name": "python",
   "nbconvert_exporter": "python",
   "pygments_lexer": "ipython3",
   "version": "3.9.13"
  }
 },
 "nbformat": 4,
 "nbformat_minor": 5
}
