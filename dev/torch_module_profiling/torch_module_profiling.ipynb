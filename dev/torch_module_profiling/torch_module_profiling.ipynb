{
 "cells": [
  {
   "cell_type": "code",
   "execution_count": 1,
   "id": "67039220-3c6b-4647-91e9-b34ad242d8a5",
   "metadata": {},
   "outputs": [],
   "source": [
    "import json\n",
    "import os\n",
    "import sys\n",
    "import numpy as np\n",
    "import matplotlib.pyplot as plt\n",
    "prop_cycle = plt.rcParams['axes.prop_cycle']\n",
    "colors = prop_cycle.by_key()['color']"
   ]
  },
  {
   "cell_type": "code",
   "execution_count": 2,
   "id": "8bbe3a64-3ad8-4245-9a08-eb4f7522dd0e",
   "metadata": {},
   "outputs": [
    {
     "data": {
      "text/plain": [
       "array([1, 2, 3])"
      ]
     },
     "execution_count": 2,
     "metadata": {},
     "output_type": "execute_result"
    }
   ],
   "source": [
    "a = np.array([1,2,3])\n",
    "a"
   ]
  },
  {
   "cell_type": "code",
   "execution_count": 3,
   "id": "ddb349f5-fc30-486f-bc61-b6d7621e7890",
   "metadata": {},
   "outputs": [
    {
     "data": {
      "text/plain": [
       "array([[nan, nan],\n",
       "       [nan,  1.],\n",
       "       [nan, nan]])"
      ]
     },
     "execution_count": 3,
     "metadata": {},
     "output_type": "execute_result"
    }
   ],
   "source": [
    "b = np.empty((len(a),2))*np.nan\n",
    "b[1,1]=1.0\n",
    "b"
   ]
  },
  {
   "cell_type": "code",
   "execution_count": 9,
   "id": "bfab6e4c-2995-4b99-9e56-8e2b022906ee",
   "metadata": {},
   "outputs": [
    {
     "data": {
      "text/plain": [
       "array([       10,       100,      1000,     10000,    100000,   1000000,\n",
       "        10000000, 100000000])"
      ]
     },
     "execution_count": 9,
     "metadata": {},
     "output_type": "execute_result"
    }
   ],
   "source": [
    "N = 8\n",
    "n_particles1 = np.logspace(1, N, N, dtype=int)\n",
    "#n_particles = np.array([1e6, 1e7, 1e8])\n",
    "n_quadrupoles1 = 5\n",
    "n_slices1 = 1\n",
    "n_particles1"
   ]
  },
  {
   "cell_type": "code",
   "execution_count": 10,
   "id": "21b757ef-e175-4664-8f32-fd3ceec0a01a",
   "metadata": {},
   "outputs": [],
   "source": [
    "scalene = '/global/common/software/m669/jpga/conda/envs/phase_space_reconstruction/bin/scalene'"
   ]
  },
  {
   "cell_type": "code",
   "execution_count": 11,
   "id": "8e36c861-186b-4201-bdc6-4cb40ac97b18",
   "metadata": {},
   "outputs": [
    {
     "name": "stdout",
     "output_type": "stream",
     "text": [
      "0\n",
      "Scalene: Program did not run for long enough to profile.\n",
      "Scalene: Program did not run for long enough to profile.\n",
      "Scalene: Program did not run for long enough to profile.\n",
      "Scalene: Program did not run for long enough to profile.\n",
      "Scalene: Program did not run for long enough to profile.\n",
      "Scalene: Program did not run for long enough to profile.\n",
      "Scalene: Program did not run for long enough to profile.\n",
      "Scalene: Program did not run for long enough to profile.\n",
      "Scalene: Program did not run for long enough to profile.\n",
      "Scalene: Program did not run for long enough to profile.\n",
      "1\n",
      "Scalene: Program did not run for long enough to profile.\n",
      "Scalene: Program did not run for long enough to profile.\n",
      "Scalene: Program did not run for long enough to profile.\n",
      "Scalene: Program did not run for long enough to profile.\n",
      "Scalene: Program did not run for long enough to profile.\n",
      "Scalene: Program did not run for long enough to profile.\n",
      "Scalene: Program did not run for long enough to profile.\n",
      "Scalene: Program did not run for long enough to profile.\n",
      "Scalene: Program did not run for long enough to profile.\n",
      "Scalene: Program did not run for long enough to profile.\n",
      "2\n",
      "Scalene: Program did not run for long enough to profile.\n",
      "Scalene: Program did not run for long enough to profile.\n",
      "Scalene: Program did not run for long enough to profile.\n",
      "Scalene: Program did not run for long enough to profile.\n",
      "Scalene: Program did not run for long enough to profile.\n",
      "Scalene: Program did not run for long enough to profile.\n",
      "Scalene: Program did not run for long enough to profile.\n",
      "Scalene: Program did not run for long enough to profile.\n",
      "Scalene: Program did not run for long enough to profile.\n",
      "Scalene: Program did not run for long enough to profile.\n",
      "3\n",
      "Scalene: Program did not run for long enough to profile.\n",
      "Scalene: Program did not run for long enough to profile.\n",
      "Scalene: Program did not run for long enough to profile.\n",
      "Scalene: Program did not run for long enough to profile.\n",
      "Scalene: Program did not run for long enough to profile.\n",
      "Scalene: Program did not run for long enough to profile.\n",
      "Scalene: Program did not run for long enough to profile.\n",
      "Scalene: Program did not run for long enough to profile.\n",
      "Scalene: Program did not run for long enough to profile.\n",
      "4\n",
      "1 0 0.6666666666666667\n",
      "Scalene: Program did not run for long enough to profile.\n",
      "Scalene error: received signal SIGSEGV\n",
      "1 0 0.6666666666666667\n",
      "Scalene: Program did not run for long enough to profile.\n",
      "1 0 0.6666666666666667\n",
      "Scalene: Program did not run for long enough to profile.\n",
      "Scalene error: received signal SIGSEGV\n",
      "1 0 0.6666666666666667\n",
      "1 0 0.6666666666666667\n",
      "Scalene: Program did not run for long enough to profile.\n",
      "5\n",
      "1 0 0.6666666666666667\n",
      "26 1 0.9259259259259259\n",
      "1 0 0.6666666666666667\n",
      "1 0 0.6666666666666667\n",
      "11 1 0.8333333333333334\n",
      "1 0 0.6666666666666667\n",
      "23 0 0.96\n",
      "1 0 0.6666666666666667\n",
      "11 1 0.8333333333333334\n",
      "1 0 0.6666666666666667\n",
      "27 2 0.8888888888888888\n",
      "1 0 0.6666666666666667\n",
      "1 0 0.6666666666666667\n",
      "19 1 0.9\n",
      "1 0 0.6666666666666667\n",
      "27 1 0.9285714285714286\n",
      "1 0 0.6666666666666667\n",
      "1 0 0.6666666666666667\n",
      "18 3 0.7647058823529411\n",
      "1 0 0.6666666666666667\n",
      "23 0 0.96\n",
      "1 0 0.6666666666666667\n",
      "11 1 0.8333333333333334\n",
      "6\n",
      "1 0 0.6666666666666667\n",
      "195 0 0.9949238578680203\n",
      "1 0 0.6666666666666667\n",
      "1 0 0.6666666666666667\n",
      "194 0 0.9948979591836735\n",
      "1 0 0.6666666666666667\n",
      "1 0 0.6666666666666667\n",
      "33 0 0.9714285714285714\n",
      "1 0 0.6666666666666667\n",
      "186 0 0.9946808510638298\n",
      "1 0 0.6666666666666667\n",
      "1 0 0.6666666666666667\n",
      "184 0 0.9946236559139785\n",
      "1 0 0.6666666666666667\n",
      "1 0 0.6666666666666667\n",
      "53 0 0.9818181818181818\n",
      "7\n",
      "1 0 0.6666666666666667\n",
      "196 0 0.9949494949494949\n",
      "1 0 0.6666666666666667\n",
      "1 0 0.6666666666666667\n",
      "35 0 0.972972972972973\n",
      "1 0 0.6666666666666667\n",
      "196 0 0.9949494949494949\n",
      "1 0 0.6666666666666667\n",
      "1 0 0.6666666666666667\n",
      "64 0 0.9848484848484849\n",
      "1 0 0.6666666666666667\n",
      "197 0 0.9949748743718593\n",
      "1 0 0.6666666666666667\n",
      "1 0 0.6666666666666667\n",
      "61 0 0.9841269841269842\n",
      "1 0 0.6666666666666667\n",
      "196 0 0.9949494949494949\n",
      "1 0 0.6666666666666667\n",
      "1 0 0.6666666666666667\n",
      "37 0 0.9743589743589743\n",
      "1 0 0.6666666666666667\n",
      "197 0 0.9949748743718593\n",
      "1 0 0.6666666666666667\n",
      "1 0 0.6666666666666667\n",
      "59 0 0.9836065573770492\n"
     ]
    }
   ],
   "source": [
    "n_samples = 5\n",
    "memory1 = np.empty((len(n_particles1), n_samples))*np.nan\n",
    "memory1_nograd = memory1.copy()\n",
    "\n",
    "for i, n_par in enumerate(n_particles1):\n",
    "    print(i)\n",
    "    for j in range(n_samples):\n",
    "        os.system(scalene + \" --json --memory --outfile profile.json /global/homes/j/jpga/Repositories/Bmad-X/dev/torch_module_profiling/torch_module_profiling.py \"\n",
    "                  + str(n_par) + \" \" + str(n_quadrupoles1) + \" \" + str(n_slices1))\n",
    "        f = open('profile.json')\n",
    "        try:\n",
    "            lines = json.load(f)['files']['/global/homes/j/jpga/Repositories/Bmad-X/dev/torch_module_profiling/torch_module_profiling.py']['lines']\n",
    "            for line in lines:\n",
    "                if line['lineno'] == 39:\n",
    "                    memory1[i,j] = line['n_peak_mb']\n",
    "        except:\n",
    "            pass\n",
    "        os.system(scalene + \" --json --memory --outfile profile.json /global/homes/j/jpga/Repositories/Bmad-X/dev/torch_module_profiling/torch_module_profiling_no_grad.py \"\n",
    "                  + str(n_par) + \" \" + str(n_quadrupoles1) + \" \" + str(n_slices1))\n",
    "        f = open('profile.json')\n",
    "        try:\n",
    "            lines = json.load(f)['files']['/global/homes/j/jpga/Repositories/Bmad-X/dev/torch_module_profiling/torch_module_profiling_no_grad.py']['lines']\n",
    "            for line in lines:\n",
    "                if line['lineno'] == 39:\n",
    "                    memory1_nograd[i,j] = line['n_peak_mb']\n",
    "        except:\n",
    "            pass"
   ]
  },
  {
   "cell_type": "code",
   "execution_count": 12,
   "id": "1491fc5e-ca92-4af6-b784-42b4014da5eb",
   "metadata": {},
   "outputs": [
    {
     "data": {
      "text/plain": [
       "(array([[           nan,            nan,            nan,            nan,\n",
       "                    nan],\n",
       "        [           nan,            nan,            nan,            nan,\n",
       "                    nan],\n",
       "        [           nan,            nan,            nan,            nan,\n",
       "                    nan],\n",
       "        [           nan,            nan,            nan, 2.00413980e+01,\n",
       "                    nan],\n",
       "        [1.33914696e+02, 1.33524453e+02, 1.23530365e+02, 1.33503456e+02,\n",
       "         1.33520889e+02],\n",
       "        [1.38171951e+03, 1.28628183e+03, 1.37797918e+03, 1.40467816e+03,\n",
       "         1.28628086e+03],\n",
       "        [1.37723680e+04, 1.38486655e+04, 1.33909050e+04, 1.29330460e+04,\n",
       "         1.33908722e+04],\n",
       "        [1.41145825e+05, 1.37712566e+05, 1.38475472e+05, 1.41908798e+05,\n",
       "         1.38475473e+05]]),\n",
       " array([[           nan,            nan,            nan,            nan,\n",
       "                    nan],\n",
       "        [           nan,            nan,            nan,            nan,\n",
       "                    nan],\n",
       "        [           nan,            nan,            nan,            nan,\n",
       "                    nan],\n",
       "        [           nan,            nan,            nan,            nan,\n",
       "                    nan],\n",
       "        [           nan,            nan,            nan,    30.70871735,\n",
       "                    nan],\n",
       "        [  137.38541603,   183.19999981,   252.87142944,   275.84401703,\n",
       "           137.38457489],\n",
       "        [ 1373.40915012,  1831.23308372,  1373.4001112 ,  1373.40161133,\n",
       "          2937.6249342 ],\n",
       "        [17166.38233089, 25177.32636261, 28229.18763638, 18310.84221363,\n",
       "         24795.85327721]]))"
      ]
     },
     "execution_count": 12,
     "metadata": {},
     "output_type": "execute_result"
    }
   ],
   "source": [
    "memory1, memory1_nograd"
   ]
  },
  {
   "cell_type": "code",
   "execution_count": 13,
   "id": "90d4518e-3526-47cf-9209-dacc5ba24bd8",
   "metadata": {},
   "outputs": [
    {
     "data": {
      "text/plain": [
       "(array([           nan,            nan,            nan,            nan,\n",
       "        1.31598772e+02, 1.34738791e+03, 1.34671713e+04, 1.39543627e+05]),\n",
       " array([           nan,            nan,            nan,            nan,\n",
       "                   nan,   197.33708744,  1777.81377811, 22735.91836414]))"
      ]
     },
     "execution_count": 13,
     "metadata": {},
     "output_type": "execute_result"
    }
   ],
   "source": [
    "np.mean(memory1, axis=1),np.mean(memory1_nograd, axis=1)"
   ]
  },
  {
   "cell_type": "code",
   "execution_count": 14,
   "id": "68207010-79ce-4c03-9fa9-b747e2aea14e",
   "metadata": {},
   "outputs": [
    {
     "name": "stderr",
     "output_type": "stream",
     "text": [
      "No artists with labels found to put in legend.  Note that artists whose label start with an underscore are ignored when legend() is called with no argument.\n"
     ]
    },
    {
     "data": {
      "text/plain": [
       "<matplotlib.legend.Legend at 0x152772542eb0>"
      ]
     },
     "execution_count": 14,
     "metadata": {},
     "output_type": "execute_result"
    },
    {
     "data": {
      "image/png": "[encoded data removed]",
      "text/plain": [
       "<Figure size 360x504 with 2 Axes>"
      ]
     },
     "metadata": {
      "needs_background": "light"
     },
     "output_type": "display_data"
    }
   ],
   "source": [
    "import matplotlib.pyplot as plt\n",
    "fig, ax = plt.subplots(2,1, figsize=(5,7))\n",
    "ax[0].plot(n_particles1, 1e-3*np.mean(memory1, axis=1), '.', label='grad')\n",
    "ax[0].plot(n_particles1, 1e-3*np.mean(memory1_nograd, axis=1), '.', label='no grad')\n",
    "ax[0].set_xscale('log')\n",
    "ax[0].set_yscale('log')\n",
    "ax[0].set_xlabel('n_particles')\n",
    "ax[0].set_ylabel('peak memory (GB)')\n",
    "ax[0].legend()\n",
    "ax[1].plot(n_particles1, np.mean(memory1_nograd, axis=1)/np.mean(memory1, axis=1), '.',color=colors[0])\n",
    "#ax[1].plot(n_particles1, np.mean(memory1_nograd, axis=1), '.',color=colors[1], label='no grad')\n",
    "ax[1].set_xscale('log')\n",
    "ax[1].set_xlabel('n_particles')\n",
    "ax[1].set_ylabel('memory ratio')\n",
    " search0Di"
   ]
  },
  {
   "cell_type": "code",
   "execution_count": null,
   "id": "e58fa1f5-7ad4-4e06-8d58-44a44d8c5374",
   "metadata": {},
   "outputs": [],
   "source": [
    "n_particles2 = 10_000\n",
    "n_slices2 = 1\n",
    "n_quadrupoles2 = np.linspace(10, 100, 10, dtype=int)\n",
    "n_quadrupoles2"
   ]
  },
  {
   "cell_type": "code",
   "execution_count": null,
   "id": "27ed7855-f252-4714-aa63-93b75797e242",
   "metadata": {},
   "outputs": [],
   "source": [
    "memory2 = np.full_like(n_quadrupoles2, np.nan, dtype=np.double)\n",
    "memory2_nograd = memory2.copy()\n",
    "\n",
    "for i, n_quads in enumerate(n_quadrupoles2):\n",
    "    os.system(\"scalene --memory ./torch_module_profiling.py \"\n",
    "              + str(n_particles2) + \" \" + str(n_quads) + \" \" + str(n_slices2) )\n",
    "    f = open('profile.json')\n",
    "    lines = json.load(f)['files']['./torch_module_profiling.py']['lines']\n",
    "    for line in lines:\n",
    "        if line['lineno'] == 39:\n",
    "            memory2[i] = line['n_peak_mb']\n",
    "    os.system(\"scalene --memory ./torch_module_profiling_no_grad.py \"\n",
    "              + str(n_particles2) + \" \" + str(n_quads) + \" \" + str(n_slices2) )\n",
    "    f = open('profile.json')\n",
    "    lines = json.load(f)['files']['./torch_module_profiling_no_grad.py']['lines']\n",
    "    for line in lines:\n",
    "        if line['lineno'] == 39:\n",
    "            memory2_nograd[i] = line['n_peak_mb']"
   ]
  },
  {
   "cell_type": "code",
   "execution_count": null,
   "id": "0a78dbde-1660-43e1-8f86-d8ac440a1fc6",
   "metadata": {},
   "outputs": [],
   "source": [
    "memory2, memory2_nograd"
   ]
  },
  {
   "cell_type": "code",
   "execution_count": null,
   "id": "f78e0840-841b-48ae-9ea6-fca2d0f95342",
   "metadata": {},
   "outputs": [],
   "source": [
    "fig, ax = plt.subplots()\n",
    "ax2 = ax.twinx()\n",
    "ax.plot(n_quadrupoles2, np.array(memory2), '.', color=colors[0], label='grad')\n",
    "ax.tick_params(axis=\"y\", labelcolor=colors[0])\n",
    "ax2.plot(n_quadrupoles2, np.array(memory2_nograd), '.',color=colors[1], label='no grad')\n",
    "ax2.tick_params(axis=\"y\", labelcolor=colors[1])\n",
    "ax.set_xlabel('n_quadrupoles')\n",
    "ax.set_ylabel('peak memory (MB)')\n",
    "fig.legend()"
   ]
  },
  {
   "cell_type": "code",
   "execution_count": null,
   "id": "caf64829-3799-4b2b-937c-45fb63e49cdf",
   "metadata": {},
   "outputs": [],
   "source": [
    "n_particles3 = 10_000\n",
    "n_quadrupoles3 = 1\n",
    "n_slices3 = np.linspace(1,10,10, dtype=int)\n",
    "n_slices3"
   ]
  },
  {
   "cell_type": "code",
   "execution_count": null,
   "id": "a5c999b5-86ed-4996-b655-d5437fb09040",
   "metadata": {},
   "outputs": [],
   "source": [
    "memory3 = np.full_like(n_slices3, np.nan, dtype=np.double)\n",
    "memory3_nograd = memory2.copy()\n",
    "\n",
    "for i, n_sl in enumerate(n_slices3):\n",
    "    os.system(\"scalene --memory ./torch_module_profiling.py \"\n",
    "              + str(n_particles3) + \" \" + str(n_quadrupoles3) + \" \" + str(n_sl) )\n",
    "    f = open('profile.json')\n",
    "    lines = json.load(f)['files']['./torch_module_profiling.py']['lines']\n",
    "    for line in lines:\n",
    "        if line['lineno'] == 39:\n",
    "            memory3[i] = line['n_peak_mb']\n",
    "            os.system(\"scalene --memory ./torch_module_profiling_no_grad.py \"\n",
    "              + str(n_particles3) + \" \" + str(n_quadrupoles3) + \" \" + str(n_sl) )\n",
    "    f = open('profile.json')\n",
    "    lines = json.load(f)['files']['./torch_module_profiling_no_grad.py']['lines']\n",
    "    for line in lines:\n",
    "        if line['lineno'] == 39:\n",
    "            memory3_nograd[i] = line['n_peak_mb']"
   ]
  },
  {
   "cell_type": "code",
   "execution_count": null,
   "id": "16c8363b-5822-471c-9687-c0853833d4e5",
   "metadata": {},
   "outputs": [],
   "source": [
    "memory3, memory3_nograd"
   ]
  },
  {
   "cell_type": "code",
   "execution_count": null,
   "id": "a0eb1696-74a0-41b6-a0c4-c78a79818b84",
   "metadata": {},
   "outputs": [],
   "source": [
    "fig, ax = plt.subplots()\n",
    "ax2 = ax.twinx()\n",
    "ax.plot(n_slices3, np.array(memory3), '.', color=colors[0], label='grad')\n",
    "ax.tick_params(axis=\"y\", labelcolor=colors[0])\n",
    "ax2.plot(n_slices3, np.array(memory3_nograd), '.', color=colors[1], label='no grad')\n",
    "ax2.tick_params(axis=\"y\", labelcolor=colors[1])\n",
    "ax.set_xlabel('n_steps')\n",
    "ax.set_ylabel('peak memory (MB)')\n",
    "ax.legend()"
   ]
  },
  {
   "cell_type": "code",
   "execution_count": null,
   "id": "4cb309e9-1698-4f88-97e9-9db3d4e45045",
   "metadata": {},
   "outputs": [],
   "source": []
  }
 ],
 "metadata": {
  "kernelspec": {
   "display_name": "NERSC Python",
   "language": "python",
   "name": "python3"
  },
  "language_info": {
   "codemirror_mode": {
    "name": "ipython",
    "version": 3
   },
   "file_extension": ".py",
   "mimetype": "text/x-python",
   "name": "python",
   "nbconvert_exporter": "python",
   "pygments_lexer": "ipython3",
   "version": "3.9.7"
  }
 },
 "nbformat": 4,
 "nbformat_minor": 5
}
