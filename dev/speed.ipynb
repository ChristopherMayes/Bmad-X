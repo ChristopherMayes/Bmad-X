{
 "cells": [
  {
   "cell_type": "code",
   "execution_count": 1,
   "id": "b0e62b30-8b50-49b9-8c40-4dbef6535d24",
   "metadata": {},
   "outputs": [],
   "source": [
    "import torch\n",
    "import numpy as np\n",
    "\n",
    "from bmadx import Particle, Drift, Quadrupole\n",
    "from bmadx import track_element, track_lattice, track_lattice_save_stats, track_lattice_save_particles\n",
    "from bmadx import M_ELECTRON\n",
    "\n",
    "from scalene import scalene_profiler"
   ]
  },
  {
   "cell_type": "code",
   "execution_count": 2,
   "id": "612bf0e1-6a8b-41e4-8ab6-ec208582c9c3",
   "metadata": {},
   "outputs": [],
   "source": [
    "# Initial beam distribution\n",
    "\n",
    "mean = torch.zeros(6)\n",
    "cov = torch.diag(torch.tensor([1e-6, 2e-6, 3e-6, 2e-6, 1e-6, 2e-6]))\n",
    "torch.manual_seed(0)\n",
    "dist = torch.distributions.multivariate_normal.MultivariateNormal(mean, cov)\n",
    "\n",
    "def create_beam(n_particles):\n",
    "    coords = dist.sample(torch.Size([n_particles])) # particles' coordinates\n",
    "\n",
    "    return Particle(*coords.T,\n",
    "                    s=torch.tensor(0.),\n",
    "                    p0c=torch.tensor(4e7),\n",
    "                    mc2=M_ELECTRON)"
   ]
  },
  {
   "cell_type": "code",
   "execution_count": 3,
   "id": "c3bf23c5-94b6-4259-9bd2-114694ee1cdf",
   "metadata": {},
   "outputs": [],
   "source": [
    "def create_fodo(n_cells, l_d, l_q, k):\n",
    "    q_f = Quadrupole(L = l_q, K1 = k)\n",
    "    q_d = Quadrupole(L = l_q, K1 = -k)\n",
    "    d = Drift(L = l_d)\n",
    "    half_d = Drift(L = l_d/2)\n",
    "    lat = []\n",
    "    for i in range(n_cells):\n",
    "        lat.extend([half_d, q_f, d, half_d, q_d])\n",
    "    return lat"
   ]
  },
  {
   "cell_type": "code",
   "execution_count": 4,
   "id": "96418b4e-6534-4779-a884-263ae915039a",
   "metadata": {},
   "outputs": [],
   "source": [
    "lat = create_fodo(10, 0.9, 0.1, 10)"
   ]
  },
  {
   "cell_type": "code",
   "execution_count": 5,
   "id": "4530aad9-adc1-460f-ac4a-9914fac42681",
   "metadata": {},
   "outputs": [
    {
     "data": {
      "text/plain": [
       "array([     1,     10,    100,   1000,  10000, 100000])"
      ]
     },
     "execution_count": 5,
     "metadata": {},
     "output_type": "execute_result"
    }
   ],
   "source": [
    "N = 5\n",
    "n_particles = np.logspace(0, N, N+1, dtype=int)\n",
    "n_particles"
   ]
  },
  {
   "cell_type": "code",
   "execution_count": 6,
   "id": "47349261-98ba-41df-a62b-72b3d322d531",
   "metadata": {},
   "outputs": [
    {
     "name": "stdout",
     "output_type": "stream",
     "text": [
      "1\n",
      "10\n",
      "100\n",
      "1000\n",
      "10000\n",
      "100000\n"
     ]
    }
   ],
   "source": [
    "from time import perf_counter\n",
    "\n",
    "time_counter = perf_counter\n",
    "t_no_save = []\n",
    "t_save_par = []\n",
    "t_save_stats = []\n",
    "for n_par in n_particles:\n",
    "    print(n_par)\n",
    "    \n",
    "    beam = create_beam(n_par)\n",
    "    \n",
    "    p_out = None\n",
    "    t_0_no_save = time_counter()\n",
    "    p_out = track_lattice(beam, lat)\n",
    "    t_f_no_save = time_counter()\n",
    "    t_no_save.extend([t_f_no_save - t_0_no_save])\n",
    "    \n",
    "    p_out = None\n",
    "    t_0_save_par = time_counter()\n",
    "    p_out = track_lattice_save_particles(beam, lat)\n",
    "    t_f_save_par = time_counter()\n",
    "    t_save_par.extend([t_f_save_par - t_0_save_par])\n",
    "    \n",
    "    p_out = None\n",
    "    t_0_save_stats = time_counter()\n",
    "    p_out = track_lattice_save_stats(beam, lat)\n",
    "    t_f_save_stats = time_counter()\n",
    "    t_save_stats.extend([t_f_save_stats - t_0_save_stats])"
   ]
  },
  {
   "cell_type": "code",
   "execution_count": 7,
   "id": "b9af296b-1a33-46e0-89b9-093f903fe526",
   "metadata": {},
   "outputs": [
    {
     "data": {
      "text/plain": [
       "<matplotlib.legend.Legend at 0x14ea785e0>"
      ]
     },
     "execution_count": 7,
     "metadata": {},
     "output_type": "execute_result"
    },
    {
     "data": {
      "image/png": "[encoded data removed]",
      "text/plain": [
       "<Figure size 640x480 with 1 Axes>"
      ]
     },
     "metadata": {},
     "output_type": "display_data"
    }
   ],
   "source": [
    "import matplotlib.pyplot as plt\n",
    "plt.plot(n_particles, np.array(t_no_save), '.', label='no save')\n",
    "plt.plot(n_particles, np.array(t_save_par), '.', label='save particles')\n",
    "plt.plot(n_particles, np.array(t_save_stats), '.', label='save stats')\n",
    "plt.xscale('log')\n",
    "plt.yscale('log')\n",
    "plt.xlabel('n_particles')\n",
    "plt.ylabel('CPU time (s)')\n",
    "plt.legend()"
   ]
  },
  {
   "cell_type": "code",
   "execution_count": 10,
   "id": "9529e05a-db0d-4dea-ab1b-b78055661306",
   "metadata": {},
   "outputs": [
    {
     "name": "stdout",
     "output_type": "stream",
     "text": [
      "Scalene extension successfully loaded. Note: Scalene currently only\n",
      "supports CPU+GPU profiling inside Jupyter notebooks. For full Scalene\n",
      "profiling, use the command line version.\n",
      "\n",
      "NOTE: in Jupyter notebook on MacOS, Scalene cannot profile child\n",
      "processes. Do not run to try Scalene with multiprocessing in Jupyter\n",
      "Notebook.\n"
     ]
    }
   ],
   "source": [
    "%load_ext scalene"
   ]
  },
  {
   "cell_type": "code",
   "execution_count": 16,
   "id": "e6361f9e-886a-49a4-af65-b32424c773c1",
   "metadata": {},
   "outputs": [],
   "source": [
    "%scrun slow_function()\n",
    "def slow_function():\n",
    "    import time\n",
    "    time.sleep(3)"
   ]
  },
  {
   "cell_type": "code",
   "execution_count": null,
   "id": "eb1333a9-bbe2-408d-ac72-d87312c01a3a",
   "metadata": {},
   "outputs": [],
   "source": []
  }
 ],
 "metadata": {
  "kernelspec": {
   "display_name": "Python 3 (ipykernel)",
   "language": "python",
   "name": "python3"
  },
  "language_info": {
   "codemirror_mode": {
    "name": "ipython",
    "version": 3
   },
   "file_extension": ".py",
   "mimetype": "text/x-python",
   "name": "python",
   "nbconvert_exporter": "python",
   "pygments_lexer": "ipython3",
   "version": "3.9.13"
  }
 },
 "nbformat": 4,
 "nbformat_minor": 5
}
