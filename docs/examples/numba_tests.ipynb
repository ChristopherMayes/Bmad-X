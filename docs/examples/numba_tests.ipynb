{
 "cells": [
  {
   "cell_type": "markdown",
   "id": "ccb25fd7-91e5-4291-826f-b9a18bbd6b29",
   "metadata": {},
   "source": [
    "# Bmad-X Numpy, Numba, Pytorch tests\n",
    "\n",
    "\n",
    "Note: on Cori `conda install cudatoolkit=11.0`"
   ]
  },
  {
   "cell_type": "code",
   "execution_count": 1,
   "id": "6c8860e7-cf3f-44d4-84c6-94b67131863a",
   "metadata": {},
   "outputs": [],
   "source": [
    "from bmadx.track import make_track_a_drift, Particle, Drift\n",
    "\n",
    "import numpy as np\n",
    "\n",
    "import math\n",
    "\n",
    "import matplotlib.pyplot as plt"
   ]
  },
  {
   "cell_type": "code",
   "execution_count": 2,
   "id": "a8147c00-824b-4ab1-9caf-1373fe1f71ef",
   "metadata": {},
   "outputs": [],
   "source": [
    "c_light = 2.99792458e8 #speed of light in m/s\n",
    "m_e = 0.510998950e6 #electron mass in eV"
   ]
  },
  {
   "cell_type": "code",
   "execution_count": 3,
   "id": "767bb530-83aa-469c-8daf-bb17a707d918",
   "metadata": {},
   "outputs": [],
   "source": [
    "s = 0.0 #initial s\n",
    "p0c = 4.0E+07 #Reference particle momentum in eV\n",
    "mc2 = 1*m_e # electron mass in eV\n",
    "#pvec1 = [2e-3,3e-3,-3e-3,-1e-3,2e-3,-2e-3] "
   ]
  },
  {
   "cell_type": "markdown",
   "id": "d6277d75-44f5-4cf9-9960-870756ccb90f",
   "metadata": {},
   "source": [
    "## Numpy\n",
    "\n",
    "Create 10 million test particles"
   ]
  },
  {
   "cell_type": "code",
   "execution_count": 4,
   "id": "8b8098f6-c9ea-4da4-a7c4-9283106f4d71",
   "metadata": {},
   "outputs": [
    {
     "data": {
      "text/plain": [
       "0.0010000745670385076"
      ]
     },
     "execution_count": 4,
     "metadata": {},
     "output_type": "execute_result"
    }
   ],
   "source": [
    "N_PARTICLE = 10_000_000\n",
    "\n",
    "np.random.seed(999)\n",
    "\n",
    "pvec0 = np.random.normal( size=(N_PARTICLE, 6), scale=.001)\n",
    "np.std(pvec0[:, 0])"
   ]
  },
  {
   "cell_type": "code",
   "execution_count": 5,
   "id": "2c56d4a8-f8b1-4806-9bb0-c23a718a8e2b",
   "metadata": {},
   "outputs": [
    {
     "data": {
      "text/plain": [
       "array([ 0.00012716,  0.00156627, -0.00111006, ..., -0.00063516,\n",
       "       -0.00116169,  0.00162879])"
      ]
     },
     "execution_count": 5,
     "metadata": {},
     "output_type": "execute_result"
    }
   ],
   "source": [
    "P0 = Particle(pvec0[:,0],\n",
    "              pvec0[:,1],\n",
    "              pvec0[:,2],\n",
    "              pvec0[:,3],\n",
    "              pvec0[:,4],\n",
    "              pvec0[:,5],\n",
    "              s, p0c, mc2)\n",
    "P0.x"
   ]
  },
  {
   "cell_type": "code",
   "execution_count": 6,
   "id": "27ae8000-80fb-4c38-82f7-54a8aa333ef1",
   "metadata": {},
   "outputs": [],
   "source": [
    "track_a_drift = make_track_a_drift(np)\n",
    "D1 = Drift(L=1)"
   ]
  },
  {
   "cell_type": "code",
   "execution_count": 7,
   "id": "a94f2b9a-88a4-43b3-89cd-64267aa482bc",
   "metadata": {},
   "outputs": [
    {
     "data": {
      "text/plain": [
       "0.0014142797576549417"
      ]
     },
     "execution_count": 7,
     "metadata": {},
     "output_type": "execute_result"
    }
   ],
   "source": [
    "P1 = track_a_drift(P0, D1)\n",
    "np.std(P1.x)"
   ]
  },
  {
   "cell_type": "code",
   "execution_count": 8,
   "id": "a4964de6-44e2-46ac-b5f2-07c0b4fdce1b",
   "metadata": {},
   "outputs": [
    {
     "name": "stdout",
     "output_type": "stream",
     "text": [
      "297 ms ± 1.79 ms per loop (mean ± std. dev. of 7 runs, 1 loop each)\n"
     ]
    }
   ],
   "source": [
    "%%timeit\n",
    "P1 = track_a_drift(P0, D1)"
   ]
  },
  {
   "cell_type": "markdown",
   "id": "398f8b79-c3b1-4c31-8465-dd439b12f00f",
   "metadata": {},
   "source": [
    "## Numba CPU"
   ]
  },
  {
   "cell_type": "code",
   "execution_count": 9,
   "id": "d10fefbf-87fe-43ea-b1c9-1f0f53b22051",
   "metadata": {},
   "outputs": [
    {
     "data": {
      "text/plain": [
       "128"
      ]
     },
     "execution_count": 9,
     "metadata": {},
     "output_type": "execute_result"
    }
   ],
   "source": [
    "import numba\n",
    "from numba import guvectorize, float64, jit\n",
    "numba.config.NUMBA_NUM_THREADS"
   ]
  },
  {
   "cell_type": "code",
   "execution_count": 10,
   "id": "f64b78da-768b-41b2-abd7-93ade74592a4",
   "metadata": {},
   "outputs": [],
   "source": [
    "track_a_drift = make_track_a_drift(np)\n",
    "#track_a_drift = numba.njit(make_track_a_drift(np))"
   ]
  },
  {
   "cell_type": "code",
   "execution_count": 11,
   "id": "c88fbeb4-2aa4-407b-81b1-7447a6dabc01",
   "metadata": {},
   "outputs": [],
   "source": [
    "#%%timeit\n",
    "#track_a_drift(P0, D1)"
   ]
  },
  {
   "cell_type": "code",
   "execution_count": 12,
   "id": "6337f68f-7e35-48e9-b041-6a84cef4adf9",
   "metadata": {},
   "outputs": [
    {
     "data": {
      "text/plain": [
       "0.0014142797576549417"
      ]
     },
     "execution_count": 12,
     "metadata": {},
     "output_type": "execute_result"
    }
   ],
   "source": [
    "params = D1\n",
    "g = numba.njit( make_track_a_drift(np))\n",
    "\n",
    "\n",
    "@guvectorize([(float64[:], float64[:])], '(n)->(n)')\n",
    "def vg_numba(a_in, a_out):\n",
    "    p_in = Particle(x  = a_in[0],\n",
    "                    px = a_in[1],\n",
    "                    y  = a_in[2],\n",
    "                    py = a_in[3],\n",
    "                    z  = a_in[4],\n",
    "                    pz = a_in[5],\n",
    "                    s=s, p0c=p0c, mc2=mc2)\n",
    "    p_out = g(p_in, params)\n",
    "    a_out[0] = p_out.x\n",
    "    a_out[1] = p_out.px    \n",
    "    a_out[2] = p_out.y\n",
    "    a_out[3] = p_out.py  \n",
    "    a_out[4] = p_out.z\n",
    "    a_out[5] = p_out.pz  \n",
    "\n",
    "@guvectorize([(float64[:], float64[:])], '(n)->(n)', target='parallel')\n",
    "def vg_numba_parallel(a_in, a_out):\n",
    "    p_in = Particle(x  = a_in[0],\n",
    "                    px = a_in[1],\n",
    "                    y  = a_in[2],\n",
    "                    py = a_in[3],\n",
    "                    z  = a_in[4],\n",
    "                    pz = a_in[5],\n",
    "                    s=s, p0c=p0c, mc2=mc2)\n",
    "    p_out = g(p_in, params)\n",
    "    a_out[0] = p_out.x\n",
    "    a_out[1] = p_out.px    \n",
    "    a_out[2] = p_out.y\n",
    "    a_out[3] = p_out.py  \n",
    "    a_out[4] = p_out.z\n",
    "    a_out[5] = p_out.pz  \n",
    "    \n",
    "\n",
    "pvec1 = np.zeros_like(pvec0)      \n",
    "vg_numba_parallel(pvec0, pvec1)\n",
    "np.std(pvec1[:,0])"
   ]
  },
  {
   "cell_type": "code",
   "execution_count": 13,
   "id": "bead6f91-6c24-44f5-9142-aa5d62c672c2",
   "metadata": {},
   "outputs": [
    {
     "name": "stdout",
     "output_type": "stream",
     "text": [
      "144 ms ± 212 µs per loop (mean ± std. dev. of 7 runs, 10 loops each)\n"
     ]
    }
   ],
   "source": [
    "%%timeit\n",
    "vg_numba(pvec0, pvec1)"
   ]
  },
  {
   "cell_type": "code",
   "execution_count": 14,
   "id": "88300bed-cd64-4ce9-b17a-c255ead16385",
   "metadata": {},
   "outputs": [
    {
     "name": "stdout",
     "output_type": "stream",
     "text": [
      "33.8 ms ± 940 µs per loop (mean ± std. dev. of 7 runs, 10 loops each)\n"
     ]
    }
   ],
   "source": [
    "%%timeit\n",
    "vg_numba_parallel(pvec0, pvec1)"
   ]
  },
  {
   "cell_type": "code",
   "execution_count": 15,
   "id": "b45c3e37-53fd-4590-9458-b7da161971c2",
   "metadata": {},
   "outputs": [
    {
     "data": {
      "text/plain": [
       "0.0014142797576549417"
      ]
     },
     "execution_count": 15,
     "metadata": {},
     "output_type": "execute_result"
    }
   ],
   "source": [
    "np.std(pvec1[:, 0])"
   ]
  },
  {
   "cell_type": "markdown",
   "id": "6e6552c8-0af6-4795-a4dd-98a3ab825b6c",
   "metadata": {},
   "source": [
    "## Numba CUDA"
   ]
  },
  {
   "cell_type": "code",
   "execution_count": 16,
   "id": "38a055f6-ce97-4c34-a11e-707023b50044",
   "metadata": {},
   "outputs": [],
   "source": [
    "from numba import cuda"
   ]
  },
  {
   "cell_type": "code",
   "execution_count": 17,
   "id": "0e6df42a-9ab7-42f8-abd9-1acc30618138",
   "metadata": {},
   "outputs": [],
   "source": [
    "from numba import cuda, guvectorize, float64\n",
    "\n",
    "@guvectorize([(float64[:], float64[:])], '(n)->(n)', target='cuda')\n",
    "def crashes(a_in, a_out):\n",
    "    pass"
   ]
  },
  {
   "cell_type": "code",
   "execution_count": 18,
   "id": "43109d2a-d204-4fe3-ada8-3ac74dbaf8b3",
   "metadata": {},
   "outputs": [],
   "source": [
    "# Particle method\n",
    "params = D1\n",
    "g = cuda.jit(make_track_a_drift(math), device=True)\n",
    "\n",
    "@guvectorize([(float64[:], float64[:])], '(n)->(n)', target='cuda')\n",
    "def vg_parallel_cuda(a_in, a_out):\n",
    "    p_in = Particle(x  = a_in[0],\n",
    "                    px = a_in[1],\n",
    "                    y  = a_in[2],\n",
    "                    py = a_in[3],\n",
    "                    z  = a_in[4],\n",
    "                    pz = a_in[5],\n",
    "                    s=s, p0c=p0c, mc2=mc2)\n",
    "    p_out = g(p_in, params)\n",
    "    a_out[0] = p_out.x\n",
    "    a_out[1] = p_out.px    \n",
    "    a_out[2] = p_out.y\n",
    "    a_out[3] = p_out.py  \n",
    "    a_out[4] = p_out.z\n",
    "    a_out[5] = p_out.pz  "
   ]
  },
  {
   "cell_type": "code",
   "execution_count": 19,
   "id": "0c204c5f-58fc-401d-a7b0-8a3e49064020",
   "metadata": {},
   "outputs": [
    {
     "name": "stdout",
     "output_type": "stream",
     "text": [
      "98.5 ms ± 4.44 ms per loop (mean ± std. dev. of 7 runs, 10 loops each)\n"
     ]
    }
   ],
   "source": [
    "%%timeit\n",
    "vg_parallel_cuda(pvec0, pvec1)"
   ]
  },
  {
   "cell_type": "code",
   "execution_count": 20,
   "id": "de51fff9-178e-430d-9ac2-ac043743d7aa",
   "metadata": {},
   "outputs": [
    {
     "data": {
      "text/plain": [
       "0.0014142797576549417"
      ]
     },
     "execution_count": 20,
     "metadata": {},
     "output_type": "execute_result"
    }
   ],
   "source": [
    "np.std(pvec1[:,0])"
   ]
  },
  {
   "cell_type": "markdown",
   "id": "6b65d4fd-3a43-4036-aaa9-afce30f470bc",
   "metadata": {},
   "source": [
    "## PyTorch"
   ]
  },
  {
   "cell_type": "code",
   "execution_count": 21,
   "id": "fa4140a5-535f-45d8-baa3-d96c6a3553e0",
   "metadata": {},
   "outputs": [],
   "source": [
    "import torch"
   ]
  },
  {
   "cell_type": "code",
   "execution_count": 22,
   "id": "d8eb557f-252d-48dc-b1a6-32667332b9a7",
   "metadata": {},
   "outputs": [],
   "source": [
    "tkwargs = {\n",
    "    \"dtype\" : torch.double\n",
    "}"
   ]
  },
  {
   "cell_type": "code",
   "execution_count": 23,
   "id": "9663e3b3-7885-4dc7-b7ea-12613867e981",
   "metadata": {},
   "outputs": [],
   "source": [
    "track_a_drift = make_track_a_drift(torch)"
   ]
  },
  {
   "cell_type": "code",
   "execution_count": 24,
   "id": "ad7f2ea5-93cc-4685-9ce1-314866856016",
   "metadata": {},
   "outputs": [],
   "source": [
    "tvec0= torch.tensor(pvec0, requires_grad=True, **tkwargs)\n",
    "ts = torch.tensor(s, **tkwargs)\n",
    "tp0c = torch.tensor(p0c, **tkwargs)\n",
    "tmc2 = torch.tensor(mc2, **tkwargs)\n",
    "\n",
    "tparticles0 = Particle(tvec0[:,0],\n",
    "                tvec0[:,1],\n",
    "                tvec0[:,2],\n",
    "                tvec0[:,3],\n",
    "                tvec0[:,4],\n",
    "                tvec0[:,5],\n",
    "                ts, tp0c, tmc2)"
   ]
  },
  {
   "cell_type": "code",
   "execution_count": 25,
   "id": "c14f9345-b3da-4049-a4db-ff0cb2eb35df",
   "metadata": {},
   "outputs": [
    {
     "data": {
      "text/plain": [
       "tensor(0.0014, dtype=torch.float64, grad_fn=<StdBackward0>)"
      ]
     },
     "execution_count": 25,
     "metadata": {},
     "output_type": "execute_result"
    }
   ],
   "source": [
    "tparticles1 = track_a_drift(tparticles0, params)\n",
    "\n",
    "tparticles1.x.std()"
   ]
  },
  {
   "cell_type": "code",
   "execution_count": 26,
   "id": "38f70021-a074-445e-8e36-a75fc0a8a31b",
   "metadata": {},
   "outputs": [
    {
     "name": "stdout",
     "output_type": "stream",
     "text": [
      "215 ms ± 20.4 ms per loop (mean ± std. dev. of 7 runs, 1 loop each)\n",
      "Compiler time: 0.16 s\n"
     ]
    }
   ],
   "source": [
    "%%timeit\n",
    "tparticles1 = track_a_drift(tparticles0, params)"
   ]
  },
  {
   "cell_type": "markdown",
   "id": "7cd88f75-45a9-4197-a327-6f33177362a4",
   "metadata": {},
   "source": [
    "# System Information"
   ]
  },
  {
   "cell_type": "code",
   "execution_count": 27,
   "id": "a50d989a-6534-4d33-bd46-f74bfae6d180",
   "metadata": {},
   "outputs": [
    {
     "name": "stdout",
     "output_type": "stream",
     "text": [
      "perlmutter\n"
     ]
    }
   ],
   "source": [
    "!echo $NERSC_HOST"
   ]
  },
  {
   "cell_type": "code",
   "execution_count": 28,
   "id": "eb0a7e7e-2179-4008-baa1-3aa29c530844",
   "metadata": {},
   "outputs": [
    {
     "data": {
      "text/plain": [
       "128"
      ]
     },
     "execution_count": 28,
     "metadata": {},
     "output_type": "execute_result"
    }
   ],
   "source": [
    "numba.config.NUMBA_NUM_THREADS"
   ]
  },
  {
   "cell_type": "code",
   "execution_count": 29,
   "id": "dc11c34c-22bb-4b1e-94d8-0477db77cb25",
   "metadata": {},
   "outputs": [
    {
     "name": "stdout",
     "output_type": "stream",
     "text": [
      "Mon Oct 17 15:31:43 2022       \n",
      "+-----------------------------------------------------------------------------+\n",
      "| NVIDIA-SMI 515.48.07    Driver Version: 515.48.07    CUDA Version: 11.7     |\n",
      "|-------------------------------+----------------------+----------------------+\n",
      "| GPU  Name        Persistence-M| Bus-Id        Disp.A | Volatile Uncorr. ECC |\n",
      "| Fan  Temp  Perf  Pwr:Usage/Cap|         Memory-Usage | GPU-Util  Compute M. |\n",
      "|                               |                      |               MIG M. |\n",
      "|===============================+======================+======================|\n",
      "|   0  NVIDIA A100-SXM...  On   | 00000000:03:00.0 Off |                    0 |\n",
      "| N/A   28C    P0    60W / 400W |   4080MiB / 40960MiB |      0%      Default |\n",
      "|                               |                      |             Disabled |\n",
      "+-------------------------------+----------------------+----------------------+\n",
      "|   1  NVIDIA A100-SXM...  On   | 00000000:41:00.0 Off |                    0 |\n",
      "| N/A   26C    P0    50W / 400W |      3MiB / 40960MiB |      0%      Default |\n",
      "|                               |                      |             Disabled |\n",
      "+-------------------------------+----------------------+----------------------+\n",
      "|   2  NVIDIA A100-SXM...  On   | 00000000:82:00.0 Off |                    0 |\n",
      "| N/A   26C    P0    50W / 400W |      3MiB / 40960MiB |      0%      Default |\n",
      "|                               |                      |             Disabled |\n",
      "+-------------------------------+----------------------+----------------------+\n",
      "|   3  NVIDIA A100-SXM...  On   | 00000000:C1:00.0 Off |                    0 |\n",
      "| N/A   25C    P0    50W / 400W |      3MiB / 40960MiB |      0%      Default |\n",
      "|                               |                      |             Disabled |\n",
      "+-------------------------------+----------------------+----------------------+\n",
      "                                                                               \n",
      "+-----------------------------------------------------------------------------+\n",
      "| Processes:                                                                  |\n",
      "|  GPU   GI   CI        PID   Type   Process name                  GPU Memory |\n",
      "|        ID   ID                                                   Usage      |\n",
      "|=============================================================================|\n",
      "|    0   N/A  N/A    101928      C   ...nda/envs/bmadx/bin/python     4077MiB |\n",
      "+-----------------------------------------------------------------------------+\n"
     ]
    }
   ],
   "source": [
    "!nvidia-smi"
   ]
  }
 ],
 "metadata": {
  "kernelspec": {
   "display_name": "Bmad-X",
   "language": "python",
   "name": "bmadx"
  },
  "language_info": {
   "codemirror_mode": {
    "name": "ipython",
    "version": 3
   },
   "file_extension": ".py",
   "mimetype": "text/x-python",
   "name": "python",
   "nbconvert_exporter": "python",
   "pygments_lexer": "ipython3",
   "version": "3.9.13"
  }
 },
 "nbformat": 4,
 "nbformat_minor": 5
}
