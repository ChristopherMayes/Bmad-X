{
 "cells": [
  {
   "cell_type": "markdown",
   "id": "ccb25fd7-91e5-4291-826f-b9a18bbd6b29",
   "metadata": {},
   "source": [
    "# Bmad-X Numpy, Numba, Pytorch tests"
   ]
  },
  {
   "cell_type": "code",
   "execution_count": 1,
   "id": "e0bc1779-e98a-4285-899c-b89d0e26ade2",
   "metadata": {},
   "outputs": [],
   "source": [
    "#%load_ext autoreload\n",
    "#%autoreload 2"
   ]
  },
  {
   "cell_type": "code",
   "execution_count": 2,
   "id": "6c8860e7-cf3f-44d4-84c6-94b67131863a",
   "metadata": {},
   "outputs": [],
   "source": [
    "from bmadx.track import make_track_a_drift, Particle, Drift\n",
    "\n",
    "import numpy as np\n",
    "\n",
    "import math\n",
    "\n",
    "import matplotlib.pyplot as plt"
   ]
  },
  {
   "cell_type": "code",
   "execution_count": 3,
   "id": "a8147c00-824b-4ab1-9caf-1373fe1f71ef",
   "metadata": {},
   "outputs": [],
   "source": [
    "c_light = 2.99792458e8 #speed of light in m/s\n",
    "m_e = 0.510998950e6 #electron mass in eV"
   ]
  },
  {
   "cell_type": "code",
   "execution_count": 4,
   "id": "767bb530-83aa-469c-8daf-bb17a707d918",
   "metadata": {},
   "outputs": [],
   "source": [
    "s = 0.0 #initial s\n",
    "p0c = 4.0E+07 #Reference particle momentum in eV\n",
    "mc2 = 1*m_e # electron mass in eV\n",
    "#pvec1 = [2e-3,3e-3,-3e-3,-1e-3,2e-3,-2e-3] "
   ]
  },
  {
   "cell_type": "markdown",
   "id": "d6277d75-44f5-4cf9-9960-870756ccb90f",
   "metadata": {},
   "source": [
    "## Numpy"
   ]
  },
  {
   "cell_type": "code",
   "execution_count": 5,
   "id": "8b8098f6-c9ea-4da4-a7c4-9283106f4d71",
   "metadata": {},
   "outputs": [
    {
     "data": {
      "text/plain": [
       "0.001000172002409757"
      ]
     },
     "execution_count": 5,
     "metadata": {},
     "output_type": "execute_result"
    }
   ],
   "source": [
    "N_PARTICLE = 1_000_000\n",
    "\n",
    "\n",
    "np.random.seed(999)\n",
    "\n",
    "pvec0 = np.random.normal( size=(N_PARTICLE, 6), scale=.001)\n",
    "np.std(pvec0[:, 0])"
   ]
  },
  {
   "cell_type": "code",
   "execution_count": 6,
   "id": "2c56d4a8-f8b1-4806-9bb0-c23a718a8e2b",
   "metadata": {},
   "outputs": [
    {
     "data": {
      "text/plain": [
       "array([ 0.00012716,  0.00156627, -0.00111006, ..., -0.00059041,\n",
       "        0.00019104,  0.00101049])"
      ]
     },
     "execution_count": 6,
     "metadata": {},
     "output_type": "execute_result"
    }
   ],
   "source": [
    "P0 = Particle(pvec0[:,0],\n",
    "              pvec0[:,1],\n",
    "              pvec0[:,2],\n",
    "              pvec0[:,3],\n",
    "              pvec0[:,4],\n",
    "              pvec0[:,5],\n",
    "              s, p0c, mc2)\n",
    "P0.x"
   ]
  },
  {
   "cell_type": "code",
   "execution_count": 7,
   "id": "27ae8000-80fb-4c38-82f7-54a8aa333ef1",
   "metadata": {},
   "outputs": [],
   "source": [
    "track_a_drift = make_track_a_drift(np)\n",
    "D1 = Drift(L=1)"
   ]
  },
  {
   "cell_type": "code",
   "execution_count": 8,
   "id": "a94f2b9a-88a4-43b3-89cd-64267aa482bc",
   "metadata": {},
   "outputs": [
    {
     "data": {
      "text/plain": [
       "0.0014156804429872186"
      ]
     },
     "execution_count": 8,
     "metadata": {},
     "output_type": "execute_result"
    }
   ],
   "source": [
    "P1 = track_a_drift(P0, D1)\n",
    "np.std(P1.x)"
   ]
  },
  {
   "cell_type": "code",
   "execution_count": 9,
   "id": "a4964de6-44e2-46ac-b5f2-07c0b4fdce1b",
   "metadata": {},
   "outputs": [
    {
     "name": "stdout",
     "output_type": "stream",
     "text": [
      "15.7 ms ± 234 µs per loop (mean ± std. dev. of 7 runs, 100 loops each)\n"
     ]
    }
   ],
   "source": [
    "%%timeit\n",
    "P1 = track_a_drift(P0, D1)"
   ]
  },
  {
   "cell_type": "markdown",
   "id": "398f8b79-c3b1-4c31-8465-dd439b12f00f",
   "metadata": {},
   "source": [
    "## Numba CPU"
   ]
  },
  {
   "cell_type": "code",
   "execution_count": 10,
   "id": "d10fefbf-87fe-43ea-b1c9-1f0f53b22051",
   "metadata": {},
   "outputs": [],
   "source": [
    "import numba\n",
    "from numba import guvectorize, float64, jit"
   ]
  },
  {
   "cell_type": "code",
   "execution_count": 11,
   "id": "f64b78da-768b-41b2-abd7-93ade74592a4",
   "metadata": {},
   "outputs": [],
   "source": [
    "track_a_drift = make_track_a_drift(np)\n",
    "#track_a_drift = numba.njit(make_track_a_drift(np))"
   ]
  },
  {
   "cell_type": "code",
   "execution_count": 12,
   "id": "c88fbeb4-2aa4-407b-81b1-7447a6dabc01",
   "metadata": {},
   "outputs": [],
   "source": [
    "#%%timeit\n",
    "#track_a_drift(P0, D1)"
   ]
  },
  {
   "cell_type": "code",
   "execution_count": 13,
   "id": "6337f68f-7e35-48e9-b041-6a84cef4adf9",
   "metadata": {},
   "outputs": [
    {
     "name": "stderr",
     "output_type": "stream",
     "text": [
      "OMP: Info #276: omp_set_nested routine deprecated, please use omp_set_max_active_levels instead.\n"
     ]
    },
    {
     "data": {
      "text/plain": [
       "0.0014156804429872186"
      ]
     },
     "execution_count": 13,
     "metadata": {},
     "output_type": "execute_result"
    }
   ],
   "source": [
    "params = D1\n",
    "g = numba.njit( make_track_a_drift(np))\n",
    "\n",
    "@guvectorize([(float64[:], float64[:])], '(n)->(n)', target='parallel')\n",
    "def vg_parallel(a_in, a_out):\n",
    "    p_in = Particle(x  = a_in[0],\n",
    "                    px = a_in[1],\n",
    "                    y  = a_in[2],\n",
    "                    py = a_in[3],\n",
    "                    z  = a_in[4],\n",
    "                    pz = a_in[5],\n",
    "                    s=s, p0c=p0c, mc2=mc2)\n",
    "    p_out = g(p_in, params)\n",
    "    a_out[0] = p_out.x\n",
    "    a_out[1] = p_out.px    \n",
    "    a_out[2] = p_out.y\n",
    "    a_out[3] = p_out.py  \n",
    "    a_out[4] = p_out.z\n",
    "    a_out[5] = p_out.pz  \n",
    "    \n",
    "\n",
    "pvec1 = np.zeros_like(pvec0)      \n",
    "vg_parallel(pvec0, pvec1)\n",
    "np.std(pvec1[:,0])"
   ]
  },
  {
   "cell_type": "code",
   "execution_count": 14,
   "id": "bead6f91-6c24-44f5-9142-aa5d62c672c2",
   "metadata": {},
   "outputs": [
    {
     "name": "stdout",
     "output_type": "stream",
     "text": [
      "2.73 ms ± 180 µs per loop (mean ± std. dev. of 7 runs, 100 loops each)\n"
     ]
    }
   ],
   "source": [
    "%%timeit\n",
    "vg_parallel(pvec0, pvec1)"
   ]
  },
  {
   "cell_type": "code",
   "execution_count": 15,
   "id": "b45c3e37-53fd-4590-9458-b7da161971c2",
   "metadata": {},
   "outputs": [
    {
     "data": {
      "text/plain": [
       "0.0014156804429872186"
      ]
     },
     "execution_count": 15,
     "metadata": {},
     "output_type": "execute_result"
    }
   ],
   "source": [
    "np.std(pvec1[:, 0])"
   ]
  },
  {
   "cell_type": "code",
   "execution_count": 16,
   "id": "14e05bfb-0774-44e0-a8b3-0083bbcdc354",
   "metadata": {},
   "outputs": [
    {
     "data": {
      "image/png": "[encoded data removed]",
      "text/plain": [
       "<Figure size 432x288 with 1 Axes>"
      ]
     },
     "metadata": {
      "needs_background": "light"
     },
     "output_type": "display_data"
    }
   ],
   "source": [
    "plt.hist(pvec1[:, 0], bins=100);"
   ]
  },
  {
   "cell_type": "markdown",
   "id": "6b65d4fd-3a43-4036-aaa9-afce30f470bc",
   "metadata": {},
   "source": [
    "## PyTorch"
   ]
  },
  {
   "cell_type": "code",
   "execution_count": 17,
   "id": "fa4140a5-535f-45d8-baa3-d96c6a3553e0",
   "metadata": {},
   "outputs": [],
   "source": [
    "import torch"
   ]
  },
  {
   "cell_type": "code",
   "execution_count": 18,
   "id": "d8eb557f-252d-48dc-b1a6-32667332b9a7",
   "metadata": {},
   "outputs": [],
   "source": [
    "tkwargs = {\n",
    "    \"dtype\" : torch.double\n",
    "}"
   ]
  },
  {
   "cell_type": "code",
   "execution_count": 19,
   "id": "9663e3b3-7885-4dc7-b7ea-12613867e981",
   "metadata": {},
   "outputs": [],
   "source": [
    "track_a_drift = make_track_a_drift(torch)"
   ]
  },
  {
   "cell_type": "code",
   "execution_count": 20,
   "id": "ad7f2ea5-93cc-4685-9ce1-314866856016",
   "metadata": {},
   "outputs": [],
   "source": [
    "tvec0= torch.tensor(pvec0, requires_grad=True, **tkwargs)\n",
    "ts = torch.tensor(s, **tkwargs)\n",
    "tp0c = torch.tensor(p0c, **tkwargs)\n",
    "tmc2 = torch.tensor(mc2, **tkwargs)\n",
    "\n",
    "tparticles0 = Particle(tvec0[:,0],\n",
    "                tvec0[:,1],\n",
    "                tvec0[:,2],\n",
    "                tvec0[:,3],\n",
    "                tvec0[:,4],\n",
    "                tvec0[:,5],\n",
    "                ts, tp0c, tmc2)"
   ]
  },
  {
   "cell_type": "code",
   "execution_count": 21,
   "id": "c14f9345-b3da-4049-a4db-ff0cb2eb35df",
   "metadata": {},
   "outputs": [
    {
     "data": {
      "text/plain": [
       "tensor(0.0014, dtype=torch.float64, grad_fn=<StdBackward0>)"
      ]
     },
     "execution_count": 21,
     "metadata": {},
     "output_type": "execute_result"
    }
   ],
   "source": [
    "tparticles1 = track_a_drift(tparticles0, params)\n",
    "\n",
    "tparticles1.x.std()"
   ]
  },
  {
   "cell_type": "code",
   "execution_count": 22,
   "id": "38f70021-a074-445e-8e36-a75fc0a8a31b",
   "metadata": {},
   "outputs": [
    {
     "name": "stdout",
     "output_type": "stream",
     "text": [
      "20.8 ms ± 1.16 ms per loop (mean ± std. dev. of 7 runs, 100 loops each)\n"
     ]
    }
   ],
   "source": [
    "%%timeit\n",
    "tparticles1 = track_a_drift(tparticles0, params)"
   ]
  }
 ],
 "metadata": {
  "kernelspec": {
   "display_name": "Python 3 (ipykernel)",
   "language": "python",
   "name": "python3"
  },
  "language_info": {
   "codemirror_mode": {
    "name": "ipython",
    "version": 3
   },
   "file_extension": ".py",
   "mimetype": "text/x-python",
   "name": "python",
   "nbconvert_exporter": "python",
   "pygments_lexer": "ipython3",
   "version": "3.9.13"
  }
 },
 "nbformat": 4,
 "nbformat_minor": 5
}
