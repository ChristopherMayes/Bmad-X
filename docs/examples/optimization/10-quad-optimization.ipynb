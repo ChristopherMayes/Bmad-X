{
 "cells": [
  {
   "cell_type": "markdown",
   "id": "322abb2e",
   "metadata": {
    "pycharm": {
     "name": "#%% md\n"
    }
   },
   "source": [
    "# 10 quad optimization\n",
    "\n",
    "Consider a beamline with 10 quarupoles separated by drifts. The initial beam profile in $x$-$y$ is elliptical and we want a round beam downstream with beamsize $\\sigma_{\\mathrm{target}} = 5.00~\\mathrm{mm}$. Let's find the 10 quadrupole strengths such that this happens by using gradient based optimization and automatic differentiation."
   ]
  },
  {
   "cell_type": "code",
   "execution_count": 1,
   "id": "7ca42451",
   "metadata": {
    "collapsed": false,
    "jupyter": {
     "outputs_hidden": false
    },
    "pycharm": {
     "name": "#%%\n"
    }
   },
   "outputs": [],
   "source": [
    "import numpy as np\n",
    "import torch\n",
    "from torch.autograd.functional import jacobian\n",
    "from torch.autograd.functional import hessian\n",
    "import matplotlib.pyplot as plt\n",
    "tkwargs = {\n",
    "    \"dtype\" : torch.double\n",
    "}\n",
    "import time\n",
    "np.set_printoptions(precision= 16, suppress=False)\n",
    "torch.set_printoptions(precision= 16, sci_mode=True)\n",
    "torch.__version__, np.__version__\n",
    "%config InlineBackend.figure_format = 'retina'"
   ]
  },
  {
   "cell_type": "code",
   "execution_count": 2,
   "id": "98610c9a-5037-4532-918a-d97d0f393c88",
   "metadata": {},
   "outputs": [],
   "source": [
    "# Initial particle bunch\n",
    "\n",
    "from bmadx import M_ELECTRON, Particle\n",
    "\n",
    "ts = torch.tensor(0.0, **tkwargs) # initial s\n",
    "tp0c = torch.tensor(4.0E+07, **tkwargs) # Reference particle momentum in eV\n",
    "tmc2 = torch.tensor(M_ELECTRON, **tkwargs) # electron mass in eV\n",
    "\n",
    "# Initial beam distribution\n",
    "sample_size = 100000\n",
    "mean = torch.zeros(6, **tkwargs)\n",
    "cov = torch.diag(torch.tensor([1e-6, 2e-6, 3e-6, 2e-6, 1e-6, 2e-6],**tkwargs))\n",
    "torch.manual_seed(0)\n",
    "dist = torch.distributions.multivariate_normal.MultivariateNormal(mean, cov)\n",
    "sample = dist.sample(torch.Size([sample_size]))\n",
    "p_in = Particle(*sample.T, ts, tp0c, tmc2)"
   ]
  },
  {
   "cell_type": "code",
   "execution_count": 3,
   "id": "a2ea9d9f-f97f-4d70-adee-de650ef49a2c",
   "metadata": {},
   "outputs": [
    {
     "data": {
      "text/plain": [
       "Text(0, 0.5, '$y$ (mm)')"
      ]
     },
     "execution_count": 3,
     "metadata": {},
     "output_type": "execute_result"
    },
    {
     "data": {
      "image/png": "[encoded data removed]",
      "text/plain": [
       "<Figure size 432x288 with 1 Axes>"
      ]
     },
     "metadata": {
      "image/png": {
       "height": 262,
       "width": 160
      },
      "needs_background": "light"
     },
     "output_type": "display_data"
    }
   ],
   "source": [
    "# plot initial beam distribution\n",
    "fig, ax = plt.subplots()\n",
    "ax.hist2d(p_in.x.numpy()*1e3,p_in.y.numpy()*1e3, bins=30, range=[[-2.5,2.5],[-5,5]])\n",
    "ax.set_aspect('equal')\n",
    "ax.set_xlabel(r'$x$ (mm)')\n",
    "ax.set_ylabel(r'$y$ (mm)')"
   ]
  },
  {
   "cell_type": "code",
   "execution_count": 4,
   "id": "202c4f3e-d980-48d5-9e5a-bcdb97a14dcd",
   "metadata": {},
   "outputs": [],
   "source": [
    "sigma_target = 5e-3 # target beam size"
   ]
  },
  {
   "cell_type": "markdown",
   "id": "f963cbc8-f1d5-4c9e-89d8-f89f095c9330",
   "metadata": {},
   "source": [
    "We can define the loss function as the pythagorean sum of the beamsize discrepancies in $x$ and $y$: $$L = \\sqrt{\\Delta_x^2+\\Delta_y^2}~,$$ where $\\Delta_i = \\sigma_i-\\sigma_{\\mathrm{target}}$."
   ]
  },
  {
   "cell_type": "markdown",
   "id": "406f52aa-07aa-4430-bbf8-8540085cdcba",
   "metadata": {},
   "source": [
    "Now let's create a model of the beamline and find the set of quarupole strengths $\\{k_1, ..., k_{10}\\}$ that minimize $L$. "
   ]
  },
  {
   "cell_type": "code",
   "execution_count": 14,
   "id": "730dd70c-228a-4538-a9ea-01c4a88464e0",
   "metadata": {},
   "outputs": [],
   "source": [
    "# import Drift and Quadrupole elements\n",
    "from bmadx import Drift, Quadrupole\n",
    "\n",
    "# define torch presets for Quadrupole\n",
    "def torchquadrupole(L: torch.Tensor, K1: torch.Tensor, NUM_STEPS=1,\n",
    "                    X_OFFSET: torch.Tensor=torch.tensor(0.0,**tkwargs),\n",
    "                    Y_OFFSET: torch.Tensor=torch.tensor(0.0,**tkwargs),\n",
    "                    TILT: torch.Tensor=torch.tensor(0.0,**tkwargs)):\n",
    "    return Quadrupole(L=L, K1=K1, NUM_STEPS=NUM_STEPS, X_OFFSET=X_OFFSET,\n",
    "                      Y_OFFSET=Y_OFFSET, TILT=TILT)\n",
    "\n",
    "# create drifts:\n",
    "drift = Drift(L=0.9) # each drift is 90 cm long\n",
    "\n",
    "# import lattice tracking routine\n",
    "from bmadx import track_a_lattice"
   ]
  },
  {
   "cell_type": "code",
   "execution_count": 15,
   "id": "73f7c046",
   "metadata": {
    "collapsed": false,
    "jupyter": {
     "outputs_hidden": false
    },
    "pycharm": {
     "name": "#%%\n"
    }
   },
   "outputs": [],
   "source": [
    "# Model to optimize (we can inheritate from torch.nn.Module and use PyTorch optimizers)\n",
    "class BeamlineModel(torch.nn.Module):\n",
    "    \"\"\"Beamline torch module.\"\"\"\n",
    "    def __init__(self, k_set):\n",
    "        super().__init__()\n",
    "        # register set of quad strengths as parameter:\n",
    "        self.register_parameter('k_set',torch.nn.Parameter(k_set))\n",
    "    def forward(self):\n",
    "        # create lattice given quad strengths in k_set: \n",
    "        L_q = 0.1 # quad length \n",
    "        lattice = [drift]\n",
    "        for k1 in self.k_set:\n",
    "            lattice.append( torchquadrupole(L=L_q, K1=k1) )\n",
    "            lattice.append( drift )\n",
    "            \n",
    "        # outgoing particle:\n",
    "        p_out = track_a_lattice(p_in, lattice)[-1]\n",
    "        \n",
    "        # calculate and return loss function:\n",
    "        sigma_x = torch.std(p_out.x)\n",
    "        sigma_y = torch.std(p_out.y)\n",
    "        dx = (sigma_x - sigma_target)\n",
    "        dy = (sigma_y - sigma_target)\n",
    "        return torch.sqrt(dx**2+dy**2)"
   ]
  },
  {
   "cell_type": "code",
   "execution_count": 16,
   "id": "f54970e5",
   "metadata": {
    "collapsed": false,
    "jupyter": {
     "outputs_hidden": false
    },
    "pycharm": {
     "name": "#%%\n"
    }
   },
   "outputs": [],
   "source": [
    "# Training function\n",
    "def train_model(model, training_iter, alpha=0.1):\n",
    "    history_param = [None] * training_iter # list to save params\n",
    "    history_loss = [None] * training_iter # list to save loss\n",
    "    \n",
    "    # print the trainable parameters\n",
    "    for param in model.named_parameters():\n",
    "        print(f'{param[0]} : {param[1]}')\n",
    "    \n",
    "    # Use PyTorch Adam optimizer\n",
    "    optimizer = torch.optim.Adam(model.parameters(), alpha)\n",
    "\n",
    "    for i in range(training_iter):\n",
    "        # Zero gradients from previous iteration\n",
    "        optimizer.zero_grad()\n",
    "        # Calc loss and backprop gradients\n",
    "        loss = model()  # loss is just O.F.\n",
    "        loss.backward() # gradient\n",
    "        \n",
    "        # print info:\n",
    "        if i%100==0: #print each 100 steps\n",
    "            print('Iter %d/%d - Loss: %.5f '% (\n",
    "                i + 1, training_iter, loss.item()*1e6\n",
    "            ))\n",
    "        for param in model.parameters():\n",
    "            history_param[i] = param.data.detach().numpy().copy()\n",
    "        history_loss[i] = loss.detach().numpy().copy()\n",
    "        optimizer.step()\n",
    "    \n",
    "    # returns params and loss for every iteration\n",
    "    return np.asarray(history_param), np.asarray(history_loss)"
   ]
  },
  {
   "cell_type": "code",
   "execution_count": null,
   "id": "c21b75c1",
   "metadata": {
    "collapsed": false,
    "jupyter": {
     "outputs_hidden": false
    },
    "pycharm": {
     "name": "#%%\n"
    }
   },
   "outputs": [
    {
     "name": "stdout",
     "output_type": "stream",
     "text": [
      "k_set : Parameter containing:\n",
      "tensor([0., 0., 0., 0., 0., 0., 0., 0., 0., 0.], dtype=torch.float64,\n",
      "       requires_grad=True)\n",
      "Iter 1/500 - Loss: 14795.84203 \n",
      "Iter 101/500 - Loss: 6160.92384 \n",
      "Iter 201/500 - Loss: 965.96379 \n"
     ]
    }
   ],
   "source": [
    "%%time\n",
    "# Initial k_set\n",
    "k_set = torch.zeros(10, **tkwargs)\n",
    "\n",
    "# Optimization\n",
    "model = BeamlineModel(k_set)\n",
    "params, loss = train_model(model, 500, 0.01)"
   ]
  },
  {
   "cell_type": "code",
   "execution_count": null,
   "id": "6e954864",
   "metadata": {
    "collapsed": false,
    "jupyter": {
     "outputs_hidden": false
    },
    "pycharm": {
     "name": "#%%\n"
    }
   },
   "outputs": [],
   "source": [
    "# Plot loss and parameters as function of iteration number\n",
    "fig, ax1 = plt.subplots()\n",
    "ax2 = ax1.twinx()\n",
    "for i in range(len(k1s)):\n",
    "    ax2.plot(np.arange(len(params[:,0])), params[:,i], label=f'$k_{{{i+1}}}$')\n",
    "ax1.plot(np.arange(len(loss)), loss*1000, '--b', label='loss')\n",
    "ax1.set_yscale('log')                \n",
    "ax2.legend(loc='upper right', bbox_to_anchor=(1.3, 1), ncol=1, fancybox=True, shadow=True)\n",
    "ax1.legend(loc='upper right', bbox_to_anchor=(1.3, 0.2), ncol=1, fancybox=True, shadow=True)\n",
    "ax1.set_xlabel('n_iter')\n",
    "ax2.set_ylabel(r'$k$ (m$ ^{-2}$)')\n",
    "ax1.set_ylabel(r'loss $\\sqrt{\\Delta_x^2 + \\Delta_y^2}$ (mm)')"
   ]
  },
  {
   "cell_type": "code",
   "execution_count": null,
   "id": "cfb22155-27c7-4afc-b608-6c6734f73957",
   "metadata": {},
   "outputs": [],
   "source": [
    "# save optimal set of quad strengths\n",
    "k_opt = params[-1]\n",
    "k_opt"
   ]
  },
  {
   "cell_type": "code",
   "execution_count": null,
   "id": "75f0e26d-e03d-4ca3-86a7-0618e703c48e",
   "metadata": {},
   "outputs": [],
   "source": [
    "# create lattice with optimal quad strengths\n",
    "lattice = [drift]\n",
    "L_q = 0.1 # Quad lenght\n",
    "for k1 in k_opt:\n",
    "    lattice.append( torchquadrupole(L=torch.tensor(L_q, **tkwargs), K1=k1) )\n",
    "    lattice.append( drift )"
   ]
  },
  {
   "cell_type": "code",
   "execution_count": null,
   "id": "a1663f26",
   "metadata": {
    "collapsed": false,
    "jupyter": {
     "outputs_hidden": false
    },
    "pycharm": {
     "name": "#%%\n"
    }
   },
   "outputs": [],
   "source": [
    "# plot beamsize vs s for optimal configuration\n",
    "stubbed_lattice = stub_lattice(lattice, n)\n",
    "all_p = track_a_lattice(p_in, stubbed_lattice)\n",
    "stdx, stdy, stdr, s = [torch.std(par.x) for par in all_p], [torch.std(par.y) for par in all_p], [torch.std(torch.sqrt(par.x**2+par.y**2)) for par in all_p], [par.s for par in all_p]\n",
    "plt.plot(s, np.array(stdx)*1000, label=r'$\\sigma_x$')\n",
    "plt.plot(s, np.array(stdy)*1000, label=r'$\\sigma_y$')\n",
    "plt.plot(s, np.array(stdr)*1000, '--', label=r'$\\sqrt{\\sigma_x^2 + \\sigma_y^2}$')\n",
    "plt.xlabel(r'$s$ (m)')\n",
    "plt.ylabel(r'$\\sigma_{x,y}$ (mm)')\n",
    "plt.legend()\n",
    "#plt.savefig(\"10quadopt_s.eps\")"
   ]
  },
  {
   "cell_type": "code",
   "execution_count": null,
   "id": "50dcdfd4-c392-4aa5-8498-610ef01b2743",
   "metadata": {},
   "outputs": [],
   "source": [
    "fig, ax = plt.subplots()\n",
    "ax.plot(all_p[-1].x*1e3, all_p[-1].y*1e3, '.')\n",
    "ax.set_aspect('equal')"
   ]
  },
  {
   "cell_type": "code",
   "execution_count": null,
   "id": "dbf02a8a-a350-413e-a161-2ed087dd057c",
   "metadata": {},
   "outputs": [],
   "source": [
    "fig, ax = plt.subplots()\n",
    "ax.plot(all_p[0].x*1e3, all_p[0].y*1e3, '.')\n",
    "ax.set_aspect('equal')"
   ]
  },
  {
   "cell_type": "code",
   "execution_count": null,
   "id": "6142b16e-9e08-4b59-823d-05d1ff58aa4c",
   "metadata": {},
   "outputs": [],
   "source": [
    "a=np.linspace(0,10,11)"
   ]
  },
  {
   "cell_type": "code",
   "execution_count": null,
   "id": "fa941324-04ce-4e2b-919a-8d7c1e93d706",
   "metadata": {},
   "outputs": [],
   "source": [
    "a"
   ]
  },
  {
   "cell_type": "code",
   "execution_count": null,
   "id": "edacc925-9475-44a9-a7fe-eb841fdc77ff",
   "metadata": {},
   "outputs": [],
   "source": [
    "a[:8]"
   ]
  },
  {
   "cell_type": "code",
   "execution_count": null,
   "id": "d9016a94-b056-48e5-9ad6-0f3905dd6be2",
   "metadata": {},
   "outputs": [],
   "source": [
    "a[8-1]"
   ]
  },
  {
   "cell_type": "code",
   "execution_count": null,
   "id": "50263e98-8abd-47ea-ae33-dee080a25d3f",
   "metadata": {},
   "outputs": [],
   "source": [
    "#k1s = torch.tensor(params[n-1], **tkwargs)\n",
    "print(k1s)\n",
    "L_d = 0.9 # Drift length\n",
    "L_q = 0.1 # Quad length \n",
    "drift = Drift(L=L_d)\n",
    "lattice = [drift]\n",
    "for k1 in k1s:\n",
    "    lattice.append( torchquadrupole(L=L_q, K1=k1) )\n",
    "    lattice.append( drift )\n",
    "all_p = track_a_lattice(p_in, lattice)\n",
    "stdx, stdy, stdr, s = [torch.std(par.x) for par in all_p], [torch.std(par.y) for par in all_p], [torch.std(torch.sqrt(par.x**2+par.y**2)) for par in all_p], [par.s for par in all_p]\n",
    "plt.plot(s, np.array(stdx)*1000, label=r'$\\sigma_x$')\n",
    "plt.plot(s, np.array(stdy)*1000, label=r'$\\sigma_y$')\n",
    "#plt.plot(s, np.array(stdr)*1000, '--', label=r'$\\sqrt{\\sigma_x^2 + \\sigma_y^2}$')\n",
    "plt.xlabel(r'$s$ (m)')\n",
    "plt.ylabel(r'$\\sigma_{x,y}$ (mm)')\n",
    "plt.legend()\n",
    "plt.savefig('10quad_sigmavss.eps')"
   ]
  },
  {
   "cell_type": "code",
   "execution_count": null,
   "id": "f0adb11b-8a62-4e09-9b50-1dc5f44cd9ee",
   "metadata": {},
   "outputs": [],
   "source": [
    "fig, ax = plt.subplots()\n",
    "ax.plot(all_p[-1].x*1e3, all_p[-1].y*1e3, '.')\n",
    "ax.set_xlabel(r\"$x$ (mm)\")\n",
    "ax.set_ylabel(r\"$y$ (mm)\")\n",
    "ax.set_aspect('equal')\n",
    "plt.savefig(\"10quadafter.eps\")"
   ]
  },
  {
   "cell_type": "code",
   "execution_count": null,
   "id": "3c9403df-95f1-49b8-88af-e439ec7bd0bf",
   "metadata": {},
   "outputs": [],
   "source": [
    "xx = all_p[-1].x\n",
    "yy = all_p[-1].y\n",
    "plt.hist(xx)\n",
    "#fig, ax = plt.subplots()\n",
    "#plt.hist2d(xx,yy)\n",
    "#ax.set_xlabel(r\"$x$ (mm)\")\n",
    "#ax.set_ylabel(r\"$y$ (mm)\")\n",
    "#ax.set_aspect('equal')\n",
    "#plt.savefig(\"10quadafter.eps\")"
   ]
  },
  {
   "cell_type": "code",
   "execution_count": null,
   "id": "30e94811-df48-45c5-9a43-8319873918ef",
   "metadata": {},
   "outputs": [],
   "source": [
    "plt.hist(yy)"
   ]
  },
  {
   "cell_type": "code",
   "execution_count": null,
   "id": "03fd7a31-5590-4cab-a874-ddebc4bba477",
   "metadata": {},
   "outputs": [],
   "source": [
    "fig, ax = plt.subplots()\n",
    "ax.hist2d(xx.numpy()*1e3,yy.numpy()*1e3, bins=20)\n",
    "ax.set_aspect('equal')"
   ]
  },
  {
   "cell_type": "code",
   "execution_count": null,
   "id": "d87910a1-9dd7-4ba1-92d9-db120a01b07b",
   "metadata": {},
   "outputs": [],
   "source": [
    "a=[1,2,3]\n",
    "b=[1,2,3]\n",
    "plt.hist2d(a,b)"
   ]
  },
  {
   "cell_type": "code",
   "execution_count": null,
   "id": "cd77a6fe-2834-440b-946e-f924456f8204",
   "metadata": {},
   "outputs": [],
   "source": [
    "torch.save(params, 'params.pt')\n",
    "torch.save(loss, 'loss.pt')"
   ]
  },
  {
   "cell_type": "code",
   "execution_count": null,
   "id": "534fac3c-ac82-45a4-a115-94ecbf72fbc0",
   "metadata": {},
   "outputs": [],
   "source": []
  },
  {
   "cell_type": "code",
   "execution_count": null,
   "id": "9464fab5-88c9-4f8f-a115-0940660795c7",
   "metadata": {},
   "outputs": [],
   "source": []
  }
 ],
 "metadata": {
  "kernelspec": {
   "display_name": "Python 3 (ipykernel)",
   "language": "python",
   "name": "python3"
  },
  "language_info": {
   "codemirror_mode": {
    "name": "ipython",
    "version": 3
   },
   "file_extension": ".py",
   "mimetype": "text/x-python",
   "name": "python",
   "nbconvert_exporter": "python",
   "pygments_lexer": "ipython3",
   "version": "3.9.13"
  },
  "toc-autonumbering": true,
  "toc-showcode": false,
  "toc-showmarkdowntxt": false,
  "toc-showtags": false
 },
 "nbformat": 4,
 "nbformat_minor": 5
}
