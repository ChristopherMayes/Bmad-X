{
 "cells": [
  {
   "cell_type": "code",
   "execution_count": 1,
   "id": "7ca42451",
   "metadata": {
    "collapsed": false,
    "jupyter": {
     "outputs_hidden": false
    },
    "pycharm": {
     "name": "#%%\n"
    }
   },
   "outputs": [],
   "source": [
    "import numpy as np\n",
    "import torch\n",
    "from torch.autograd.functional import jacobian\n",
    "from torch.autograd.functional import hessian\n",
    "import matplotlib.pyplot as plt\n",
    "import time\n",
    "from kornia.enhance.histogram import histogram2d\n",
    "from bmadx.track import *\n",
    "tkwargs = {\n",
    "    \"dtype\" : torch.double\n",
    "}\n",
    "np.set_printoptions(precision= 16, suppress=False)\n",
    "torch.set_printoptions(precision= 16, sci_mode=True)\n",
    "torch.__version__, np.__version__\n",
    "%config InlineBackend.figure_format = 'retina'"
   ]
  },
  {
   "cell_type": "code",
   "execution_count": 2,
   "id": "6a0fb158",
   "metadata": {
    "collapsed": false,
    "jupyter": {
     "outputs_hidden": false
    },
    "pycharm": {
     "name": "#%%\n"
    }
   },
   "outputs": [],
   "source": [
    "c_light = 2.99792458e8 #speed of light in m/s\n",
    "m_e = 0.510998950e6 #electron mass in eV"
   ]
  },
  {
   "cell_type": "code",
   "execution_count": 3,
   "id": "d5b29685-817b-4aa1-9a17-63979050d0cf",
   "metadata": {},
   "outputs": [],
   "source": [
    "def torchquadrupole(L: torch.Tensor, K1: torch.Tensor, NUM_STEPS=1,\n",
    "                    X_OFFSET: torch.Tensor=torch.tensor(0.0,**tkwargs),\n",
    "                    Y_OFFSET: torch.Tensor=torch.tensor(0.0,**tkwargs),\n",
    "                    TILT: torch.Tensor=torch.tensor(0.0,**tkwargs)):\n",
    "    return Quadrupole(L=L, K1=K1, NUM_STEPS=NUM_STEPS, X_OFFSET=X_OFFSET,\n",
    "                     Y_OFFSET=Y_OFFSET, TILT=TILT)"
   ]
  },
  {
   "cell_type": "markdown",
   "id": "b009d153-8450-484a-9c61-f8c1fa9e36e6",
   "metadata": {},
   "source": [
    "# Offset estimation  \n",
    "\n",
    "\n",
    "In this example, we want to find the offsets of the quadrupoles in a beamline given the 2D beam profile downstream.  \n",
    "First, lets start by optimizing a quadrupole triple with random offsets: "
   ]
  },
  {
   "cell_type": "code",
   "execution_count": 4,
   "id": "25c42f52",
   "metadata": {
    "collapsed": false,
    "jupyter": {
     "outputs_hidden": false
    },
    "pycharm": {
     "name": "#%%\n"
    }
   },
   "outputs": [],
   "source": [
    "# Incoming particle\n",
    "s = 0.0 #initial s\n",
    "p0c = 4.0E+07 #Reference particle momentum in eV\n",
    "mc2 = 1*m_e # electron mass in eV\n",
    "ts = torch.tensor(s, **tkwargs)\n",
    "tp0c = torch.tensor(p0c, **tkwargs)\n",
    "pvec1 = [2e-3,3e-3,-3e-3,-1e-3,2e-3,-2e-3] \n",
    "tvec = torch.tensor(pvec1, **tkwargs)\n",
    "p_in = Particle(*tvec, s, tp0c, mc2)"
   ]
  },
  {
   "cell_type": "code",
   "execution_count": 5,
   "id": "8f126e83-e6cb-4708-bb4f-73b7d7493b76",
   "metadata": {},
   "outputs": [],
   "source": [
    "k1s_opt = np.array([-26.939869975743193,  14.286581926163615, -16.95284767969912 ])"
   ]
  },
  {
   "cell_type": "code",
   "execution_count": 6,
   "id": "65b69456-4dea-461e-bc5b-a40f62593436",
   "metadata": {},
   "outputs": [
    {
     "data": {
      "text/plain": [
       "[array([-32.32784397089183 ,  14.286581926163615, -16.95284767969912 ]),\n",
       " array([-26.939869975743193,  15.715240118779978, -16.95284767969912 ]),\n",
       " array([-26.939869975743193,  14.286581926163615, -20.34341721563894 ])]"
      ]
     },
     "execution_count": 6,
     "metadata": {},
     "output_type": "execute_result"
    }
   ],
   "source": [
    "# k1s used to get offsets. Each quadrupole strength is increased once from the optimal configuration. \n",
    "epsilon = 0.2 # strength change precentage\n",
    "k1s_tests = []\n",
    "for i in range(3):\n",
    "    k1s_tests.append(k1s_opt.copy())\n",
    "    \n",
    "k1s_tests[0][0]=k1s_opt[0]*(1+epsilon)\n",
    "k1s_tests[1][1]=k1s_opt[1]*(1+epsilon/2)\n",
    "k1s_tests[2][2]=k1s_opt[2]*(1+epsilon)\n",
    "\n",
    "k1s_tests"
   ]
  },
  {
   "cell_type": "code",
   "execution_count": 7,
   "id": "f54970e5",
   "metadata": {
    "collapsed": false,
    "jupyter": {
     "outputs_hidden": false
    },
    "pycharm": {
     "name": "#%%\n"
    }
   },
   "outputs": [],
   "source": [
    "def train_model(model, training_iter, alpha=0.1):\n",
    "    history_param = [None] * training_iter\n",
    "    history_loss = [None] * training_iter\n",
    "    # print the trainable parameters\n",
    "    for param in model.named_parameters():\n",
    "        print(f'{param[0]} : {param[1]}')\n",
    "    \n",
    "    # Use the adam optimizer\n",
    "    optimizer = torch.optim.Adam(model.parameters(), alpha)\n",
    "\n",
    "    for i in range(training_iter):\n",
    "        # Zero gradients from previous iteration\n",
    "        optimizer.zero_grad()\n",
    "        # Calc loss and backprop gradients\n",
    "        loss = model()  # loss is just O.F.\n",
    "        loss.backward()\n",
    "        if i%100==0: #print each 10 steps\n",
    "            print('Iter %d/%d - Loss: %.5f '% (\n",
    "                i + 1, training_iter, loss.item()*1e6\n",
    "            ))\n",
    "        #for param in model.parameters():\n",
    "        #    history_param[i] = param.data.detach().numpy().copy()\n",
    "        #for param in named_parameters():\n",
    "        testlist = list(model.named_parameters())\n",
    "        testdict = dict(testlist)\n",
    "        for param in testlist:\n",
    "            testdict[param[0]] = testdict[param[0]].data.detach().numpy().copy()\n",
    "        history_param[i] = testdict\n",
    "        history_loss[i] = loss.detach().numpy().copy()\n",
    "        optimizer.step()\n",
    "        \n",
    "    return np.asarray(history_param), np.asarray(history_loss)"
   ]
  },
  {
   "cell_type": "markdown",
   "id": "7196a9f2-ce0b-4774-995a-fd39fbc3e47f",
   "metadata": {},
   "source": [
    "## Ground truth offset"
   ]
  },
  {
   "cell_type": "code",
   "execution_count": 8,
   "id": "043086dc-2205-46eb-a18a-870eca98bbd9",
   "metadata": {},
   "outputs": [
    {
     "data": {
      "text/plain": [
       "(tensor([1.5409961082440433e-02, -2.9342890576094637e-03, -2.1787893820745575e-02],\n",
       "        dtype=torch.float64),\n",
       " tensor([5.6843127728066776e-03, -1.0845223424240210e-02, -1.3985953953708767e-02],\n",
       "        dtype=torch.float64))"
      ]
     },
     "execution_count": 8,
     "metadata": {},
     "output_type": "execute_result"
    }
   ],
   "source": [
    "# random ground truth offsets:\n",
    "torch.manual_seed(0)\n",
    "offsets_x_true = torch.normal(mean=0, std=1e-2, size=(3,), **tkwargs)\n",
    "offsets_y_true = torch.normal(mean=0, std=1e-2, size=(3,), **tkwargs)\n",
    "offsets_x_true, offsets_y_true"
   ]
  },
  {
   "cell_type": "markdown",
   "id": "2b864879-9f46-449d-a56f-9851a25f1c1f",
   "metadata": {},
   "source": [
    "\n",
    "## Finding offsets"
   ]
  },
  {
   "cell_type": "code",
   "execution_count": 9,
   "id": "801644c1-70e7-4a68-82b5-89e482bd40f4",
   "metadata": {},
   "outputs": [],
   "source": [
    "L_d = 1.00 # Drift length\n",
    "L_q = 0.1 # Quad length \n",
    "drift = Drift(L=L_d)\n",
    "\n",
    "# outgoing bunch with true offsets for each set of k1s\n",
    "p_out_tests = []\n",
    "for test in range(len(k1s_tests)):\n",
    "    k1s = k1s_tests[test]\n",
    "    lattice = [drift]\n",
    "    for i in range(len(k1s)):\n",
    "        lattice.append( torchquadrupole(L=L_q, K1=k1s[i], X_OFFSET=offsets_x_true[i],\n",
    "                                  Y_OFFSET=offsets_y_true[i]) )\n",
    "        lattice.append( drift )\n",
    "    p_out_tests.append( track_a_lattice(p_in, lattice)[-1] )\n",
    "    \n",
    "def get_centroid_diff(k1s, offsets_x, offsets_y, p_out_test, bandwidth=torch.tensor(1e-3)):\n",
    "    # Lattice fixed parameters\n",
    "    L_d = 1.00 # Drift length\n",
    "    L_q = 0.1 # Quad length \n",
    "    drift = Drift(L=L_d)\n",
    "    lattice = [drift]\n",
    "    for i in range(len(k1s)):\n",
    "        lattice.append( torchquadrupole(L=L_q, K1=k1s[i], X_OFFSET=offsets_x[i],\n",
    "                                  Y_OFFSET=offsets_y[i]) )\n",
    "        lattice.append( drift )\n",
    "    p_out = track_a_lattice(p_in, lattice)[-1]\n",
    "    centroid_diff = torch.sqrt( (p_out.x-p_out_test.x)**2 + (p_out.y-p_out_test.y)**2 )\n",
    "    return centroid_diff\n",
    "\n",
    "\n",
    "class OffsetModel2(torch.nn.Module):\n",
    "    \"\"\"Beam size torch module.\"\"\"\n",
    "    def __init__(self, k1s_tests, offsets_x, offsets_y):\n",
    "        super().__init__()\n",
    "        self.k1s_tests = k1s_tests\n",
    "        self.register_parameter('offsets_x',torch.nn.Parameter(offsets_x))\n",
    "        self.register_parameter('offsets_y',torch.nn.Parameter(offsets_y))\n",
    "    def forward(self):\n",
    "        centroid_diff_sum=0\n",
    "        for i in range(len(k1s_tests)):\n",
    "            centroid_diff_sum+=get_centroid_diff(self.k1s_tests[i], self.offsets_x, self.offsets_y, p_out_tests[i])**2\n",
    "\n",
    "            #mse\n",
    "        centroid_diff_sum=torch.sqrt(centroid_diff_sum/len(k1s_tests))\n",
    "        return centroid_diff_sum"
   ]
  },
  {
   "cell_type": "code",
   "execution_count": 10,
   "id": "c06827f6-dd6f-469e-a132-9e689de5fa3c",
   "metadata": {},
   "outputs": [
    {
     "name": "stdout",
     "output_type": "stream",
     "text": [
      "offsets_x : Parameter containing:\n",
      "tensor([0., 0., 0.], dtype=torch.float64, requires_grad=True)\n",
      "offsets_y : Parameter containing:\n",
      "tensor([0., 0., 0.], dtype=torch.float64, requires_grad=True)\n",
      "Iter 1/5000 - Loss: 41459.08004 \n",
      "Iter 101/5000 - Loss: 3788.92192 \n",
      "Iter 201/5000 - Loss: 1542.37966 \n",
      "Iter 301/5000 - Loss: 839.05502 \n",
      "Iter 401/5000 - Loss: 324.16689 \n",
      "Iter 501/5000 - Loss: 149.13387 \n",
      "Iter 601/5000 - Loss: 125.85125 \n",
      "Iter 701/5000 - Loss: 114.89419 \n",
      "Iter 801/5000 - Loss: 107.18202 \n",
      "Iter 901/5000 - Loss: 99.56773 \n",
      "Iter 1001/5000 - Loss: 91.87425 \n",
      "Iter 1101/5000 - Loss: 84.23389 \n",
      "Iter 1201/5000 - Loss: 76.92007 \n",
      "Iter 1301/5000 - Loss: 70.99463 \n",
      "Iter 1401/5000 - Loss: 65.39169 \n",
      "Iter 1501/5000 - Loss: 60.45084 \n",
      "Iter 1601/5000 - Loss: 56.27297 \n",
      "Iter 1701/5000 - Loss: 52.66720 \n",
      "Iter 1801/5000 - Loss: 49.61769 \n",
      "Iter 1901/5000 - Loss: 46.99665 \n",
      "Iter 2001/5000 - Loss: 44.78109 \n",
      "Iter 2101/5000 - Loss: 42.88290 \n",
      "Iter 2201/5000 - Loss: 41.27761 \n",
      "Iter 2301/5000 - Loss: 39.89709 \n",
      "Iter 2401/5000 - Loss: 38.71025 \n",
      "Iter 2501/5000 - Loss: 37.68523 \n",
      "Iter 2601/5000 - Loss: 36.79708 \n",
      "Iter 2701/5000 - Loss: 36.02707 \n",
      "Iter 2801/5000 - Loss: 35.35753 \n",
      "Iter 2901/5000 - Loss: 34.77436 \n",
      "Iter 3001/5000 - Loss: 34.26609 \n",
      "Iter 3101/5000 - Loss: 33.82311 \n",
      "Iter 3201/5000 - Loss: 33.43755 \n",
      "Iter 3301/5000 - Loss: 33.10307 \n",
      "Iter 3401/5000 - Loss: 32.81467 \n",
      "Iter 3501/5000 - Loss: 32.56862 \n",
      "Iter 3601/5000 - Loss: 32.36237 \n",
      "Iter 3701/5000 - Loss: 32.19458 \n",
      "Iter 3801/5000 - Loss: 32.06511 \n",
      "Iter 3901/5000 - Loss: 31.97514 \n",
      "Iter 4001/5000 - Loss: 31.92723 \n",
      "Iter 4101/5000 - Loss: 31.92537 \n",
      "Iter 4201/5000 - Loss: 31.97514 \n",
      "Iter 4301/5000 - Loss: 32.08360 \n",
      "Iter 4401/5000 - Loss: 32.25925 \n",
      "Iter 4501/5000 - Loss: 32.51173 \n",
      "Iter 4601/5000 - Loss: 32.85139 \n",
      "Iter 4701/5000 - Loss: 33.28870 \n",
      "Iter 4801/5000 - Loss: 33.83350 \n",
      "Iter 4901/5000 - Loss: 34.49421 \n",
      "CPU times: user 2min 5s, sys: 64.9 ms, total: 2min 5s\n",
      "Wall time: 2min 5s\n"
     ]
    }
   ],
   "source": [
    "%%time\n",
    "# Initial offsets\n",
    "offsets_x = torch.zeros(3,**tkwargs)\n",
    "offsets_y = torch.zeros(3,**tkwargs)\n",
    "#offsets_x = offsets_x_pred\n",
    "# Optimization\n",
    "model2 = OffsetModel2(k1s_tests, offsets_x, offsets_y)\n",
    "params2, loss2 = train_model(model2, 5000, 1e-4)"
   ]
  },
  {
   "cell_type": "code",
   "execution_count": 11,
   "id": "aeb2ce2d-b957-49ba-834d-9e718aaefbad",
   "metadata": {},
   "outputs": [],
   "source": [
    "offsets_x_iter = np.array([par['offsets_x'] for par in params2])\n",
    "offsets_y_iter = np.array([par['offsets_y'] for par in params2])\n",
    "n_iter = np.arange(len(offsets_x_iter))\n",
    "#offsets_x_iter"
   ]
  },
  {
   "cell_type": "code",
   "execution_count": 56,
   "id": "445292b7-50c2-4f78-b761-00bb2c724dbe",
   "metadata": {},
   "outputs": [
    {
     "data": {
      "image/png": "[encoded data removed]",
      "text/plain": [
       "<Figure size 360x504 with 2 Axes>"
      ]
     },
     "metadata": {
      "image/png": {
       "height": 425,
       "width": 436
      },
      "needs_background": "light"
     },
     "output_type": "display_data"
    }
   ],
   "source": [
    "prop_cycle = plt.rcParams['axes.prop_cycle']\n",
    "colors = prop_cycle.by_key()['color']\n",
    "fig, ax = plt.subplots(2,1,figsize=(5,7))\n",
    "for i in range(len(k1s_opt)):\n",
    "    ax[0].plot(n_iter, offsets_x_iter[:,i]*1e3, color=colors[i], label=f'$r_{{{i+1},x}}$')\n",
    "    ax[0].plot(n_iter, offsets_y_iter[:,i]*1e3, color=colors[i+3], label=f'$r_{{{i+1},y}}$')\n",
    "    ax[0].axhline(offsets_x_true[i]*1e3, color=colors[i], linestyle='--')\n",
    "    ax[0].axhline(offsets_y_true[i]*1e3, color=colors[i+3], linestyle='--')\n",
    "\n",
    "ax[0].plot([0], [0],color='black',linestyle='--', label='true offsets')\n",
    "ax[0].legend(bbox_to_anchor=(1, 1))\n",
    "ax[0].set_ylabel(r'offsets (mm)')\n",
    "ax[1].plot(n_iter, loss2)\n",
    "ax[1].set_yscale('log')\n",
    "ax[1].set_ylabel(r'loss')\n",
    "ax[1].set_xlabel('n_iter')\n",
    "plt.savefig('6offsets.png', dpi=300, bbox_inches='tight')"
   ]
  },
  {
   "cell_type": "code",
   "execution_count": 13,
   "id": "d88b8652-affe-4518-8997-4d27635a4f90",
   "metadata": {},
   "outputs": [
    {
     "data": {
      "text/plain": [
       "(tensor([1.5407729893922806e-02, -2.9320884495973587e-03, -2.1790361031889915e-02]),\n",
       " tensor([1.5409961082440433e-02, -2.9342890576094637e-03, -2.1787893820745575e-02],\n",
       "        dtype=torch.float64))"
      ]
     },
     "execution_count": 13,
     "metadata": {},
     "output_type": "execute_result"
    }
   ],
   "source": [
    "(torch.tensor(params2[-1]['offsets_x'].data), offsets_x_true)"
   ]
  },
  {
   "cell_type": "code",
   "execution_count": 14,
   "id": "43e861d6-5b85-4c80-8b5a-abbf6a3e8ae8",
   "metadata": {},
   "outputs": [
    {
     "data": {
      "text/plain": [
       "(tensor([5.6944717653095722e-03, -1.0805605910718441e-02, -1.3976904563605785e-02]),\n",
       " tensor([5.6843127728066776e-03, -1.0845223424240210e-02, -1.3985953953708767e-02],\n",
       "        dtype=torch.float64))"
      ]
     },
     "execution_count": 14,
     "metadata": {},
     "output_type": "execute_result"
    }
   ],
   "source": [
    "(torch.tensor(params2[-1]['offsets_y'].data), offsets_y_true)"
   ]
  },
  {
   "cell_type": "code",
   "execution_count": null,
   "id": "525caee3-e200-475e-b0fc-1037bd02dc05",
   "metadata": {},
   "outputs": [],
   "source": []
  },
  {
   "cell_type": "code",
   "execution_count": null,
   "id": "5c7c61c6-b09e-47fc-a0f3-1b53e6b93748",
   "metadata": {},
   "outputs": [],
   "source": []
  },
  {
   "cell_type": "code",
   "execution_count": null,
   "id": "6feec16a-9c31-4c7e-af0d-5508b1a4ebf9",
   "metadata": {},
   "outputs": [],
   "source": []
  }
 ],
 "metadata": {
  "kernelspec": {
   "display_name": "Python 3 (ipykernel)",
   "language": "python",
   "name": "python3"
  },
  "language_info": {
   "codemirror_mode": {
    "name": "ipython",
    "version": 3
   },
   "file_extension": ".py",
   "mimetype": "text/x-python",
   "name": "python",
   "nbconvert_exporter": "python",
   "pygments_lexer": "ipython3",
   "version": "3.9.13"
  },
  "toc-autonumbering": true,
  "toc-showcode": false,
  "toc-showmarkdowntxt": false,
  "toc-showtags": false
 },
 "nbformat": 4,
 "nbformat_minor": 5
}
