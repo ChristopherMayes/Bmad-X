{
 "cells": [
  {
   "cell_type": "code",
   "execution_count": 1,
   "id": "298804f1-d7e0-4114-b861-e134cd1ce2ee",
   "metadata": {},
   "outputs": [],
   "source": [
    "# Useful for debugging\n",
    "%load_ext autoreload\n",
    "%autoreload 2\n",
    "\n",
    "%config InlineBackend.figure_format = 'retina'"
   ]
  },
  {
   "cell_type": "markdown",
   "id": "cfe2f3e6-ab7f-4493-8ca4-acd56731bc0b",
   "metadata": {
    "tags": []
   },
   "source": [
    "# Tracking through elements with autodiff"
   ]
  },
  {
   "cell_type": "code",
   "execution_count": 2,
   "id": "8af3d886-d3bd-4e34-9556-d645ee9f761e",
   "metadata": {
    "tags": []
   },
   "outputs": [
    {
     "data": {
      "text/plain": [
       "('1.12.1', '1.22.4')"
      ]
     },
     "execution_count": 2,
     "metadata": {},
     "output_type": "execute_result"
    }
   ],
   "source": [
    "import numpy as np\n",
    "import torch\n",
    "from torch.autograd.functional import jacobian\n",
    "from torch.autograd.functional import hessian\n",
    "from pytao import Tao\n",
    "import matplotlib.pyplot as plt\n",
    "import numdifftools as nd\n",
    "from bmadx.track import *\n",
    "tkwargs = {\n",
    "    \"dtype\" : torch.double\n",
    "}\n",
    "import time\n",
    "np.set_printoptions(precision= 16, suppress=False)\n",
    "torch.set_printoptions(precision= 16, sci_mode=True)\n",
    "torch.__version__, np.__version__"
   ]
  },
  {
   "cell_type": "code",
   "execution_count": 4,
   "id": "eea44adf-8200-4ae0-ac9b-17045d270c2f",
   "metadata": {},
   "outputs": [],
   "source": [
    "from bmadx.track_a_bend import make_track_a_sbend_parts, Sbend, make_track_a_bend"
   ]
  },
  {
   "cell_type": "code",
   "execution_count": 5,
   "id": "75849dda-45a9-477f-8940-b64dd8a15b5f",
   "metadata": {},
   "outputs": [
    {
     "data": {
      "text/plain": [
       "'/global/cfs/cdirs/m669/wlou1991/GitHub/Bmad-X'"
      ]
     },
     "execution_count": 5,
     "metadata": {},
     "output_type": "execute_result"
    }
   ],
   "source": [
    "from pathlib import Path\n",
    "\n",
    "def find_repo(path):\n",
    "    \"Find repository root from the path's parents\"\n",
    "    for path in Path(path).parents:\n",
    "        # Check whether \"path/.git\" exists and is a directory\n",
    "        git_dir = path / \".git\"\n",
    "        if git_dir.is_dir():\n",
    "            return path\n",
    "\n",
    "import os\n",
    "nb_dir = os.getcwd()\n",
    "# Find the repo root where the script is\n",
    "repo_path = str(find_repo(nb_dir))\n",
    "repo_path"
   ]
  },
  {
   "cell_type": "markdown",
   "id": "4195b788-22c6-4f75-bb00-a417cf041292",
   "metadata": {
    "tags": []
   },
   "source": [
    "# Constants"
   ]
  },
  {
   "cell_type": "code",
   "execution_count": 10,
   "id": "c3f66538-b1d3-448d-a15b-82cae88067f6",
   "metadata": {
    "tags": []
   },
   "outputs": [],
   "source": [
    "c_light = 2.99792458e8 #speed of light in m/s\n",
    "m_e = 0.510998950e6 #electron mass in eV"
   ]
  },
  {
   "cell_type": "markdown",
   "id": "54b4e261-239e-404b-a14e-7172cd413257",
   "metadata": {},
   "source": [
    "# Bend test (body only)"
   ]
  },
  {
   "cell_type": "code",
   "execution_count": 6,
   "id": "f6166199-e6d2-4dca-9e48-bcc149093e9e",
   "metadata": {},
   "outputs": [],
   "source": [
    "\n",
    "T0 = torch.tensor(0.0, dtype=torch.float64)\n",
    "def torchbend(L: torch.Tensor, P0C: torch.Tensor, G:torch.Tensor,\n",
    "              DG=T0, E1=T0, E2=T0, F_INT=T0, H_GAP=T0, F_INT_X=T0, H_GAP_X=T0, FRINGE_AT=\"both_ends\", FRINGE_TYPE=\"none\"): \n",
    "    \n",
    "    return Sbend(L=L, P0C=P0C, G=G, DG=DG, E1=E1, E2=E2, F_INT=F_INT, H_GAP=H_GAP, F_INT_X=F_INT_X, H_GAP_X=H_GAP_X, FRINGE_AT=FRINGE_AT, FRINGE_TYPE=FRINGE_TYPE)"
   ]
  },
  {
   "cell_type": "code",
   "execution_count": 7,
   "id": "ebc99a67-9e4a-4aa2-94cf-5c69fa6f3bc0",
   "metadata": {},
   "outputs": [
    {
     "data": {
      "text/plain": [
       "Sbend(L=tensor(1.0000000000000001e-01, dtype=torch.float64), P0C=tensor(4.0000000000000000e+07, dtype=torch.float64), G=tensor(5.0000000000000000e-01, dtype=torch.float64), DG=tensor(0., dtype=torch.float64), E1=tensor(0., dtype=torch.float64), E2=tensor(0., dtype=torch.float64), F_INT=tensor(0., dtype=torch.float64), H_GAP=tensor(0., dtype=torch.float64), F_INT_X=tensor(0., dtype=torch.float64), H_GAP_X=tensor(0., dtype=torch.float64), FRINGE_AT='both_ends', FRINGE_TYPE='none')"
      ]
     },
     "execution_count": 7,
     "metadata": {},
     "output_type": "execute_result"
    }
   ],
   "source": [
    "# Create bend\n",
    "L = 0.1 #Length in m\n",
    "P0C = 4.0E+07\n",
    "G = 0.5 #\n",
    "DG = 0.0\n",
    "E1 = 0.0\n",
    "E2=0.0\n",
    "F_INT = 0\n",
    "H_GAP = 0\n",
    "F_INT_X = 0\n",
    "H_GAP_X = 0\n",
    "\n",
    "b1 = torchbend(L=torch.tensor(L, **tkwargs), P0C=torch.tensor(P0C, **tkwargs), G=torch.tensor(G, **tkwargs),\n",
    "               DG=torch.tensor(DG, **tkwargs), E1=torch.tensor(E1, **tkwargs), E2=torch.tensor(E2, **tkwargs), \n",
    "               F_INT=torch.tensor(F_INT, **tkwargs), H_GAP=torch.tensor(H_GAP, **tkwargs),\n",
    "               F_INT_X=torch.tensor(F_INT_X, **tkwargs), H_GAP_X=torch.tensor(H_GAP_X, **tkwargs))\n",
    "\n",
    "#q1 = torchquadrupole(L=torch.tensor(L, **tkwargs), K1=torch.tensor(K1, **tkwargs))\n",
    "#q1\n",
    "\n",
    "b1"
   ]
  },
  {
   "cell_type": "code",
   "execution_count": 11,
   "id": "0a8c44e8-e84b-4d6b-a1b2-0f5170325588",
   "metadata": {},
   "outputs": [
    {
     "data": {
      "text/plain": [
       "Particle(x=tensor(2.0000000000000000e-03, dtype=torch.float64, grad_fn=<UnbindBackward0>), px=tensor(3.0000000000000001e-03, dtype=torch.float64, grad_fn=<UnbindBackward0>), y=tensor(-3.0000000000000001e-03, dtype=torch.float64, grad_fn=<UnbindBackward0>), py=tensor(-1.0000000000000000e-03, dtype=torch.float64, grad_fn=<UnbindBackward0>), z=tensor(2.0000000000000000e-03, dtype=torch.float64, grad_fn=<UnbindBackward0>), pz=tensor(-2.0000000000000000e-03, dtype=torch.float64, grad_fn=<UnbindBackward0>), s=tensor(0., dtype=torch.float64), p0c=tensor(4.0000000000000000e+07, dtype=torch.float64), mc2=tensor( 5.1099895000000001e+05, dtype=torch.float64))"
      ]
     },
     "execution_count": 11,
     "metadata": {},
     "output_type": "execute_result"
    }
   ],
   "source": [
    "# Incoming particle\n",
    "s = 0.0 #initial s\n",
    "p0c = 4.0E+07 #Reference particle momentum in eV\n",
    "mc2 = 1*m_e # electron mass in eV\n",
    "ts = torch.tensor(s, **tkwargs)\n",
    "tp0c = torch.tensor(p0c, **tkwargs)\n",
    "tmc2 = torch.tensor(mc2, **tkwargs)\n",
    "pvec1 = [2e-3,3e-3,-3e-3,-1e-3,2e-3,-2e-3] \n",
    "tvec1 = torch.tensor(pvec1, requires_grad=True, **tkwargs)\n",
    "p_in = Particle(*tvec1,ts, tp0c, tmc2)\n",
    "p_in"
   ]
  },
  {
   "cell_type": "code",
   "execution_count": 12,
   "id": "8a4e536a-34bd-41cc-bed2-ae436bd76844",
   "metadata": {},
   "outputs": [
    {
     "data": {
      "text/plain": [
       "tensor([2.2932657894090434e-03, 2.8460628761045078e-03, -3.1003084927086113e-03,\n",
       "        -1.0000000000000000e-03, 1.8920915439913782e-03, -2.0000000000000018e-03],\n",
       "       dtype=torch.float64)"
      ]
     },
     "execution_count": 12,
     "metadata": {},
     "output_type": "execute_result"
    }
   ],
   "source": [
    "# create track_a_quadrupole_torch\n",
    "track_a_bend_torch = make_track_a_sbend_parts(torch)[0]\n",
    "# Outgoing particle\n",
    "p_out = track_a_bend_torch(p_in, b1)\n",
    "x_py = torch.hstack(p_out[:6]).detach()\n",
    "x_py"
   ]
  },
  {
   "cell_type": "code",
   "execution_count": 13,
   "id": "a182d480-f438-4985-b0ad-cea3e5f8019f",
   "metadata": {},
   "outputs": [],
   "source": [
    "# Bmad lattice to compare\n",
    "tao = Tao('-lat '+repo_path+'/tests/bmad_lattices/test_bend.bmad -noplot')\n",
    "tao.cmd('set particle_start x='+str(pvec1[0]))\n",
    "tao.cmd('set particle_start px='+str(pvec1[1]))\n",
    "tao.cmd('set particle_start y='+str(pvec1[2]))\n",
    "tao.cmd('set particle_start py='+str(pvec1[3]))\n",
    "tao.cmd('set particle_start z='+str(pvec1[4]))\n",
    "tao.cmd('set particle_start pz='+str(pvec1[5]))\n",
    "orbit_out = tao.orbit_at_s(ele=1)"
   ]
  },
  {
   "cell_type": "code",
   "execution_count": 14,
   "id": "d861df7c-98f9-470d-b40c-b5c273624063",
   "metadata": {},
   "outputs": [
    {
     "data": {
      "text/plain": [
       "tensor([2.2932657894089701e-03, 2.8460628761047199e-03, -3.1003084927086100e-03,\n",
       "        -1.0000000000000000e-03, 1.8920915439913800e-03, -2.0000000000000000e-03],\n",
       "       dtype=torch.float64)"
      ]
     },
     "execution_count": 14,
     "metadata": {},
     "output_type": "execute_result"
    }
   ],
   "source": [
    "# Bmad outgoing particle\n",
    "x_tao = torch.tensor([orbit_out['x'],orbit_out['px'],orbit_out['y'],orbit_out['py'],orbit_out['z'],orbit_out['pz']],**tkwargs)\n",
    "x_tao"
   ]
  },
  {
   "cell_type": "code",
   "execution_count": 15,
   "id": "822f951c-5c00-4da2-884f-67530acc2df9",
   "metadata": {},
   "outputs": [
    {
     "data": {
      "text/plain": [
       "True"
      ]
     },
     "execution_count": 15,
     "metadata": {},
     "output_type": "execute_result"
    }
   ],
   "source": [
    "# close to Tao result?\n",
    "torch.allclose(x_py, x_tao,  atol=1e-12, rtol = 1e-10)"
   ]
  },
  {
   "cell_type": "markdown",
   "id": "e148159f-db4c-471f-abb0-edab681c0fd5",
   "metadata": {},
   "source": [
    "# Bend test with hard entrance fringe"
   ]
  },
  {
   "cell_type": "code",
   "execution_count": 33,
   "id": "111e81a5-b3de-4df1-a002-d4440aa27bca",
   "metadata": {},
   "outputs": [
    {
     "data": {
      "text/plain": [
       "Sbend(L=tensor(1.0000000000000001e-01, dtype=torch.float64), P0C=tensor(4.0000000000000000e+07, dtype=torch.float64), G=tensor(5.0000000000000000e-01, dtype=torch.float64), DG=tensor(0., dtype=torch.float64), E1=tensor(2.0000000000000000e-02, dtype=torch.float64), E2=tensor(0., dtype=torch.float64), F_INT=tensor(0., dtype=torch.float64), H_GAP=tensor(0., dtype=torch.float64), F_INT_X=tensor(0., dtype=torch.float64), H_GAP_X=tensor(0., dtype=torch.float64), FRINGE_AT='entrance_end', FRINGE_TYPE='hard_edge_only')"
      ]
     },
     "execution_count": 33,
     "metadata": {},
     "output_type": "execute_result"
    }
   ],
   "source": [
    "# Create bend\n",
    "L = 0.1 #Length in m\n",
    "P0C = 4.0E+07\n",
    "G = 0.5 #\n",
    "DG = 0.0\n",
    "E1 = 0.02\n",
    "E2 = 0.0\n",
    "F_INT = 0.0\n",
    "H_GAP = 0.00\n",
    "F_INT_X = 0\n",
    "H_GAP_X = 0\n",
    "FRINGE_AT=\"entrance_end\"\n",
    "FRINGE_TYPE=\"hard_edge_only\"\n",
    "\n",
    "b1 = torchbend(L=torch.tensor(L, **tkwargs), P0C=torch.tensor(P0C, **tkwargs), G=torch.tensor(G, **tkwargs),\n",
    "               DG=torch.tensor(DG, **tkwargs), E1=torch.tensor(E1, **tkwargs), E2=torch.tensor(E2, **tkwargs), \n",
    "               F_INT=torch.tensor(F_INT, **tkwargs), H_GAP=torch.tensor(H_GAP, **tkwargs),\n",
    "               F_INT_X=torch.tensor(F_INT_X, **tkwargs), H_GAP_X=torch.tensor(H_GAP_X, **tkwargs),\n",
    "               FRINGE_AT=FRINGE_AT, FRINGE_TYPE=FRINGE_TYPE)\n",
    "\n",
    "#q1 = torchquadrupole(L=torch.tensor(L, **tkwargs), K1=torch.tensor(K1, **tkwargs))\n",
    "#q1\n",
    "\n",
    "b1"
   ]
  },
  {
   "cell_type": "code",
   "execution_count": 34,
   "id": "24396d93-65d1-4562-bb77-74e5407c07f5",
   "metadata": {},
   "outputs": [
    {
     "data": {
      "text/plain": [
       "tensor([2.2975263173630770e-03, 2.8660060118351721e-03, -3.0968476853891649e-03,\n",
       "        -9.6548477632703083e-04, 1.8919193806374857e-03, -2.0000000000000018e-03],\n",
       "       dtype=torch.float64)"
      ]
     },
     "execution_count": 34,
     "metadata": {},
     "output_type": "execute_result"
    }
   ],
   "source": [
    "track_a_bend_torch = make_track_a_bend(torch)\n",
    "# Outgoing particle\n",
    "p_out = track_a_bend_torch(p_in, b1)\n",
    "x_py = torch.hstack(p_out[:6]).detach()\n",
    "x_py"
   ]
  },
  {
   "cell_type": "code",
   "execution_count": 35,
   "id": "118173c0-86f3-4833-aea4-05f9346b25f2",
   "metadata": {},
   "outputs": [
    {
     "data": {
      "text/plain": [
       "tensor([2.2975263173630770e-03, 2.8660060118351721e-03, -3.0968476853891649e-03,\n",
       "        -9.6548477632703083e-04, 1.8919193806374857e-03, -2.0000000000000018e-03],\n",
       "       dtype=torch.float64)"
      ]
     },
     "execution_count": 35,
     "metadata": {},
     "output_type": "execute_result"
    }
   ],
   "source": [
    "track_a_bend_torch = make_track_a_bend(torch)\n",
    "# Outgoing particle\n",
    "p_out = track_a_bend_torch(p_in, b1)\n",
    "x_py = torch.hstack(p_out[:6]).detach()\n",
    "x_py"
   ]
  },
  {
   "cell_type": "code",
   "execution_count": 36,
   "id": "1f697258-8488-46f2-834d-2fea68ee4427",
   "metadata": {},
   "outputs": [
    {
     "data": {
      "text/plain": [
       "tensor([2.2975263173630770e-03, 2.8660060118351721e-03, -3.0968476853891649e-03,\n",
       "        -9.6548477632703083e-04, 1.8919193806374857e-03, -2.0000000000000018e-03],\n",
       "       dtype=torch.float64)"
      ]
     },
     "execution_count": 36,
     "metadata": {},
     "output_type": "execute_result"
    }
   ],
   "source": [
    "track_a_bend_torch = make_track_a_bend(torch)\n",
    "# Outgoing particle\n",
    "p_out = track_a_bend_torch(p_in, b1)\n",
    "x_py = torch.hstack(p_out[:6]).detach()\n",
    "x_py"
   ]
  },
  {
   "cell_type": "code",
   "execution_count": 37,
   "id": "8babe12e-8481-4bf1-bf05-5b4e7d187bee",
   "metadata": {},
   "outputs": [],
   "source": [
    "# Bmad lattice to compare\n",
    "tao = Tao('-lat '+repo_path+'/tests/bmad_lattices/test_bend_hard_ent.bmad -noplot')\n",
    "tao.cmd('set particle_start x='+str(pvec1[0]))\n",
    "tao.cmd('set particle_start px='+str(pvec1[1]))\n",
    "tao.cmd('set particle_start y='+str(pvec1[2]))\n",
    "tao.cmd('set particle_start py='+str(pvec1[3]))\n",
    "tao.cmd('set particle_start z='+str(pvec1[4]))\n",
    "tao.cmd('set particle_start pz='+str(pvec1[5]))\n",
    "orbit_out = tao.orbit_at_s(ele=1)"
   ]
  },
  {
   "cell_type": "code",
   "execution_count": 38,
   "id": "18e485f6-8255-4c6e-a44b-80fc7260621e",
   "metadata": {},
   "outputs": [
    {
     "data": {
      "text/plain": [
       "tensor([2.2975263173629999e-03, 2.8660060118351699e-03, -3.0968476853891602e-03,\n",
       "        -9.6548477632703105e-04, 1.8919329414281700e-03, -2.0000000000000000e-03],\n",
       "       dtype=torch.float64)"
      ]
     },
     "execution_count": 38,
     "metadata": {},
     "output_type": "execute_result"
    }
   ],
   "source": [
    "# Bmad outgoing particle\n",
    "x_tao = torch.tensor([orbit_out['x'],orbit_out['px'],orbit_out['y'],orbit_out['py'],orbit_out['z'],orbit_out['pz']],**tkwargs)\n",
    "x_tao"
   ]
  },
  {
   "cell_type": "code",
   "execution_count": 39,
   "id": "d8d14f51-33bb-44d6-a0af-a0eb8350680e",
   "metadata": {},
   "outputs": [
    {
     "data": {
      "text/plain": [
       "True"
      ]
     },
     "execution_count": 39,
     "metadata": {},
     "output_type": "execute_result"
    }
   ],
   "source": [
    "# close to Tao result?\n",
    "torch.allclose(x_py, x_tao)"
   ]
  },
  {
   "cell_type": "code",
   "execution_count": 40,
   "id": "c7c1d69f-936b-47c1-bd86-893e0ff599e4",
   "metadata": {},
   "outputs": [
    {
     "data": {
      "text/plain": [
       "False"
      ]
     },
     "execution_count": 40,
     "metadata": {},
     "output_type": "execute_result"
    }
   ],
   "source": [
    "# close to Tao result?\n",
    "torch.allclose(x_py, x_tao, atol=1e-12, rtol = 1e-9)"
   ]
  },
  {
   "cell_type": "markdown",
   "id": "7f96c1e0-3a9e-4018-b4da-b49a94fea716",
   "metadata": {},
   "source": [
    "# Bend test with hard exit fringe"
   ]
  },
  {
   "cell_type": "code",
   "execution_count": 22,
   "id": "7d2174ec-5086-46d7-aaea-11e9f7e94b14",
   "metadata": {},
   "outputs": [
    {
     "data": {
      "text/plain": [
       "Sbend(L=tensor(1.0000000000000001e-01, dtype=torch.float64), P0C=tensor(4.0000000000000000e+07, dtype=torch.float64), G=tensor(5.0000000000000000e-01, dtype=torch.float64), DG=tensor(0., dtype=torch.float64), E1=tensor(0., dtype=torch.float64), E2=tensor(2.0000000000000000e-02, dtype=torch.float64), F_INT=tensor(0., dtype=torch.float64), H_GAP=tensor(0., dtype=torch.float64), F_INT_X=tensor(0., dtype=torch.float64), H_GAP_X=tensor(0., dtype=torch.float64), FRINGE_AT='exit_end', FRINGE_TYPE='hard_edge_only')"
      ]
     },
     "execution_count": 22,
     "metadata": {},
     "output_type": "execute_result"
    }
   ],
   "source": [
    "# Create bend\n",
    "L = 0.1 #Length in m\n",
    "P0C = 4.0E+07\n",
    "G = 0.5 #\n",
    "DG = 0.0\n",
    "E1 = 0.0\n",
    "E2 = 0.02\n",
    "F_INT = 0.00\n",
    "H_GAP = 0.0\n",
    "F_INT_X = 0\n",
    "H_GAP_X = 0\n",
    "FRINGE_AT=\"exit_end\"\n",
    "FRINGE_TYPE=\"hard_edge_only\"\n",
    "\n",
    "b1 = torchbend(L=torch.tensor(L, **tkwargs), P0C=torch.tensor(P0C, **tkwargs), G=torch.tensor(G, **tkwargs),\n",
    "               DG=torch.tensor(DG, **tkwargs), E1=torch.tensor(E1, **tkwargs), E2=torch.tensor(E2, **tkwargs), \n",
    "               F_INT=torch.tensor(F_INT, **tkwargs), H_GAP=torch.tensor(H_GAP, **tkwargs),\n",
    "               F_INT_X=torch.tensor(F_INT_X, **tkwargs), H_GAP_X=torch.tensor(H_GAP_X, **tkwargs),\n",
    "               FRINGE_AT=FRINGE_AT, FRINGE_TYPE=FRINGE_TYPE)\n",
    "\n",
    "#q1 = torchquadrupole(L=torch.tensor(L, **tkwargs), K1=torch.tensor(K1, **tkwargs))\n",
    "#q1\n",
    "\n",
    "b1"
   ]
  },
  {
   "cell_type": "code",
   "execution_count": 24,
   "id": "3977efe4-db14-4b1d-ade3-1beda0c9d8d1",
   "metadata": {},
   "outputs": [
    {
     "data": {
      "text/plain": [
       "tensor([2.2908575593608778e-03, 2.8689978904183678e-03, -3.1003070675126618e-03,\n",
       "        -9.7345132631462112e-04, 1.8920984408056099e-03, -2.0000000000000018e-03],\n",
       "       dtype=torch.float64)"
      ]
     },
     "execution_count": 24,
     "metadata": {},
     "output_type": "execute_result"
    }
   ],
   "source": [
    "track_a_bend_torch = make_track_a_bend(torch)\n",
    "# Outgoing particle\n",
    "p_out = track_a_bend_torch(p_in, b1)\n",
    "x_py = torch.hstack(p_out[:6]).detach()\n",
    "x_py"
   ]
  },
  {
   "cell_type": "code",
   "execution_count": 25,
   "id": "98ba2d8c-2701-4853-8644-2ceddfc7395b",
   "metadata": {},
   "outputs": [],
   "source": [
    "# Bmad lattice to compare\n",
    "tao = Tao('-lat '+repo_path+'/tests/bmad_lattices/test_bend_hard_exit.bmad -noplot')\n",
    "tao.cmd('set particle_start x='+str(pvec1[0]))\n",
    "tao.cmd('set particle_start px='+str(pvec1[1]))\n",
    "tao.cmd('set particle_start y='+str(pvec1[2]))\n",
    "tao.cmd('set particle_start py='+str(pvec1[3]))\n",
    "tao.cmd('set particle_start z='+str(pvec1[4]))\n",
    "tao.cmd('set particle_start pz='+str(pvec1[5]))\n",
    "\n",
    "#tao.cmd('set ele b1 fintx = 0.8')\n",
    "\n",
    "orbit_out = tao.orbit_at_s(ele=1)"
   ]
  },
  {
   "cell_type": "code",
   "execution_count": 15,
   "id": "a7374344-7f40-4dfc-8016-c6fd9e1948ed",
   "metadata": {},
   "outputs": [],
   "source": [
    "#%%tao\n",
    "#set ele b1 fint = 0.5\n",
    "#sho ele b1"
   ]
  },
  {
   "cell_type": "code",
   "execution_count": 26,
   "id": "7223d5e9-b281-442b-9cce-db403c352096",
   "metadata": {},
   "outputs": [
    {
     "data": {
      "text/plain": [
       "tensor([2.2908575593608102e-03, 2.8689978904185699e-03, -3.1003070675126600e-03,\n",
       "        -9.7345132631462199e-04, 1.8920984393024400e-03, -2.0000000000000000e-03],\n",
       "       dtype=torch.float64)"
      ]
     },
     "execution_count": 26,
     "metadata": {},
     "output_type": "execute_result"
    }
   ],
   "source": [
    "# Bmad outgoing particle\n",
    "x_tao = torch.tensor([orbit_out['x'],orbit_out['px'],orbit_out['y'],orbit_out['py'],orbit_out['z'],orbit_out['pz']],**tkwargs)\n",
    "x_tao"
   ]
  },
  {
   "cell_type": "code",
   "execution_count": 27,
   "id": "e32c28da-73ef-4116-bdde-d11b61763757",
   "metadata": {},
   "outputs": [
    {
     "data": {
      "text/plain": [
       "True"
      ]
     },
     "execution_count": 27,
     "metadata": {},
     "output_type": "execute_result"
    }
   ],
   "source": [
    "# close to Tao result?\n",
    "torch.allclose(x_py, x_tao)"
   ]
  },
  {
   "cell_type": "code",
   "execution_count": 32,
   "id": "24ac04ff-f0cf-43e3-9dc4-fbf8a34c73c9",
   "metadata": {},
   "outputs": [
    {
     "data": {
      "text/plain": [
       "True"
      ]
     },
     "execution_count": 32,
     "metadata": {},
     "output_type": "execute_result"
    }
   ],
   "source": [
    "# close to Tao result?\n",
    "torch.allclose(x_py, x_tao,  atol=1e-12, rtol = 1e-9)"
   ]
  },
  {
   "cell_type": "markdown",
   "id": "6b965ba9-557d-40f8-9373-82414a326bd8",
   "metadata": {},
   "source": [
    "# Below are other non-bend tests"
   ]
  },
  {
   "cell_type": "markdown",
   "id": "7638cac6-72c7-4e95-ae44-6ff97b375ae3",
   "metadata": {
    "tags": []
   },
   "source": [
    "# Drift tests"
   ]
  },
  {
   "cell_type": "code",
   "execution_count": 4,
   "id": "ee6fdf69-c492-4bc0-83c9-9b6a0400ef1f",
   "metadata": {
    "tags": []
   },
   "outputs": [
    {
     "data": {
      "text/plain": [
       "Drift(L=tensor(1.0000000000000000e+00, dtype=torch.float64))"
      ]
     },
     "execution_count": 4,
     "metadata": {},
     "output_type": "execute_result"
    }
   ],
   "source": [
    "# Create drift\n",
    "L=1.0 # Drift length in m\n",
    "d1 = Drift(L=torch.tensor(L, **tkwargs)) #named tuple is in track.py module\n",
    "d1"
   ]
  },
  {
   "cell_type": "markdown",
   "id": "f47cc1d4-c514-4f23-a70b-b692e4a0c4dc",
   "metadata": {
    "tags": []
   },
   "source": [
    "## Drift one particle test"
   ]
  },
  {
   "cell_type": "code",
   "execution_count": 5,
   "id": "22f5b59f-a16b-4e85-bc07-d9a6022c9dc2",
   "metadata": {
    "tags": []
   },
   "outputs": [
    {
     "data": {
      "text/plain": [
       "Particle(x=tensor(2.0000000000000000e-03, dtype=torch.float64, grad_fn=<UnbindBackward0>), px=tensor(3.0000000000000001e-03, dtype=torch.float64, grad_fn=<UnbindBackward0>), y=tensor(-3.0000000000000001e-03, dtype=torch.float64, grad_fn=<UnbindBackward0>), py=tensor(-1.0000000000000000e-03, dtype=torch.float64, grad_fn=<UnbindBackward0>), z=tensor(2.0000000000000000e-03, dtype=torch.float64, grad_fn=<UnbindBackward0>), pz=tensor(-2.0000000000000000e-03, dtype=torch.float64, grad_fn=<UnbindBackward0>), s=tensor(0., dtype=torch.float64), p0c=tensor(4.0000000000000000e+07, dtype=torch.float64), mc2=tensor( 5.1099895000000001e+05, dtype=torch.float64))"
      ]
     },
     "execution_count": 5,
     "metadata": {},
     "output_type": "execute_result"
    }
   ],
   "source": [
    "# Incoming particle\n",
    "s = 0.0 #initial s\n",
    "p0c = 4.0E+07 #Reference particle momentum in eV\n",
    "mc2 = 1*m_e # electron mass in eV\n",
    "ts = torch.tensor(s, **tkwargs)\n",
    "tp0c = torch.tensor(p0c, **tkwargs)\n",
    "tmc2 = torch.tensor(mc2, **tkwargs)\n",
    "pvec1 = [2e-3,3e-3,-3e-3,-1e-3,2e-3,-2e-3] \n",
    "tvec1 = torch.tensor(pvec1, requires_grad=True, **tkwargs)\n",
    "p_in = Particle(*tvec1,ts, tp0c, tmc2)\n",
    "p_in"
   ]
  },
  {
   "cell_type": "code",
   "execution_count": 6,
   "id": "2f852ced-da43-4f95-8578-779f46d15eb1",
   "metadata": {},
   "outputs": [
    {
     "data": {
      "text/plain": [
       "tensor([5.0060271145229325e-03, 3.0000000000000001e-03, -4.0020090381743109e-03,\n",
       "        -1.0000000000000000e-03, 1.9946525738924175e-03, -2.0000000000000000e-03],\n",
       "       dtype=torch.float64)"
      ]
     },
     "execution_count": 6,
     "metadata": {},
     "output_type": "execute_result"
    }
   ],
   "source": [
    "#create track_a_drift_torch\n",
    "track_a_drift_torch = make_track_a_drift(torch)\n",
    "# Outgoing particle\n",
    "p_out = track_a_drift_torch(p_in, d1)\n",
    "x_py = torch.hstack([p_out.x,p_out.px,p_out.y,p_out.py,p_out.z,p_out.pz]).detach()\n",
    "x_py"
   ]
  },
  {
   "cell_type": "code",
   "execution_count": 17,
   "id": "7a6c2d68-8d1e-4eaa-9fd0-aa67111276da",
   "metadata": {
    "tags": []
   },
   "outputs": [],
   "source": [
    "# bmad lattice for comparison\n",
    "tao = Tao('-lat '+repo_path+'/tests/bmad_lattices/test_drift.bmad -noplot')\n",
    "tao.cmd('set particle_start x='+str(pvec1[0]))\n",
    "tao.cmd('set particle_start px='+str(pvec1[1]))\n",
    "tao.cmd('set particle_start y='+str(pvec1[2]))\n",
    "tao.cmd('set particle_start py='+str(pvec1[3]))\n",
    "tao.cmd('set particle_start z='+str(pvec1[4]))\n",
    "tao.cmd('set particle_start pz='+str(pvec1[5]))\n",
    "orbit_out=tao.orbit_at_s(ele=1)\n",
    "#orbit_out"
   ]
  },
  {
   "cell_type": "code",
   "execution_count": 18,
   "id": "f986a53a-edc8-48cc-93b7-28911872bc94",
   "metadata": {},
   "outputs": [
    {
     "data": {
      "text/plain": [
       "tensor([5.0060271145229299e-03, 3.0000000000000001e-03, -4.0020090381743100e-03,\n",
       "        -1.0000000000000000e-03, 1.9946525738923598e-03, -2.0000000000000000e-03],\n",
       "       dtype=torch.float64)"
      ]
     },
     "execution_count": 18,
     "metadata": {},
     "output_type": "execute_result"
    }
   ],
   "source": [
    "# bmad outgoing particle\n",
    "x_tao = torch.tensor([orbit_out['x'],orbit_out['px'],orbit_out['y'],orbit_out['py'],orbit_out['z'],orbit_out['pz']],**tkwargs)\n",
    "x_tao"
   ]
  },
  {
   "cell_type": "code",
   "execution_count": 19,
   "id": "729e2c24-ee37-4d5b-8b76-81d1f5107dbf",
   "metadata": {},
   "outputs": [
    {
     "data": {
      "text/plain": [
       "True"
      ]
     },
     "execution_count": 19,
     "metadata": {},
     "output_type": "execute_result"
    }
   ],
   "source": [
    "torch.allclose(x_py, x_tao)"
   ]
  },
  {
   "cell_type": "markdown",
   "id": "d8fae022-eda1-4b37-89a3-48d9c9fc3ddb",
   "metadata": {
    "tags": []
   },
   "source": [
    "## Drift Jacobian test"
   ]
  },
  {
   "cell_type": "code",
   "execution_count": 20,
   "id": "062c3a71-b3b9-48b5-85a3-d332f716496d",
   "metadata": {},
   "outputs": [],
   "source": [
    "f_drift = lambda x: track_a_drift_torch(Particle(*x, ts, tp0c, tmc2), d1)[:6]\n",
    "J = jacobian(f_drift, tvec1)"
   ]
  },
  {
   "cell_type": "code",
   "execution_count": 21,
   "id": "2f3a581f-157b-44bd-b596-185155a9c972",
   "metadata": {
    "tags": []
   },
   "outputs": [
    {
     "data": {
      "text/plain": [
       "tensor([[ 1.0000000000000000e+00,  1.0020180925273929e+00,\n",
       "          0.0000000000000000e+00, -3.0181176940051169e-06,\n",
       "          0.0000000000000000e+00, -3.0120814586171068e-03],\n",
       "        [ 0.0000000000000000e+00,  1.0000000000000000e+00,\n",
       "          0.0000000000000000e+00,  0.0000000000000000e+00,\n",
       "          0.0000000000000000e+00,  0.0000000000000000e+00],\n",
       "        [ 0.0000000000000000e+00, -3.0181176940051169e-06,\n",
       "          1.0000000000000000e+00,  1.0020100442135422e+00,\n",
       "          0.0000000000000000e+00,  1.0040271528723688e-03],\n",
       "        [ 0.0000000000000000e+00,  0.0000000000000000e+00,\n",
       "          0.0000000000000000e+00,  1.0000000000000000e+00,\n",
       "          0.0000000000000000e+00,  0.0000000000000000e+00],\n",
       "        [ 0.0000000000000000e+00, -3.0120814586171063e-03,\n",
       "          0.0000000000000000e+00,  1.0040271528723688e-03,\n",
       "          1.0000000000000000e+00,  1.7421652474771806e-04],\n",
       "        [ 0.0000000000000000e+00,  0.0000000000000000e+00,\n",
       "          0.0000000000000000e+00,  0.0000000000000000e+00,\n",
       "          0.0000000000000000e+00,  1.0000000000000000e+00]],\n",
       "       dtype=torch.float64)"
      ]
     },
     "execution_count": 21,
     "metadata": {},
     "output_type": "execute_result"
    }
   ],
   "source": [
    "# Jacobian matrix\n",
    "mat_py = torch.vstack(J)\n",
    "mat_py"
   ]
  },
  {
   "cell_type": "code",
   "execution_count": 22,
   "id": "9f168d28-5c4a-4db0-a649-c8bde823496c",
   "metadata": {},
   "outputs": [
    {
     "data": {
      "text/plain": [
       "tensor([[ 1.0000000000000000e+00,  1.0020180925273900e+00,\n",
       "          0.0000000000000000e+00, -3.0181176940051199e-06,\n",
       "          0.0000000000000000e+00, -3.0120814586171098e-03],\n",
       "        [ 0.0000000000000000e+00,  1.0000000000000000e+00,\n",
       "          0.0000000000000000e+00,  0.0000000000000000e+00,\n",
       "          0.0000000000000000e+00,  0.0000000000000000e+00],\n",
       "        [ 0.0000000000000000e+00, -3.0181176940051199e-06,\n",
       "          1.0000000000000000e+00,  1.0020100442135400e+00,\n",
       "          0.0000000000000000e+00,  1.0040271528723699e-03],\n",
       "        [ 0.0000000000000000e+00,  0.0000000000000000e+00,\n",
       "          0.0000000000000000e+00,  1.0000000000000000e+00,\n",
       "          0.0000000000000000e+00,  0.0000000000000000e+00],\n",
       "        [ 0.0000000000000000e+00, -3.0120814586171098e-03,\n",
       "          0.0000000000000000e+00,  1.0040271528723699e-03,\n",
       "          1.0000000000000000e+00,  1.7421652474810300e-04],\n",
       "        [ 0.0000000000000000e+00,  0.0000000000000000e+00,\n",
       "          0.0000000000000000e+00,  0.0000000000000000e+00,\n",
       "          0.0000000000000000e+00,  1.0000000000000000e+00]],\n",
       "       dtype=torch.float64)"
      ]
     },
     "execution_count": 22,
     "metadata": {},
     "output_type": "execute_result"
    }
   ],
   "source": [
    "# Tao Jacobian\n",
    "drift_tao = tao.matrix(0,1)\n",
    "mat_tao = torch.tensor(drift_tao['mat6'], **tkwargs)\n",
    "mat_tao"
   ]
  },
  {
   "cell_type": "code",
   "execution_count": 23,
   "id": "4707f2f9-3e23-4497-9dda-78205b54965f",
   "metadata": {},
   "outputs": [
    {
     "data": {
      "text/plain": [
       "True"
      ]
     },
     "execution_count": 23,
     "metadata": {},
     "output_type": "execute_result"
    }
   ],
   "source": [
    "# is it close to Tao result?\n",
    "torch.allclose(mat_py, mat_tao)"
   ]
  },
  {
   "cell_type": "markdown",
   "id": "c3f3188a-39d8-4d68-bb0e-131a8dbb22a6",
   "metadata": {
    "tags": []
   },
   "source": [
    "# Quadrupole tests"
   ]
  },
  {
   "cell_type": "code",
   "execution_count": 114,
   "id": "9e48ff76-4946-4386-9a86-716f08cc1a8b",
   "metadata": {},
   "outputs": [],
   "source": [
    "def torchquadrupole(L: torch.Tensor, K1: torch.Tensor, NUM_STEPS=1,\n",
    "                    X_OFFSET: torch.Tensor=torch.tensor(0.0,**tkwargs),\n",
    "                    Y_OFFSET: torch.Tensor=torch.tensor(0.0,**tkwargs),\n",
    "                    TILT: torch.Tensor=torch.tensor(0.0,**tkwargs)):\n",
    "    return Quadrupole(L=L, K1=K1, NUM_STEPS=NUM_STEPS, X_OFFSET=X_OFFSET,\n",
    "                     Y_OFFSET=Y_OFFSET, TILT=TILT)"
   ]
  },
  {
   "cell_type": "code",
   "execution_count": 115,
   "id": "5dcd7b1a-ba3f-4b45-a5e6-455650fd6598",
   "metadata": {
    "tags": []
   },
   "outputs": [
    {
     "data": {
      "text/plain": [
       "Quadrupole(L=tensor(1.0000000000000001e-01, dtype=torch.float64), K1=tensor(1.0000000000000000e+01, dtype=torch.float64), NUM_STEPS=1, X_OFFSET=tensor(0., dtype=torch.float64), Y_OFFSET=tensor(0., dtype=torch.float64), TILT=tensor(0., dtype=torch.float64))"
      ]
     },
     "execution_count": 115,
     "metadata": {},
     "output_type": "execute_result"
    }
   ],
   "source": [
    "# Create quad\n",
    "L = 0.1 #Length in m\n",
    "K1 = 10 #Quad focusing strength. Positive is focusing in x\n",
    "#NUM_STEPS = 1 #number of divisions for tracking. 1 is bmad default when there are no other multipoles\n",
    "q1 = torchquadrupole(L=torch.tensor(L, **tkwargs), K1=torch.tensor(K1, **tkwargs))\n",
    "q1"
   ]
  },
  {
   "cell_type": "markdown",
   "id": "b73fdb87-f4bd-4b42-8ad9-6eb54030ad99",
   "metadata": {
    "tags": []
   },
   "source": [
    "## Quadrupole one particle test"
   ]
  },
  {
   "cell_type": "code",
   "execution_count": 116,
   "id": "7ef8b038-c06f-4474-b98b-79592da924f0",
   "metadata": {},
   "outputs": [
    {
     "data": {
      "text/plain": [
       "Particle(x=tensor(2.0000000000000000e-03, dtype=torch.float64, grad_fn=<UnbindBackward0>), px=tensor(3.0000000000000001e-03, dtype=torch.float64, grad_fn=<UnbindBackward0>), y=tensor(-3.0000000000000001e-03, dtype=torch.float64, grad_fn=<UnbindBackward0>), py=tensor(-1.0000000000000000e-03, dtype=torch.float64, grad_fn=<UnbindBackward0>), z=tensor(2.0000000000000000e-03, dtype=torch.float64, grad_fn=<UnbindBackward0>), pz=tensor(-2.0000000000000000e-03, dtype=torch.float64, grad_fn=<UnbindBackward0>), s=tensor(0., dtype=torch.float64), p0c=tensor(4.0000000000000000e+07, dtype=torch.float64), mc2=tensor( 5.1099895000000001e+05, dtype=torch.float64))"
      ]
     },
     "execution_count": 116,
     "metadata": {},
     "output_type": "execute_result"
    }
   ],
   "source": [
    "# Incoming particle\n",
    "s = 0.0 #initial s\n",
    "p0c = 4.0E+07 #Reference particle momentum in eV\n",
    "mc2 = 1*m_e # electron mass in eV\n",
    "ts = torch.tensor(s, **tkwargs)\n",
    "tp0c = torch.tensor(p0c, **tkwargs)\n",
    "tmc2 = torch.tensor(mc2, **tkwargs) \n",
    "pvec1 = [2e-3,3e-3,-3e-3,-1e-3,2e-3,-2e-3] \n",
    "tvec1 = torch.tensor(pvec1, requires_grad=True, **tkwargs)\n",
    "p_in = Particle(*tvec1,ts, tp0c, tmc2)\n",
    "p_in"
   ]
  },
  {
   "cell_type": "code",
   "execution_count": 117,
   "id": "0d16dea9-7c66-4c92-bd7e-b0bca1097b8f",
   "metadata": {},
   "outputs": [
    {
     "data": {
      "text/plain": [
       "tensor([2.1962397193025516e-03, 8.8418342648533682e-04, -3.2534419732692245e-03,\n",
       "        -4.1008717415728594e-03, 1.9993946642253308e-03, -2.0000000000000000e-03],\n",
       "       dtype=torch.float64)"
      ]
     },
     "execution_count": 117,
     "metadata": {},
     "output_type": "execute_result"
    }
   ],
   "source": [
    "# create track_a_quadrupole_torch\n",
    "track_a_quadrupole_torch = make_track_a_quadrupole(torch)\n",
    "# Outgoing particle\n",
    "p_out = track_a_quadrupole_torch(p_in, q1)\n",
    "x_py = torch.hstack(p_out[:6]).detach()\n",
    "x_py"
   ]
  },
  {
   "cell_type": "code",
   "execution_count": 28,
   "id": "7670ad81-5961-41bc-8719-1e23e97fb9a0",
   "metadata": {},
   "outputs": [],
   "source": [
    "# Bmad lattice to compare\n",
    "tao = Tao('-lat '+repo_path+'/tests/bmad_lattices/test_quad.bmad -noplot')\n",
    "tao.cmd('set particle_start x='+str(pvec1[0]))\n",
    "tao.cmd('set particle_start px='+str(pvec1[1]))\n",
    "tao.cmd('set particle_start y='+str(pvec1[2]))\n",
    "tao.cmd('set particle_start py='+str(pvec1[3]))\n",
    "tao.cmd('set particle_start z='+str(pvec1[4]))\n",
    "tao.cmd('set particle_start pz='+str(pvec1[5]))\n",
    "orbit_out = tao.orbit_at_s(ele=1)"
   ]
  },
  {
   "cell_type": "code",
   "execution_count": 29,
   "id": "82aa9e17-97ec-4556-93d1-2f54163d7f35",
   "metadata": {},
   "outputs": [
    {
     "data": {
      "text/plain": [
       "tensor([2.1962397193025498e-03, 8.8418342648533704e-04, -3.2534419732692201e-03,\n",
       "        -4.1008717415728603e-03, 1.9993946642253299e-03, -2.0000000000000000e-03],\n",
       "       dtype=torch.float64)"
      ]
     },
     "execution_count": 29,
     "metadata": {},
     "output_type": "execute_result"
    }
   ],
   "source": [
    "# Bmad outgoing particle\n",
    "x_tao = torch.tensor([orbit_out['x'],orbit_out['px'],orbit_out['y'],orbit_out['py'],orbit_out['z'],orbit_out['pz']],**tkwargs)\n",
    "x_tao"
   ]
  },
  {
   "cell_type": "code",
   "execution_count": 30,
   "id": "0174f8be-14cc-4aab-8b10-cecb0f044eb3",
   "metadata": {},
   "outputs": [
    {
     "data": {
      "text/plain": [
       "True"
      ]
     },
     "execution_count": 30,
     "metadata": {},
     "output_type": "execute_result"
    }
   ],
   "source": [
    "# close to Tao result?\n",
    "torch.allclose(x_py, x_tao)"
   ]
  },
  {
   "cell_type": "markdown",
   "id": "18d8ab23-f846-44e9-88c9-987b2267f9a1",
   "metadata": {
    "tags": []
   },
   "source": [
    "## Quadrupole Jacobian test"
   ]
  },
  {
   "cell_type": "code",
   "execution_count": null,
   "id": "ea343dea-8c1f-4ce8-8d5c-3aa0f89d9812",
   "metadata": {},
   "outputs": [],
   "source": [
    "f_quadrupole = lambda x: track_a_quadrupole_torch(Particle(*x,ts, tp0c, tmc2), q1)[:6]\n",
    "J = jacobian(f_quadrupole, tvec1)"
   ]
  },
  {
   "cell_type": "code",
   "execution_count": null,
   "id": "f0f45bf6-e8a9-469d-9883-76e85edb777b",
   "metadata": {},
   "outputs": [],
   "source": [
    "# Jacobian matrix\n",
    "mat_py = torch.vstack(J)\n",
    "mat_py"
   ]
  },
  {
   "cell_type": "code",
   "execution_count": null,
   "id": "9e6cd8cc-4f9d-4072-a48b-b27961ad5762",
   "metadata": {},
   "outputs": [],
   "source": [
    "# Bmad Jacobian\n",
    "quad_tao = tao.matrix(0,1)\n",
    "mat_tao = torch.tensor(quad_tao['mat6'], **tkwargs)\n",
    "mat_tao"
   ]
  },
  {
   "cell_type": "code",
   "execution_count": null,
   "id": "daea008b-7368-4f75-9fe0-fb3de156d68f",
   "metadata": {},
   "outputs": [],
   "source": [
    "# close to Tao result?\n",
    "torch.allclose(mat_py, mat_tao)"
   ]
  },
  {
   "cell_type": "markdown",
   "id": "f973149b-da83-4b8c-9da4-88b4578c9ebe",
   "metadata": {
    "tags": []
   },
   "source": [
    "## Quadrupole offset test"
   ]
  },
  {
   "cell_type": "code",
   "execution_count": null,
   "id": "4542eae6-b1b7-4438-a985-fe7733144f54",
   "metadata": {},
   "outputs": [],
   "source": [
    "# Quad params\n",
    "L = 0.1 #Length in m\n",
    "K1 = 10 #Quad focusing strength. Positive is focusing in x\n",
    "\n",
    "# quad w/o offsets\n",
    "q_no_off = torchquadrupole(L=torch.tensor(L, **tkwargs), K1=torch.tensor(K1, **tkwargs))\n",
    "# quad with offsets\n",
    "x_off = 1e-3\n",
    "y_off = -2e-3\n",
    "q_off = torchquadrupole(L=torch.tensor(L, **tkwargs), K1=torch.tensor(K1, **tkwargs), \n",
    "                   X_OFFSET=torch.tensor(x_off, **tkwargs),\n",
    "                   Y_OFFSET=torch.tensor(y_off, **tkwargs) )"
   ]
  },
  {
   "cell_type": "code",
   "execution_count": null,
   "id": "4ccafa2f-5371-4dcd-b039-60385251cb96",
   "metadata": {},
   "outputs": [],
   "source": [
    "# Incoming particle\n",
    "s = 0.0 #initial s\n",
    "p0c = 4.0E+07 #Reference particle momentum in eV\n",
    "mc2 = 1*m_e # electron mass in eV\n",
    "ts = torch.tensor(s, **tkwargs)\n",
    "tp0c = torch.tensor(p0c, **tkwargs)\n",
    "tmc2 = torch.tensor(mc2, **tkwargs) \n",
    "pvec1 = [2e-3,3e-3,-3e-3,-1e-3,2e-3,-2e-3] \n",
    "tvec1 = torch.tensor(pvec1, requires_grad=True, **tkwargs)\n",
    "p_in = Particle(*tvec1,ts, tp0c, tmc2)\n",
    "p_in"
   ]
  },
  {
   "cell_type": "code",
   "execution_count": null,
   "id": "eef795f4-4537-4430-853f-fa81c201a181",
   "metadata": {},
   "outputs": [],
   "source": [
    "# Outgoing particle no offset\n",
    "p_out = track_a_quadrupole_torch(p_in, q_no_off)\n",
    "x_py = torch.hstack(p_out[:6]).detach()\n",
    "x_py"
   ]
  },
  {
   "cell_type": "code",
   "execution_count": null,
   "id": "7d5f8fdd-2fe1-4e40-a4e8-4547779a8cf3",
   "metadata": {},
   "outputs": [],
   "source": [
    "# Outgoing particle offset\n",
    "p_out = track_a_quadrupole_torch(p_in, q_off)\n",
    "x_py = torch.hstack(p_out[:6]).detach()\n",
    "x_py"
   ]
  },
  {
   "cell_type": "code",
   "execution_count": null,
   "id": "3d6da4fc-be97-465f-923e-9b89394ed2fa",
   "metadata": {},
   "outputs": [],
   "source": [
    "%%time\n",
    "# Bmad lattice to compare\n",
    "tao = Tao('-lat '+repo_path+'/tests/bmad_lattices/test_quad_offset.bmad -noplot')\n",
    "tao.cmd('set particle_start x='+str(pvec1[0]))\n",
    "tao.cmd('set particle_start px='+str(pvec1[1]))\n",
    "tao.cmd('set particle_start y='+str(pvec1[2]))\n",
    "tao.cmd('set particle_start py='+str(pvec1[3]))\n",
    "tao.cmd('set particle_start z='+str(pvec1[4]))\n",
    "tao.cmd('set particle_start pz='+str(pvec1[5]))\n",
    "orbit_out = tao.orbit_at_s(ele=1)"
   ]
  },
  {
   "cell_type": "code",
   "execution_count": null,
   "id": "54771004-092a-4669-9429-7b33b867dbea",
   "metadata": {
    "tags": []
   },
   "outputs": [],
   "source": [
    "# Bmad outgoing particle\n",
    "x_tao = torch.tensor([orbit_out['x'],orbit_out['px'],orbit_out['y'],orbit_out['py'],orbit_out['z'],orbit_out['pz']],**tkwargs)\n",
    "x_tao"
   ]
  },
  {
   "cell_type": "code",
   "execution_count": null,
   "id": "fda592ee-2116-436b-a46a-2d7be549a8f5",
   "metadata": {},
   "outputs": [],
   "source": [
    "# close to Tao result?\n",
    "torch.allclose(x_py, x_tao)"
   ]
  },
  {
   "cell_type": "markdown",
   "id": "f8d7bedf-6116-41d3-8eac-5a3000e2b7bb",
   "metadata": {
    "tags": []
   },
   "source": [
    "## Quadrupole tilt test (transverse rotation)"
   ]
  },
  {
   "cell_type": "code",
   "execution_count": null,
   "id": "e7873687-1fee-4033-91b1-f3090a4d166d",
   "metadata": {},
   "outputs": [],
   "source": [
    "# Quad params\n",
    "L = 0.1 #Length in m\n",
    "K1 = 10 #Quad focusing strength. Positive is focusing in x\n",
    "\n",
    "# quad w/o offsets\n",
    "q_no_off = torchquadrupole(L=torch.tensor(L, **tkwargs), K1=torch.tensor(K1, **tkwargs))\n",
    "# quad with offsets\n",
    "tilt = 0.3\n",
    "q_off = torchquadrupole(L=torch.tensor(L, **tkwargs), K1=torch.tensor(K1, **tkwargs),\n",
    "                        TILT = torch.tensor(tilt, **tkwargs))"
   ]
  },
  {
   "cell_type": "code",
   "execution_count": null,
   "id": "79bae548-0cc3-4907-9353-6ba27977baea",
   "metadata": {},
   "outputs": [],
   "source": [
    "# Incoming particle\n",
    "s = 0.0 #initial s\n",
    "p0c = 4.0E+07 #Reference particle momentum in eV\n",
    "mc2 = 1*m_e # electron mass in eV\n",
    "ts = torch.tensor(s, **tkwargs)\n",
    "tp0c = torch.tensor(p0c, **tkwargs)\n",
    "tmc2 = torch.tensor(mc2, **tkwargs) \n",
    "pvec1 = [2e-3,3e-3,-3e-3,-1e-3,2e-3,-2e-3] \n",
    "tvec1 = torch.tensor(pvec1, requires_grad=True, **tkwargs)\n",
    "p_in = Particle(*tvec1,ts, tp0c, tmc2)\n",
    "p_in"
   ]
  },
  {
   "cell_type": "code",
   "execution_count": null,
   "id": "500e6c60-e125-49f3-8417-0bed6931112e",
   "metadata": {},
   "outputs": [],
   "source": [
    "# Outgoing particle no offset\n",
    "p_out = track_a_quadrupole_torch(p_in, q_no_off)\n",
    "x_py = torch.hstack(p_out[:6]).detach()\n",
    "x_py"
   ]
  },
  {
   "cell_type": "code",
   "execution_count": null,
   "id": "d2e966bb-05fa-46f8-9ad0-3d56a85c625a",
   "metadata": {},
   "outputs": [],
   "source": [
    "# Outgoing particle offset\n",
    "p_out = track_a_quadrupole_torch(Particle(*tvec1,ts, tp0c, tmc2), q_off)\n",
    "x_py = torch.hstack(p_out[:6]).detach()\n",
    "x_py"
   ]
  },
  {
   "cell_type": "code",
   "execution_count": null,
   "id": "eef6f7ec-81ae-4109-96b6-179c6e2fdb0d",
   "metadata": {},
   "outputs": [],
   "source": [
    "%%time\n",
    "# Bmad lattice to compare\n",
    "tao = Tao('-lat '+repo_path+'/tests/bmad_lattices/test_quad_tilt.bmad -noplot')\n",
    "tao.cmd('set particle_start x='+str(pvec1[0]))\n",
    "tao.cmd('set particle_start px='+str(pvec1[1]))\n",
    "tao.cmd('set particle_start y='+str(pvec1[2]))\n",
    "tao.cmd('set particle_start py='+str(pvec1[3]))\n",
    "tao.cmd('set particle_start z='+str(pvec1[4]))\n",
    "tao.cmd('set particle_start pz='+str(pvec1[5]))\n",
    "orbit_out = tao.orbit_at_s(ele=1)"
   ]
  },
  {
   "cell_type": "code",
   "execution_count": null,
   "id": "91c33264-efb9-438f-9d4b-778fabe27616",
   "metadata": {},
   "outputs": [],
   "source": [
    "# Bmad outgoing particle\n",
    "x_tao = torch.tensor([orbit_out['x'],orbit_out['px'],orbit_out['y'],orbit_out['py'],orbit_out['z'],orbit_out['pz']],**tkwargs)\n",
    "x_tao"
   ]
  },
  {
   "cell_type": "code",
   "execution_count": null,
   "id": "7ee01084-9bf2-4f96-988a-72523ff39f66",
   "metadata": {},
   "outputs": [],
   "source": [
    "# close to Tao result?\n",
    "torch.allclose(x_py, x_tao)"
   ]
  },
  {
   "cell_type": "markdown",
   "id": "491331ff-7285-470a-85fe-b795668e5d13",
   "metadata": {
    "tags": []
   },
   "source": [
    "# Lattice tracking"
   ]
  },
  {
   "cell_type": "markdown",
   "id": "0c8ca256-7abd-466c-976a-9c754ac22571",
   "metadata": {
    "tags": []
   },
   "source": [
    "## Lattice one particle test"
   ]
  },
  {
   "cell_type": "code",
   "execution_count": null,
   "id": "e382de98-ca91-4511-9ff0-190dba00655b",
   "metadata": {
    "tags": []
   },
   "outputs": [],
   "source": [
    "# Create drift\n",
    "L_d = 1.0 # Drift length in m\n",
    "d1 = Drift(torch.tensor(L_d, **tkwargs))\n",
    "# Create quad\n",
    "L_q = 0.1  # quad length in m\n",
    "K1 = 10  # Quad focusing strength. Positive is focusing in x\n",
    "#NUM_STEPS = 1  # number of divisions for tracking. 1 is bmad default when there are no other multipoles\n",
    "q1 = torchquadrupole(L=torch.tensor(L_q, **tkwargs), K1=torch.tensor(K1, **tkwargs))"
   ]
  },
  {
   "cell_type": "code",
   "execution_count": null,
   "id": "a9fad1a8-13d6-45ce-b38a-3c9fd27e39c6",
   "metadata": {},
   "outputs": [],
   "source": [
    "# Incoming particle\n",
    "s = 0.0 #initial s\n",
    "p0c = 4.0E+07  # Reference particle momentum in eV\n",
    "mc2 = 1*m_e  # electron mass in eV\n",
    "ts = torch.tensor(s, **tkwargs)\n",
    "tp0c = torch.tensor(p0c, **tkwargs)\n",
    "tmc2 = torch.tensor(mc2, **tkwargs)\n",
    "pvec1 = [2e-3,3e-3,-3e-3,-1e-3,2e-3,-2e-3] \n",
    "tvec1 = torch.tensor(pvec1, requires_grad=True, **tkwargs)\n",
    "p_in = Particle(*tvec1, ts, tp0c, tmc2)\n",
    "p_in"
   ]
  },
  {
   "cell_type": "code",
   "execution_count": null,
   "id": "5c8e5ad9-3309-4323-bfeb-a57209658750",
   "metadata": {},
   "outputs": [],
   "source": [
    "# Lattice example\n",
    "lattice = [d1, q1, d1, q1, d1]  # lattice is a list of elements\n",
    "# List of particle coordinates after each element:\n",
    "x_list = [torch.hstack(coords[:6]).detach() for coords in track_a_lattice(p_in, lattice)]\n",
    "# Outgoing particle after complete lattice:\n",
    "x_py = torch.hstack(track_a_lattice(p_in, lattice)[-1][:6]).detach()\n",
    "# alternative: x_list[-1]\n",
    "x_py"
   ]
  },
  {
   "cell_type": "code",
   "execution_count": null,
   "id": "9723f930-5c64-4fdc-a94c-df2a816bfe0a",
   "metadata": {},
   "outputs": [],
   "source": [
    "# Bmad lattice to compare\n",
    "tao = Tao('-lat '+repo_path+'/tests/bmad_lattices/test_drift_quad.bmad -noplot')\n",
    "tao.cmd('set particle_start x='+str(pvec1[0]))\n",
    "tao.cmd('set particle_start px='+str(pvec1[1]))\n",
    "tao.cmd('set particle_start y='+str(pvec1[2]))\n",
    "tao.cmd('set particle_start py='+str(pvec1[3]))\n",
    "tao.cmd('set particle_start z='+str(pvec1[4]))\n",
    "tao.cmd('set particle_start pz='+str(pvec1[5]))\n",
    "orbit_out = tao.orbit_at_s(ele=5)"
   ]
  },
  {
   "cell_type": "code",
   "execution_count": null,
   "id": "d3911c94-0464-4b62-ad7a-55e197ed22be",
   "metadata": {},
   "outputs": [],
   "source": [
    "# Bmad outgoing particle\n",
    "x_tao = torch.tensor([orbit_out['x'],orbit_out['px'],orbit_out['y'],orbit_out['py'],orbit_out['z'],orbit_out['pz']],**tkwargs)\n",
    "x_tao"
   ]
  },
  {
   "cell_type": "code",
   "execution_count": null,
   "id": "09dfa314-fd81-443b-9084-970a0ee22e1f",
   "metadata": {},
   "outputs": [],
   "source": [
    "# close to Tao result?\n",
    "torch.allclose(x_py, x_tao)"
   ]
  },
  {
   "cell_type": "markdown",
   "id": "f9ba321b-16ba-4616-b64a-86a0fab6df3f",
   "metadata": {
    "tags": []
   },
   "source": [
    "## Lattice Jacobian test"
   ]
  },
  {
   "cell_type": "code",
   "execution_count": null,
   "id": "dc9d30da-be29-4072-a9fa-b982030531de",
   "metadata": {
    "tags": []
   },
   "outputs": [],
   "source": [
    "f_driftquadrupole = lambda x: track_a_lattice(Particle(*x, ts, tp0c, tmc2), lattice)[-1][:6]\n",
    "J = jacobian(f_driftquadrupole, tvec1)"
   ]
  },
  {
   "cell_type": "code",
   "execution_count": null,
   "id": "a15024cb-8d00-434c-9642-3cf3105db844",
   "metadata": {},
   "outputs": [],
   "source": [
    "# Jacobian matrix\n",
    "mat_py = torch.vstack(J)\n",
    "mat_py"
   ]
  },
  {
   "cell_type": "code",
   "execution_count": null,
   "id": "3649facd-33ea-46e7-9a4c-b561dd5e5388",
   "metadata": {},
   "outputs": [],
   "source": [
    "# Bmad Jacobian\n",
    "lat_tao = tao.matrix(0,5)\n",
    "mat_tao = torch.tensor(lat_tao['mat6'], **tkwargs)\n",
    "mat_tao"
   ]
  },
  {
   "cell_type": "code",
   "execution_count": null,
   "id": "35e3965b-95d8-4f25-87f2-675435b7fa49",
   "metadata": {},
   "outputs": [],
   "source": [
    "# close to Tao result?\n",
    "torch.allclose(mat_py, mat_tao)"
   ]
  },
  {
   "cell_type": "markdown",
   "id": "abd7f307-4e0e-4530-99ec-3ca70109d3f0",
   "metadata": {
    "tags": []
   },
   "source": [
    "## Multi-particle propagation through lattice"
   ]
  },
  {
   "cell_type": "code",
   "execution_count": null,
   "id": "6429e104-311c-444b-98dd-5075a05e9bdd",
   "metadata": {
    "tags": []
   },
   "outputs": [],
   "source": [
    "# Particle bunch with Gaussian distribution\n",
    "sample_size = 1000\n",
    "mean = torch.zeros(6, **tkwargs)\n",
    "cov = torch.diag(torch.tensor([1e-6, 2e-6, 1e-6, 2e-6, 1e-6, 2e-6],**tkwargs))\n",
    "dist = torch.distributions.multivariate_normal.MultivariateNormal(mean, cov)\n",
    "sample = dist.sample(torch.Size([sample_size]))\n",
    "p_in = Particle(*sample.T, ts, tp0c, tmc2)"
   ]
  },
  {
   "cell_type": "code",
   "execution_count": null,
   "id": "c89db535-74b8-4afd-82b6-f70e52f98723",
   "metadata": {},
   "outputs": [],
   "source": [
    "p_out = track_a_lattice(p_in, lattice)"
   ]
  },
  {
   "cell_type": "code",
   "execution_count": null,
   "id": "aca6346f-c4bf-4e62-9274-76dcf6a05b40",
   "metadata": {},
   "outputs": [],
   "source": [
    "# some beam properties up and downstream\n",
    "torch.std(p_out[0].y),torch.std(p_out[-1].y)"
   ]
  },
  {
   "cell_type": "markdown",
   "id": "a35d4b34-6c23-48d8-af4c-7daad3055b20",
   "metadata": {
    "tags": []
   },
   "source": [
    "## Stub element test"
   ]
  },
  {
   "cell_type": "code",
   "execution_count": null,
   "id": "62fc1a71-37f7-4651-8b4b-2168581ebf0d",
   "metadata": {},
   "outputs": [],
   "source": [
    "# divide a quad into 10 parts\n",
    "divided_quad = stub_element(q1, 10)\n",
    "divided_quad"
   ]
  },
  {
   "cell_type": "markdown",
   "id": "08840928-57b7-49f3-8dcc-7cf4bb94d265",
   "metadata": {},
   "source": [
    "## Plotting using stub_element"
   ]
  },
  {
   "cell_type": "code",
   "execution_count": null,
   "id": "b4421345-df0c-4db4-817c-fc2954492414",
   "metadata": {},
   "outputs": [],
   "source": [
    "# make a quadrupole triplet\n",
    "L_d = 1.5  # Drift length in m\n",
    "d1 = Drift(torch.tensor(L_d, **tkwargs)) # drift\n",
    "L_q = 0.1  # Quadrupole length in m\n",
    "K1 = 10  # Quadrupole strengths\n",
    "NUM_STEPS = 1\n",
    "q1 = torchquadrupole(L=torch.tensor(L_q,**tkwargs), K1=torch.tensor(K1, **tkwargs))  # x-focusing\n",
    "q2 = torchquadrupole(L=torch.tensor(L_q,**tkwargs), K1=torch.tensor(-K1, **tkwargs))  # y-focusing\n",
    "lattice = [d1, q1, d1, q2, d1, q1, d1]\n",
    "\n",
    "# stub each element into n equal parts each\n",
    "n=50\n",
    "stubbed_lattice = stub_lattice(lattice, n)"
   ]
  },
  {
   "cell_type": "code",
   "execution_count": null,
   "id": "ded144f0-a02a-4bd2-8bb3-1878929eab80",
   "metadata": {},
   "outputs": [],
   "source": [
    "all_p = track_a_lattice(p_in, stubbed_lattice)\n",
    "stdx = np.array([torch.std(par.x).item() for par in all_p])\n",
    "stdy = np.array([torch.std(par.y).item() for par in all_p])\n",
    "s = np.array([par.s.item() for par in all_p])\n",
    "plt.plot(s, stdx*1000, label=r'$\\sigma_x$')\n",
    "plt.plot(s, stdy*1000, label=r'$\\sigma_y$')\n",
    "plt.xlabel(r'$s$ (m)')\n",
    "plt.ylabel(r'$\\sigma_{x,y}$ (mm)')\n",
    "plt.legend()"
   ]
  },
  {
   "cell_type": "markdown",
   "id": "eb16025c-6d9c-4fa0-bb5b-32684c107898",
   "metadata": {
    "tags": []
   },
   "source": [
    "# Hessian Matrix example"
   ]
  },
  {
   "cell_type": "code",
   "execution_count": null,
   "id": "a2d0abb8-7d84-464a-a1c1-a687e1fe62d8",
   "metadata": {},
   "outputs": [],
   "source": [
    "# Particle bunch with Gaussian distribution\n",
    "sample_size = 1000\n",
    "mean = torch.zeros(6, **tkwargs)\n",
    "cov = torch.diag(torch.tensor([1e-6, 2e-6, 1e-6, 2e-6, 1e-6, 2e-6],**tkwargs))\n",
    "dist = torch.distributions.multivariate_normal.MultivariateNormal(mean, cov)\n",
    "sample = dist.sample(torch.Size([sample_size]))\n",
    "p_in = Particle(*sample.T, ts, tp0c, tmc2)\n",
    "\n",
    "L_d = 1.00 # Drift length\n",
    "L_q = 0.1 # Quad length \n",
    "drift = Drift(torch.tensor(L_d, **tkwargs))\n",
    "\n",
    "def sigmax_end(k1s):\n",
    "    \"\"\"returns x beamsize after lattice composed by len(k1s)+1 \n",
    "    drifts with len(k1s) quadrupoles in between.\n",
    "    \"\"\"\n",
    "    lattice = [drift]\n",
    "    \n",
    "    for k1 in k1s:\n",
    "        lattice.append(torchquadrupole(L=torch.tensor(L_q, **tkwargs), K1=k1))\n",
    "        lattice.append(drift)\n",
    "\n",
    "    p_out = track_a_lattice(p_in, lattice)[-1]\n",
    "    return torch.std(p_out.x)\n",
    "\n",
    "#k1s = torch.tensor([10,-10,10,-10,10,-10,10,-10,10,-10], **tkwargs)\n",
    "k1s = torch.zeros(10, **tkwargs)"
   ]
  },
  {
   "cell_type": "code",
   "execution_count": null,
   "id": "09322973-50ab-454e-a711-75a87572f6c4",
   "metadata": {},
   "outputs": [],
   "source": [
    "#Hessian using autodiff\n",
    "%time\n",
    "hessian_py = hessian(sigmax_end,k1s)\n",
    "hessian_py"
   ]
  },
  {
   "cell_type": "code",
   "execution_count": null,
   "id": "c720fe84-b5a2-4bcf-831c-caf194a12146",
   "metadata": {},
   "outputs": [],
   "source": [
    "plt.imshow(hessian_py.detach().numpy())\n",
    "plt.colorbar()\n",
    "#plt.savefig(\"hessian.eps\")"
   ]
  },
  {
   "cell_type": "code",
   "execution_count": null,
   "id": "90145244-6aca-43ad-aed3-d444a8f11706",
   "metadata": {},
   "outputs": [],
   "source": [
    "#Hessian using numerical differentiation\n",
    "\n",
    "p_in = Particle(*sample.detach().numpy().T, 0, p0c, mc2)\n",
    "\n",
    "L_d = 1.00 # Drift length\n",
    "L_q = 0.1 # Quad length \n",
    "drift = Drift(L_d)\n",
    "def sigmax_end2(k1s):\n",
    "    \"\"\"returns x beamsize after lattice composed by len(k1s)+1 \n",
    "    drifts with len(k1s) quadrupoles in between.\n",
    "    \"\"\"\n",
    "    lattice = [drift]\n",
    "    \n",
    "    for k1 in k1s:\n",
    "        lattice.append(Quadrupole(L=L_q, K1=k1))\n",
    "        lattice.append(drift)\n",
    "\n",
    "    p_out = track_a_lattice(p_in, lattice)[-1]\n",
    "    \n",
    "    return np.std(p_out.x)\n",
    "\n",
    "#k1s = np.array([10,-10,10,-10,10,-10,10,-10,10,-10])\n",
    "k1s = np.zeros(10)"
   ]
  },
  {
   "cell_type": "code",
   "execution_count": null,
   "id": "ec5b71f2-cc0c-43d3-b40b-d77b89b75579",
   "metadata": {},
   "outputs": [],
   "source": [
    "%time\n",
    "hessian_nd = nd.Hessian(sigmax_end2)(k1s)\n",
    "hessian_nd"
   ]
  },
  {
   "cell_type": "code",
   "execution_count": null,
   "id": "9ffa33a1-b971-491b-a120-18c46b854892",
   "metadata": {},
   "outputs": [],
   "source": [
    "plt.imshow(hessian_nd)\n",
    "plt.colorbar()"
   ]
  },
  {
   "cell_type": "code",
   "execution_count": null,
   "id": "8748858c-daa8-4408-9c3f-6e0a794130ae",
   "metadata": {},
   "outputs": [],
   "source": [
    "np.allclose(hessian_nd, hessian_py.detach().numpy())"
   ]
  },
  {
   "cell_type": "code",
   "execution_count": null,
   "id": "8191b91e-d26d-4528-bad0-e24b759094a4",
   "metadata": {},
   "outputs": [],
   "source": [
    "fig, axs = plt.subplots(2, figsize=(10,10))\n",
    "cm = axs[0].imshow(hessian_py.detach().numpy())\n",
    "fig.colorbar(cm,ax=axs[0])\n",
    "#ax.imshow(hessian_py.detach().numpy())\n",
    "#ax = axs[1]\n",
    "#ax.imshow(1-hessian_nd)\n",
    "cm = axs[1].imshow(hessian_nd)\n",
    "fig.colorbar(cm,ax=axs[1])"
   ]
  },
  {
   "cell_type": "code",
   "execution_count": null,
   "id": "e1766ef4-0d4b-4c05-b7bc-959e0d524b2e",
   "metadata": {},
   "outputs": [],
   "source": [
    "hessian_numpy = hessian_py.detach().numpy()\n",
    "for i in range(len(hessian_nd[:,0])):\n",
    "    hessian_numpy[i,i]=0\n",
    "fig, axs = plt.subplots(2, figsize=(10,10))\n",
    "cm = axs[0].imshow(hessian_numpy)\n",
    "fig.colorbar(cm,ax=axs[0])\n",
    "#ax.imshow(hessian_py.detach().numpy())\n",
    "#ax = axs[1]\n",
    "#ax.imshow(1-hessian_nd)\n",
    "cm = axs[1].imshow(hessian_nd)\n",
    "fig.colorbar(cm,ax=axs[1])"
   ]
  }
 ],
 "metadata": {
  "kernelspec": {
   "display_name": "Bmadx",
   "language": "python",
   "name": "bmadx"
  },
  "language_info": {
   "codemirror_mode": {
    "name": "ipython",
    "version": 3
   },
   "file_extension": ".py",
   "mimetype": "text/x-python",
   "name": "python",
   "nbconvert_exporter": "python",
   "pygments_lexer": "ipython3",
   "version": "3.9.13"
  },
  "toc-autonumbering": true,
  "toc-showcode": false,
  "toc-showmarkdowntxt": false,
  "toc-showtags": false
 },
 "nbformat": 4,
 "nbformat_minor": 5
}
