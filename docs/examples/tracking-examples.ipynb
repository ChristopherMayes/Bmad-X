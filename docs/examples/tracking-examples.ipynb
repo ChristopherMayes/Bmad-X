{
 "cells": [
  {
   "cell_type": "markdown",
   "id": "cfe2f3e6-ab7f-4493-8ca4-acd56731bc0b",
   "metadata": {
    "tags": []
   },
   "source": [
    "# Tracking through elements with autodiff"
   ]
  },
  {
   "cell_type": "code",
   "execution_count": 1,
   "id": "8af3d886-d3bd-4e34-9556-d645ee9f761e",
   "metadata": {
    "tags": []
   },
   "outputs": [
    {
     "data": {
      "text/plain": [
       "('1.11.0', '1.22.4', '0.1.7')"
      ]
     },
     "execution_count": 1,
     "metadata": {},
     "output_type": "execute_result"
    }
   ],
   "source": [
    "import numpy as np\n",
    "import torch\n",
    "from torch.autograd.functional import jacobian\n",
    "from torch.autograd.functional import hessian\n",
    "from pytao import Tao\n",
    "import matplotlib.pyplot as plt\n",
    "import numdifftools as nd\n",
    "from bmadx import track\n",
    "tkwargs = {\n",
    "    \"dtype\" : torch.double\n",
    "}\n",
    "import time\n",
    "import os\n",
    "np.set_printoptions(precision= 15, suppress=False)\n",
    "torch.set_printoptions(precision= 15, sci_mode=True)\n",
    "import pytao\n",
    "torch.__version__, np.__version__, pytao.__version__"
   ]
  },
  {
   "cell_type": "code",
   "execution_count": 2,
   "id": "75849dda-45a9-477f-8940-b64dd8a15b5f",
   "metadata": {},
   "outputs": [
    {
     "data": {
      "text/plain": [
       "'/home/jg2347/Repositories/Bmad-X'"
      ]
     },
     "execution_count": 2,
     "metadata": {},
     "output_type": "execute_result"
    }
   ],
   "source": [
    "from pathlib import Path\n",
    "\n",
    "def find_repo(path):\n",
    "    \"Find repository root from the path's parents\"\n",
    "    for path in Path(path).parents:\n",
    "        # Check whether \"path/.git\" exists and is a directory\n",
    "        git_dir = path / \".git\"\n",
    "        if git_dir.is_dir():\n",
    "            return path\n",
    "\n",
    "import os\n",
    "nb_dir = os.getcwd()\n",
    "# Find the repo root where the script is\n",
    "repo_path = str(find_repo(nb_dir))\n",
    "repo_path"
   ]
  },
  {
   "cell_type": "markdown",
   "id": "4195b788-22c6-4f75-bb00-a417cf041292",
   "metadata": {
    "tags": []
   },
   "source": [
    "# Constants"
   ]
  },
  {
   "cell_type": "code",
   "execution_count": 3,
   "id": "c3f66538-b1d3-448d-a15b-82cae88067f6",
   "metadata": {
    "tags": []
   },
   "outputs": [],
   "source": [
    "c_light = 2.99792458e8 #speed of light in m/s\n",
    "m_e = 0.510998950e6 #electron mass in eV"
   ]
  },
  {
   "cell_type": "markdown",
   "id": "7638cac6-72c7-4e95-ae44-6ff97b375ae3",
   "metadata": {
    "tags": []
   },
   "source": [
    "# Drift tests"
   ]
  },
  {
   "cell_type": "code",
   "execution_count": 4,
   "id": "ee6fdf69-c492-4bc0-83c9-9b6a0400ef1f",
   "metadata": {
    "tags": []
   },
   "outputs": [
    {
     "data": {
      "text/plain": [
       "Drift(L=tensor(1.000000000000000e+00, dtype=torch.float64))"
      ]
     },
     "execution_count": 4,
     "metadata": {},
     "output_type": "execute_result"
    }
   ],
   "source": [
    "# Create drift\n",
    "L=1.0 # Drift length in m\n",
    "d1 = track.Drift(L=torch.tensor(L, **tkwargs)) #named tuple is in track.py module\n",
    "d1"
   ]
  },
  {
   "cell_type": "markdown",
   "id": "f47cc1d4-c514-4f23-a70b-b692e4a0c4dc",
   "metadata": {
    "tags": []
   },
   "source": [
    "## Drift one particle test"
   ]
  },
  {
   "cell_type": "code",
   "execution_count": 5,
   "id": "22f5b59f-a16b-4e85-bc07-d9a6022c9dc2",
   "metadata": {
    "tags": []
   },
   "outputs": [
    {
     "data": {
      "text/plain": [
       "Particle(x=tensor(2.000000000000000e-03, dtype=torch.float64, grad_fn=<UnbindBackward0>), px=tensor(3.000000000000000e-03, dtype=torch.float64, grad_fn=<UnbindBackward0>), y=tensor(-3.000000000000000e-03, dtype=torch.float64, grad_fn=<UnbindBackward0>), py=tensor(-1.000000000000000e-03, dtype=torch.float64, grad_fn=<UnbindBackward0>), z=tensor(2.000000000000000e-03, dtype=torch.float64, grad_fn=<UnbindBackward0>), pz=tensor(-2.000000000000000e-03, dtype=torch.float64, grad_fn=<UnbindBackward0>), s=tensor(0., dtype=torch.float64), p0c=tensor(4.000000000000000e+07, dtype=torch.float64), mc2=tensor( 5.109989500000000e+05, dtype=torch.float64))"
      ]
     },
     "execution_count": 5,
     "metadata": {},
     "output_type": "execute_result"
    }
   ],
   "source": [
    "# Incoming particle\n",
    "s = 0.0 #initial s\n",
    "p0c = 4.0E+07 #Reference particle momentum in eV\n",
    "mc2 = 1*m_e # electron mass in eV\n",
    "ts = torch.tensor(s, **tkwargs)\n",
    "tp0c = torch.tensor(p0c, **tkwargs)\n",
    "tmc2 = torch.tensor(mc2, **tkwargs)\n",
    "pvec1 = [2e-3,3e-3,-3e-3,-1e-3,2e-3,-2e-3] \n",
    "tvec1 = torch.tensor(pvec1, requires_grad=True, **tkwargs)\n",
    "p_in = track.Particle(*tvec1,ts, tp0c, tmc2)\n",
    "p_in"
   ]
  },
  {
   "cell_type": "code",
   "execution_count": 6,
   "id": "2f852ced-da43-4f95-8578-779f46d15eb1",
   "metadata": {},
   "outputs": [
    {
     "data": {
      "text/plain": [
       "tensor([5.006027114522933e-03, 3.000000000000000e-03, -4.002009038174311e-03,\n",
       "        -1.000000000000000e-03, 1.994652573892362e-03, -2.000000000000000e-03],\n",
       "       dtype=torch.float64)"
      ]
     },
     "execution_count": 6,
     "metadata": {},
     "output_type": "execute_result"
    }
   ],
   "source": [
    "#create track_a_drift_torch\n",
    "track_a_drift_torch = track.make_track_a_drift(torch)\n",
    "# Outgoing particle\n",
    "p_out = track_a_drift_torch(p_in, d1)\n",
    "x_py = torch.hstack([p_out.x,p_out.px,p_out.y,p_out.py,p_out.z,p_out.pz]).detach()\n",
    "x_py"
   ]
  },
  {
   "cell_type": "code",
   "execution_count": 7,
   "id": "7a6c2d68-8d1e-4eaa-9fd0-aa67111276da",
   "metadata": {
    "tags": []
   },
   "outputs": [],
   "source": [
    "# bmad lattice for comparison\n",
    "tao = Tao('-lat '+repo_path+'/tests/bmad_lattices/test_drift.bmad -noplot')\n",
    "tao.cmd('set particle_start x='+str(pvec1[0]))\n",
    "tao.cmd('set particle_start px='+str(pvec1[1]))\n",
    "tao.cmd('set particle_start y='+str(pvec1[2]))\n",
    "tao.cmd('set particle_start py='+str(pvec1[3]))\n",
    "tao.cmd('set particle_start z='+str(pvec1[4]))\n",
    "tao.cmd('set particle_start pz='+str(pvec1[5]))\n",
    "orbit_out=tao.orbit_at_s(ele=1)\n",
    "#orbit_out"
   ]
  },
  {
   "cell_type": "code",
   "execution_count": 8,
   "id": "f986a53a-edc8-48cc-93b7-28911872bc94",
   "metadata": {},
   "outputs": [
    {
     "data": {
      "text/plain": [
       "tensor([5.006027114522930e-03, 3.000000000000000e-03, -4.002009038174310e-03,\n",
       "        -1.000000000000000e-03, 1.994652573892360e-03, -2.000000000000000e-03],\n",
       "       dtype=torch.float64)"
      ]
     },
     "execution_count": 8,
     "metadata": {},
     "output_type": "execute_result"
    }
   ],
   "source": [
    "# bmad outgoing particle\n",
    "x_tao = torch.tensor([orbit_out['x'],orbit_out['px'],orbit_out['y'],orbit_out['py'],orbit_out['z'],orbit_out['pz']],**tkwargs)\n",
    "x_tao"
   ]
  },
  {
   "cell_type": "code",
   "execution_count": 9,
   "id": "729e2c24-ee37-4d5b-8b76-81d1f5107dbf",
   "metadata": {},
   "outputs": [
    {
     "data": {
      "text/plain": [
       "True"
      ]
     },
     "execution_count": 9,
     "metadata": {},
     "output_type": "execute_result"
    }
   ],
   "source": [
    "torch.allclose(x_py, x_tao, atol=0, rtol=1.0e-14)"
   ]
  },
  {
   "cell_type": "markdown",
   "id": "d8fae022-eda1-4b37-89a3-48d9c9fc3ddb",
   "metadata": {
    "tags": []
   },
   "source": [
    "## Drift Jacobian test"
   ]
  },
  {
   "cell_type": "code",
   "execution_count": 10,
   "id": "062c3a71-b3b9-48b5-85a3-d332f716496d",
   "metadata": {},
   "outputs": [
    {
     "data": {
      "text/plain": [
       "tensor([[ 1.000000000000000e+00,  1.002018092527393e+00,  0.000000000000000e+00,\n",
       "         -3.018117694005117e-06,  0.000000000000000e+00, -3.012081458617107e-03],\n",
       "        [ 0.000000000000000e+00,  1.000000000000000e+00,  0.000000000000000e+00,\n",
       "          0.000000000000000e+00,  0.000000000000000e+00,  0.000000000000000e+00],\n",
       "        [ 0.000000000000000e+00, -3.018117694005117e-06,  1.000000000000000e+00,\n",
       "          1.002010044213542e+00,  0.000000000000000e+00,  1.004027152872369e-03],\n",
       "        [ 0.000000000000000e+00,  0.000000000000000e+00,  0.000000000000000e+00,\n",
       "          1.000000000000000e+00,  0.000000000000000e+00,  0.000000000000000e+00],\n",
       "        [ 0.000000000000000e+00, -3.012081458617106e-03,  0.000000000000000e+00,\n",
       "          1.004027152872369e-03,  1.000000000000000e+00,  1.742165247481025e-04],\n",
       "        [ 0.000000000000000e+00,  0.000000000000000e+00,  0.000000000000000e+00,\n",
       "          0.000000000000000e+00,  0.000000000000000e+00,  1.000000000000000e+00]],\n",
       "       dtype=torch.float64)"
      ]
     },
     "execution_count": 10,
     "metadata": {},
     "output_type": "execute_result"
    }
   ],
   "source": [
    "# autodiff Jacobian matrix\n",
    "f_drift = lambda x: track_a_drift_torch(track.Particle(*x, ts, tp0c, tmc2), d1)[:6]\n",
    "J = jacobian(f_drift, tvec1)\n",
    "mat_py = torch.vstack(J)\n",
    "mat_py"
   ]
  },
  {
   "cell_type": "code",
   "execution_count": 11,
   "id": "9f168d28-5c4a-4db0-a649-c8bde823496c",
   "metadata": {},
   "outputs": [
    {
     "data": {
      "text/plain": [
       "tensor([[ 1.000000000000000e+00,  1.002018092527390e+00,  0.000000000000000e+00,\n",
       "         -3.018117694005120e-06,  0.000000000000000e+00, -3.012081458617110e-03],\n",
       "        [ 0.000000000000000e+00,  1.000000000000000e+00,  0.000000000000000e+00,\n",
       "          0.000000000000000e+00,  0.000000000000000e+00,  0.000000000000000e+00],\n",
       "        [ 0.000000000000000e+00, -3.018117694005120e-06,  1.000000000000000e+00,\n",
       "          1.002010044213540e+00,  0.000000000000000e+00,  1.004027152872370e-03],\n",
       "        [ 0.000000000000000e+00,  0.000000000000000e+00,  0.000000000000000e+00,\n",
       "          1.000000000000000e+00,  0.000000000000000e+00,  0.000000000000000e+00],\n",
       "        [ 0.000000000000000e+00, -3.012081458617110e-03,  0.000000000000000e+00,\n",
       "          1.004027152872370e-03,  1.000000000000000e+00,  1.742165247481030e-04],\n",
       "        [ 0.000000000000000e+00,  0.000000000000000e+00,  0.000000000000000e+00,\n",
       "          0.000000000000000e+00,  0.000000000000000e+00,  1.000000000000000e+00]],\n",
       "       dtype=torch.float64)"
      ]
     },
     "execution_count": 11,
     "metadata": {},
     "output_type": "execute_result"
    }
   ],
   "source": [
    "# Bmad formula Jacobian\n",
    "drift_tao = tao.matrix(0,1)\n",
    "mat_tao = torch.tensor(drift_tao['mat6'], **tkwargs)\n",
    "mat_tao"
   ]
  },
  {
   "cell_type": "code",
   "execution_count": 12,
   "id": "4707f2f9-3e23-4497-9dda-78205b54965f",
   "metadata": {},
   "outputs": [
    {
     "data": {
      "text/plain": [
       "True"
      ]
     },
     "execution_count": 12,
     "metadata": {},
     "output_type": "execute_result"
    }
   ],
   "source": [
    "# is it close to Tao result?\n",
    "torch.allclose(mat_py, mat_tao, atol=0, rtol=1.0e-14)"
   ]
  },
  {
   "cell_type": "markdown",
   "id": "c3f3188a-39d8-4d68-bb0e-131a8dbb22a6",
   "metadata": {
    "tags": []
   },
   "source": [
    "# Quadrupole tests"
   ]
  },
  {
   "cell_type": "code",
   "execution_count": 13,
   "id": "9e48ff76-4946-4386-9a86-716f08cc1a8b",
   "metadata": {},
   "outputs": [],
   "source": [
    "def torch_quadrupole(L: torch.Tensor, K1: torch.Tensor, NUM_STEPS=1,\n",
    "                     X_OFFSET: torch.Tensor=torch.tensor(0.0,**tkwargs),\n",
    "                     Y_OFFSET: torch.Tensor=torch.tensor(0.0,**tkwargs),\n",
    "                     TILT: torch.Tensor=torch.tensor(0.0,**tkwargs)):\n",
    "    return track.Quadrupole(L=L, K1=K1, NUM_STEPS=NUM_STEPS, X_OFFSET=X_OFFSET,\n",
    "                            Y_OFFSET=Y_OFFSET, TILT=TILT)"
   ]
  },
  {
   "cell_type": "code",
   "execution_count": 14,
   "id": "5dcd7b1a-ba3f-4b45-a5e6-455650fd6598",
   "metadata": {
    "tags": []
   },
   "outputs": [
    {
     "data": {
      "text/plain": [
       "Quadrupole(L=tensor(1.000000000000000e-01, dtype=torch.float64), K1=tensor(1.000000000000000e+01, dtype=torch.float64), NUM_STEPS=1, X_OFFSET=tensor(0., dtype=torch.float64), Y_OFFSET=tensor(0., dtype=torch.float64), TILT=tensor(0., dtype=torch.float64))"
      ]
     },
     "execution_count": 14,
     "metadata": {},
     "output_type": "execute_result"
    }
   ],
   "source": [
    "# Create quad\n",
    "L = 0.1 #Length in m\n",
    "K1 = 10 #Quad focusing strength. Positive is focusing in x\n",
    "#NUM_STEPS = 1 #number of divisions for tracking. 1 is bmad default when there are no other multipoles\n",
    "q1 = torch_quadrupole(L=torch.tensor(L, **tkwargs), K1=torch.tensor(K1, **tkwargs))\n",
    "q1"
   ]
  },
  {
   "cell_type": "markdown",
   "id": "b73fdb87-f4bd-4b42-8ad9-6eb54030ad99",
   "metadata": {
    "tags": []
   },
   "source": [
    "## Quadrupole one particle test"
   ]
  },
  {
   "cell_type": "code",
   "execution_count": 15,
   "id": "0d16dea9-7c66-4c92-bd7e-b0bca1097b8f",
   "metadata": {},
   "outputs": [
    {
     "data": {
      "text/plain": [
       "tensor([2.196239719302552e-03, 8.841834264853368e-04, -3.253441973269224e-03,\n",
       "        -4.100871741572859e-03, 1.999394664225331e-03, -2.000000000000000e-03],\n",
       "       dtype=torch.float64)"
      ]
     },
     "execution_count": 15,
     "metadata": {},
     "output_type": "execute_result"
    }
   ],
   "source": [
    "# create track_a_quadrupole_torch\n",
    "track_a_quadrupole_torch = track.make_track_a_quadrupole(torch)\n",
    "# Outgoing particle\n",
    "p_out = track_a_quadrupole_torch(p_in, q1)\n",
    "x_py = torch.hstack(p_out[:6]).detach()\n",
    "x_py"
   ]
  },
  {
   "cell_type": "code",
   "execution_count": 16,
   "id": "7670ad81-5961-41bc-8719-1e23e97fb9a0",
   "metadata": {},
   "outputs": [],
   "source": [
    "# Bmad lattice to compare\n",
    "tao = Tao('-lat '+repo_path+'/tests/bmad_lattices/test_quad.bmad -noplot')\n",
    "tao.cmd('set particle_start x='+str(pvec1[0]))\n",
    "tao.cmd('set particle_start px='+str(pvec1[1]))\n",
    "tao.cmd('set particle_start y='+str(pvec1[2]))\n",
    "tao.cmd('set particle_start py='+str(pvec1[3]))\n",
    "tao.cmd('set particle_start z='+str(pvec1[4]))\n",
    "tao.cmd('set particle_start pz='+str(pvec1[5]))\n",
    "orbit_out = tao.orbit_at_s(ele=1)"
   ]
  },
  {
   "cell_type": "code",
   "execution_count": 17,
   "id": "82aa9e17-97ec-4556-93d1-2f54163d7f35",
   "metadata": {},
   "outputs": [
    {
     "data": {
      "text/plain": [
       "tensor([2.196239719302550e-03, 8.841834264853370e-04, -3.253441973269220e-03,\n",
       "        -4.100871741572860e-03, 1.999394664225330e-03, -2.000000000000000e-03],\n",
       "       dtype=torch.float64)"
      ]
     },
     "execution_count": 17,
     "metadata": {},
     "output_type": "execute_result"
    }
   ],
   "source": [
    "# Bmad outgoing particle\n",
    "x_tao = torch.tensor([orbit_out['x'],orbit_out['px'],orbit_out['y'],orbit_out['py'],orbit_out['z'],orbit_out['pz']],**tkwargs)\n",
    "x_tao"
   ]
  },
  {
   "cell_type": "code",
   "execution_count": 18,
   "id": "0174f8be-14cc-4aab-8b10-cecb0f044eb3",
   "metadata": {},
   "outputs": [
    {
     "data": {
      "text/plain": [
       "True"
      ]
     },
     "execution_count": 18,
     "metadata": {},
     "output_type": "execute_result"
    }
   ],
   "source": [
    "# close to Tao result?\n",
    "torch.allclose(x_py, x_tao, atol=0, rtol=1.0e-14)"
   ]
  },
  {
   "cell_type": "markdown",
   "id": "18d8ab23-f846-44e9-88c9-987b2267f9a1",
   "metadata": {
    "tags": []
   },
   "source": [
    "## Quadrupole Jacobian test"
   ]
  },
  {
   "cell_type": "code",
   "execution_count": 19,
   "id": "ea343dea-8c1f-4ce8-8d5c-3aa0f89d9812",
   "metadata": {},
   "outputs": [
    {
     "data": {
      "text/plain": [
       "tensor([[ 9.503167431875498e-01,  9.853541097581728e-02,  0.000000000000000e+00,\n",
       "          0.000000000000000e+00,  0.000000000000000e+00, -1.924858550317723e-04],\n",
       "        [-9.833834015386563e-01,  9.503167431875498e-01, -0.000000000000000e+00,\n",
       "          0.000000000000000e+00,  0.000000000000000e+00,  1.149663908944082e-04],\n",
       "        [ 0.000000000000000e+00,  0.000000000000000e+00,  1.050519938506054e+00,\n",
       "          1.018821577510623e-01,  0.000000000000000e+00,  2.569093937337833e-04],\n",
       "        [-0.000000000000000e+00,  0.000000000000000e+00,  1.016783934355602e+00,\n",
       "          1.050519938506054e+00,  0.000000000000000e+00,  1.017485822657404e-04],\n",
       "        [ 8.003290869842023e-05, -1.942507914386516e-04,  1.543324297486644e-04,\n",
       "          2.595220753974964e-04,  1.000000000000000e+00,  1.756709202142694e-05],\n",
       "        [ 0.000000000000000e+00,  0.000000000000000e+00,  0.000000000000000e+00,\n",
       "          0.000000000000000e+00,  0.000000000000000e+00,  1.000000000000000e+00]],\n",
       "       dtype=torch.float64)"
      ]
     },
     "execution_count": 19,
     "metadata": {},
     "output_type": "execute_result"
    }
   ],
   "source": [
    "# autodiff Jacobian matrix\n",
    "f_quadrupole = lambda x: track_a_quadrupole_torch(track.Particle(*x,ts, tp0c, tmc2), q1)[:6]\n",
    "J = jacobian(f_quadrupole, tvec1)\n",
    "mat_py = torch.vstack(J)\n",
    "mat_py"
   ]
  },
  {
   "cell_type": "code",
   "execution_count": 20,
   "id": "9e6cd8cc-4f9d-4072-a48b-b27961ad5762",
   "metadata": {},
   "outputs": [
    {
     "data": {
      "text/plain": [
       "tensor([[ 9.503167431875500e-01,  9.853541097581731e-02,  0.000000000000000e+00,\n",
       "          0.000000000000000e+00,  0.000000000000000e+00, -1.924858550317720e-04],\n",
       "        [-9.833834015386560e-01,  9.503167431875500e-01,  0.000000000000000e+00,\n",
       "          0.000000000000000e+00,  0.000000000000000e+00,  1.149663908944080e-04],\n",
       "        [ 0.000000000000000e+00,  0.000000000000000e+00,  1.050519938506050e+00,\n",
       "          1.018821577510620e-01,  0.000000000000000e+00,  2.569093937337830e-04],\n",
       "        [ 0.000000000000000e+00,  0.000000000000000e+00,  1.016783934355600e+00,\n",
       "          1.050519938506050e+00,  0.000000000000000e+00,  1.017485822657410e-04],\n",
       "        [ 8.003290869842020e-05, -1.942507914386520e-04,  1.543324297486640e-04,\n",
       "          2.595220753974960e-04,  1.000000000000000e+00,  1.756709202142690e-05],\n",
       "        [ 0.000000000000000e+00,  0.000000000000000e+00,  0.000000000000000e+00,\n",
       "          0.000000000000000e+00,  0.000000000000000e+00,  1.000000000000000e+00]],\n",
       "       dtype=torch.float64)"
      ]
     },
     "execution_count": 20,
     "metadata": {},
     "output_type": "execute_result"
    }
   ],
   "source": [
    "# Bmad formula Jacobian\n",
    "quad_tao = tao.matrix(0,1)\n",
    "mat_tao = torch.tensor(quad_tao['mat6'], **tkwargs)\n",
    "mat_tao"
   ]
  },
  {
   "cell_type": "code",
   "execution_count": 21,
   "id": "daea008b-7368-4f75-9fe0-fb3de156d68f",
   "metadata": {},
   "outputs": [
    {
     "data": {
      "text/plain": [
       "True"
      ]
     },
     "execution_count": 21,
     "metadata": {},
     "output_type": "execute_result"
    }
   ],
   "source": [
    "# close to Tao result?\n",
    "torch.allclose(mat_py, mat_tao, atol=0, rtol=1.0e-14)"
   ]
  },
  {
   "cell_type": "markdown",
   "id": "f973149b-da83-4b8c-9da4-88b4578c9ebe",
   "metadata": {
    "tags": []
   },
   "source": [
    "## Quadrupole offset test"
   ]
  },
  {
   "cell_type": "code",
   "execution_count": 22,
   "id": "4542eae6-b1b7-4438-a985-fe7733144f54",
   "metadata": {},
   "outputs": [],
   "source": [
    "# Quad params\n",
    "L = 0.1 #Length in m\n",
    "K1 = 10 #Quad focusing strength. Positive is focusing in x\n",
    "\n",
    "# quad w/o offsets\n",
    "q_no_off = torch_quadrupole(L=torch.tensor(L, **tkwargs), K1=torch.tensor(K1, **tkwargs))\n",
    "# quad with offsets\n",
    "x_off = 1e-3\n",
    "y_off = -2e-3\n",
    "q_off = torch_quadrupole(L=torch.tensor(L, **tkwargs), K1=torch.tensor(K1, **tkwargs), \n",
    "                         X_OFFSET=torch.tensor(x_off, **tkwargs),\n",
    "                         Y_OFFSET=torch.tensor(y_off, **tkwargs) )"
   ]
  },
  {
   "cell_type": "code",
   "execution_count": 23,
   "id": "eef795f4-4537-4430-853f-fa81c201a181",
   "metadata": {},
   "outputs": [
    {
     "data": {
      "text/plain": [
       "tensor([2.196239719302552e-03, 8.841834264853368e-04, -3.253441973269224e-03,\n",
       "        -4.100871741572859e-03, 1.999394664225331e-03, -2.000000000000000e-03],\n",
       "       dtype=torch.float64)"
      ]
     },
     "execution_count": 23,
     "metadata": {},
     "output_type": "execute_result"
    }
   ],
   "source": [
    "# Outgoing particle no offset\n",
    "p_out = track_a_quadrupole_torch(p_in, q_no_off)\n",
    "x_py = torch.hstack(p_out[:6]).detach()\n",
    "x_py"
   ]
  },
  {
   "cell_type": "code",
   "execution_count": 24,
   "id": "7d5f8fdd-2fe1-4e40-a4e8-4547779a8cf3",
   "metadata": {},
   "outputs": [
    {
     "data": {
      "text/plain": [
       "tensor([2.245922976115002e-03, 1.867566828023993e-03, -3.152402096257116e-03,\n",
       "        -2.067303872861656e-03, 1.999538606428305e-03, -2.000000000000000e-03],\n",
       "       dtype=torch.float64)"
      ]
     },
     "execution_count": 24,
     "metadata": {},
     "output_type": "execute_result"
    }
   ],
   "source": [
    "# Outgoing particle offset\n",
    "p_out = track_a_quadrupole_torch(p_in, q_off)\n",
    "x_py = torch.hstack(p_out[:6]).detach()\n",
    "x_py"
   ]
  },
  {
   "cell_type": "code",
   "execution_count": 25,
   "id": "3d6da4fc-be97-465f-923e-9b89394ed2fa",
   "metadata": {},
   "outputs": [
    {
     "name": "stdout",
     "output_type": "stream",
     "text": [
      "CPU times: user 22.8 ms, sys: 4.95 ms, total: 27.7 ms\n",
      "Wall time: 29.9 ms\n"
     ]
    }
   ],
   "source": [
    "%%time\n",
    "# Bmad lattice to compare\n",
    "tao = Tao('-lat '+repo_path+'/tests/bmad_lattices/test_quad_offset.bmad -noplot')\n",
    "tao.cmd('set particle_start x='+str(pvec1[0]))\n",
    "tao.cmd('set particle_start px='+str(pvec1[1]))\n",
    "tao.cmd('set particle_start y='+str(pvec1[2]))\n",
    "tao.cmd('set particle_start py='+str(pvec1[3]))\n",
    "tao.cmd('set particle_start z='+str(pvec1[4]))\n",
    "tao.cmd('set particle_start pz='+str(pvec1[5]))\n",
    "orbit_out = tao.orbit_at_s(ele=1)"
   ]
  },
  {
   "cell_type": "code",
   "execution_count": 26,
   "id": "54771004-092a-4669-9429-7b33b867dbea",
   "metadata": {
    "tags": []
   },
   "outputs": [
    {
     "data": {
      "text/plain": [
       "tensor([2.245922976115000e-03, 1.867566828023990e-03, -3.152402096257120e-03,\n",
       "        -2.067303872861660e-03, 1.999538606428300e-03, -2.000000000000000e-03],\n",
       "       dtype=torch.float64)"
      ]
     },
     "execution_count": 26,
     "metadata": {},
     "output_type": "execute_result"
    }
   ],
   "source": [
    "# Bmad outgoing particle\n",
    "x_tao = torch.tensor([orbit_out['x'],orbit_out['px'],orbit_out['y'],orbit_out['py'],orbit_out['z'],orbit_out['pz']],**tkwargs)\n",
    "x_tao"
   ]
  },
  {
   "cell_type": "code",
   "execution_count": 27,
   "id": "fda592ee-2116-436b-a46a-2d7be549a8f5",
   "metadata": {},
   "outputs": [
    {
     "data": {
      "text/plain": [
       "True"
      ]
     },
     "execution_count": 27,
     "metadata": {},
     "output_type": "execute_result"
    }
   ],
   "source": [
    "# close to Tao result?\n",
    "torch.allclose(x_py, x_tao, atol=0, rtol=1.0e-14)"
   ]
  },
  {
   "cell_type": "markdown",
   "id": "f8d7bedf-6116-41d3-8eac-5a3000e2b7bb",
   "metadata": {
    "tags": []
   },
   "source": [
    "## Quadrupole tilt test (transverse rotation)"
   ]
  },
  {
   "cell_type": "code",
   "execution_count": 28,
   "id": "e7873687-1fee-4033-91b1-f3090a4d166d",
   "metadata": {},
   "outputs": [],
   "source": [
    "# Quad params\n",
    "L = 0.1 #Length in m\n",
    "K1 = 10 #Quad focusing strength. Positive is focusing in x\n",
    "\n",
    "# quad w/o tilt\n",
    "q_no_tilt = torch_quadrupole(L=torch.tensor(L, **tkwargs), K1=torch.tensor(K1, **tkwargs))\n",
    "# quad with tilt\n",
    "tilt = 0.3\n",
    "q_tilt = torch_quadrupole(L=torch.tensor(L, **tkwargs), K1=torch.tensor(K1, **tkwargs),\n",
    "                          TILT = torch.tensor(tilt, **tkwargs))"
   ]
  },
  {
   "cell_type": "code",
   "execution_count": 29,
   "id": "500e6c60-e125-49f3-8417-0bed6931112e",
   "metadata": {},
   "outputs": [
    {
     "data": {
      "text/plain": [
       "tensor([2.196239719302552e-03, 8.841834264853368e-04, -3.253441973269224e-03,\n",
       "        -4.100871741572859e-03, 1.999394664225331e-03, -2.000000000000000e-03],\n",
       "       dtype=torch.float64)"
      ]
     },
     "execution_count": 29,
     "metadata": {},
     "output_type": "execute_result"
    }
   ],
   "source": [
    "# Outgoing particle no tilt\n",
    "p_out = track_a_quadrupole_torch(p_in, q_no_tilt)\n",
    "x_py = torch.hstack(p_out[:6]).detach()\n",
    "x_py"
   ]
  },
  {
   "cell_type": "code",
   "execution_count": 30,
   "id": "d2e966bb-05fa-46f8-9ad0-3d56a85c625a",
   "metadata": {},
   "outputs": [
    {
     "data": {
      "text/plain": [
       "tensor([2.300431812756860e-03, 2.982152956166943e-03, -3.286310353406088e-03,\n",
       "        -4.782331681936468e-03, 1.999046404985869e-03, -2.000000000000000e-03],\n",
       "       dtype=torch.float64)"
      ]
     },
     "execution_count": 30,
     "metadata": {},
     "output_type": "execute_result"
    }
   ],
   "source": [
    "# Outgoing particle tilt\n",
    "p_out = track_a_quadrupole_torch(track.Particle(*tvec1,ts, tp0c, tmc2), q_tilt)\n",
    "x_py = torch.hstack(p_out[:6]).detach()\n",
    "x_py"
   ]
  },
  {
   "cell_type": "code",
   "execution_count": 31,
   "id": "eef6f7ec-81ae-4109-96b6-179c6e2fdb0d",
   "metadata": {},
   "outputs": [
    {
     "name": "stdout",
     "output_type": "stream",
     "text": [
      "CPU times: user 26.2 ms, sys: 3.81 ms, total: 30 ms\n",
      "Wall time: 32.1 ms\n"
     ]
    }
   ],
   "source": [
    "%%time\n",
    "# Bmad lattice to compare\n",
    "tao = Tao('-lat '+repo_path+'/tests/bmad_lattices/test_quad_tilt.bmad -noplot')\n",
    "tao.cmd('set particle_start x='+str(pvec1[0]))\n",
    "tao.cmd('set particle_start px='+str(pvec1[1]))\n",
    "tao.cmd('set particle_start y='+str(pvec1[2]))\n",
    "tao.cmd('set particle_start py='+str(pvec1[3]))\n",
    "tao.cmd('set particle_start z='+str(pvec1[4]))\n",
    "tao.cmd('set particle_start pz='+str(pvec1[5]))\n",
    "orbit_out = tao.orbit_at_s(ele=1)"
   ]
  },
  {
   "cell_type": "code",
   "execution_count": 32,
   "id": "91c33264-efb9-438f-9d4b-778fabe27616",
   "metadata": {},
   "outputs": [
    {
     "data": {
      "text/plain": [
       "tensor([2.300431812756860e-03, 2.982152956166940e-03, -3.286310353406090e-03,\n",
       "        -4.782331681936470e-03, 1.999046404985870e-03, -2.000000000000000e-03],\n",
       "       dtype=torch.float64)"
      ]
     },
     "execution_count": 32,
     "metadata": {},
     "output_type": "execute_result"
    }
   ],
   "source": [
    "# Bmad outgoing particle\n",
    "x_tao = torch.tensor([orbit_out['x'],orbit_out['px'],orbit_out['y'],orbit_out['py'],orbit_out['z'],orbit_out['pz']],**tkwargs)\n",
    "x_tao"
   ]
  },
  {
   "cell_type": "code",
   "execution_count": 33,
   "id": "7ee01084-9bf2-4f96-988a-72523ff39f66",
   "metadata": {},
   "outputs": [
    {
     "data": {
      "text/plain": [
       "True"
      ]
     },
     "execution_count": 33,
     "metadata": {},
     "output_type": "execute_result"
    }
   ],
   "source": [
    "# close to Tao result?\n",
    "torch.allclose(x_py, x_tao, atol=0, rtol=1.0e-14)"
   ]
  },
  {
   "cell_type": "markdown",
   "id": "bb2c4002-6b17-4768-a52c-7653b2c7404b",
   "metadata": {},
   "source": [
    "# Crab_Cavity tests"
   ]
  },
  {
   "cell_type": "code",
   "execution_count": 34,
   "id": "4fa1a040-79ec-4726-a7f7-d45eacf3283b",
   "metadata": {},
   "outputs": [],
   "source": [
    "def torch_crab_cavity(L: torch.Tensor, VOLTAGE: torch.Tensor,\n",
    "                      PHI0: torch.Tensor, RF_FREQUENCY: torch.Tensor,\n",
    "                      X_OFFSET: torch.Tensor=torch.tensor(0.0,**tkwargs),\n",
    "                      Y_OFFSET: torch.Tensor=torch.tensor(0.0,**tkwargs),\n",
    "                      TILT: torch.Tensor=torch.tensor(0.0,**tkwargs)):\n",
    "    return track.CrabCavity(L=L, VOLTAGE=VOLTAGE, PHI0=PHI0,\n",
    "                            RF_FREQUENCY=RF_FREQUENCY, X_OFFSET=X_OFFSET,\n",
    "                            Y_OFFSET=Y_OFFSET, TILT=TILT)"
   ]
  },
  {
   "cell_type": "code",
   "execution_count": 35,
   "id": "3d9734e1-68f4-4d04-bfa4-69558d320996",
   "metadata": {},
   "outputs": [
    {
     "data": {
      "text/plain": [
       "CrabCavity(L=tensor(2.000000000000000e-01, dtype=torch.float64), VOLTAGE=tensor(1.000000000000000e+04, dtype=torch.float64), PHI0=tensor(5.000000000000000e-01, dtype=torch.float64), RF_FREQUENCY=tensor(1.000000000000000e+09, dtype=torch.float64), X_OFFSET=tensor(0., dtype=torch.float64), Y_OFFSET=tensor(0., dtype=torch.float64), TILT=tensor(0., dtype=torch.float64))"
      ]
     },
     "execution_count": 35,
     "metadata": {},
     "output_type": "execute_result"
    }
   ],
   "source": [
    "# Create cavity\n",
    "L = 0.2\n",
    "voltage = 1.0e4\n",
    "phi0 = 0.5\n",
    "rf = 1.0e9\n",
    "cav = torch_crab_cavity(L=torch.tensor(L, **tkwargs),\n",
    "                        VOLTAGE=torch.tensor(voltage, **tkwargs),\n",
    "                        PHI0=torch.tensor(phi0, **tkwargs),\n",
    "                        RF_FREQUENCY=torch.tensor(rf, **tkwargs))\n",
    "cav"
   ]
  },
  {
   "cell_type": "markdown",
   "id": "fc5fa6e5-3613-4c64-977d-c8c8caf1b592",
   "metadata": {},
   "source": [
    "## Crab_cavity one particle test"
   ]
  },
  {
   "cell_type": "code",
   "execution_count": 36,
   "id": "8443c9f2-aa5d-45d2-9109-730bf8d985b3",
   "metadata": {},
   "outputs": [
    {
     "data": {
      "text/plain": [
       "tensor([2.600159503009856e-03, 2.989525785200116e-03, -3.200403013811110e-03,\n",
       "        -1.000000000000000e-03, 1.998933450470348e-03, -2.012044669173099e-03],\n",
       "       dtype=torch.float64)"
      ]
     },
     "execution_count": 36,
     "metadata": {},
     "output_type": "execute_result"
    }
   ],
   "source": [
    "# create track_a_crab_cavity_torch\n",
    "track_a_crab_cavity_torch = track.make_track_a_crab_cavity(torch)\n",
    "# Outgoing particle\n",
    "p_out = track_a_crab_cavity_torch(p_in, cav)\n",
    "#p_out\n",
    "x_py = torch.hstack(p_out[:6]).detach()\n",
    "x_py"
   ]
  },
  {
   "cell_type": "code",
   "execution_count": 37,
   "id": "f6fb4e2c-c0a4-4bb7-9c57-a2c4b72d47c6",
   "metadata": {},
   "outputs": [],
   "source": [
    "# Bmad lattice to compare\n",
    "tao = Tao('-lat '+repo_path+'/tests/bmad_lattices/test_crab_cavity.bmad -noplot')\n",
    "tao.cmd('set particle_start x='+str(pvec1[0]))\n",
    "tao.cmd('set particle_start px='+str(pvec1[1]))\n",
    "tao.cmd('set particle_start y='+str(pvec1[2]))\n",
    "tao.cmd('set particle_start py='+str(pvec1[3]))\n",
    "tao.cmd('set particle_start z='+str(pvec1[4]))\n",
    "tao.cmd('set particle_start pz='+str(pvec1[5]))\n",
    "orbit_out = tao.orbit_at_s(ele=1)"
   ]
  },
  {
   "cell_type": "code",
   "execution_count": 38,
   "id": "ca5eb104-b9fa-4e7d-aef6-283d8dc5d902",
   "metadata": {},
   "outputs": [
    {
     "data": {
      "text/plain": [
       "tensor([2.600159503009860e-03, 2.989525785200120e-03, -3.200403013811110e-03,\n",
       "        -1.000000000000000e-03, 1.998933450470350e-03, -2.012044669173100e-03],\n",
       "       dtype=torch.float64)"
      ]
     },
     "execution_count": 38,
     "metadata": {},
     "output_type": "execute_result"
    }
   ],
   "source": [
    "# Bmad outgoing particle\n",
    "x_tao = torch.tensor([orbit_out['x'],orbit_out['px'],orbit_out['y'],orbit_out['py'],orbit_out['z'],orbit_out['pz']],**tkwargs)\n",
    "x_tao"
   ]
  },
  {
   "cell_type": "code",
   "execution_count": 39,
   "id": "166f4fff-bc17-4098-ba28-ed0ee121174e",
   "metadata": {},
   "outputs": [
    {
     "data": {
      "text/plain": [
       "True"
      ]
     },
     "execution_count": 39,
     "metadata": {},
     "output_type": "execute_result"
    }
   ],
   "source": [
    "# close to Tao result?\n",
    "torch.allclose(x_py, x_tao, atol=0, rtol=1.0e-14)"
   ]
  },
  {
   "cell_type": "markdown",
   "id": "6cba34c7-84d1-4174-a9cc-51ec5bca5379",
   "metadata": {},
   "source": [
    "## Crab_cavity Jacobian test"
   ]
  },
  {
   "cell_type": "code",
   "execution_count": 40,
   "id": "df914c77-c924-4c3f-8042-61d850cbfb6b",
   "metadata": {},
   "outputs": [
    {
     "data": {
      "text/plain": [
       "tensor([[ 1.000001571489388e+00,  2.004051338856653e-01,  0.000000000000000e+00,\n",
       "         -6.552534052264527e-07, -5.246100940167111e-04, -6.013813103820471e-04],\n",
       "        [ 0.000000000000000e+00,  1.000001576957398e+00,  0.000000000000000e+00,\n",
       "         -5.256524659788450e-07, -5.235440739575950e-03, -8.949162872176157e-08],\n",
       "        [-5.256651057680826e-07, -6.552540421507948e-07,  1.000000000000000e+00,\n",
       "          2.004032150230133e-01,  2.637597029868803e-09,  2.008080032283205e-04],\n",
       "        [ 0.000000000000000e+00,  0.000000000000000e+00,  0.000000000000000e+00,\n",
       "          1.000000000000000e+00, -0.000000000000000e+00,  0.000000000000000e+00],\n",
       "        [-9.289874897604998e-08, -6.013816504874850e-04, -0.000000000000000e+00,\n",
       "          2.008080022802770e-04,  1.000001569699991e+00,  3.483769060576969e-05],\n",
       "        [-5.235440749927688e-03, -5.246038241196926e-04, -0.000000000000000e+00,\n",
       "          2.643031443043208e-09,  1.058650459477272e-05,  1.000001579115604e+00]],\n",
       "       dtype=torch.float64)"
      ]
     },
     "execution_count": 40,
     "metadata": {},
     "output_type": "execute_result"
    }
   ],
   "source": [
    "# autodiff Jacobian matrix\n",
    "f_crab_cavity = lambda x: track_a_crab_cavity_torch(track.Particle(*x,ts, tp0c, tmc2), cav)[:6]\n",
    "J = jacobian(f_crab_cavity, tvec1)\n",
    "mat_py = torch.vstack(J)\n",
    "mat_py"
   ]
  },
  {
   "cell_type": "code",
   "execution_count": 41,
   "id": "0cb14d82-ae25-402d-acd5-c879c6ceae30",
   "metadata": {},
   "outputs": [
    {
     "data": {
      "text/plain": [
       "tensor([[ 1.000001571489390e+00,  2.004051338856650e-01,  0.000000000000000e+00,\n",
       "         -6.552534052264531e-07, -5.246100940167110e-04, -6.013813103820470e-04],\n",
       "        [ 0.000000000000000e+00,  1.000001576957400e+00,  0.000000000000000e+00,\n",
       "         -5.256524659788450e-07, -5.235440739575950e-03, -8.949162872175810e-08],\n",
       "        [-5.256651057680830e-07, -6.552540421507950e-07,  1.000000000000000e+00,\n",
       "          2.004032150230130e-01,  2.637597029868800e-09,  2.008080032283200e-04],\n",
       "        [ 0.000000000000000e+00,  0.000000000000000e+00,  0.000000000000000e+00,\n",
       "          1.000000000000000e+00,  0.000000000000000e+00,  0.000000000000000e+00],\n",
       "        [-9.289874897604990e-08, -6.013816504874850e-04,  0.000000000000000e+00,\n",
       "          2.008080022802770e-04,  1.000001569699990e+00,  3.483769060576920e-05],\n",
       "        [-5.235440749927690e-03, -5.246038241196930e-04,  0.000000000000000e+00,\n",
       "          2.643031443043210e-09,  1.058650459477270e-05,  1.000001579115600e+00]],\n",
       "       dtype=torch.float64)"
      ]
     },
     "execution_count": 41,
     "metadata": {},
     "output_type": "execute_result"
    }
   ],
   "source": [
    "# Bmad formula Jacobian\n",
    "cav_tao = tao.matrix(0,1)\n",
    "mat_tao = torch.tensor(cav_tao['mat6'], **tkwargs)\n",
    "mat_tao"
   ]
  },
  {
   "cell_type": "code",
   "execution_count": 42,
   "id": "559f4dce-229e-4a33-8e42-819449e0d19f",
   "metadata": {
    "tags": []
   },
   "outputs": [
    {
     "data": {
      "text/plain": [
       "True"
      ]
     },
     "execution_count": 42,
     "metadata": {},
     "output_type": "execute_result"
    }
   ],
   "source": [
    "# close to Tao result up to 13th decimal place\n",
    "torch.allclose(mat_py, mat_tao, atol=0, rtol=1.0e-13)"
   ]
  },
  {
   "cell_type": "code",
   "execution_count": 43,
   "id": "4e1d4df3-7b43-48a8-9135-deb761da0c04",
   "metadata": {
    "tags": []
   },
   "outputs": [
    {
     "data": {
      "text/plain": [
       "tensor([[ True,  True,  True,  True,  True,  True],\n",
       "        [ True,  True,  True,  True,  True, False],\n",
       "        [ True,  True,  True,  True,  True,  True],\n",
       "        [ True,  True,  True,  True,  True,  True],\n",
       "        [ True,  True,  True,  True,  True, False],\n",
       "        [ True,  True,  True,  True,  True,  True]])"
      ]
     },
     "execution_count": 43,
     "metadata": {},
     "output_type": "execute_result"
    }
   ],
   "source": [
    "# but not up to 14th decimal place\n",
    "torch.isclose(mat_py, mat_tao, atol=0, rtol=1e-14)"
   ]
  },
  {
   "cell_type": "markdown",
   "id": "e0c8100c-e605-4d9e-b12e-f02375e03be9",
   "metadata": {
    "tags": []
   },
   "source": [
    "## Crab_cavity offset test"
   ]
  },
  {
   "cell_type": "code",
   "execution_count": 44,
   "id": "610c4ccc-88a0-4f7c-bdb9-2c6dec6a6458",
   "metadata": {},
   "outputs": [],
   "source": [
    "# Cavity params\n",
    "L = 0.2\n",
    "voltage = 1.0e3\n",
    "phi0 = 0.5\n",
    "rf = 1.0e9\n",
    "\n",
    "# cav w/o offsets\n",
    "cav_no_off = torch_crab_cavity(L=torch.tensor(L, **tkwargs),\n",
    "                               VOLTAGE=torch.tensor(voltage, **tkwargs),\n",
    "                               PHI0=torch.tensor(phi0, **tkwargs),\n",
    "                               RF_FREQUENCY=torch.tensor(rf, **tkwargs))\n",
    "\n",
    "#cav with offsets\n",
    "x_off = 1e-3\n",
    "y_off = -2e-3\n",
    "cav_off = torch_crab_cavity(L=torch.tensor(L, **tkwargs),\n",
    "                            VOLTAGE=torch.tensor(voltage, **tkwargs),\n",
    "                            PHI0=torch.tensor(phi0, **tkwargs),\n",
    "                            RF_FREQUENCY=torch.tensor(rf, **tkwargs),\n",
    "                            X_OFFSET=torch.tensor(x_off, **tkwargs),\n",
    "                            Y_OFFSET=torch.tensor(y_off, **tkwargs))"
   ]
  },
  {
   "cell_type": "code",
   "execution_count": 45,
   "id": "a7a31988-a34e-4115-ae37-f241019894d7",
   "metadata": {},
   "outputs": [
    {
     "data": {
      "text/plain": [
       "tensor([2.601100832046753e-03, 2.998952578520011e-03, -3.200401928250687e-03,\n",
       "        -1.000000000000000e-03, 1.998930808836860e-03, -2.001204466916434e-03],\n",
       "       dtype=torch.float64)"
      ]
     },
     "execution_count": 45,
     "metadata": {},
     "output_type": "execute_result"
    }
   ],
   "source": [
    "# Outgoing particle no offset\n",
    "p_out = track_a_crab_cavity_torch(p_in, cav_no_off)\n",
    "x_py = torch.hstack(p_out[:6]).detach()\n",
    "x_py"
   ]
  },
  {
   "cell_type": "code",
   "execution_count": 46,
   "id": "259c7c46-f77b-42bc-b4c3-84cba1a515ca",
   "metadata": {},
   "outputs": [
    {
     "data": {
      "text/plain": [
       "tensor([2.601100674405775e-03, 2.998952578520011e-03, -3.200401875685341e-03,\n",
       "        -1.000000000000000e-03, 1.998930818129399e-03, -2.000680922842398e-03],\n",
       "       dtype=torch.float64)"
      ]
     },
     "execution_count": 46,
     "metadata": {},
     "output_type": "execute_result"
    }
   ],
   "source": [
    "# Outgoing particle offset\n",
    "p_out = track_a_crab_cavity_torch(track.Particle(*tvec1,ts, tp0c, tmc2), cav_off)\n",
    "x_py = torch.hstack(p_out[:6]).detach()\n",
    "x_py"
   ]
  },
  {
   "cell_type": "code",
   "execution_count": 47,
   "id": "1e75081a-5ee6-4769-ab3a-925da2812147",
   "metadata": {},
   "outputs": [],
   "source": [
    "# Bmad lattice to compare\n",
    "tao = Tao('-lat '+repo_path+'/tests/bmad_lattices/test_crab_cavity_offset.bmad -noplot')\n",
    "tao.cmd('set particle_start x='+str(pvec1[0]))\n",
    "tao.cmd('set particle_start px='+str(pvec1[1]))\n",
    "tao.cmd('set particle_start y='+str(pvec1[2]))\n",
    "tao.cmd('set particle_start py='+str(pvec1[3]))\n",
    "tao.cmd('set particle_start z='+str(pvec1[4]))\n",
    "tao.cmd('set particle_start pz='+str(pvec1[5]))\n",
    "orbit_out = tao.orbit_at_s(ele=1)"
   ]
  },
  {
   "cell_type": "code",
   "execution_count": 48,
   "id": "3ed4736e-e777-40c4-9e71-1d8e5cd77c62",
   "metadata": {},
   "outputs": [
    {
     "data": {
      "text/plain": [
       "tensor([2.601100674405770e-03, 2.998952578520010e-03, -3.200401875685340e-03,\n",
       "        -1.000000000000000e-03, 1.998930818129400e-03, -2.000680922842400e-03],\n",
       "       dtype=torch.float64)"
      ]
     },
     "execution_count": 48,
     "metadata": {},
     "output_type": "execute_result"
    }
   ],
   "source": [
    "# Bmad outgoing particle\n",
    "x_tao = torch.tensor([orbit_out['x'],orbit_out['px'],orbit_out['y'],orbit_out['py'],orbit_out['z'],orbit_out['pz']],**tkwargs)\n",
    "x_tao"
   ]
  },
  {
   "cell_type": "code",
   "execution_count": 49,
   "id": "cb11edd9-764f-48d1-9ac2-00faddd5e33f",
   "metadata": {
    "tags": []
   },
   "outputs": [
    {
     "data": {
      "text/plain": [
       "True"
      ]
     },
     "execution_count": 49,
     "metadata": {},
     "output_type": "execute_result"
    }
   ],
   "source": [
    "# close to Tao result?\n",
    "torch.allclose(x_py, x_tao, atol=0, rtol=1.0e-14)"
   ]
  },
  {
   "cell_type": "markdown",
   "id": "21dc9574-1086-4549-af96-1f1972fbeced",
   "metadata": {},
   "source": [
    "## Crab_cavity tilt test"
   ]
  },
  {
   "cell_type": "code",
   "execution_count": 50,
   "id": "d015a01e-cfba-49df-b581-c6795bc8106a",
   "metadata": {},
   "outputs": [],
   "source": [
    "# Cavity params\n",
    "L = 0.2 #Length in m\n",
    "voltage = 1.0e3 #Quad focusing strength. Positive is focusing in x\n",
    "phi0 = 0.5\n",
    "rf = 1.0e9\n",
    "\n",
    "# cav w/o tilt\n",
    "cav_no_tilt = torch_crab_cavity(L=torch.tensor(L, **tkwargs),\n",
    "                                VOLTAGE=torch.tensor(voltage, **tkwargs),\n",
    "                                PHI0=torch.tensor(phi0, **tkwargs),\n",
    "                                RF_FREQUENCY=torch.tensor(rf, **tkwargs))\n",
    "\n",
    "#cav with tilt\n",
    "x_off = 1e-3\n",
    "y_off = -2e-3\n",
    "tilt = 0.3\n",
    "cav_tilt = torch_crab_cavity(L=torch.tensor(L, **tkwargs),\n",
    "                             VOLTAGE=torch.tensor(voltage, **tkwargs),\n",
    "                             PHI0=torch.tensor(phi0, **tkwargs),\n",
    "                             RF_FREQUENCY=torch.tensor(rf, **tkwargs),\n",
    "                             TILT=torch.tensor(tilt, **tkwargs))"
   ]
  },
  {
   "cell_type": "code",
   "execution_count": 51,
   "id": "943a2c42-010d-49fb-9363-1085155c89fc",
   "metadata": {},
   "outputs": [
    {
     "data": {
      "text/plain": [
       "tensor([2.601100832046753e-03, 2.998952578520011e-03, -3.200401928250687e-03,\n",
       "        -1.000000000000000e-03, 1.998930808836860e-03, -2.001204466916434e-03],\n",
       "       dtype=torch.float64)"
      ]
     },
     "execution_count": 51,
     "metadata": {},
     "output_type": "execute_result"
    }
   ],
   "source": [
    "# Outgoing particle no offset\n",
    "p_out = track_a_crab_cavity_torch(p_in, cav_no_tilt)\n",
    "x_py = torch.hstack(p_out[:6]).detach()\n",
    "x_py"
   ]
  },
  {
   "cell_type": "code",
   "execution_count": 52,
   "id": "e2e55acc-54e0-4509-9c57-968a723d1d9d",
   "metadata": {},
   "outputs": [
    {
     "data": {
      "text/plain": [
       "tensor([2.601105359111942e-03, 2.998999360040673e-03, -3.200432890364399e-03,\n",
       "        -1.000309534212228e-03, 1.998930773136149e-03, -2.000671014767513e-03],\n",
       "       dtype=torch.float64)"
      ]
     },
     "execution_count": 52,
     "metadata": {},
     "output_type": "execute_result"
    }
   ],
   "source": [
    "# Outgoing particle offset and tilt\n",
    "p_out = track_a_crab_cavity_torch(track.Particle(*tvec1,ts, tp0c, tmc2), cav_tilt)\n",
    "x_py = torch.hstack(p_out[:6]).detach()\n",
    "x_py"
   ]
  },
  {
   "cell_type": "code",
   "execution_count": 53,
   "id": "10ac2a40-cf6d-43e2-93e8-f2681f710584",
   "metadata": {},
   "outputs": [],
   "source": [
    "# Bmad lattice to compare\n",
    "tao = Tao('-lat '+repo_path+'/tests/bmad_lattices/test_crab_cavity_tilt.bmad -noplot')\n",
    "tao.cmd('set particle_start x='+str(pvec1[0]))\n",
    "tao.cmd('set particle_start px='+str(pvec1[1]))\n",
    "tao.cmd('set particle_start y='+str(pvec1[2]))\n",
    "tao.cmd('set particle_start py='+str(pvec1[3]))\n",
    "tao.cmd('set particle_start z='+str(pvec1[4]))\n",
    "tao.cmd('set particle_start pz='+str(pvec1[5]))\n",
    "orbit_out = tao.orbit_at_s(ele=1)"
   ]
  },
  {
   "cell_type": "code",
   "execution_count": 54,
   "id": "96d459e4-9540-44d6-8034-2ce10af7f003",
   "metadata": {},
   "outputs": [
    {
     "data": {
      "text/plain": [
       "tensor([2.601105359111940e-03, 2.998999360040670e-03, -3.200432890364400e-03,\n",
       "        -1.000309534212230e-03, 1.998930773136150e-03, -2.000671014767510e-03],\n",
       "       dtype=torch.float64)"
      ]
     },
     "execution_count": 54,
     "metadata": {},
     "output_type": "execute_result"
    }
   ],
   "source": [
    "# Bmad outgoing particle\n",
    "x_tao = torch.tensor([orbit_out['x'],orbit_out['px'],orbit_out['y'],orbit_out['py'],orbit_out['z'],orbit_out['pz']],**tkwargs)\n",
    "x_tao"
   ]
  },
  {
   "cell_type": "code",
   "execution_count": 55,
   "id": "8dc5323a-30f4-44d1-b0ad-867244cdbb76",
   "metadata": {},
   "outputs": [
    {
     "data": {
      "text/plain": [
       "True"
      ]
     },
     "execution_count": 55,
     "metadata": {},
     "output_type": "execute_result"
    }
   ],
   "source": [
    "# close to Tao result?\n",
    "torch.allclose(x_py, x_tao, atol=0, rtol=1.0e-14)"
   ]
  },
  {
   "cell_type": "code",
   "execution_count": 56,
   "id": "9d4a0dfc-2e7f-41cc-b148-85d9f948529f",
   "metadata": {},
   "outputs": [
    {
     "data": {
      "text/plain": [
       "tensor([[ 1.000000150602446e+00,  2.004037151906528e-01,  4.658679586544423e-08,\n",
       "         -6.039807690927379e-07, -5.011717697334090e-05, -6.023171246175704e-04],\n",
       "        [ 0.000000000000000e+00,  1.000000150652494e+00,  0.000000000000000e+00,\n",
       "         -5.021749810429910e-08, -5.001607575171654e-04, -8.549461838918098e-09],\n",
       "        [-5.023310933882641e-08, -6.039807756291760e-07,  9.999999844610783e-01,\n",
       "          2.004020728926290e-01, -1.550268447215676e-05,  2.008363914804506e-04],\n",
       "        [ 0.000000000000000e+00,  4.660227759245572e-08,  0.000000000000000e+00,\n",
       "          9.999999844659074e-01, -1.547178529322681e-04, -2.644658461431463e-09],\n",
       "        [-8.877538963465590e-09, -6.023171574216554e-04, -2.746144608721748e-09,\n",
       "          2.008363812799022e-04,  1.000000134963841e+00,  3.484280382627325e-05],\n",
       "        [-5.001607575722588e-04, -5.011714377673051e-05, -1.547178529493105e-04,\n",
       "         -1.550267409755359e-05,  5.897796618608915e-07,  1.000000135238635e+00]],\n",
       "       dtype=torch.float64)"
      ]
     },
     "execution_count": 56,
     "metadata": {},
     "output_type": "execute_result"
    }
   ],
   "source": [
    "f_crab_cavity = lambda x: track_a_crab_cavity_torch(track.Particle(*x,ts, tp0c, tmc2), cav_tilt)[:6]\n",
    "J = jacobian(f_crab_cavity, tvec1)\n",
    "mat_py = torch.vstack(J)\n",
    "mat_py"
   ]
  },
  {
   "cell_type": "code",
   "execution_count": 57,
   "id": "33fbbecf-e11c-4f92-9145-f53b521b705d",
   "metadata": {},
   "outputs": [
    {
     "data": {
      "text/plain": [
       "tensor([[ 1.000000150602450e+00,  2.004037151906530e-01,  4.658679586544420e-08,\n",
       "         -6.039807690857990e-07, -5.011717697334090e-05, -6.023171246175700e-04],\n",
       "        [ 0.000000000000000e+00,  1.000000150652490e+00,  0.000000000000000e+00,\n",
       "         -5.021749810429910e-08, -5.001607575171650e-04, -8.549461838917659e-09],\n",
       "        [-5.023310933882640e-08, -6.039807756222370e-07,  9.999999844610780e-01,\n",
       "          2.004020728926290e-01, -1.550268447215680e-05,  2.008363914804510e-04],\n",
       "        [ 0.000000000000000e+00,  4.660227764796690e-08,  0.000000000000000e+00,\n",
       "          9.999999844659070e-01, -1.547178529322680e-04, -2.644658461431380e-09],\n",
       "        [-8.877538963465760e-09, -6.023171574216550e-04, -2.746144608721800e-09,\n",
       "          2.008363812799020e-04,  1.000000134963840e+00,  3.484280382627260e-05],\n",
       "        [-5.001607575722590e-04, -5.011714377673050e-05, -1.547178529493100e-04,\n",
       "         -1.550267409755360e-05,  5.897796618608910e-07,  1.000000135238630e+00]],\n",
       "       dtype=torch.float64)"
      ]
     },
     "execution_count": 57,
     "metadata": {},
     "output_type": "execute_result"
    }
   ],
   "source": [
    "cav_tao = tao.matrix(0,1)\n",
    "mat_tao = torch.tensor(cav_tao['mat6'], **tkwargs)\n",
    "mat_tao"
   ]
  },
  {
   "cell_type": "code",
   "execution_count": 58,
   "id": "ee06a22b-e0b8-40be-b489-dccefb2e2868",
   "metadata": {},
   "outputs": [
    {
     "data": {
      "text/plain": [
       "tensor([[ True,  True,  True,  True,  True,  True],\n",
       "        [ True,  True,  True,  True,  True,  True],\n",
       "        [ True,  True,  True,  True,  True,  True],\n",
       "        [ True, False,  True,  True,  True,  True],\n",
       "        [ True,  True,  True,  True,  True,  True],\n",
       "        [ True,  True,  True,  True,  True,  True]])"
      ]
     },
     "execution_count": 58,
     "metadata": {},
     "output_type": "execute_result"
    }
   ],
   "source": [
    "torch.isclose(mat_py, mat_tao, atol=0, rtol=1.0e-10)"
   ]
  },
  {
   "cell_type": "code",
   "execution_count": 59,
   "id": "86c1faeb-8931-408a-acb5-fd0c970e59b2",
   "metadata": {},
   "outputs": [],
   "source": [
    "# Something is wrong with the Jacobian matrix of a tilted cavity. Currently debuging."
   ]
  },
  {
   "cell_type": "markdown",
   "id": "491331ff-7285-470a-85fe-b795668e5d13",
   "metadata": {
    "tags": []
   },
   "source": [
    "# Lattice tracking"
   ]
  },
  {
   "cell_type": "markdown",
   "id": "0c8ca256-7abd-466c-976a-9c754ac22571",
   "metadata": {
    "tags": []
   },
   "source": [
    "## Lattice one particle test"
   ]
  },
  {
   "cell_type": "code",
   "execution_count": 60,
   "id": "e382de98-ca91-4511-9ff0-190dba00655b",
   "metadata": {
    "tags": []
   },
   "outputs": [],
   "source": [
    "# Create drift\n",
    "L_d = 1.0 # Drift length in m\n",
    "d1 = track.Drift(torch.tensor(L_d, **tkwargs))\n",
    "# Create quad\n",
    "L_q = 0.1  # quad length in m\n",
    "K1 = 10  # Quad focusing strength. Positive is focusing in x\n",
    "#NUM_STEPS = 1  # number of divisions for tracking. 1 is bmad default when there are no other multipoles\n",
    "q1 = torch_quadrupole(L=torch.tensor(L_q, **tkwargs), K1=torch.tensor(K1, **tkwargs))"
   ]
  },
  {
   "cell_type": "code",
   "execution_count": 61,
   "id": "5c8e5ad9-3309-4323-bfeb-a57209658750",
   "metadata": {},
   "outputs": [
    {
     "data": {
      "text/plain": [
       "tensor([-2.281967961209991e-03, -4.896330349656308e-03, -2.543913165908659e-02,\n",
       "        -1.497282967847466e-02, 1.847324681974169e-03, -2.000000000000000e-03],\n",
       "       dtype=torch.float64)"
      ]
     },
     "execution_count": 61,
     "metadata": {},
     "output_type": "execute_result"
    }
   ],
   "source": [
    "# Lattice example\n",
    "lattice = [d1, q1, d1, q1, d1]  # lattice is a list of elements\n",
    "# List of particle coordinates after each element:\n",
    "x_list = [torch.hstack(coords[:6]).detach() for coords in track.track_a_lattice(p_in, lattice)]\n",
    "# Outgoing particle after complete lattice:\n",
    "x_py = torch.hstack(track.track_a_lattice(p_in, lattice)[-1][:6]).detach()\n",
    "# alternative: x_list[-1]\n",
    "x_py"
   ]
  },
  {
   "cell_type": "code",
   "execution_count": 62,
   "id": "9723f930-5c64-4fdc-a94c-df2a816bfe0a",
   "metadata": {},
   "outputs": [],
   "source": [
    "# Bmad lattice to compare\n",
    "tao = Tao('-lat '+repo_path+'/tests/bmad_lattices/test_drift_quad.bmad -noplot')\n",
    "tao.cmd('set particle_start x='+str(pvec1[0]))\n",
    "tao.cmd('set particle_start px='+str(pvec1[1]))\n",
    "tao.cmd('set particle_start y='+str(pvec1[2]))\n",
    "tao.cmd('set particle_start py='+str(pvec1[3]))\n",
    "tao.cmd('set particle_start z='+str(pvec1[4]))\n",
    "tao.cmd('set particle_start pz='+str(pvec1[5]))\n",
    "orbit_out = tao.orbit_at_s(ele=5)"
   ]
  },
  {
   "cell_type": "code",
   "execution_count": 63,
   "id": "d3911c94-0464-4b62-ad7a-55e197ed22be",
   "metadata": {},
   "outputs": [
    {
     "data": {
      "text/plain": [
       "tensor([-2.281967961209990e-03, -4.896330349656310e-03, -2.543913165908660e-02,\n",
       "        -1.497282967847470e-02, 1.847324681974170e-03, -2.000000000000000e-03],\n",
       "       dtype=torch.float64)"
      ]
     },
     "execution_count": 63,
     "metadata": {},
     "output_type": "execute_result"
    }
   ],
   "source": [
    "# Bmad outgoing particle\n",
    "x_tao = torch.tensor([orbit_out['x'],orbit_out['px'],orbit_out['y'],orbit_out['py'],orbit_out['z'],orbit_out['pz']],**tkwargs)\n",
    "x_tao"
   ]
  },
  {
   "cell_type": "code",
   "execution_count": 64,
   "id": "09dfa314-fd81-443b-9084-970a0ee22e1f",
   "metadata": {},
   "outputs": [
    {
     "data": {
      "text/plain": [
       "True"
      ]
     },
     "execution_count": 64,
     "metadata": {},
     "output_type": "execute_result"
    }
   ],
   "source": [
    "# close to Tao result?\n",
    "torch.allclose(x_py, x_tao, atol=0, rtol=1.0e-14)"
   ]
  },
  {
   "cell_type": "markdown",
   "id": "f9ba321b-16ba-4616-b64a-86a0fab6df3f",
   "metadata": {
    "tags": []
   },
   "source": [
    "## Lattice Jacobian test"
   ]
  },
  {
   "cell_type": "code",
   "execution_count": 65,
   "id": "dc9d30da-be29-4072-a9fa-b982030531de",
   "metadata": {
    "tags": []
   },
   "outputs": [],
   "source": [
    "f_driftquadrupole = lambda x: track.track_a_lattice(track.Particle(*x, ts, tp0c, tmc2), lattice)[-1][:6]\n",
    "J = jacobian(f_driftquadrupole, tvec1)"
   ]
  },
  {
   "cell_type": "code",
   "execution_count": 66,
   "id": "a15024cb-8d00-434c-9642-3cf3105db844",
   "metadata": {},
   "outputs": [
    {
     "data": {
      "text/plain": [
       "tensor([[-1.032202390317458e+00, -7.256968115101181e-02,  2.336717479636538e-04,\n",
       "          4.049003895819779e-04,  0.000000000000000e+00,  8.218283945153969e-03],\n",
       "        [-9.000515317112638e-01, -1.032080978292848e+00, -1.067067115329933e-05,\n",
       "         -1.900037293643618e-05,  0.000000000000000e+00,  5.547564231500580e-04],\n",
       "        [-8.812732879846703e-05, -9.339294371369415e-05,  5.457258390307320e+00,\n",
       "          9.071019578396722e+00,  0.000000000000000e+00,  3.361265895544615e-02],\n",
       "        [-1.067067115329933e-05, -9.954618543668099e-06,  3.172268131080336e+00,\n",
       "          5.456165751278677e+00,  0.000000000000000e+00,  9.391470418309955e-03],\n",
       "        [-6.823789171283308e-03, -8.441133541388406e-03,  5.537646874208031e-02,\n",
       "          9.820564579614072e-02,  1.000000000000000e+00,  9.919963196451456e-04],\n",
       "        [ 0.000000000000000e+00,  0.000000000000000e+00,  0.000000000000000e+00,\n",
       "          0.000000000000000e+00,  0.000000000000000e+00,  1.000000000000000e+00]],\n",
       "       dtype=torch.float64)"
      ]
     },
     "execution_count": 66,
     "metadata": {},
     "output_type": "execute_result"
    }
   ],
   "source": [
    "# autodiff Jacobian matrix\n",
    "mat_py = torch.vstack(J)\n",
    "mat_py"
   ]
  },
  {
   "cell_type": "code",
   "execution_count": 67,
   "id": "3649facd-33ea-46e7-9a4c-b561dd5e5388",
   "metadata": {},
   "outputs": [
    {
     "data": {
      "text/plain": [
       "tensor([[-1.032202390317460e+00, -7.256968115101139e-02,  2.336717479636540e-04,\n",
       "          4.049003895819780e-04,  0.000000000000000e+00,  8.218283945153960e-03],\n",
       "        [-9.000515317112640e-01, -1.032080978292850e+00, -1.067067115329930e-05,\n",
       "         -1.900037293643620e-05,  0.000000000000000e+00,  5.547564231500580e-04],\n",
       "        [-8.812732879846700e-05, -9.339294371369409e-05,  5.457258390307320e+00,\n",
       "          9.071019578396720e+00,  0.000000000000000e+00,  3.361265895544610e-02],\n",
       "        [-1.067067115329930e-05, -9.954618543668099e-06,  3.172268131080340e+00,\n",
       "          5.456165751278680e+00,  0.000000000000000e+00,  9.391470418309950e-03],\n",
       "        [-6.823789171283310e-03, -8.441133541388410e-03,  5.537646874208030e-02,\n",
       "          9.820564579614070e-02,  1.000000000000000e+00,  9.919963196451461e-04],\n",
       "        [ 0.000000000000000e+00,  0.000000000000000e+00,  0.000000000000000e+00,\n",
       "          0.000000000000000e+00,  0.000000000000000e+00,  1.000000000000000e+00]],\n",
       "       dtype=torch.float64)"
      ]
     },
     "execution_count": 67,
     "metadata": {},
     "output_type": "execute_result"
    }
   ],
   "source": [
    "# Bmad formula Jacobian\n",
    "lat_tao = tao.matrix(0,5)\n",
    "mat_tao = torch.tensor(lat_tao['mat6'], **tkwargs)\n",
    "mat_tao"
   ]
  },
  {
   "cell_type": "code",
   "execution_count": 68,
   "id": "35e3965b-95d8-4f25-87f2-675435b7fa49",
   "metadata": {},
   "outputs": [
    {
     "data": {
      "text/plain": [
       "True"
      ]
     },
     "execution_count": 68,
     "metadata": {},
     "output_type": "execute_result"
    }
   ],
   "source": [
    "# close to Tao result?\n",
    "torch.allclose(mat_py, mat_tao, atol=0, rtol=1.0e-14)"
   ]
  },
  {
   "cell_type": "markdown",
   "id": "abd7f307-4e0e-4530-99ec-3ca70109d3f0",
   "metadata": {
    "tags": []
   },
   "source": [
    "## Multi-particle propagation through lattice"
   ]
  },
  {
   "cell_type": "code",
   "execution_count": 69,
   "id": "6429e104-311c-444b-98dd-5075a05e9bdd",
   "metadata": {
    "tags": []
   },
   "outputs": [],
   "source": [
    "# Particle bunch with Gaussian distribution\n",
    "sample_size = 1000\n",
    "mean = torch.zeros(6, **tkwargs)\n",
    "cov = torch.diag(torch.tensor([1e-6, 2e-6, 1e-6, 2e-6, 1e-6, 2e-6],**tkwargs))\n",
    "dist = torch.distributions.multivariate_normal.MultivariateNormal(mean, cov)\n",
    "sample = dist.sample(torch.Size([sample_size]))\n",
    "bunch_in = track.Particle(*sample.T, ts, tp0c, tmc2)"
   ]
  },
  {
   "cell_type": "code",
   "execution_count": 70,
   "id": "c89db535-74b8-4afd-82b6-f70e52f98723",
   "metadata": {},
   "outputs": [],
   "source": [
    "bunch_out = track.track_a_lattice(bunch_in, lattice)"
   ]
  },
  {
   "cell_type": "code",
   "execution_count": 71,
   "id": "aca6346f-c4bf-4e62-9274-76dcf6a05b40",
   "metadata": {},
   "outputs": [
    {
     "data": {
      "text/plain": [
       "(tensor(1.006951319661810e-03, dtype=torch.float64),\n",
       " tensor(1.399909535501810e-02, dtype=torch.float64))"
      ]
     },
     "execution_count": 71,
     "metadata": {},
     "output_type": "execute_result"
    }
   ],
   "source": [
    "# some beam properties up and downstream\n",
    "torch.std(bunch_out[0].y),torch.std(bunch_out[-1].y)"
   ]
  },
  {
   "cell_type": "markdown",
   "id": "a35d4b34-6c23-48d8-af4c-7daad3055b20",
   "metadata": {
    "tags": []
   },
   "source": [
    "## Stub element test"
   ]
  },
  {
   "cell_type": "code",
   "execution_count": 72,
   "id": "62fc1a71-37f7-4651-8b4b-2168581ebf0d",
   "metadata": {},
   "outputs": [
    {
     "data": {
      "text/plain": [
       "[Quadrupole(L=tensor(1.000000000000000e-02, dtype=torch.float64), K1=tensor(1.000000000000000e+01, dtype=torch.float64), NUM_STEPS=1, X_OFFSET=tensor(0., dtype=torch.float64), Y_OFFSET=tensor(0., dtype=torch.float64), TILT=tensor(0., dtype=torch.float64)),\n",
       " Quadrupole(L=tensor(1.000000000000000e-02, dtype=torch.float64), K1=tensor(1.000000000000000e+01, dtype=torch.float64), NUM_STEPS=1, X_OFFSET=tensor(0., dtype=torch.float64), Y_OFFSET=tensor(0., dtype=torch.float64), TILT=tensor(0., dtype=torch.float64)),\n",
       " Quadrupole(L=tensor(1.000000000000000e-02, dtype=torch.float64), K1=tensor(1.000000000000000e+01, dtype=torch.float64), NUM_STEPS=1, X_OFFSET=tensor(0., dtype=torch.float64), Y_OFFSET=tensor(0., dtype=torch.float64), TILT=tensor(0., dtype=torch.float64)),\n",
       " Quadrupole(L=tensor(1.000000000000000e-02, dtype=torch.float64), K1=tensor(1.000000000000000e+01, dtype=torch.float64), NUM_STEPS=1, X_OFFSET=tensor(0., dtype=torch.float64), Y_OFFSET=tensor(0., dtype=torch.float64), TILT=tensor(0., dtype=torch.float64)),\n",
       " Quadrupole(L=tensor(1.000000000000000e-02, dtype=torch.float64), K1=tensor(1.000000000000000e+01, dtype=torch.float64), NUM_STEPS=1, X_OFFSET=tensor(0., dtype=torch.float64), Y_OFFSET=tensor(0., dtype=torch.float64), TILT=tensor(0., dtype=torch.float64)),\n",
       " Quadrupole(L=tensor(1.000000000000000e-02, dtype=torch.float64), K1=tensor(1.000000000000000e+01, dtype=torch.float64), NUM_STEPS=1, X_OFFSET=tensor(0., dtype=torch.float64), Y_OFFSET=tensor(0., dtype=torch.float64), TILT=tensor(0., dtype=torch.float64)),\n",
       " Quadrupole(L=tensor(1.000000000000000e-02, dtype=torch.float64), K1=tensor(1.000000000000000e+01, dtype=torch.float64), NUM_STEPS=1, X_OFFSET=tensor(0., dtype=torch.float64), Y_OFFSET=tensor(0., dtype=torch.float64), TILT=tensor(0., dtype=torch.float64)),\n",
       " Quadrupole(L=tensor(1.000000000000000e-02, dtype=torch.float64), K1=tensor(1.000000000000000e+01, dtype=torch.float64), NUM_STEPS=1, X_OFFSET=tensor(0., dtype=torch.float64), Y_OFFSET=tensor(0., dtype=torch.float64), TILT=tensor(0., dtype=torch.float64)),\n",
       " Quadrupole(L=tensor(1.000000000000000e-02, dtype=torch.float64), K1=tensor(1.000000000000000e+01, dtype=torch.float64), NUM_STEPS=1, X_OFFSET=tensor(0., dtype=torch.float64), Y_OFFSET=tensor(0., dtype=torch.float64), TILT=tensor(0., dtype=torch.float64)),\n",
       " Quadrupole(L=tensor(1.000000000000000e-02, dtype=torch.float64), K1=tensor(1.000000000000000e+01, dtype=torch.float64), NUM_STEPS=1, X_OFFSET=tensor(0., dtype=torch.float64), Y_OFFSET=tensor(0., dtype=torch.float64), TILT=tensor(0., dtype=torch.float64))]"
      ]
     },
     "execution_count": 72,
     "metadata": {},
     "output_type": "execute_result"
    }
   ],
   "source": [
    "# divide a quad into 10 parts\n",
    "divided_quad = track.stub_element(q1, 10)\n",
    "divided_quad"
   ]
  },
  {
   "cell_type": "markdown",
   "id": "08840928-57b7-49f3-8dcc-7cf4bb94d265",
   "metadata": {},
   "source": [
    "## Plotting using stub_element"
   ]
  },
  {
   "cell_type": "code",
   "execution_count": 73,
   "id": "b4421345-df0c-4db4-817c-fc2954492414",
   "metadata": {},
   "outputs": [],
   "source": [
    "# make a quadrupole triplet\n",
    "L_d = 1.5  # Drift length in m\n",
    "d1 = track.Drift(torch.tensor(L_d, **tkwargs)) # drift\n",
    "L_q = 0.1  # Quadrupole length in m\n",
    "K1 = 10  # Quadrupole strengths\n",
    "NUM_STEPS = 1\n",
    "q1 = torch_quadrupole(L=torch.tensor(L_q,**tkwargs), K1=torch.tensor(K1, **tkwargs))  # x-focusing\n",
    "q2 = torch_quadrupole(L=torch.tensor(L_q,**tkwargs), K1=torch.tensor(-K1, **tkwargs))  # y-focusing\n",
    "lattice = [d1, q1, d1, q2, d1, q1, d1]\n",
    "\n",
    "# stub each element into n equal parts each\n",
    "n=50\n",
    "stubbed_lattice = track.stub_lattice(lattice, n)"
   ]
  },
  {
   "cell_type": "code",
   "execution_count": 74,
   "id": "ded144f0-a02a-4bd2-8bb3-1878929eab80",
   "metadata": {},
   "outputs": [
    {
     "data": {
      "text/plain": [
       "<matplotlib.legend.Legend at 0x7f9d88489400>"
      ]
     },
     "execution_count": 74,
     "metadata": {},
     "output_type": "execute_result"
    },
    {
     "data": {
      "image/png": "[encoded data removed]",
      "text/plain": [
       "<Figure size 432x288 with 1 Axes>"
      ]
     },
     "metadata": {
      "needs_background": "light"
     },
     "output_type": "display_data"
    }
   ],
   "source": [
    "all_p = track.track_a_lattice(bunch_in, stubbed_lattice)\n",
    "stdx = np.array([torch.std(par.x).item() for par in all_p])\n",
    "stdy = np.array([torch.std(par.y).item() for par in all_p])\n",
    "s = np.array([par.s.item() for par in all_p])\n",
    "plt.plot(s, stdx*1000, label=r'$\\sigma_x$')\n",
    "plt.plot(s, stdy*1000, label=r'$\\sigma_y$')\n",
    "plt.xlabel(r'$s$ (m)')\n",
    "plt.ylabel(r'$\\sigma_{x,y}$ (mm)')\n",
    "plt.legend()"
   ]
  },
  {
   "cell_type": "markdown",
   "id": "eb16025c-6d9c-4fa0-bb5b-32684c107898",
   "metadata": {
    "tags": []
   },
   "source": [
    "# Hessian Matrix example"
   ]
  },
  {
   "cell_type": "code",
   "execution_count": 75,
   "id": "a2d0abb8-7d84-464a-a1c1-a687e1fe62d8",
   "metadata": {},
   "outputs": [],
   "source": [
    "L_d = 1.00 # Drift length\n",
    "L_q = 0.1 # Quad length \n",
    "drift = track.Drift(torch.tensor(L_d, **tkwargs))\n",
    "\n",
    "def sigmax_end(k1s):\n",
    "    \"\"\"returns x beamsize after lattice composed by len(k1s)+1 \n",
    "    drifts with len(k1s) quadrupoles in between.\n",
    "    \"\"\"\n",
    "    lattice = [drift]\n",
    "    \n",
    "    for k1 in k1s:\n",
    "        lattice.append(torch_quadrupole(L=torch.tensor(L_q, **tkwargs), K1=k1))\n",
    "        lattice.append(drift)\n",
    "\n",
    "    bunch_out = track.track_a_lattice(bunch_in, lattice)[-1]\n",
    "    return torch.std(bunch_out.x)\n",
    "\n",
    "#k1s = torch.tensor([10,-10,10,-10,10,-10,10,-10,10,-10], **tkwargs)\n",
    "k1s = torch.zeros(10, **tkwargs)"
   ]
  },
  {
   "cell_type": "code",
   "execution_count": 76,
   "id": "09322973-50ab-454e-a711-75a87572f6c4",
   "metadata": {},
   "outputs": [
    {
     "name": "stdout",
     "output_type": "stream",
     "text": [
      "CPU times: user 16 µs, sys: 3 µs, total: 19 µs\n",
      "Wall time: 34.3 µs\n"
     ]
    },
    {
     "data": {
      "text/plain": [
       "tensor([[5.425150095384135e-05, 1.896489380929615e-04, 3.063603139707411e-04,\n",
       "         3.881755286442478e-04, 4.350945821134816e-04, 4.471174743784426e-04,\n",
       "         4.242442054391307e-04, 3.664747752955458e-04, 2.738091839476880e-04,\n",
       "         1.462474313955575e-04],\n",
       "        [1.896489380929615e-04, 3.553661485462678e-05, 2.935281485107543e-04,\n",
       "         5.084627115441049e-04, 6.504362389815824e-04, 7.194487308231867e-04,\n",
       "         7.155001870689179e-04, 6.385906077187759e-04, 4.887199927727607e-04,\n",
       "         2.658883422308724e-04],\n",
       "        [3.063603139707410e-04, 2.935281485107542e-04, 2.214777415401594e-05,\n",
       "         3.677360585798330e-04, 6.424771460726512e-04, 8.062144003669457e-04,\n",
       "         8.589478214627172e-04, 8.006774093599651e-04, 6.314031640586896e-04,\n",
       "         3.511250855588905e-04],\n",
       "        [3.881755286442478e-04, 5.084627115441048e-04, 3.677360585798329e-04,\n",
       "         1.296338357164953e-05, 4.112173033866882e-04, 7.074144830097204e-04,\n",
       "         8.545871086205288e-04, 8.527351802191136e-04, 7.018586978054746e-04,\n",
       "         4.019576613796119e-04],\n",
       "        [4.350945821134816e-04, 6.504362389815822e-04, 6.424771460726511e-04,\n",
       "         4.112173033866882e-04, 6.994308560867969e-06, 4.230489787515103e-04,\n",
       "         7.024180485423530e-04, 7.947639202962216e-04, 7.000865940131161e-04,\n",
       "         4.183860696930365e-04],\n",
       "        [4.471174743784426e-04, 7.194487308231868e-04, 8.062144003669462e-04,\n",
       "         7.074144830097207e-04, 4.230489787515105e-04, 3.383875308711792e-06,\n",
       "         4.024406412281896e-04, 6.267636295912891e-04, 6.260868526816141e-04,\n",
       "         4.004103104991645e-04],\n",
       "        [4.242442054391306e-04, 7.155001870689177e-04, 8.589478214627172e-04,\n",
       "         8.545871086205290e-04, 7.024180485423531e-04, 4.024406412281893e-04,\n",
       "         1.407870735920149e-06, 3.487343081043154e-04, 4.798594738109679e-04,\n",
       "         3.480303837979955e-04],\n",
       "        [3.664747752955459e-04, 6.385906077187760e-04, 8.006774093599654e-04,\n",
       "         8.527351802191139e-04, 7.947639202962220e-04, 6.267636295912892e-04,\n",
       "         3.487343081043157e-04, 4.745424969339636e-07, 2.614044574011784e-04,\n",
       "         2.612462895895300e-04],\n",
       "        [2.738091839476880e-04, 4.887199927727607e-04, 6.314031640586895e-04,\n",
       "         7.018586978054747e-04, 7.000865940131161e-04, 6.260868526816139e-04,\n",
       "         4.798594738109679e-04, 2.614044574011782e-04, 1.245989798920593e-07,\n",
       "         1.400580278737674e-04],\n",
       "        [1.462474313955576e-04, 2.658883422308725e-04, 3.511250855588906e-04,\n",
       "         4.019576613796120e-04, 4.183860696930366e-04, 4.004103104991644e-04,\n",
       "         3.480303837979956e-04, 2.612462895895300e-04, 1.400580278737675e-04,\n",
       "         3.120930663469226e-08]], dtype=torch.float64)"
      ]
     },
     "execution_count": 76,
     "metadata": {},
     "output_type": "execute_result"
    }
   ],
   "source": [
    "#Hessian using autodiff\n",
    "%time\n",
    "hessian_py = hessian(sigmax_end,k1s)\n",
    "hessian_py"
   ]
  },
  {
   "cell_type": "code",
   "execution_count": 77,
   "id": "c720fe84-b5a2-4bcf-831c-caf194a12146",
   "metadata": {},
   "outputs": [
    {
     "data": {
      "text/plain": [
       "<matplotlib.colorbar.Colorbar at 0x7f9d882b88b0>"
      ]
     },
     "execution_count": 77,
     "metadata": {},
     "output_type": "execute_result"
    },
    {
     "data": {
      "image/png": "[encoded data removed]",
      "text/plain": [
       "<Figure size 432x288 with 2 Axes>"
      ]
     },
     "metadata": {
      "needs_background": "light"
     },
     "output_type": "display_data"
    }
   ],
   "source": [
    "plt.imshow(hessian_py.detach().numpy())\n",
    "plt.colorbar()\n",
    "#plt.savefig(\"hessian.eps\")"
   ]
  },
  {
   "cell_type": "code",
   "execution_count": 78,
   "id": "90145244-6aca-43ad-aed3-d444a8f11706",
   "metadata": {},
   "outputs": [],
   "source": [
    "#Hessian using numerical differentiation\n",
    "\n",
    "bunch_in_np = track.Particle(*sample.detach().numpy().T, 0, p0c, mc2)\n",
    "\n",
    "L_d = 1.00 # Drift length\n",
    "L_q = 0.1 # Quad length \n",
    "drift = track.Drift(L_d)\n",
    "def sigmax_end2(k1s):\n",
    "    \"\"\"returns x beamsize after lattice composed by len(k1s)+1 \n",
    "    drifts with len(k1s) quadrupoles in between.\n",
    "    \"\"\"\n",
    "    lattice = [drift]\n",
    "    \n",
    "    for k1 in k1s:\n",
    "        lattice.append(track.Quadrupole(L=L_q, K1=k1))\n",
    "        lattice.append(drift)\n",
    "\n",
    "    bunch_out = track.track_a_lattice(bunch_in_np, lattice)[-1]\n",
    "    \n",
    "    return np.std(bunch_out.x)\n",
    "\n",
    "#k1s = np.array([10,-10,10,-10,10,-10,10,-10,10,-10])\n",
    "k1s = np.zeros(10)"
   ]
  },
  {
   "cell_type": "code",
   "execution_count": 79,
   "id": "ec5b71f2-cc0c-43d3-b40b-d77b89b75579",
   "metadata": {},
   "outputs": [
    {
     "name": "stdout",
     "output_type": "stream",
     "text": [
      "CPU times: user 0 ns, sys: 16 µs, total: 16 µs\n",
      "Wall time: 29.8 µs\n"
     ]
    },
    {
     "data": {
      "text/plain": [
       "array([[5.977044042559285e-05, 2.125125556469892e-04,\n",
       "        3.343411972354896e-04, 4.195712947081462e-04,\n",
       "        4.682028480540577e-04, 4.802358572879309e-04,\n",
       "        4.556703224106302e-04, 3.945062434071233e-04,\n",
       "        2.967436202893786e-04, 1.623824530551924e-04],\n",
       "       [2.125125556469892e-04, 4.562685619936630e-05,\n",
       "        3.283066522018449e-04, 5.465895093026580e-04,\n",
       "        6.902279850968294e-04, 7.592220795679337e-04,\n",
       "        7.535717927346275e-04, 6.732771245958588e-04,\n",
       "        5.183380751454499e-04, 2.887546443890829e-04],\n",
       "       [3.343411972354896e-04, 3.283066522018449e-04,\n",
       "        3.566010987512312e-05, 4.110046288811884e-04,\n",
       "        6.873442519310992e-04, 8.510157222319810e-04,\n",
       "        9.020190397747627e-04, 8.403542045703924e-04,\n",
       "        6.660212166088536e-04, 3.790200758965585e-04],\n",
       "       [4.195712947081462e-04, 5.465895093026580e-04,\n",
       "        4.110046288811884e-04, 2.874916706595604e-05,\n",
       "        4.595516485717635e-04, 7.556167852780970e-04,\n",
       "        9.010120635201139e-04, 8.957374833263455e-04,\n",
       "        7.397930446774047e-04, 4.331787475756412e-04],\n",
       "       [4.682028480540577e-04, 6.902279850968294e-04,\n",
       "        6.873442519310992e-04, 4.595516485717635e-04,\n",
       "        2.390538799959636e-05, 4.730252687084904e-04,\n",
       "        7.505508639714134e-04, 8.394269608691299e-04,\n",
       "        7.396535593478177e-04, 4.512306594321214e-04],\n",
       "       [4.802358572879309e-04, 7.592220795679337e-04,\n",
       "        8.510157222319810e-04, 7.556167852780970e-04,\n",
       "        4.730252687084904e-04, 2.027252726345241e-05,\n",
       "        4.506354411615989e-04, 6.714226371949308e-04,\n",
       "        6.656027606268378e-04, 4.331758114613852e-04],\n",
       "       [4.556703224106302e-04, 7.535717927346275e-04,\n",
       "        9.020190397747627e-04, 9.010120635201139e-04,\n",
       "        7.505508639714134e-04, 4.506354411615989e-04,\n",
       "        1.712673400887829e-05, 3.917245123051292e-04,\n",
       "        5.176406485106943e-04, 3.790142036624100e-04],\n",
       "       [3.945062434071233e-04, 6.732771245958588e-04,\n",
       "        8.403542045703924e-04, 8.957374833263455e-04,\n",
       "        8.394269608691299e-04, 6.714226371949308e-04,\n",
       "        3.917245123051292e-04, 1.387655188009099e-05,\n",
       "        2.957672229957809e-04, 2.887458360368899e-04],\n",
       "       [2.967436202893786e-04, 5.183380751454499e-04,\n",
       "        6.660212166088536e-04, 7.397930446774047e-04,\n",
       "        7.396535593478177e-04, 6.656027606268378e-04,\n",
       "        5.176406485106943e-04, 2.957672229957809e-04,\n",
       "        1.006291893428613e-05, 1.623707085864466e-04],\n",
       "       [1.623824530551924e-04, 2.887546443890829e-04,\n",
       "        3.790200758965585e-04, 4.331787475756412e-04,\n",
       "        4.512306594321214e-04, 4.331758114613852e-04,\n",
       "        3.790142036624100e-04, 2.887458360368899e-04,\n",
       "        1.623707085864466e-04, 5.359167784203087e-06]])"
      ]
     },
     "execution_count": 79,
     "metadata": {},
     "output_type": "execute_result"
    }
   ],
   "source": [
    "%time\n",
    "hessian_nd = nd.Hessian(sigmax_end2)(k1s)\n",
    "hessian_nd"
   ]
  },
  {
   "cell_type": "code",
   "execution_count": 80,
   "id": "9ffa33a1-b971-491b-a120-18c46b854892",
   "metadata": {},
   "outputs": [
    {
     "data": {
      "text/plain": [
       "<matplotlib.colorbar.Colorbar at 0x7f9d881c1910>"
      ]
     },
     "execution_count": 80,
     "metadata": {},
     "output_type": "execute_result"
    },
    {
     "data": {
      "image/png": "[encoded data removed]",
      "text/plain": [
       "<Figure size 432x288 with 2 Axes>"
      ]
     },
     "metadata": {
      "needs_background": "light"
     },
     "output_type": "display_data"
    }
   ],
   "source": [
    "plt.imshow(hessian_nd)\n",
    "plt.colorbar()"
   ]
  },
  {
   "cell_type": "code",
   "execution_count": 81,
   "id": "8748858c-daa8-4408-9c3f-6e0a794130ae",
   "metadata": {},
   "outputs": [
    {
     "data": {
      "text/plain": [
       "False"
      ]
     },
     "execution_count": 81,
     "metadata": {},
     "output_type": "execute_result"
    }
   ],
   "source": [
    "np.allclose(hessian_nd, hessian_py.detach().numpy())"
   ]
  },
  {
   "cell_type": "code",
   "execution_count": 82,
   "id": "8191b91e-d26d-4528-bad0-e24b759094a4",
   "metadata": {},
   "outputs": [
    {
     "data": {
      "text/plain": [
       "<matplotlib.colorbar.Colorbar at 0x7f9d88081ee0>"
      ]
     },
     "execution_count": 82,
     "metadata": {},
     "output_type": "execute_result"
    },
    {
     "data": {
      "image/png": "[encoded data removed]",
      "text/plain": [
       "<Figure size 720x720 with 4 Axes>"
      ]
     },
     "metadata": {
      "needs_background": "light"
     },
     "output_type": "display_data"
    }
   ],
   "source": [
    "fig, axs = plt.subplots(2, figsize=(10,10))\n",
    "cm = axs[0].imshow(hessian_py.detach().numpy())\n",
    "fig.colorbar(cm,ax=axs[0])\n",
    "#ax.imshow(hessian_py.detach().numpy())\n",
    "#ax = axs[1]\n",
    "#ax.imshow(1-hessian_nd)\n",
    "cm = axs[1].imshow(hessian_nd)\n",
    "fig.colorbar(cm,ax=axs[1])"
   ]
  }
 ],
 "metadata": {
  "kernelspec": {
   "display_name": "Python 3 (ipykernel)",
   "language": "python",
   "name": "python3"
  },
  "language_info": {
   "codemirror_mode": {
    "name": "ipython",
    "version": 3
   },
   "file_extension": ".py",
   "mimetype": "text/x-python",
   "name": "python",
   "nbconvert_exporter": "python",
   "pygments_lexer": "ipython3",
   "version": "3.9.13"
  },
  "toc-autonumbering": true,
  "toc-showcode": false,
  "toc-showmarkdowntxt": false,
  "toc-showtags": false
 },
 "nbformat": 4,
 "nbformat_minor": 5
}
