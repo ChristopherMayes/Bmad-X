{
 "cells": [
  {
   "cell_type": "markdown",
   "id": "cfe2f3e6-ab7f-4493-8ca4-acd56731bc0b",
   "metadata": {
    "tags": []
   },
   "source": [
    "# Tracking through elements with autodiff"
   ]
  },
  {
   "cell_type": "code",
   "execution_count": 1,
   "id": "8af3d886-d3bd-4e34-9556-d645ee9f761e",
   "metadata": {
    "tags": []
   },
   "outputs": [
    {
     "data": {
      "text/plain": [
       "('1.11.0', '1.22.4')"
      ]
     },
     "execution_count": 1,
     "metadata": {},
     "output_type": "execute_result"
    }
   ],
   "source": [
    "import numpy as np\n",
    "import torch\n",
    "from torch.autograd.functional import jacobian\n",
    "from torch.autograd.functional import hessian\n",
    "from pytao import Tao\n",
    "import matplotlib.pyplot as plt\n",
    "import numdifftools as nd\n",
    "from bmadx.track import *\n",
    "tkwargs = {\n",
    "    \"dtype\" : torch.double\n",
    "}\n",
    "import time\n",
    "np.set_printoptions(precision= 15, suppress=False)\n",
    "torch.set_printoptions(precision= 15, sci_mode=True)\n",
    "torch.__version__, np.__version__"
   ]
  },
  {
   "cell_type": "code",
   "execution_count": 2,
   "id": "75849dda-45a9-477f-8940-b64dd8a15b5f",
   "metadata": {},
   "outputs": [
    {
     "data": {
      "text/plain": [
       "'/home/jg2347/Repositories/Bmad-X'"
      ]
     },
     "execution_count": 2,
     "metadata": {},
     "output_type": "execute_result"
    }
   ],
   "source": [
    "from pathlib import Path\n",
    "\n",
    "def find_repo(path):\n",
    "    \"Find repository root from the path's parents\"\n",
    "    for path in Path(path).parents:\n",
    "        # Check whether \"path/.git\" exists and is a directory\n",
    "        git_dir = path / \".git\"\n",
    "        if git_dir.is_dir():\n",
    "            return path\n",
    "\n",
    "import os\n",
    "nb_dir = os.getcwd()\n",
    "# Find the repo root where the script is\n",
    "repo_path = str(find_repo(nb_dir))\n",
    "repo_path"
   ]
  },
  {
   "cell_type": "markdown",
   "id": "4195b788-22c6-4f75-bb00-a417cf041292",
   "metadata": {
    "tags": []
   },
   "source": [
    "# Constants"
   ]
  },
  {
   "cell_type": "code",
   "execution_count": 3,
   "id": "c3f66538-b1d3-448d-a15b-82cae88067f6",
   "metadata": {
    "tags": []
   },
   "outputs": [],
   "source": [
    "c_light = 2.99792458e8 #speed of light in m/s\n",
    "m_e = 0.510998950e6 #electron mass in eV"
   ]
  },
  {
   "cell_type": "markdown",
   "id": "7638cac6-72c7-4e95-ae44-6ff97b375ae3",
   "metadata": {
    "tags": []
   },
   "source": [
    "# Drift tests"
   ]
  },
  {
   "cell_type": "code",
   "execution_count": 4,
   "id": "ee6fdf69-c492-4bc0-83c9-9b6a0400ef1f",
   "metadata": {
    "tags": []
   },
   "outputs": [
    {
     "data": {
      "text/plain": [
       "Drift(L=tensor(1.000000000000000e+00, dtype=torch.float64))"
      ]
     },
     "execution_count": 4,
     "metadata": {},
     "output_type": "execute_result"
    }
   ],
   "source": [
    "# Create drift\n",
    "L=1.0 # Drift length in m\n",
    "d1 = Drift(L=torch.tensor(L, **tkwargs)) #named tuple is in track.py module\n",
    "d1"
   ]
  },
  {
   "cell_type": "markdown",
   "id": "f47cc1d4-c514-4f23-a70b-b692e4a0c4dc",
   "metadata": {
    "tags": []
   },
   "source": [
    "## Drift one particle test"
   ]
  },
  {
   "cell_type": "code",
   "execution_count": 5,
   "id": "22f5b59f-a16b-4e85-bc07-d9a6022c9dc2",
   "metadata": {
    "tags": []
   },
   "outputs": [
    {
     "data": {
      "text/plain": [
       "Particle(x=tensor(2.000000000000000e-03, dtype=torch.float64, grad_fn=<UnbindBackward0>), px=tensor(3.000000000000000e-03, dtype=torch.float64, grad_fn=<UnbindBackward0>), y=tensor(-3.000000000000000e-03, dtype=torch.float64, grad_fn=<UnbindBackward0>), py=tensor(-1.000000000000000e-03, dtype=torch.float64, grad_fn=<UnbindBackward0>), z=tensor(2.000000000000000e-03, dtype=torch.float64, grad_fn=<UnbindBackward0>), pz=tensor(-2.000000000000000e-03, dtype=torch.float64, grad_fn=<UnbindBackward0>), s=tensor(0., dtype=torch.float64), p0c=tensor(4.000000000000000e+07, dtype=torch.float64), mc2=tensor( 5.109989500000000e+05, dtype=torch.float64))"
      ]
     },
     "execution_count": 5,
     "metadata": {},
     "output_type": "execute_result"
    }
   ],
   "source": [
    "# Incoming particle\n",
    "s = 0.0 #initial s\n",
    "p0c = 4.0E+07 #Reference particle momentum in eV\n",
    "mc2 = 1*m_e # electron mass in eV\n",
    "ts = torch.tensor(s, **tkwargs)\n",
    "tp0c = torch.tensor(p0c, **tkwargs)\n",
    "tmc2 = torch.tensor(mc2, **tkwargs)\n",
    "pvec1 = [2e-3,3e-3,-3e-3,-1e-3,2e-3,-2e-3] \n",
    "tvec1 = torch.tensor(pvec1, requires_grad=True, **tkwargs)\n",
    "p_in = Particle(*tvec1,ts, tp0c, tmc2)\n",
    "p_in"
   ]
  },
  {
   "cell_type": "code",
   "execution_count": 6,
   "id": "2f852ced-da43-4f95-8578-779f46d15eb1",
   "metadata": {},
   "outputs": [
    {
     "data": {
      "text/plain": [
       "tensor([5.006027114522933e-03, 3.000000000000000e-03, -4.002009038174311e-03,\n",
       "        -1.000000000000000e-03, 1.994652573892362e-03, -2.000000000000000e-03],\n",
       "       dtype=torch.float64)"
      ]
     },
     "execution_count": 6,
     "metadata": {},
     "output_type": "execute_result"
    }
   ],
   "source": [
    "#create track_a_drift_torch\n",
    "track_a_drift_torch = make_track_a_drift(torch)\n",
    "# Outgoing particle\n",
    "p_out = track_a_drift_torch(p_in, d1)\n",
    "x_py = torch.hstack([p_out.x,p_out.px,p_out.y,p_out.py,p_out.z,p_out.pz]).detach()\n",
    "x_py"
   ]
  },
  {
   "cell_type": "code",
   "execution_count": 7,
   "id": "7a6c2d68-8d1e-4eaa-9fd0-aa67111276da",
   "metadata": {
    "tags": []
   },
   "outputs": [],
   "source": [
    "# bmad lattice for comparison\n",
    "tao = Tao('-lat '+repo_path+'/tests/bmad_lattices/test_drift.bmad -noplot')\n",
    "tao.cmd('set particle_start x='+str(pvec1[0]))\n",
    "tao.cmd('set particle_start px='+str(pvec1[1]))\n",
    "tao.cmd('set particle_start y='+str(pvec1[2]))\n",
    "tao.cmd('set particle_start py='+str(pvec1[3]))\n",
    "tao.cmd('set particle_start z='+str(pvec1[4]))\n",
    "tao.cmd('set particle_start pz='+str(pvec1[5]))\n",
    "orbit_out=tao.orbit_at_s(ele=1)\n",
    "#orbit_out"
   ]
  },
  {
   "cell_type": "code",
   "execution_count": 8,
   "id": "f986a53a-edc8-48cc-93b7-28911872bc94",
   "metadata": {},
   "outputs": [
    {
     "data": {
      "text/plain": [
       "tensor([5.006027114522930e-03, 3.000000000000000e-03, -4.002009038174310e-03,\n",
       "        -1.000000000000000e-03, 1.994652573892360e-03, -2.000000000000000e-03],\n",
       "       dtype=torch.float64)"
      ]
     },
     "execution_count": 8,
     "metadata": {},
     "output_type": "execute_result"
    }
   ],
   "source": [
    "# bmad outgoing particle\n",
    "x_tao = torch.tensor([orbit_out['x'],orbit_out['px'],orbit_out['y'],orbit_out['py'],orbit_out['z'],orbit_out['pz']],**tkwargs)\n",
    "x_tao"
   ]
  },
  {
   "cell_type": "code",
   "execution_count": 9,
   "id": "729e2c24-ee37-4d5b-8b76-81d1f5107dbf",
   "metadata": {},
   "outputs": [
    {
     "data": {
      "text/plain": [
       "True"
      ]
     },
     "execution_count": 9,
     "metadata": {},
     "output_type": "execute_result"
    }
   ],
   "source": [
    "torch.allclose(x_py, x_tao, atol=0, rtol=1.0e-14)"
   ]
  },
  {
   "cell_type": "markdown",
   "id": "d8fae022-eda1-4b37-89a3-48d9c9fc3ddb",
   "metadata": {
    "tags": []
   },
   "source": [
    "## Drift Jacobian test"
   ]
  },
  {
   "cell_type": "code",
   "execution_count": 10,
   "id": "062c3a71-b3b9-48b5-85a3-d332f716496d",
   "metadata": {},
   "outputs": [],
   "source": [
    "f_drift = lambda x: track_a_drift_torch(Particle(*x, ts, tp0c, tmc2), d1)[:6]\n",
    "J = jacobian(f_drift, tvec1)"
   ]
  },
  {
   "cell_type": "code",
   "execution_count": 11,
   "id": "2f3a581f-157b-44bd-b596-185155a9c972",
   "metadata": {
    "tags": []
   },
   "outputs": [
    {
     "data": {
      "text/plain": [
       "tensor([[ 1.000000000000000e+00,  1.002018092527393e+00,  0.000000000000000e+00,\n",
       "         -3.018117694005117e-06,  0.000000000000000e+00, -3.012081458617107e-03],\n",
       "        [ 0.000000000000000e+00,  1.000000000000000e+00,  0.000000000000000e+00,\n",
       "          0.000000000000000e+00,  0.000000000000000e+00,  0.000000000000000e+00],\n",
       "        [ 0.000000000000000e+00, -3.018117694005117e-06,  1.000000000000000e+00,\n",
       "          1.002010044213542e+00,  0.000000000000000e+00,  1.004027152872369e-03],\n",
       "        [ 0.000000000000000e+00,  0.000000000000000e+00,  0.000000000000000e+00,\n",
       "          1.000000000000000e+00,  0.000000000000000e+00,  0.000000000000000e+00],\n",
       "        [ 0.000000000000000e+00, -3.012081458617106e-03,  0.000000000000000e+00,\n",
       "          1.004027152872369e-03,  1.000000000000000e+00,  1.742165247481025e-04],\n",
       "        [ 0.000000000000000e+00,  0.000000000000000e+00,  0.000000000000000e+00,\n",
       "          0.000000000000000e+00,  0.000000000000000e+00,  1.000000000000000e+00]],\n",
       "       dtype=torch.float64)"
      ]
     },
     "execution_count": 11,
     "metadata": {},
     "output_type": "execute_result"
    }
   ],
   "source": [
    "# Jacobian matrix\n",
    "mat_py = torch.vstack(J)\n",
    "mat_py"
   ]
  },
  {
   "cell_type": "code",
   "execution_count": 12,
   "id": "9f168d28-5c4a-4db0-a649-c8bde823496c",
   "metadata": {},
   "outputs": [
    {
     "data": {
      "text/plain": [
       "tensor([[ 1.000000000000000e+00,  1.002018092527390e+00,  0.000000000000000e+00,\n",
       "         -3.018117694005120e-06,  0.000000000000000e+00, -3.012081458617110e-03],\n",
       "        [ 0.000000000000000e+00,  1.000000000000000e+00,  0.000000000000000e+00,\n",
       "          0.000000000000000e+00,  0.000000000000000e+00,  0.000000000000000e+00],\n",
       "        [ 0.000000000000000e+00, -3.018117694005120e-06,  1.000000000000000e+00,\n",
       "          1.002010044213540e+00,  0.000000000000000e+00,  1.004027152872370e-03],\n",
       "        [ 0.000000000000000e+00,  0.000000000000000e+00,  0.000000000000000e+00,\n",
       "          1.000000000000000e+00,  0.000000000000000e+00,  0.000000000000000e+00],\n",
       "        [ 0.000000000000000e+00, -3.012081458617110e-03,  0.000000000000000e+00,\n",
       "          1.004027152872370e-03,  1.000000000000000e+00,  1.742165247481030e-04],\n",
       "        [ 0.000000000000000e+00,  0.000000000000000e+00,  0.000000000000000e+00,\n",
       "          0.000000000000000e+00,  0.000000000000000e+00,  1.000000000000000e+00]],\n",
       "       dtype=torch.float64)"
      ]
     },
     "execution_count": 12,
     "metadata": {},
     "output_type": "execute_result"
    }
   ],
   "source": [
    "# Tao Jacobian\n",
    "drift_tao = tao.matrix(0,1)\n",
    "mat_tao = torch.tensor(drift_tao['mat6'], **tkwargs)\n",
    "mat_tao"
   ]
  },
  {
   "cell_type": "code",
   "execution_count": 13,
   "id": "4707f2f9-3e23-4497-9dda-78205b54965f",
   "metadata": {},
   "outputs": [
    {
     "data": {
      "text/plain": [
       "True"
      ]
     },
     "execution_count": 13,
     "metadata": {},
     "output_type": "execute_result"
    }
   ],
   "source": [
    "# is it close to Tao result?\n",
    "torch.allclose(mat_py, mat_tao, atol=0, rtol=1.0e-14)"
   ]
  },
  {
   "cell_type": "markdown",
   "id": "c3f3188a-39d8-4d68-bb0e-131a8dbb22a6",
   "metadata": {
    "tags": []
   },
   "source": [
    "# Quadrupole tests"
   ]
  },
  {
   "cell_type": "code",
   "execution_count": 14,
   "id": "9e48ff76-4946-4386-9a86-716f08cc1a8b",
   "metadata": {},
   "outputs": [],
   "source": [
    "def torch_quadrupole(L: torch.Tensor, K1: torch.Tensor, NUM_STEPS=1,\n",
    "                     X_OFFSET: torch.Tensor=torch.tensor(0.0,**tkwargs),\n",
    "                     Y_OFFSET: torch.Tensor=torch.tensor(0.0,**tkwargs),\n",
    "                     TILT: torch.Tensor=torch.tensor(0.0,**tkwargs)):\n",
    "    return Quadrupole(L=L, K1=K1, NUM_STEPS=NUM_STEPS, X_OFFSET=X_OFFSET,\n",
    "                      Y_OFFSET=Y_OFFSET, TILT=TILT)"
   ]
  },
  {
   "cell_type": "code",
   "execution_count": 15,
   "id": "5dcd7b1a-ba3f-4b45-a5e6-455650fd6598",
   "metadata": {
    "tags": []
   },
   "outputs": [
    {
     "data": {
      "text/plain": [
       "Quadrupole(L=tensor(1.000000000000000e-01, dtype=torch.float64), K1=tensor(1.000000000000000e+01, dtype=torch.float64), NUM_STEPS=1, X_OFFSET=tensor(0., dtype=torch.float64), Y_OFFSET=tensor(0., dtype=torch.float64), TILT=tensor(0., dtype=torch.float64))"
      ]
     },
     "execution_count": 15,
     "metadata": {},
     "output_type": "execute_result"
    }
   ],
   "source": [
    "# Create quad\n",
    "L = 0.1 #Length in m\n",
    "K1 = 10 #Quad focusing strength. Positive is focusing in x\n",
    "#NUM_STEPS = 1 #number of divisions for tracking. 1 is bmad default when there are no other multipoles\n",
    "q1 = torch_quadrupole(L=torch.tensor(L, **tkwargs), K1=torch.tensor(K1, **tkwargs))\n",
    "q1"
   ]
  },
  {
   "cell_type": "markdown",
   "id": "b73fdb87-f4bd-4b42-8ad9-6eb54030ad99",
   "metadata": {
    "tags": []
   },
   "source": [
    "## Quadrupole one particle test"
   ]
  },
  {
   "cell_type": "code",
   "execution_count": 16,
   "id": "0d16dea9-7c66-4c92-bd7e-b0bca1097b8f",
   "metadata": {},
   "outputs": [
    {
     "data": {
      "text/plain": [
       "tensor([2.196239719302552e-03, 8.841834264853368e-04, -3.253441973269224e-03,\n",
       "        -4.100871741572859e-03, 1.999394664225331e-03, -2.000000000000000e-03],\n",
       "       dtype=torch.float64)"
      ]
     },
     "execution_count": 16,
     "metadata": {},
     "output_type": "execute_result"
    }
   ],
   "source": [
    "# create track_a_quadrupole_torch\n",
    "track_a_quadrupole_torch = make_track_a_quadrupole(torch)\n",
    "# Outgoing particle\n",
    "p_out = track_a_quadrupole_torch(p_in, q1)\n",
    "x_py = torch.hstack(p_out[:6]).detach()\n",
    "x_py"
   ]
  },
  {
   "cell_type": "code",
   "execution_count": 17,
   "id": "7670ad81-5961-41bc-8719-1e23e97fb9a0",
   "metadata": {},
   "outputs": [],
   "source": [
    "# Bmad lattice to compare\n",
    "tao = Tao('-lat '+repo_path+'/tests/bmad_lattices/test_quad.bmad -noplot')\n",
    "tao.cmd('set particle_start x='+str(pvec1[0]))\n",
    "tao.cmd('set particle_start px='+str(pvec1[1]))\n",
    "tao.cmd('set particle_start y='+str(pvec1[2]))\n",
    "tao.cmd('set particle_start py='+str(pvec1[3]))\n",
    "tao.cmd('set particle_start z='+str(pvec1[4]))\n",
    "tao.cmd('set particle_start pz='+str(pvec1[5]))\n",
    "orbit_out = tao.orbit_at_s(ele=1)"
   ]
  },
  {
   "cell_type": "code",
   "execution_count": 18,
   "id": "82aa9e17-97ec-4556-93d1-2f54163d7f35",
   "metadata": {},
   "outputs": [
    {
     "data": {
      "text/plain": [
       "tensor([2.196239719302550e-03, 8.841834264853370e-04, -3.253441973269220e-03,\n",
       "        -4.100871741572860e-03, 1.999394664225330e-03, -2.000000000000000e-03],\n",
       "       dtype=torch.float64)"
      ]
     },
     "execution_count": 18,
     "metadata": {},
     "output_type": "execute_result"
    }
   ],
   "source": [
    "# Bmad outgoing particle\n",
    "x_tao = torch.tensor([orbit_out['x'],orbit_out['px'],orbit_out['y'],orbit_out['py'],orbit_out['z'],orbit_out['pz']],**tkwargs)\n",
    "x_tao"
   ]
  },
  {
   "cell_type": "code",
   "execution_count": 19,
   "id": "0174f8be-14cc-4aab-8b10-cecb0f044eb3",
   "metadata": {},
   "outputs": [
    {
     "data": {
      "text/plain": [
       "True"
      ]
     },
     "execution_count": 19,
     "metadata": {},
     "output_type": "execute_result"
    }
   ],
   "source": [
    "# close to Tao result?\n",
    "torch.allclose(x_py, x_tao, atol=0, rtol=1.0e-14)"
   ]
  },
  {
   "cell_type": "markdown",
   "id": "18d8ab23-f846-44e9-88c9-987b2267f9a1",
   "metadata": {
    "tags": []
   },
   "source": [
    "## Quadrupole Jacobian test"
   ]
  },
  {
   "cell_type": "code",
   "execution_count": 20,
   "id": "ea343dea-8c1f-4ce8-8d5c-3aa0f89d9812",
   "metadata": {},
   "outputs": [],
   "source": [
    "f_quadrupole = lambda x: track_a_quadrupole_torch(Particle(*x,ts, tp0c, tmc2), q1)[:6]\n",
    "J = jacobian(f_quadrupole, tvec1)"
   ]
  },
  {
   "cell_type": "code",
   "execution_count": 21,
   "id": "f0f45bf6-e8a9-469d-9883-76e85edb777b",
   "metadata": {},
   "outputs": [
    {
     "data": {
      "text/plain": [
       "tensor([[ 9.503167431875498e-01,  9.853541097581728e-02,  0.000000000000000e+00,\n",
       "          0.000000000000000e+00,  0.000000000000000e+00, -1.924858550317723e-04],\n",
       "        [-9.833834015386563e-01,  9.503167431875498e-01, -0.000000000000000e+00,\n",
       "          0.000000000000000e+00,  0.000000000000000e+00,  1.149663908944082e-04],\n",
       "        [ 0.000000000000000e+00,  0.000000000000000e+00,  1.050519938506054e+00,\n",
       "          1.018821577510623e-01,  0.000000000000000e+00,  2.569093937337833e-04],\n",
       "        [-0.000000000000000e+00,  0.000000000000000e+00,  1.016783934355602e+00,\n",
       "          1.050519938506054e+00,  0.000000000000000e+00,  1.017485822657404e-04],\n",
       "        [ 8.003290869842023e-05, -1.942507914386516e-04,  1.543324297486644e-04,\n",
       "          2.595220753974964e-04,  1.000000000000000e+00,  1.756709202142694e-05],\n",
       "        [ 0.000000000000000e+00,  0.000000000000000e+00,  0.000000000000000e+00,\n",
       "          0.000000000000000e+00,  0.000000000000000e+00,  1.000000000000000e+00]],\n",
       "       dtype=torch.float64)"
      ]
     },
     "execution_count": 21,
     "metadata": {},
     "output_type": "execute_result"
    }
   ],
   "source": [
    "# Jacobian matrix\n",
    "mat_py = torch.vstack(J)\n",
    "mat_py"
   ]
  },
  {
   "cell_type": "code",
   "execution_count": 22,
   "id": "9e6cd8cc-4f9d-4072-a48b-b27961ad5762",
   "metadata": {},
   "outputs": [
    {
     "data": {
      "text/plain": [
       "tensor([[ 9.503167431875500e-01,  9.853541097581731e-02,  0.000000000000000e+00,\n",
       "          0.000000000000000e+00,  0.000000000000000e+00, -1.924858550317720e-04],\n",
       "        [-9.833834015386560e-01,  9.503167431875500e-01,  0.000000000000000e+00,\n",
       "          0.000000000000000e+00,  0.000000000000000e+00,  1.149663908944080e-04],\n",
       "        [ 0.000000000000000e+00,  0.000000000000000e+00,  1.050519938506050e+00,\n",
       "          1.018821577510620e-01,  0.000000000000000e+00,  2.569093937337830e-04],\n",
       "        [ 0.000000000000000e+00,  0.000000000000000e+00,  1.016783934355600e+00,\n",
       "          1.050519938506050e+00,  0.000000000000000e+00,  1.017485822657410e-04],\n",
       "        [ 8.003290869842020e-05, -1.942507914386520e-04,  1.543324297486640e-04,\n",
       "          2.595220753974960e-04,  1.000000000000000e+00,  1.756709202142690e-05],\n",
       "        [ 0.000000000000000e+00,  0.000000000000000e+00,  0.000000000000000e+00,\n",
       "          0.000000000000000e+00,  0.000000000000000e+00,  1.000000000000000e+00]],\n",
       "       dtype=torch.float64)"
      ]
     },
     "execution_count": 22,
     "metadata": {},
     "output_type": "execute_result"
    }
   ],
   "source": [
    "# Bmad Jacobian\n",
    "quad_tao = tao.matrix(0,1)\n",
    "mat_tao = torch.tensor(quad_tao['mat6'], **tkwargs)\n",
    "mat_tao"
   ]
  },
  {
   "cell_type": "code",
   "execution_count": 23,
   "id": "daea008b-7368-4f75-9fe0-fb3de156d68f",
   "metadata": {},
   "outputs": [
    {
     "data": {
      "text/plain": [
       "True"
      ]
     },
     "execution_count": 23,
     "metadata": {},
     "output_type": "execute_result"
    }
   ],
   "source": [
    "# close to Tao result?\n",
    "torch.allclose(mat_py, mat_tao, atol=0, rtol=1.0e-14)"
   ]
  },
  {
   "cell_type": "markdown",
   "id": "f973149b-da83-4b8c-9da4-88b4578c9ebe",
   "metadata": {
    "tags": []
   },
   "source": [
    "## Quadrupole offset test"
   ]
  },
  {
   "cell_type": "code",
   "execution_count": 24,
   "id": "4542eae6-b1b7-4438-a985-fe7733144f54",
   "metadata": {},
   "outputs": [],
   "source": [
    "# Quad params\n",
    "L = 0.1 #Length in m\n",
    "K1 = 10 #Quad focusing strength. Positive is focusing in x\n",
    "\n",
    "# quad w/o offsets\n",
    "q_no_off = torch_quadrupole(L=torch.tensor(L, **tkwargs), K1=torch.tensor(K1, **tkwargs))\n",
    "# quad with offsets\n",
    "x_off = 1e-3\n",
    "y_off = -2e-3\n",
    "q_off = torch_quadrupole(L=torch.tensor(L, **tkwargs), K1=torch.tensor(K1, **tkwargs), \n",
    "                         X_OFFSET=torch.tensor(x_off, **tkwargs),\n",
    "                         Y_OFFSET=torch.tensor(y_off, **tkwargs) )"
   ]
  },
  {
   "cell_type": "code",
   "execution_count": 25,
   "id": "eef795f4-4537-4430-853f-fa81c201a181",
   "metadata": {},
   "outputs": [
    {
     "data": {
      "text/plain": [
       "tensor([2.196239719302552e-03, 8.841834264853368e-04, -3.253441973269224e-03,\n",
       "        -4.100871741572859e-03, 1.999394664225331e-03, -2.000000000000000e-03],\n",
       "       dtype=torch.float64)"
      ]
     },
     "execution_count": 25,
     "metadata": {},
     "output_type": "execute_result"
    }
   ],
   "source": [
    "# Outgoing particle no offset\n",
    "p_out = track_a_quadrupole_torch(p_in, q_no_off)\n",
    "x_py = torch.hstack(p_out[:6]).detach()\n",
    "x_py"
   ]
  },
  {
   "cell_type": "code",
   "execution_count": 26,
   "id": "7d5f8fdd-2fe1-4e40-a4e8-4547779a8cf3",
   "metadata": {},
   "outputs": [
    {
     "data": {
      "text/plain": [
       "tensor([2.245922976115002e-03, 1.867566828023993e-03, -3.152402096257116e-03,\n",
       "        -2.067303872861656e-03, 1.999538606428305e-03, -2.000000000000000e-03],\n",
       "       dtype=torch.float64)"
      ]
     },
     "execution_count": 26,
     "metadata": {},
     "output_type": "execute_result"
    }
   ],
   "source": [
    "# Outgoing particle offset\n",
    "p_out = track_a_quadrupole_torch(p_in, q_off)\n",
    "x_py = torch.hstack(p_out[:6]).detach()\n",
    "x_py"
   ]
  },
  {
   "cell_type": "code",
   "execution_count": 27,
   "id": "3d6da4fc-be97-465f-923e-9b89394ed2fa",
   "metadata": {},
   "outputs": [
    {
     "name": "stdout",
     "output_type": "stream",
     "text": [
      "CPU times: user 12.1 ms, sys: 925 µs, total: 13 ms\n",
      "Wall time: 13.3 ms\n"
     ]
    }
   ],
   "source": [
    "%%time\n",
    "# Bmad lattice to compare\n",
    "tao = Tao('-lat '+repo_path+'/tests/bmad_lattices/test_quad_offset.bmad -noplot')\n",
    "tao.cmd('set particle_start x='+str(pvec1[0]))\n",
    "tao.cmd('set particle_start px='+str(pvec1[1]))\n",
    "tao.cmd('set particle_start y='+str(pvec1[2]))\n",
    "tao.cmd('set particle_start py='+str(pvec1[3]))\n",
    "tao.cmd('set particle_start z='+str(pvec1[4]))\n",
    "tao.cmd('set particle_start pz='+str(pvec1[5]))\n",
    "orbit_out = tao.orbit_at_s(ele=1)"
   ]
  },
  {
   "cell_type": "code",
   "execution_count": 28,
   "id": "54771004-092a-4669-9429-7b33b867dbea",
   "metadata": {
    "tags": []
   },
   "outputs": [
    {
     "data": {
      "text/plain": [
       "tensor([2.245922976115000e-03, 1.867566828023990e-03, -3.152402096257120e-03,\n",
       "        -2.067303872861660e-03, 1.999538606428300e-03, -2.000000000000000e-03],\n",
       "       dtype=torch.float64)"
      ]
     },
     "execution_count": 28,
     "metadata": {},
     "output_type": "execute_result"
    }
   ],
   "source": [
    "# Bmad outgoing particle\n",
    "x_tao = torch.tensor([orbit_out['x'],orbit_out['px'],orbit_out['y'],orbit_out['py'],orbit_out['z'],orbit_out['pz']],**tkwargs)\n",
    "x_tao"
   ]
  },
  {
   "cell_type": "code",
   "execution_count": 29,
   "id": "fda592ee-2116-436b-a46a-2d7be549a8f5",
   "metadata": {},
   "outputs": [
    {
     "data": {
      "text/plain": [
       "True"
      ]
     },
     "execution_count": 29,
     "metadata": {},
     "output_type": "execute_result"
    }
   ],
   "source": [
    "# close to Tao result?\n",
    "torch.allclose(x_py, x_tao, atol=0, rtol=1.0e-14)"
   ]
  },
  {
   "cell_type": "markdown",
   "id": "f8d7bedf-6116-41d3-8eac-5a3000e2b7bb",
   "metadata": {
    "tags": []
   },
   "source": [
    "## Quadrupole tilt test (transverse rotation)"
   ]
  },
  {
   "cell_type": "code",
   "execution_count": 30,
   "id": "e7873687-1fee-4033-91b1-f3090a4d166d",
   "metadata": {},
   "outputs": [],
   "source": [
    "# Quad params\n",
    "L = 0.1 #Length in m\n",
    "K1 = 10 #Quad focusing strength. Positive is focusing in x\n",
    "\n",
    "# quad w/o offsets\n",
    "q_no_off = torch_quadrupole(L=torch.tensor(L, **tkwargs), K1=torch.tensor(K1, **tkwargs))\n",
    "# quad with offsets\n",
    "tilt = 0.3\n",
    "q_off = torch_quadrupole(L=torch.tensor(L, **tkwargs), K1=torch.tensor(K1, **tkwargs),\n",
    "                         TILT = torch.tensor(tilt, **tkwargs))"
   ]
  },
  {
   "cell_type": "code",
   "execution_count": 31,
   "id": "500e6c60-e125-49f3-8417-0bed6931112e",
   "metadata": {},
   "outputs": [
    {
     "data": {
      "text/plain": [
       "tensor([2.196239719302552e-03, 8.841834264853368e-04, -3.253441973269224e-03,\n",
       "        -4.100871741572859e-03, 1.999394664225331e-03, -2.000000000000000e-03],\n",
       "       dtype=torch.float64)"
      ]
     },
     "execution_count": 31,
     "metadata": {},
     "output_type": "execute_result"
    }
   ],
   "source": [
    "# Outgoing particle no offset\n",
    "p_out = track_a_quadrupole_torch(p_in, q_no_off)\n",
    "x_py = torch.hstack(p_out[:6]).detach()\n",
    "x_py"
   ]
  },
  {
   "cell_type": "code",
   "execution_count": 32,
   "id": "d2e966bb-05fa-46f8-9ad0-3d56a85c625a",
   "metadata": {},
   "outputs": [
    {
     "data": {
      "text/plain": [
       "tensor([2.300431812756860e-03, 2.982152956166943e-03, -3.286310353406088e-03,\n",
       "        -4.782331681936468e-03, 1.999046404985869e-03, -2.000000000000000e-03],\n",
       "       dtype=torch.float64)"
      ]
     },
     "execution_count": 32,
     "metadata": {},
     "output_type": "execute_result"
    }
   ],
   "source": [
    "# Outgoing particle offset\n",
    "p_out = track_a_quadrupole_torch(Particle(*tvec1,ts, tp0c, tmc2), q_off)\n",
    "x_py = torch.hstack(p_out[:6]).detach()\n",
    "x_py"
   ]
  },
  {
   "cell_type": "code",
   "execution_count": 33,
   "id": "eef6f7ec-81ae-4109-96b6-179c6e2fdb0d",
   "metadata": {},
   "outputs": [
    {
     "name": "stdout",
     "output_type": "stream",
     "text": [
      "CPU times: user 12.4 ms, sys: 477 µs, total: 12.9 ms\n",
      "Wall time: 13.1 ms\n"
     ]
    }
   ],
   "source": [
    "%%time\n",
    "# Bmad lattice to compare\n",
    "tao = Tao('-lat '+repo_path+'/tests/bmad_lattices/test_quad_tilt.bmad -noplot')\n",
    "tao.cmd('set particle_start x='+str(pvec1[0]))\n",
    "tao.cmd('set particle_start px='+str(pvec1[1]))\n",
    "tao.cmd('set particle_start y='+str(pvec1[2]))\n",
    "tao.cmd('set particle_start py='+str(pvec1[3]))\n",
    "tao.cmd('set particle_start z='+str(pvec1[4]))\n",
    "tao.cmd('set particle_start pz='+str(pvec1[5]))\n",
    "orbit_out = tao.orbit_at_s(ele=1)"
   ]
  },
  {
   "cell_type": "code",
   "execution_count": 34,
   "id": "91c33264-efb9-438f-9d4b-778fabe27616",
   "metadata": {},
   "outputs": [
    {
     "data": {
      "text/plain": [
       "tensor([2.300431812756860e-03, 2.982152956166940e-03, -3.286310353406090e-03,\n",
       "        -4.782331681936470e-03, 1.999046404985870e-03, -2.000000000000000e-03],\n",
       "       dtype=torch.float64)"
      ]
     },
     "execution_count": 34,
     "metadata": {},
     "output_type": "execute_result"
    }
   ],
   "source": [
    "# Bmad outgoing particle\n",
    "x_tao = torch.tensor([orbit_out['x'],orbit_out['px'],orbit_out['y'],orbit_out['py'],orbit_out['z'],orbit_out['pz']],**tkwargs)\n",
    "x_tao"
   ]
  },
  {
   "cell_type": "code",
   "execution_count": 35,
   "id": "7ee01084-9bf2-4f96-988a-72523ff39f66",
   "metadata": {},
   "outputs": [
    {
     "data": {
      "text/plain": [
       "True"
      ]
     },
     "execution_count": 35,
     "metadata": {},
     "output_type": "execute_result"
    }
   ],
   "source": [
    "# close to Tao result?\n",
    "torch.allclose(x_py, x_tao, atol=0, rtol=1.0e-14)"
   ]
  },
  {
   "cell_type": "markdown",
   "id": "491331ff-7285-470a-85fe-b795668e5d13",
   "metadata": {
    "tags": []
   },
   "source": [
    "# Lattice tracking"
   ]
  },
  {
   "cell_type": "markdown",
   "id": "0c8ca256-7abd-466c-976a-9c754ac22571",
   "metadata": {
    "tags": []
   },
   "source": [
    "## Lattice one particle test"
   ]
  },
  {
   "cell_type": "code",
   "execution_count": 36,
   "id": "e382de98-ca91-4511-9ff0-190dba00655b",
   "metadata": {
    "tags": []
   },
   "outputs": [],
   "source": [
    "# Create drift\n",
    "L_d = 1.0 # Drift length in m\n",
    "d1 = Drift(torch.tensor(L_d, **tkwargs))\n",
    "# Create quad\n",
    "L_q = 0.1  # quad length in m\n",
    "K1 = 10  # Quad focusing strength. Positive is focusing in x\n",
    "#NUM_STEPS = 1  # number of divisions for tracking. 1 is bmad default when there are no other multipoles\n",
    "q1 = torch_quadrupole(L=torch.tensor(L_q, **tkwargs), K1=torch.tensor(K1, **tkwargs))"
   ]
  },
  {
   "cell_type": "code",
   "execution_count": 37,
   "id": "5c8e5ad9-3309-4323-bfeb-a57209658750",
   "metadata": {},
   "outputs": [
    {
     "data": {
      "text/plain": [
       "tensor([-2.281967961209991e-03, -4.896330349656308e-03, -2.543913165908659e-02,\n",
       "        -1.497282967847466e-02, 1.847324681974169e-03, -2.000000000000000e-03],\n",
       "       dtype=torch.float64)"
      ]
     },
     "execution_count": 37,
     "metadata": {},
     "output_type": "execute_result"
    }
   ],
   "source": [
    "# Lattice example\n",
    "lattice = [d1, q1, d1, q1, d1]  # lattice is a list of elements\n",
    "# List of particle coordinates after each element:\n",
    "x_list = [torch.hstack(coords[:6]).detach() for coords in track_a_lattice(p_in, lattice)]\n",
    "# Outgoing particle after complete lattice:\n",
    "x_py = torch.hstack(track_a_lattice(p_in, lattice)[-1][:6]).detach()\n",
    "# alternative: x_list[-1]\n",
    "x_py"
   ]
  },
  {
   "cell_type": "code",
   "execution_count": 38,
   "id": "9723f930-5c64-4fdc-a94c-df2a816bfe0a",
   "metadata": {},
   "outputs": [],
   "source": [
    "# Bmad lattice to compare\n",
    "tao = Tao('-lat '+repo_path+'/tests/bmad_lattices/test_drift_quad.bmad -noplot')\n",
    "tao.cmd('set particle_start x='+str(pvec1[0]))\n",
    "tao.cmd('set particle_start px='+str(pvec1[1]))\n",
    "tao.cmd('set particle_start y='+str(pvec1[2]))\n",
    "tao.cmd('set particle_start py='+str(pvec1[3]))\n",
    "tao.cmd('set particle_start z='+str(pvec1[4]))\n",
    "tao.cmd('set particle_start pz='+str(pvec1[5]))\n",
    "orbit_out = tao.orbit_at_s(ele=5)"
   ]
  },
  {
   "cell_type": "code",
   "execution_count": 39,
   "id": "d3911c94-0464-4b62-ad7a-55e197ed22be",
   "metadata": {},
   "outputs": [
    {
     "data": {
      "text/plain": [
       "tensor([-2.281967961209990e-03, -4.896330349656310e-03, -2.543913165908660e-02,\n",
       "        -1.497282967847470e-02, 1.847324681974170e-03, -2.000000000000000e-03],\n",
       "       dtype=torch.float64)"
      ]
     },
     "execution_count": 39,
     "metadata": {},
     "output_type": "execute_result"
    }
   ],
   "source": [
    "# Bmad outgoing particle\n",
    "x_tao = torch.tensor([orbit_out['x'],orbit_out['px'],orbit_out['y'],orbit_out['py'],orbit_out['z'],orbit_out['pz']],**tkwargs)\n",
    "x_tao"
   ]
  },
  {
   "cell_type": "code",
   "execution_count": 40,
   "id": "09dfa314-fd81-443b-9084-970a0ee22e1f",
   "metadata": {},
   "outputs": [
    {
     "data": {
      "text/plain": [
       "True"
      ]
     },
     "execution_count": 40,
     "metadata": {},
     "output_type": "execute_result"
    }
   ],
   "source": [
    "# close to Tao result?\n",
    "torch.allclose(x_py, x_tao, atol=0, rtol=1.0e-14)"
   ]
  },
  {
   "cell_type": "markdown",
   "id": "f9ba321b-16ba-4616-b64a-86a0fab6df3f",
   "metadata": {
    "tags": []
   },
   "source": [
    "## Lattice Jacobian test"
   ]
  },
  {
   "cell_type": "code",
   "execution_count": 41,
   "id": "dc9d30da-be29-4072-a9fa-b982030531de",
   "metadata": {
    "tags": []
   },
   "outputs": [],
   "source": [
    "f_driftquadrupole = lambda x: track_a_lattice(Particle(*x, ts, tp0c, tmc2), lattice)[-1][:6]\n",
    "J = jacobian(f_driftquadrupole, tvec1)"
   ]
  },
  {
   "cell_type": "code",
   "execution_count": 42,
   "id": "a15024cb-8d00-434c-9642-3cf3105db844",
   "metadata": {},
   "outputs": [
    {
     "data": {
      "text/plain": [
       "tensor([[-1.032202390317458e+00, -7.256968115101181e-02,  2.336717479636538e-04,\n",
       "          4.049003895819779e-04,  0.000000000000000e+00,  8.218283945153969e-03],\n",
       "        [-9.000515317112638e-01, -1.032080978292848e+00, -1.067067115329933e-05,\n",
       "         -1.900037293643618e-05,  0.000000000000000e+00,  5.547564231500580e-04],\n",
       "        [-8.812732879846703e-05, -9.339294371369415e-05,  5.457258390307320e+00,\n",
       "          9.071019578396722e+00,  0.000000000000000e+00,  3.361265895544615e-02],\n",
       "        [-1.067067115329933e-05, -9.954618543668099e-06,  3.172268131080336e+00,\n",
       "          5.456165751278677e+00,  0.000000000000000e+00,  9.391470418309955e-03],\n",
       "        [-6.823789171283308e-03, -8.441133541388406e-03,  5.537646874208031e-02,\n",
       "          9.820564579614072e-02,  1.000000000000000e+00,  9.919963196451456e-04],\n",
       "        [ 0.000000000000000e+00,  0.000000000000000e+00,  0.000000000000000e+00,\n",
       "          0.000000000000000e+00,  0.000000000000000e+00,  1.000000000000000e+00]],\n",
       "       dtype=torch.float64)"
      ]
     },
     "execution_count": 42,
     "metadata": {},
     "output_type": "execute_result"
    }
   ],
   "source": [
    "# Jacobian matrix\n",
    "mat_py = torch.vstack(J)\n",
    "mat_py"
   ]
  },
  {
   "cell_type": "code",
   "execution_count": 43,
   "id": "3649facd-33ea-46e7-9a4c-b561dd5e5388",
   "metadata": {},
   "outputs": [
    {
     "data": {
      "text/plain": [
       "tensor([[-1.032202390317460e+00, -7.256968115101139e-02,  2.336717479636540e-04,\n",
       "          4.049003895819780e-04,  0.000000000000000e+00,  8.218283945153960e-03],\n",
       "        [-9.000515317112640e-01, -1.032080978292850e+00, -1.067067115329930e-05,\n",
       "         -1.900037293643620e-05,  0.000000000000000e+00,  5.547564231500580e-04],\n",
       "        [-8.812732879846700e-05, -9.339294371369409e-05,  5.457258390307320e+00,\n",
       "          9.071019578396720e+00,  0.000000000000000e+00,  3.361265895544610e-02],\n",
       "        [-1.067067115329930e-05, -9.954618543668099e-06,  3.172268131080340e+00,\n",
       "          5.456165751278680e+00,  0.000000000000000e+00,  9.391470418309950e-03],\n",
       "        [-6.823789171283310e-03, -8.441133541388410e-03,  5.537646874208030e-02,\n",
       "          9.820564579614070e-02,  1.000000000000000e+00,  9.919963196451461e-04],\n",
       "        [ 0.000000000000000e+00,  0.000000000000000e+00,  0.000000000000000e+00,\n",
       "          0.000000000000000e+00,  0.000000000000000e+00,  1.000000000000000e+00]],\n",
       "       dtype=torch.float64)"
      ]
     },
     "execution_count": 43,
     "metadata": {},
     "output_type": "execute_result"
    }
   ],
   "source": [
    "# Bmad Jacobian\n",
    "lat_tao = tao.matrix(0,5)\n",
    "mat_tao = torch.tensor(lat_tao['mat6'], **tkwargs)\n",
    "mat_tao"
   ]
  },
  {
   "cell_type": "code",
   "execution_count": 44,
   "id": "35e3965b-95d8-4f25-87f2-675435b7fa49",
   "metadata": {},
   "outputs": [
    {
     "data": {
      "text/plain": [
       "True"
      ]
     },
     "execution_count": 44,
     "metadata": {},
     "output_type": "execute_result"
    }
   ],
   "source": [
    "# close to Tao result?\n",
    "torch.allclose(mat_py, mat_tao, atol=0, rtol=1.0e-14)"
   ]
  },
  {
   "cell_type": "markdown",
   "id": "abd7f307-4e0e-4530-99ec-3ca70109d3f0",
   "metadata": {
    "tags": []
   },
   "source": [
    "## Multi-particle propagation through lattice"
   ]
  },
  {
   "cell_type": "code",
   "execution_count": 45,
   "id": "6429e104-311c-444b-98dd-5075a05e9bdd",
   "metadata": {
    "tags": []
   },
   "outputs": [],
   "source": [
    "# Particle bunch with Gaussian distribution\n",
    "sample_size = 1000\n",
    "mean = torch.zeros(6, **tkwargs)\n",
    "cov = torch.diag(torch.tensor([1e-6, 2e-6, 1e-6, 2e-6, 1e-6, 2e-6],**tkwargs))\n",
    "dist = torch.distributions.multivariate_normal.MultivariateNormal(mean, cov)\n",
    "sample = dist.sample(torch.Size([sample_size]))\n",
    "bunch_in = Particle(*sample.T, ts, tp0c, tmc2)"
   ]
  },
  {
   "cell_type": "code",
   "execution_count": 46,
   "id": "c89db535-74b8-4afd-82b6-f70e52f98723",
   "metadata": {},
   "outputs": [],
   "source": [
    "bunch_out = track_a_lattice(bunch_in, lattice)"
   ]
  },
  {
   "cell_type": "code",
   "execution_count": 47,
   "id": "aca6346f-c4bf-4e62-9274-76dcf6a05b40",
   "metadata": {},
   "outputs": [
    {
     "data": {
      "text/plain": [
       "(tensor(9.987231161940678e-04, dtype=torch.float64),\n",
       " tensor(1.456680534410338e-02, dtype=torch.float64))"
      ]
     },
     "execution_count": 47,
     "metadata": {},
     "output_type": "execute_result"
    }
   ],
   "source": [
    "# some beam properties up and downstream\n",
    "torch.std(bunch_out[0].y),torch.std(bunch_out[-1].y)"
   ]
  },
  {
   "cell_type": "markdown",
   "id": "a35d4b34-6c23-48d8-af4c-7daad3055b20",
   "metadata": {
    "tags": []
   },
   "source": [
    "## Stub element test"
   ]
  },
  {
   "cell_type": "code",
   "execution_count": 48,
   "id": "62fc1a71-37f7-4651-8b4b-2168581ebf0d",
   "metadata": {},
   "outputs": [
    {
     "data": {
      "text/plain": [
       "[Quadrupole(L=tensor(1.000000000000000e-02, dtype=torch.float64), K1=tensor(1.000000000000000e+01, dtype=torch.float64), NUM_STEPS=1, X_OFFSET=tensor(0., dtype=torch.float64), Y_OFFSET=tensor(0., dtype=torch.float64), TILT=tensor(0., dtype=torch.float64)),\n",
       " Quadrupole(L=tensor(1.000000000000000e-02, dtype=torch.float64), K1=tensor(1.000000000000000e+01, dtype=torch.float64), NUM_STEPS=1, X_OFFSET=tensor(0., dtype=torch.float64), Y_OFFSET=tensor(0., dtype=torch.float64), TILT=tensor(0., dtype=torch.float64)),\n",
       " Quadrupole(L=tensor(1.000000000000000e-02, dtype=torch.float64), K1=tensor(1.000000000000000e+01, dtype=torch.float64), NUM_STEPS=1, X_OFFSET=tensor(0., dtype=torch.float64), Y_OFFSET=tensor(0., dtype=torch.float64), TILT=tensor(0., dtype=torch.float64)),\n",
       " Quadrupole(L=tensor(1.000000000000000e-02, dtype=torch.float64), K1=tensor(1.000000000000000e+01, dtype=torch.float64), NUM_STEPS=1, X_OFFSET=tensor(0., dtype=torch.float64), Y_OFFSET=tensor(0., dtype=torch.float64), TILT=tensor(0., dtype=torch.float64)),\n",
       " Quadrupole(L=tensor(1.000000000000000e-02, dtype=torch.float64), K1=tensor(1.000000000000000e+01, dtype=torch.float64), NUM_STEPS=1, X_OFFSET=tensor(0., dtype=torch.float64), Y_OFFSET=tensor(0., dtype=torch.float64), TILT=tensor(0., dtype=torch.float64)),\n",
       " Quadrupole(L=tensor(1.000000000000000e-02, dtype=torch.float64), K1=tensor(1.000000000000000e+01, dtype=torch.float64), NUM_STEPS=1, X_OFFSET=tensor(0., dtype=torch.float64), Y_OFFSET=tensor(0., dtype=torch.float64), TILT=tensor(0., dtype=torch.float64)),\n",
       " Quadrupole(L=tensor(1.000000000000000e-02, dtype=torch.float64), K1=tensor(1.000000000000000e+01, dtype=torch.float64), NUM_STEPS=1, X_OFFSET=tensor(0., dtype=torch.float64), Y_OFFSET=tensor(0., dtype=torch.float64), TILT=tensor(0., dtype=torch.float64)),\n",
       " Quadrupole(L=tensor(1.000000000000000e-02, dtype=torch.float64), K1=tensor(1.000000000000000e+01, dtype=torch.float64), NUM_STEPS=1, X_OFFSET=tensor(0., dtype=torch.float64), Y_OFFSET=tensor(0., dtype=torch.float64), TILT=tensor(0., dtype=torch.float64)),\n",
       " Quadrupole(L=tensor(1.000000000000000e-02, dtype=torch.float64), K1=tensor(1.000000000000000e+01, dtype=torch.float64), NUM_STEPS=1, X_OFFSET=tensor(0., dtype=torch.float64), Y_OFFSET=tensor(0., dtype=torch.float64), TILT=tensor(0., dtype=torch.float64)),\n",
       " Quadrupole(L=tensor(1.000000000000000e-02, dtype=torch.float64), K1=tensor(1.000000000000000e+01, dtype=torch.float64), NUM_STEPS=1, X_OFFSET=tensor(0., dtype=torch.float64), Y_OFFSET=tensor(0., dtype=torch.float64), TILT=tensor(0., dtype=torch.float64))]"
      ]
     },
     "execution_count": 48,
     "metadata": {},
     "output_type": "execute_result"
    }
   ],
   "source": [
    "# divide a quad into 10 parts\n",
    "divided_quad = stub_element(q1, 10)\n",
    "divided_quad"
   ]
  },
  {
   "cell_type": "markdown",
   "id": "08840928-57b7-49f3-8dcc-7cf4bb94d265",
   "metadata": {},
   "source": [
    "## Plotting using stub_element"
   ]
  },
  {
   "cell_type": "code",
   "execution_count": 49,
   "id": "b4421345-df0c-4db4-817c-fc2954492414",
   "metadata": {},
   "outputs": [],
   "source": [
    "# make a quadrupole triplet\n",
    "L_d = 1.5  # Drift length in m\n",
    "d1 = Drift(torch.tensor(L_d, **tkwargs)) # drift\n",
    "L_q = 0.1  # Quadrupole length in m\n",
    "K1 = 10  # Quadrupole strengths\n",
    "NUM_STEPS = 1\n",
    "q1 = torch_quadrupole(L=torch.tensor(L_q,**tkwargs), K1=torch.tensor(K1, **tkwargs))  # x-focusing\n",
    "q2 = torch_quadrupole(L=torch.tensor(L_q,**tkwargs), K1=torch.tensor(-K1, **tkwargs))  # y-focusing\n",
    "lattice = [d1, q1, d1, q2, d1, q1, d1]\n",
    "\n",
    "# stub each element into n equal parts each\n",
    "n=50\n",
    "stubbed_lattice = stub_lattice(lattice, n)"
   ]
  },
  {
   "cell_type": "code",
   "execution_count": 50,
   "id": "ded144f0-a02a-4bd2-8bb3-1878929eab80",
   "metadata": {},
   "outputs": [
    {
     "data": {
      "text/plain": [
       "<matplotlib.legend.Legend at 0x7f7989676670>"
      ]
     },
     "execution_count": 50,
     "metadata": {},
     "output_type": "execute_result"
    },
    {
     "data": {
      "image/png": "[encoded data removed]",
      "text/plain": [
       "<Figure size 432x288 with 1 Axes>"
      ]
     },
     "metadata": {
      "needs_background": "light"
     },
     "output_type": "display_data"
    }
   ],
   "source": [
    "all_p = track_a_lattice(bunch_in, stubbed_lattice)\n",
    "stdx = np.array([torch.std(par.x).item() for par in all_p])\n",
    "stdy = np.array([torch.std(par.y).item() for par in all_p])\n",
    "s = np.array([par.s.item() for par in all_p])\n",
    "plt.plot(s, stdx*1000, label=r'$\\sigma_x$')\n",
    "plt.plot(s, stdy*1000, label=r'$\\sigma_y$')\n",
    "plt.xlabel(r'$s$ (m)')\n",
    "plt.ylabel(r'$\\sigma_{x,y}$ (mm)')\n",
    "plt.legend()"
   ]
  },
  {
   "cell_type": "markdown",
   "id": "eb16025c-6d9c-4fa0-bb5b-32684c107898",
   "metadata": {
    "tags": []
   },
   "source": [
    "# Hessian Matrix example"
   ]
  },
  {
   "cell_type": "code",
   "execution_count": 51,
   "id": "a2d0abb8-7d84-464a-a1c1-a687e1fe62d8",
   "metadata": {},
   "outputs": [],
   "source": [
    "L_d = 1.00 # Drift length\n",
    "L_q = 0.1 # Quad length \n",
    "drift = Drift(torch.tensor(L_d, **tkwargs))\n",
    "\n",
    "def sigmax_end(k1s):\n",
    "    \"\"\"returns x beamsize after lattice composed by len(k1s)+1 \n",
    "    drifts with len(k1s) quadrupoles in between.\n",
    "    \"\"\"\n",
    "    lattice = [drift]\n",
    "    \n",
    "    for k1 in k1s:\n",
    "        lattice.append(torch_quadrupole(L=torch.tensor(L_q, **tkwargs), K1=k1))\n",
    "        lattice.append(drift)\n",
    "\n",
    "    bunch_out = track_a_lattice(bunch_in, lattice)[-1]\n",
    "    return torch.std(bunch_out.x)\n",
    "\n",
    "#k1s = torch.tensor([10,-10,10,-10,10,-10,10,-10,10,-10], **tkwargs)\n",
    "k1s = torch.zeros(10, **tkwargs)"
   ]
  },
  {
   "cell_type": "code",
   "execution_count": 52,
   "id": "09322973-50ab-454e-a711-75a87572f6c4",
   "metadata": {},
   "outputs": [
    {
     "name": "stdout",
     "output_type": "stream",
     "text": [
      "CPU times: user 7 µs, sys: 1 µs, total: 8 µs\n",
      "Wall time: 19.6 µs\n"
     ]
    },
    {
     "data": {
      "text/plain": [
       "tensor([[6.354724798661209e-05, 1.992592869692199e-04, 3.161904436649551e-04,\n",
       "         3.978970851406439e-04, 4.443792113962862e-04, 4.556368224318822e-04,\n",
       "         4.316699182474319e-04, 3.724784988429353e-04, 2.780625642183921e-04,\n",
       "         1.484221143738027e-04],\n",
       "        [1.992592869692200e-04, 4.160507036374212e-05, 2.983195883724180e-04,\n",
       "         5.121288195598074e-04, 6.531274029657195e-04, 7.213153385901539e-04,\n",
       "         7.166926264331107e-04, 6.392592664945899e-04, 4.890152587745917e-04,\n",
       "         2.659606032731159e-04],\n",
       "        [3.161904436649551e-04, 2.983195883724179e-04, 2.591283133374886e-05,\n",
       "         3.689991039483512e-04, 6.416871024687136e-04, 8.040042874793964e-04,\n",
       "         8.559506589803996e-04, 7.975262169717230e-04, 6.287309614533669e-04,\n",
       "         3.495648924253310e-04],\n",
       "        [3.978970851406438e-04, 5.121288195598074e-04, 3.689991039483512e-04,\n",
       "         1.515310660519437e-05, 4.100583099052690e-04, 7.037036690996101e-04,\n",
       "         8.494440158892985e-04, 8.472793502743345e-04, 6.972096722547177e-04,\n",
       "         3.992349818304484e-04],\n",
       "        [4.443792113962862e-04, 6.531274029657195e-04, 6.416871024687138e-04,\n",
       "         4.100583099052692e-04, 8.164272886015364e-06, 4.204134834507953e-04,\n",
       "         6.971726971598083e-04, 7.885186664024244e-04, 6.944513911786443e-04,\n",
       "         4.149708714884676e-04],\n",
       "        [4.556368224318822e-04, 7.213153385901539e-04, 8.040042874793964e-04,\n",
       "         7.037036690996102e-04, 4.204134834507950e-04, 3.940507883522068e-06,\n",
       "         3.991367027919275e-04, 6.212441653559926e-04, 6.204561182251464e-04,\n",
       "         3.967725613993887e-04],\n",
       "        [4.316699182474319e-04, 7.166926264331107e-04, 8.559506589803996e-04,\n",
       "         8.494440158892989e-04, 6.971726971598081e-04, 3.991367027919276e-04,\n",
       "         1.631790304400888e-06, 3.454558471350394e-04, 4.752238533942243e-04,\n",
       "         3.446400515632120e-04],\n",
       "        [3.724784988429353e-04, 6.392592664945899e-04, 7.975262169717233e-04,\n",
       "         8.472793502743346e-04, 7.885186664024244e-04, 6.212441653559928e-04,\n",
       "         3.454558471350394e-04, 5.438998547113173e-07, 2.587545966858777e-04,\n",
       "         2.585733419799372e-04],\n",
       "        [2.780625642183920e-04, 4.890152587745915e-04, 6.287309614533667e-04,\n",
       "         6.972096722547176e-04, 6.944513911786440e-04, 6.204561182251462e-04,\n",
       "         4.752238533942239e-04, 2.587545966858774e-04, 1.384172398879231e-07,\n",
       "         1.385724326495644e-04],\n",
       "        [1.484221143738027e-04, 2.659606032731159e-04, 3.495648924253311e-04,\n",
       "         3.992349818304483e-04, 4.149708714884675e-04, 3.967725613993887e-04,\n",
       "         3.446400515632120e-04, 2.585733419799372e-04, 1.385724326495644e-04,\n",
       "         3.272416474042736e-08]], dtype=torch.float64)"
      ]
     },
     "execution_count": 52,
     "metadata": {},
     "output_type": "execute_result"
    }
   ],
   "source": [
    "#Hessian using autodiff\n",
    "%time\n",
    "hessian_py = hessian(sigmax_end,k1s)\n",
    "hessian_py"
   ]
  },
  {
   "cell_type": "code",
   "execution_count": 53,
   "id": "c720fe84-b5a2-4bcf-831c-caf194a12146",
   "metadata": {},
   "outputs": [
    {
     "data": {
      "text/plain": [
       "<matplotlib.colorbar.Colorbar at 0x7f798942eb20>"
      ]
     },
     "execution_count": 53,
     "metadata": {},
     "output_type": "execute_result"
    },
    {
     "data": {
      "image/png": "[encoded data removed]",
      "text/plain": [
       "<Figure size 432x288 with 2 Axes>"
      ]
     },
     "metadata": {
      "needs_background": "light"
     },
     "output_type": "display_data"
    }
   ],
   "source": [
    "plt.imshow(hessian_py.detach().numpy())\n",
    "plt.colorbar()\n",
    "#plt.savefig(\"hessian.eps\")"
   ]
  },
  {
   "cell_type": "code",
   "execution_count": 54,
   "id": "90145244-6aca-43ad-aed3-d444a8f11706",
   "metadata": {},
   "outputs": [],
   "source": [
    "#Hessian using numerical differentiation\n",
    "\n",
    "bunch_in_np = Particle(*sample.detach().numpy().T, 0, p0c, mc2)\n",
    "\n",
    "L_d = 1.00 # Drift length\n",
    "L_q = 0.1 # Quad length \n",
    "drift = Drift(L_d)\n",
    "def sigmax_end2(k1s):\n",
    "    \"\"\"returns x beamsize after lattice composed by len(k1s)+1 \n",
    "    drifts with len(k1s) quadrupoles in between.\n",
    "    \"\"\"\n",
    "    lattice = [drift]\n",
    "    \n",
    "    for k1 in k1s:\n",
    "        lattice.append(Quadrupole(L=L_q, K1=k1))\n",
    "        lattice.append(drift)\n",
    "\n",
    "    bunch_out = track_a_lattice(bunch_in_np, lattice)[-1]\n",
    "    \n",
    "    return np.std(bunch_out.x)\n",
    "\n",
    "#k1s = np.array([10,-10,10,-10,10,-10,10,-10,10,-10])\n",
    "k1s = np.zeros(10)"
   ]
  },
  {
   "cell_type": "code",
   "execution_count": 55,
   "id": "ec5b71f2-cc0c-43d3-b40b-d77b89b75579",
   "metadata": {},
   "outputs": [
    {
     "name": "stdout",
     "output_type": "stream",
     "text": [
      "CPU times: user 7 µs, sys: 2 µs, total: 9 µs\n",
      "Wall time: 15.7 µs\n"
     ]
    },
    {
     "data": {
      "text/plain": [
       "array([[6.913713502232664e-05, 2.222357770433755e-04,\n",
       "        3.441907867420647e-04, 4.292424654494358e-04,\n",
       "        4.773908131763227e-04, 4.886358299088996e-04,\n",
       "        4.629775156578635e-04, 4.004158704274112e-04,\n",
       "        3.009508942093787e-04, 1.645825870067329e-04],\n",
       "       [2.222357770433755e-04, 5.169062634783493e-05,\n",
       "        3.330047833070372e-04, 5.500929714354419e-04,\n",
       "        6.927104938104664e-04, 7.608573504014797e-04,\n",
       "        7.545335412060309e-04, 6.737390662338129e-04,\n",
       "        5.184739254900054e-04, 2.887381189724523e-04],\n",
       "       [3.441907867420647e-04, 3.330047833070372e-04,\n",
       "        3.935997937279484e-05, 4.120143452914304e-04,\n",
       "        6.862554091354613e-04, 8.484844262414411e-04,\n",
       "        8.987013966590806e-04, 8.369063203343174e-04,\n",
       "        6.630991972884052e-04, 3.772800275163299e-04],\n",
       "       [4.292424654494358e-04, 5.500929714354419e-04,\n",
       "        4.120143452914304e-04, 3.082842872833294e-05,\n",
       "        4.580255591665833e-04, 7.515170575059338e-04,\n",
       "        8.954810820201329e-04, 8.899176327234924e-04,\n",
       "        7.348267095978361e-04, 4.302083126541271e-04],\n",
       "       [4.773908131763227e-04, 6.927104938104664e-04,\n",
       "        6.862554091354613e-04, 4.580255591665833e-04,\n",
       "        2.493493201425984e-05, 4.699552441329064e-04,\n",
       "        7.448725973023665e-04, 8.327730033898412e-04,\n",
       "        7.336564624230516e-04, 4.475229743759040e-04],\n",
       "       [4.886358299088996e-04, 7.608573504014797e-04,\n",
       "        8.484844262414411e-04, 7.515170575059338e-04,\n",
       "        4.699552441329064e-04, 2.067417006879853e-05,\n",
       "        4.468759424919922e-04, 6.654724323663552e-04,\n",
       "        6.595884557654636e-04, 4.292240126831681e-04],\n",
       "       [4.629775156578635e-04, 7.545335412060309e-04,\n",
       "        8.987013966590806e-04, 8.954810820201329e-04,\n",
       "        7.448725973023665e-04, 4.468759424919922e-04,\n",
       "        1.719654671117756e-05, 3.880159196253427e-04,\n",
       "        5.126226896184314e-04, 3.753114275779038e-04],\n",
       "       [4.004158704274112e-04, 6.737390662338129e-04,\n",
       "        8.369063203343174e-04, 8.899176327234924e-04,\n",
       "        8.327730033898412e-04, 6.654724323663552e-04,\n",
       "        3.880159196253427e-04, 1.380818884735141e-05,\n",
       "        2.927591639904260e-04, 2.857852190590030e-04],\n",
       "       [3.009508942093787e-04, 5.184739254900054e-04,\n",
       "        6.630991972884052e-04, 7.348267095978361e-04,\n",
       "        7.336564624230516e-04, 6.595884557654636e-04,\n",
       "        5.126226896184314e-04, 2.927591639904260e-04,\n",
       "        9.970946487907239e-06, 1.606453871277542e-04],\n",
       "       [1.645825870067329e-04, 2.887381189724523e-04,\n",
       "        3.772800275163299e-04, 4.302083126541271e-04,\n",
       "        4.475229743759040e-04, 4.292240126831681e-04,\n",
       "        3.753114275779038e-04, 2.857852190590030e-04,\n",
       "        1.606453871277542e-04, 5.302392705260005e-06]])"
      ]
     },
     "execution_count": 55,
     "metadata": {},
     "output_type": "execute_result"
    }
   ],
   "source": [
    "%time\n",
    "hessian_nd = nd.Hessian(sigmax_end2)(k1s)\n",
    "hessian_nd"
   ]
  },
  {
   "cell_type": "code",
   "execution_count": 56,
   "id": "9ffa33a1-b971-491b-a120-18c46b854892",
   "metadata": {},
   "outputs": [
    {
     "data": {
      "text/plain": [
       "<matplotlib.colorbar.Colorbar at 0x7f798937a340>"
      ]
     },
     "execution_count": 56,
     "metadata": {},
     "output_type": "execute_result"
    },
    {
     "data": {
      "image/png": "[encoded data removed]",
      "text/plain": [
       "<Figure size 432x288 with 2 Axes>"
      ]
     },
     "metadata": {
      "needs_background": "light"
     },
     "output_type": "display_data"
    }
   ],
   "source": [
    "plt.imshow(hessian_nd)\n",
    "plt.colorbar()"
   ]
  },
  {
   "cell_type": "code",
   "execution_count": 57,
   "id": "8748858c-daa8-4408-9c3f-6e0a794130ae",
   "metadata": {},
   "outputs": [
    {
     "data": {
      "text/plain": [
       "False"
      ]
     },
     "execution_count": 57,
     "metadata": {},
     "output_type": "execute_result"
    }
   ],
   "source": [
    "np.allclose(hessian_nd, hessian_py.detach().numpy())"
   ]
  },
  {
   "cell_type": "code",
   "execution_count": 58,
   "id": "8191b91e-d26d-4528-bad0-e24b759094a4",
   "metadata": {},
   "outputs": [
    {
     "data": {
      "text/plain": [
       "<matplotlib.colorbar.Colorbar at 0x7f7989275430>"
      ]
     },
     "execution_count": 58,
     "metadata": {},
     "output_type": "execute_result"
    },
    {
     "data": {
      "image/png": "[encoded data removed]",
      "text/plain": [
       "<Figure size 720x720 with 4 Axes>"
      ]
     },
     "metadata": {
      "needs_background": "light"
     },
     "output_type": "display_data"
    }
   ],
   "source": [
    "fig, axs = plt.subplots(2, figsize=(10,10))\n",
    "cm = axs[0].imshow(hessian_py.detach().numpy())\n",
    "fig.colorbar(cm,ax=axs[0])\n",
    "#ax.imshow(hessian_py.detach().numpy())\n",
    "#ax = axs[1]\n",
    "#ax.imshow(1-hessian_nd)\n",
    "cm = axs[1].imshow(hessian_nd)\n",
    "fig.colorbar(cm,ax=axs[1])"
   ]
  }
 ],
 "metadata": {
  "kernelspec": {
   "display_name": "Python 3 (ipykernel)",
   "language": "python",
   "name": "python3"
  },
  "language_info": {
   "codemirror_mode": {
    "name": "ipython",
    "version": 3
   },
   "file_extension": ".py",
   "mimetype": "text/x-python",
   "name": "python",
   "nbconvert_exporter": "python",
   "pygments_lexer": "ipython3",
   "version": "3.9.13"
  },
  "toc-autonumbering": true,
  "toc-showcode": false,
  "toc-showmarkdowntxt": false,
  "toc-showtags": false
 },
 "nbformat": 4,
 "nbformat_minor": 5
}
