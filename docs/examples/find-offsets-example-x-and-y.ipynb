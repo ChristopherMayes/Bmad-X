{
 "cells": [
  {
   "cell_type": "code",
   "execution_count": 1,
   "id": "7ca42451",
   "metadata": {
    "collapsed": false,
    "jupyter": {
     "outputs_hidden": false
    },
    "pycharm": {
     "name": "#%%\n"
    }
   },
   "outputs": [],
   "source": [
    "import numpy as np\n",
    "import torch\n",
    "from torch.autograd.functional import jacobian\n",
    "from torch.autograd.functional import hessian\n",
    "import matplotlib.pyplot as plt\n",
    "import time\n",
    "from kornia.enhance.histogram import histogram2d\n",
    "from bmadx.track import *\n",
    "tkwargs = {\n",
    "    \"dtype\" : torch.double\n",
    "}\n",
    "np.set_printoptions(precision= 16, suppress=False)\n",
    "torch.set_printoptions(precision= 16, sci_mode=True)\n",
    "torch.__version__, np.__version__\n",
    "%config InlineBackend.figure_format = 'retina'"
   ]
  },
  {
   "cell_type": "code",
   "execution_count": 2,
   "id": "6a0fb158",
   "metadata": {
    "collapsed": false,
    "jupyter": {
     "outputs_hidden": false
    },
    "pycharm": {
     "name": "#%%\n"
    }
   },
   "outputs": [],
   "source": [
    "c_light = 2.99792458e8 #speed of light in m/s\n",
    "m_e = 0.510998950e6 #electron mass in eV"
   ]
  },
  {
   "cell_type": "code",
   "execution_count": 3,
   "id": "d5b29685-817b-4aa1-9a17-63979050d0cf",
   "metadata": {},
   "outputs": [],
   "source": [
    "def torchquadrupole(L: torch.Tensor, K1: torch.Tensor, NUM_STEPS=1,\n",
    "                    X_OFFSET: torch.Tensor=torch.tensor(0.0,**tkwargs),\n",
    "                    Y_OFFSET: torch.Tensor=torch.tensor(0.0,**tkwargs),\n",
    "                    TILT: torch.Tensor=torch.tensor(0.0,**tkwargs)):\n",
    "    return Quadrupole(L=L, K1=K1, NUM_STEPS=NUM_STEPS, X_OFFSET=X_OFFSET,\n",
    "                     Y_OFFSET=Y_OFFSET, TILT=TILT)"
   ]
  },
  {
   "cell_type": "markdown",
   "id": "b009d153-8450-484a-9c61-f8c1fa9e36e6",
   "metadata": {},
   "source": [
    "# Offset estimation  \n",
    "\n",
    "\n",
    "In this example, we want to find the offsets of the quadrupoles in a beamline given the 2D beam profile downstream.  \n",
    "First, lets start by optimizing a quadrupole triple with random offsets: "
   ]
  },
  {
   "cell_type": "code",
   "execution_count": 4,
   "id": "25c42f52",
   "metadata": {
    "collapsed": false,
    "jupyter": {
     "outputs_hidden": false
    },
    "pycharm": {
     "name": "#%%\n"
    }
   },
   "outputs": [],
   "source": [
    "# Incoming particle\n",
    "s = 0.0 #initial s\n",
    "p0c = 4.0E+07 #Reference particle momentum in eV\n",
    "mc2 = 1*m_e # electron mass in eV\n",
    "ts = torch.tensor(s, **tkwargs)\n",
    "tp0c = torch.tensor(p0c, **tkwargs)\n",
    "pvec1 = [2e-3,3e-3,-3e-3,-1e-3,2e-3,-2e-3] \n",
    "tvec = torch.tensor(pvec1, **tkwargs)\n",
    "p_in = Particle(*tvec, s, tp0c, mc2)"
   ]
  },
  {
   "cell_type": "code",
   "execution_count": 5,
   "id": "8f126e83-e6cb-4708-bb4f-73b7d7493b76",
   "metadata": {},
   "outputs": [],
   "source": [
    "k1s_opt = np.array([-26.939869975743193,  14.286581926163615, -16.95284767969912 ])"
   ]
  },
  {
   "cell_type": "code",
   "execution_count": 6,
   "id": "65b69456-4dea-461e-bc5b-a40f62593436",
   "metadata": {},
   "outputs": [
    {
     "data": {
      "text/plain": [
       "[array([-32.32784397089183 ,  14.286581926163615, -16.95284767969912 ]),\n",
       " array([-26.939869975743193,  15.715240118779978, -16.95284767969912 ]),\n",
       " array([-26.939869975743193,  14.286581926163615, -20.34341721563894 ])]"
      ]
     },
     "execution_count": 6,
     "metadata": {},
     "output_type": "execute_result"
    }
   ],
   "source": [
    "# k1s used to get offsets. Each quadrupole strength is increased once from the optimal configuration. \n",
    "epsilon = 0.2 # strength change precentage\n",
    "k1s_tests = []\n",
    "for i in range(3):\n",
    "    k1s_tests.append(k1s_opt.copy())\n",
    "    \n",
    "k1s_tests[0][0]=k1s_opt[0]*(1+epsilon)\n",
    "k1s_tests[1][1]=k1s_opt[1]*(1+epsilon/2)\n",
    "k1s_tests[2][2]=k1s_opt[2]*(1+epsilon)\n",
    "\n",
    "k1s_tests"
   ]
  },
  {
   "cell_type": "code",
   "execution_count": 7,
   "id": "f54970e5",
   "metadata": {
    "collapsed": false,
    "jupyter": {
     "outputs_hidden": false
    },
    "pycharm": {
     "name": "#%%\n"
    }
   },
   "outputs": [],
   "source": [
    "def train_model(model, training_iter, alpha=0.1):\n",
    "    history_param = [None] * training_iter\n",
    "    history_loss = [None] * training_iter\n",
    "    # print the trainable parameters\n",
    "    for param in model.named_parameters():\n",
    "        print(f'{param[0]} : {param[1]}')\n",
    "    \n",
    "    # Use the adam optimizer\n",
    "    optimizer = torch.optim.Adam(model.parameters(), alpha)\n",
    "\n",
    "    for i in range(training_iter):\n",
    "        # Zero gradients from previous iteration\n",
    "        optimizer.zero_grad()\n",
    "        # Calc loss and backprop gradients\n",
    "        loss = model()  # loss is just O.F.\n",
    "        loss.backward()\n",
    "        if i%100==0: #print each 10 steps\n",
    "            print('Iter %d/%d - Loss: %.5f '% (\n",
    "                i + 1, training_iter, loss.item()\n",
    "            ))\n",
    "        #for param in model.parameters():\n",
    "        #    history_param[i] = param.data.detach().numpy().copy()\n",
    "        #for param in named_parameters():\n",
    "        testlist = list(model.named_parameters())\n",
    "        testdict = dict(testlist)\n",
    "        for param in testlist:\n",
    "            testdict[param[0]] = testdict[param[0]].data.detach().numpy().copy()\n",
    "        history_param[i] = testdict\n",
    "        history_loss[i] = loss.detach().numpy().copy()\n",
    "        optimizer.step()\n",
    "        \n",
    "    return np.asarray(history_param), np.asarray(history_loss)"
   ]
  },
  {
   "cell_type": "markdown",
   "id": "7196a9f2-ce0b-4774-995a-fd39fbc3e47f",
   "metadata": {},
   "source": [
    "## Ground truth offset"
   ]
  },
  {
   "cell_type": "code",
   "execution_count": 8,
   "id": "043086dc-2205-46eb-a18a-870eca98bbd9",
   "metadata": {},
   "outputs": [
    {
     "data": {
      "text/plain": [
       "(tensor([1.5409961082440433e-02, -2.9342890576094637e-03, -2.1787893820745575e-02],\n",
       "        dtype=torch.float64),\n",
       " tensor([5.6843127728066776e-03, -1.0845223424240210e-02, -1.3985953953708767e-02],\n",
       "        dtype=torch.float64))"
      ]
     },
     "execution_count": 8,
     "metadata": {},
     "output_type": "execute_result"
    }
   ],
   "source": [
    "# random ground truth offsets:\n",
    "torch.manual_seed(0)\n",
    "offsets_x_true = torch.normal(mean=0, std=1e-2, size=(3,), **tkwargs)\n",
    "offsets_y_true = torch.normal(mean=0, std=1e-2, size=(3,), **tkwargs)\n",
    "offsets_x_true, offsets_y_true"
   ]
  },
  {
   "cell_type": "markdown",
   "id": "2b864879-9f46-449d-a56f-9851a25f1c1f",
   "metadata": {},
   "source": [
    "\n",
    "## Finding offsets"
   ]
  },
  {
   "cell_type": "code",
   "execution_count": 9,
   "id": "801644c1-70e7-4a68-82b5-89e482bd40f4",
   "metadata": {},
   "outputs": [],
   "source": [
    "L_d = 1.00 # Drift length\n",
    "L_q = 0.1 # Quad length \n",
    "drift = Drift(L=L_d)\n",
    "\n",
    "# outgoing bunch with true offsets for each set of k1s\n",
    "p_out_tests = []\n",
    "for test in range(len(k1s_tests)):\n",
    "    k1s = k1s_tests[test]\n",
    "    lattice = [drift]\n",
    "    for i in range(len(k1s)):\n",
    "        lattice.append( torchquadrupole(L=L_q, K1=k1s[i], X_OFFSET=offsets_x_true[i],\n",
    "                                  Y_OFFSET=offsets_y_true[i]) )\n",
    "        lattice.append( drift )\n",
    "    p_out_tests.append( track_a_lattice(p_in, lattice)[-1] )\n",
    "    \n",
    "def get_centroid_diff(k1s, offsets_x, offsets_y, p_out_test, bandwidth=torch.tensor(1e-3)):\n",
    "    # Lattice fixed parameters\n",
    "    L_d = 1.00 # Drift length\n",
    "    L_q = 0.1 # Quad length \n",
    "    drift = Drift(L=L_d)\n",
    "    lattice = [drift]\n",
    "    for i in range(len(k1s)):\n",
    "        lattice.append( torchquadrupole(L=L_q, K1=k1s[i], X_OFFSET=offsets_x[i],\n",
    "                                  Y_OFFSET=offsets_y[i]) )\n",
    "        lattice.append( drift )\n",
    "    p_out = track_a_lattice(p_in, lattice)[-1]\n",
    "    centroid_diff = torch.sqrt( (p_out.x-p_out_test.x)**2 + (p_out.y-p_out_test.y)**2 )\n",
    "    return centroid_diff\n",
    "\n",
    "\n",
    "class OffsetModel2(torch.nn.Module):\n",
    "    \"\"\"Beam size torch module.\"\"\"\n",
    "    def __init__(self, k1s_tests, offsets_x, offsets_y):\n",
    "        super().__init__()\n",
    "        self.k1s_tests = k1s_tests\n",
    "        self.register_parameter('offsets_x',torch.nn.Parameter(offsets_x))\n",
    "        self.register_parameter('offsets_y',torch.nn.Parameter(offsets_y))\n",
    "    def forward(self):\n",
    "        centroid_diff_sum=0\n",
    "        for i in range(len(k1s_tests)):\n",
    "            centroid_diff_sum+=get_centroid_diff(self.k1s_tests[i], self.offsets_x, self.offsets_y, p_out_tests[i])**2\n",
    "\n",
    "            #mse\n",
    "        centroid_diff_sum=centroid_diff_sum/len(k1s_tests)\n",
    "        return centroid_diff_sum"
   ]
  },
  {
   "cell_type": "code",
   "execution_count": 25,
   "id": "c06827f6-dd6f-469e-a132-9e689de5fa3c",
   "metadata": {},
   "outputs": [
    {
     "name": "stdout",
     "output_type": "stream",
     "text": [
      "offsets_x : Parameter containing:\n",
      "tensor([0., 0., 0.], dtype=torch.float64, requires_grad=True)\n",
      "offsets_y : Parameter containing:\n",
      "tensor([0., 0., 0.], dtype=torch.float64, requires_grad=True)\n",
      "Iter 1/20000 - Loss: 0.00172 \n",
      "Iter 101/20000 - Loss: 0.00132 \n",
      "Iter 201/20000 - Loss: 0.00106 \n",
      "Iter 301/20000 - Loss: 0.00085 \n",
      "Iter 401/20000 - Loss: 0.00067 \n",
      "Iter 501/20000 - Loss: 0.00052 \n",
      "Iter 601/20000 - Loss: 0.00039 \n",
      "Iter 701/20000 - Loss: 0.00029 \n",
      "Iter 801/20000 - Loss: 0.00022 \n",
      "Iter 901/20000 - Loss: 0.00016 \n",
      "Iter 1001/20000 - Loss: 0.00011 \n",
      "Iter 1101/20000 - Loss: 0.00008 \n",
      "Iter 1201/20000 - Loss: 0.00006 \n",
      "Iter 1301/20000 - Loss: 0.00004 \n",
      "Iter 1401/20000 - Loss: 0.00003 \n",
      "Iter 1501/20000 - Loss: 0.00002 \n",
      "Iter 1601/20000 - Loss: 0.00002 \n",
      "Iter 1701/20000 - Loss: 0.00001 \n",
      "Iter 1801/20000 - Loss: 0.00001 \n",
      "Iter 1901/20000 - Loss: 0.00001 \n",
      "Iter 2001/20000 - Loss: 0.00001 \n",
      "Iter 2101/20000 - Loss: 0.00001 \n",
      "Iter 2201/20000 - Loss: 0.00001 \n",
      "Iter 2301/20000 - Loss: 0.00001 \n",
      "Iter 2401/20000 - Loss: 0.00000 \n",
      "Iter 2501/20000 - Loss: 0.00000 \n",
      "Iter 2601/20000 - Loss: 0.00000 \n",
      "Iter 2701/20000 - Loss: 0.00000 \n",
      "Iter 2801/20000 - Loss: 0.00000 \n",
      "Iter 2901/20000 - Loss: 0.00000 \n",
      "Iter 3001/20000 - Loss: 0.00000 \n",
      "Iter 3101/20000 - Loss: 0.00000 \n",
      "Iter 3201/20000 - Loss: 0.00000 \n",
      "Iter 3301/20000 - Loss: 0.00000 \n",
      "Iter 3401/20000 - Loss: 0.00000 \n",
      "Iter 3501/20000 - Loss: 0.00000 \n",
      "Iter 3601/20000 - Loss: 0.00000 \n",
      "Iter 3701/20000 - Loss: 0.00000 \n",
      "Iter 3801/20000 - Loss: 0.00000 \n",
      "Iter 3901/20000 - Loss: 0.00000 \n",
      "Iter 4001/20000 - Loss: 0.00000 \n",
      "Iter 4101/20000 - Loss: 0.00000 \n",
      "Iter 4201/20000 - Loss: 0.00000 \n",
      "Iter 4301/20000 - Loss: 0.00000 \n",
      "Iter 4401/20000 - Loss: 0.00000 \n",
      "Iter 4501/20000 - Loss: 0.00000 \n",
      "Iter 4601/20000 - Loss: 0.00000 \n",
      "Iter 4701/20000 - Loss: 0.00000 \n",
      "Iter 4801/20000 - Loss: 0.00000 \n",
      "Iter 4901/20000 - Loss: 0.00000 \n",
      "Iter 5001/20000 - Loss: 0.00000 \n",
      "Iter 5101/20000 - Loss: 0.00000 \n",
      "Iter 5201/20000 - Loss: 0.00000 \n",
      "Iter 5301/20000 - Loss: 0.00000 \n",
      "Iter 5401/20000 - Loss: 0.00000 \n",
      "Iter 5501/20000 - Loss: 0.00000 \n",
      "Iter 5601/20000 - Loss: 0.00000 \n",
      "Iter 5701/20000 - Loss: 0.00000 \n",
      "Iter 5801/20000 - Loss: 0.00000 \n",
      "Iter 5901/20000 - Loss: 0.00000 \n",
      "Iter 6001/20000 - Loss: 0.00000 \n",
      "Iter 6101/20000 - Loss: 0.00000 \n",
      "Iter 6201/20000 - Loss: 0.00000 \n",
      "Iter 6301/20000 - Loss: 0.00000 \n",
      "Iter 6401/20000 - Loss: 0.00000 \n",
      "Iter 6501/20000 - Loss: 0.00000 \n",
      "Iter 6601/20000 - Loss: 0.00000 \n",
      "Iter 6701/20000 - Loss: 0.00000 \n",
      "Iter 6801/20000 - Loss: 0.00000 \n",
      "Iter 6901/20000 - Loss: 0.00000 \n",
      "Iter 7001/20000 - Loss: 0.00000 \n",
      "Iter 7101/20000 - Loss: 0.00000 \n",
      "Iter 7201/20000 - Loss: 0.00000 \n",
      "Iter 7301/20000 - Loss: 0.00000 \n",
      "Iter 7401/20000 - Loss: 0.00000 \n",
      "Iter 7501/20000 - Loss: 0.00000 \n",
      "Iter 7601/20000 - Loss: 0.00000 \n",
      "Iter 7701/20000 - Loss: 0.00000 \n",
      "Iter 7801/20000 - Loss: 0.00000 \n",
      "Iter 7901/20000 - Loss: 0.00000 \n",
      "Iter 8001/20000 - Loss: 0.00000 \n",
      "Iter 8101/20000 - Loss: 0.00000 \n",
      "Iter 8201/20000 - Loss: 0.00000 \n",
      "Iter 8301/20000 - Loss: 0.00000 \n",
      "Iter 8401/20000 - Loss: 0.00000 \n",
      "Iter 8501/20000 - Loss: 0.00000 \n",
      "Iter 8601/20000 - Loss: 0.00000 \n",
      "Iter 8701/20000 - Loss: 0.00000 \n",
      "Iter 8801/20000 - Loss: 0.00000 \n",
      "Iter 8901/20000 - Loss: 0.00000 \n",
      "Iter 9001/20000 - Loss: 0.00000 \n",
      "Iter 9101/20000 - Loss: 0.00000 \n",
      "Iter 9201/20000 - Loss: 0.00000 \n",
      "Iter 9301/20000 - Loss: 0.00000 \n",
      "Iter 9401/20000 - Loss: 0.00000 \n",
      "Iter 9501/20000 - Loss: 0.00000 \n",
      "Iter 9601/20000 - Loss: 0.00000 \n",
      "Iter 9701/20000 - Loss: 0.00000 \n",
      "Iter 9801/20000 - Loss: 0.00000 \n",
      "Iter 9901/20000 - Loss: 0.00000 \n",
      "Iter 10001/20000 - Loss: 0.00000 \n",
      "Iter 10101/20000 - Loss: 0.00000 \n",
      "Iter 10201/20000 - Loss: 0.00000 \n",
      "Iter 10301/20000 - Loss: 0.00000 \n",
      "Iter 10401/20000 - Loss: 0.00000 \n",
      "Iter 10501/20000 - Loss: 0.00000 \n",
      "Iter 10601/20000 - Loss: 0.00000 \n",
      "Iter 10701/20000 - Loss: 0.00000 \n",
      "Iter 10801/20000 - Loss: 0.00000 \n",
      "Iter 10901/20000 - Loss: 0.00000 \n",
      "Iter 11001/20000 - Loss: 0.00000 \n",
      "Iter 11101/20000 - Loss: 0.00000 \n",
      "Iter 11201/20000 - Loss: 0.00000 \n",
      "Iter 11301/20000 - Loss: 0.00000 \n",
      "Iter 11401/20000 - Loss: 0.00000 \n",
      "Iter 11501/20000 - Loss: 0.00000 \n",
      "Iter 11601/20000 - Loss: 0.00000 \n",
      "Iter 11701/20000 - Loss: 0.00000 \n",
      "Iter 11801/20000 - Loss: 0.00000 \n",
      "Iter 11901/20000 - Loss: 0.00000 \n",
      "Iter 12001/20000 - Loss: 0.00000 \n",
      "Iter 12101/20000 - Loss: 0.00000 \n",
      "Iter 12201/20000 - Loss: 0.00000 \n",
      "Iter 12301/20000 - Loss: 0.00000 \n",
      "Iter 12401/20000 - Loss: 0.00000 \n",
      "Iter 12501/20000 - Loss: 0.00000 \n",
      "Iter 12601/20000 - Loss: 0.00000 \n",
      "Iter 12701/20000 - Loss: 0.00000 \n",
      "Iter 12801/20000 - Loss: 0.00000 \n",
      "Iter 12901/20000 - Loss: 0.00000 \n",
      "Iter 13001/20000 - Loss: 0.00000 \n",
      "Iter 13101/20000 - Loss: 0.00000 \n",
      "Iter 13201/20000 - Loss: 0.00000 \n",
      "Iter 13301/20000 - Loss: 0.00000 \n",
      "Iter 13401/20000 - Loss: 0.00000 \n",
      "Iter 13501/20000 - Loss: 0.00000 \n",
      "Iter 13601/20000 - Loss: 0.00000 \n",
      "Iter 13701/20000 - Loss: 0.00000 \n",
      "Iter 13801/20000 - Loss: 0.00000 \n",
      "Iter 13901/20000 - Loss: 0.00000 \n",
      "Iter 14001/20000 - Loss: 0.00000 \n",
      "Iter 14101/20000 - Loss: 0.00000 \n",
      "Iter 14201/20000 - Loss: 0.00000 \n",
      "Iter 14301/20000 - Loss: 0.00000 \n",
      "Iter 14401/20000 - Loss: 0.00000 \n",
      "Iter 14501/20000 - Loss: 0.00000 \n",
      "Iter 14601/20000 - Loss: 0.00000 \n",
      "Iter 14701/20000 - Loss: 0.00000 \n",
      "Iter 14801/20000 - Loss: 0.00000 \n",
      "Iter 14901/20000 - Loss: 0.00000 \n",
      "Iter 15001/20000 - Loss: 0.00000 \n",
      "Iter 15101/20000 - Loss: 0.00000 \n",
      "Iter 15201/20000 - Loss: 0.00000 \n",
      "Iter 15301/20000 - Loss: 0.00000 \n",
      "Iter 15401/20000 - Loss: 0.00000 \n",
      "Iter 15501/20000 - Loss: 0.00000 \n",
      "Iter 15601/20000 - Loss: 0.00000 \n",
      "Iter 15701/20000 - Loss: 0.00000 \n",
      "Iter 15801/20000 - Loss: 0.00000 \n",
      "Iter 15901/20000 - Loss: 0.00000 \n",
      "Iter 16001/20000 - Loss: 0.00000 \n",
      "Iter 16101/20000 - Loss: 0.00000 \n",
      "Iter 16201/20000 - Loss: 0.00000 \n",
      "Iter 16301/20000 - Loss: 0.00000 \n",
      "Iter 16401/20000 - Loss: 0.00000 \n",
      "Iter 16501/20000 - Loss: 0.00000 \n",
      "Iter 16601/20000 - Loss: 0.00000 \n",
      "Iter 16701/20000 - Loss: 0.00000 \n",
      "Iter 16801/20000 - Loss: 0.00000 \n",
      "Iter 16901/20000 - Loss: 0.00000 \n",
      "Iter 17001/20000 - Loss: 0.00000 \n",
      "Iter 17101/20000 - Loss: 0.00000 \n",
      "Iter 17201/20000 - Loss: 0.00000 \n",
      "Iter 17301/20000 - Loss: 0.00000 \n",
      "Iter 17401/20000 - Loss: 0.00000 \n",
      "Iter 17501/20000 - Loss: 0.00000 \n",
      "Iter 17601/20000 - Loss: 0.00000 \n",
      "Iter 17701/20000 - Loss: 0.00000 \n",
      "Iter 17801/20000 - Loss: 0.00000 \n",
      "Iter 17901/20000 - Loss: 0.00000 \n",
      "Iter 18001/20000 - Loss: 0.00000 \n",
      "Iter 18101/20000 - Loss: 0.00000 \n",
      "Iter 18201/20000 - Loss: 0.00000 \n",
      "Iter 18301/20000 - Loss: 0.00000 \n",
      "Iter 18401/20000 - Loss: 0.00000 \n",
      "Iter 18501/20000 - Loss: 0.00000 \n",
      "Iter 18601/20000 - Loss: 0.00000 \n",
      "Iter 18701/20000 - Loss: 0.00000 \n",
      "Iter 18801/20000 - Loss: 0.00000 \n",
      "Iter 18901/20000 - Loss: 0.00000 \n",
      "Iter 19001/20000 - Loss: 0.00000 \n",
      "Iter 19101/20000 - Loss: 0.00000 \n",
      "Iter 19201/20000 - Loss: 0.00000 \n",
      "Iter 19301/20000 - Loss: 0.00000 \n",
      "Iter 19401/20000 - Loss: 0.00000 \n",
      "Iter 19501/20000 - Loss: 0.00000 \n",
      "Iter 19601/20000 - Loss: 0.00000 \n",
      "Iter 19701/20000 - Loss: 0.00000 \n",
      "Iter 19801/20000 - Loss: 0.00000 \n",
      "Iter 19901/20000 - Loss: 0.00000 \n",
      "CPU times: user 5min 31s, sys: 144 ms, total: 5min 31s\n",
      "Wall time: 5min 31s\n"
     ]
    }
   ],
   "source": [
    "%%time\n",
    "# Initial offsets\n",
    "offsets_x = torch.zeros(3,**tkwargs)\n",
    "offsets_y = torch.zeros(3,**tkwargs)\n",
    "#offsets_x = offsets_x_pred\n",
    "# Optimization\n",
    "model2 = OffsetModel2(k1s_tests, offsets_x, offsets_y)\n",
    "params2, loss2 = train_model(model2, 20000, 1e-5)"
   ]
  },
  {
   "cell_type": "code",
   "execution_count": 26,
   "id": "aeb2ce2d-b957-49ba-834d-9e718aaefbad",
   "metadata": {},
   "outputs": [],
   "source": [
    "offsets_x_iter = np.array([par['offsets_x'] for par in params2])\n",
    "offsets_y_iter = np.array([par['offsets_y'] for par in params2])\n",
    "n_iter = np.arange(len(offsets_x_iter))\n",
    "#offsets_x_iter"
   ]
  },
  {
   "cell_type": "code",
   "execution_count": 27,
   "id": "445292b7-50c2-4f78-b761-00bb2c724dbe",
   "metadata": {},
   "outputs": [
    {
     "data": {
      "text/plain": [
       "Text(0.5, 0, 'n_iter')"
      ]
     },
     "execution_count": 27,
     "metadata": {},
     "output_type": "execute_result"
    },
    {
     "data": {
      "image/png": "[encoded data removed]",
      "text/plain": [
       "<Figure size 432x288 with 1 Axes>"
      ]
     },
     "metadata": {
      "image/png": {
       "height": 262,
       "width": 409
      },
      "needs_background": "light"
     },
     "output_type": "display_data"
    },
    {
     "data": {
      "text/plain": [
       "<Figure size 432x288 with 0 Axes>"
      ]
     },
     "metadata": {},
     "output_type": "display_data"
    },
    {
     "data": {
      "image/png": "[encoded data removed]",
      "text/plain": [
       "<Figure size 432x288 with 1 Axes>"
      ]
     },
     "metadata": {
      "image/png": {
       "height": 262,
       "width": 398
      },
      "needs_background": "light"
     },
     "output_type": "display_data"
    }
   ],
   "source": [
    "for i in range(len(k1s_opt)):\n",
    "    plt.plot(n_iter, offsets_x_iter[:,i], label='off_x q'+str(i+1))\n",
    "    plt.plot(n_iter, offsets_y_iter[:,i], label='off_y q'+str(i+1))\n",
    "    \n",
    "plt.legend()\n",
    "plt.ylabel(r'$offsets_x$')\n",
    "plt.xlabel('n_iter')\n",
    "plt.figure()\n",
    "\n",
    "fig, ax = plt.subplots()\n",
    "ax.plot(n_iter, loss2)\n",
    "ax.set_yscale('log')\n",
    "ax.set_ylabel(r'centroid diff')\n",
    "ax.set_xlabel('n_iter')"
   ]
  },
  {
   "cell_type": "code",
   "execution_count": 28,
   "id": "d88b8652-affe-4518-8997-4d27635a4f90",
   "metadata": {},
   "outputs": [
    {
     "data": {
      "text/plain": [
       "(tensor([1.5410956926643848e-02, -2.9362626373767853e-03, -2.1794367581605911e-02]),\n",
       " tensor([1.5409961082440433e-02, -2.9342890576094637e-03, -2.1787893820745575e-02],\n",
       "        dtype=torch.float64))"
      ]
     },
     "execution_count": 28,
     "metadata": {},
     "output_type": "execute_result"
    }
   ],
   "source": [
    "(torch.tensor(params2[-1]['offsets_x'].data), offsets_x_true)"
   ]
  },
  {
   "cell_type": "code",
   "execution_count": 29,
   "id": "43e861d6-5b85-4c80-8b5a-abbf6a3e8ae8",
   "metadata": {},
   "outputs": [
    {
     "data": {
      "text/plain": [
       "(tensor([5.9258788824081421e-03, -9.5641976222395897e-03, -1.3639842160046101e-02]),\n",
       " tensor([5.6843127728066776e-03, -1.0845223424240210e-02, -1.3985953953708767e-02],\n",
       "        dtype=torch.float64))"
      ]
     },
     "execution_count": 29,
     "metadata": {},
     "output_type": "execute_result"
    }
   ],
   "source": [
    "(torch.tensor(params2[-1]['offsets_y'].data), offsets_y_true)"
   ]
  },
  {
   "cell_type": "code",
   "execution_count": null,
   "id": "525caee3-e200-475e-b0fc-1037bd02dc05",
   "metadata": {},
   "outputs": [],
   "source": []
  }
 ],
 "metadata": {
  "kernelspec": {
   "display_name": "Python 3 (ipykernel)",
   "language": "python",
   "name": "python3"
  },
  "language_info": {
   "codemirror_mode": {
    "name": "ipython",
    "version": 3
   },
   "file_extension": ".py",
   "mimetype": "text/x-python",
   "name": "python",
   "nbconvert_exporter": "python",
   "pygments_lexer": "ipython3",
   "version": "3.9.13"
  },
  "toc-autonumbering": true,
  "toc-showcode": false,
  "toc-showmarkdowntxt": false,
  "toc-showtags": false
 },
 "nbformat": 4,
 "nbformat_minor": 5
}
