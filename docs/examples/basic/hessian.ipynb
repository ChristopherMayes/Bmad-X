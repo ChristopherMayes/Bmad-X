{
 "cells": [
  {
   "cell_type": "markdown",
   "id": "87054bcd-f8cf-4ed1-886f-040ede406ec5",
   "metadata": {
    "tags": []
   },
   "source": [
    "# Hessian Matrix example"
   ]
  },
  {
   "cell_type": "code",
   "execution_count": 1,
   "id": "fb695188-47fe-4aff-a1d5-44c38fd353a8",
   "metadata": {},
   "outputs": [
    {
     "data": {
      "text/plain": [
       "('1.11.0', '1.22.4', '0.1.7')"
      ]
     },
     "execution_count": 1,
     "metadata": {},
     "output_type": "execute_result"
    }
   ],
   "source": [
    "import numpy as np\n",
    "import torch\n",
    "from torch.autograd.functional import jacobian\n",
    "from torch.autograd.functional import hessian\n",
    "from pytao import Tao\n",
    "import matplotlib.pyplot as plt\n",
    "import numdifftools as nd\n",
    "tkwargs = {\n",
    "    \"dtype\" : torch.double\n",
    "}\n",
    "import time\n",
    "import os\n",
    "np.set_printoptions(precision= 15, suppress=False)\n",
    "torch.set_printoptions(precision= 15, sci_mode=True)\n",
    "import pytao\n",
    "torch.__version__, np.__version__, pytao.__version__"
   ]
  },
  {
   "cell_type": "code",
   "execution_count": 2,
   "id": "5cfff0bf-d06f-4bb9-ab9e-8cf7305e2a68",
   "metadata": {},
   "outputs": [],
   "source": [
    "# Particle bunch with Gaussian distribution\n",
    "from bmadx import Particle, M_ELECTRON\n",
    "s = 0.0 #initial s\n",
    "p0c = 4.0E+07 #Reference particle momentum in eV\n",
    "mc2 = 1*M_ELECTRON # electron mass in eV\n",
    "ts = torch.tensor(s, **tkwargs)\n",
    "tp0c = torch.tensor(p0c, **tkwargs)\n",
    "tmc2 = torch.tensor(mc2, **tkwargs)\n",
    "sample_size = 1000\n",
    "mean = torch.zeros(6, **tkwargs)\n",
    "cov = torch.diag(torch.tensor([1e-6, 2e-6, 1e-6, 2e-6, 1e-6, 2e-6],**tkwargs))\n",
    "dist = torch.distributions.multivariate_normal.MultivariateNormal(mean, cov)\n",
    "sample = dist.sample(torch.Size([sample_size]))\n",
    "bunch_in = Particle(*sample.T, ts, tp0c, tmc2)"
   ]
  },
  {
   "cell_type": "code",
   "execution_count": 3,
   "id": "d2fb3d88-cb2f-41e8-9304-de13a5210332",
   "metadata": {},
   "outputs": [],
   "source": [
    "# consider beamsize after 10 quad lattice:\n",
    "\n",
    "from bmadx import Drift, Quadrupole, track_a_lattice\n",
    "\n",
    "L_d = 1.00 # Drift length\n",
    "L_q = 0.1 # Quad length \n",
    "drift = Drift(torch.tensor(L_d, **tkwargs))\n",
    "\n",
    "def torch_quadrupole(L: torch.Tensor, K1: torch.Tensor, NUM_STEPS=1,\n",
    "                     X_OFFSET: torch.Tensor=torch.tensor(0.0,**tkwargs),\n",
    "                     Y_OFFSET: torch.Tensor=torch.tensor(0.0,**tkwargs),\n",
    "                     TILT: torch.Tensor=torch.tensor(0.0,**tkwargs)):\n",
    "    return Quadrupole(L=L, K1=K1, NUM_STEPS=NUM_STEPS, X_OFFSET=X_OFFSET,\n",
    "                      Y_OFFSET=Y_OFFSET, TILT=TILT)\n",
    "\n",
    "def sigmax_end(k1s):\n",
    "    \"\"\"returns x beamsize after lattice composed by len(k1s)+1 \n",
    "    drifts with len(k1s) quadrupoles in between.\n",
    "    \"\"\"\n",
    "    lattice = [drift]\n",
    "    \n",
    "    for k1 in k1s:\n",
    "        lattice.append(torch_quadrupole(L=torch.tensor(L_q, **tkwargs), K1=k1))\n",
    "        lattice.append(drift)\n",
    "\n",
    "    bunch_out = track_a_lattice(bunch_in, lattice)[-1]\n",
    "    return torch.std(bunch_out.x)\n",
    "\n",
    "k1s = torch.zeros(10, **tkwargs)"
   ]
  },
  {
   "cell_type": "code",
   "execution_count": 4,
   "id": "a06490ec-6bbb-4d74-98b1-0d0676fa9cb6",
   "metadata": {},
   "outputs": [
    {
     "name": "stdout",
     "output_type": "stream",
     "text": [
      "CPU times: user 2.99 s, sys: 509 ms, total: 3.5 s\n",
      "Wall time: 8.09 s\n"
     ]
    },
    {
     "data": {
      "text/plain": [
       "tensor([[6.415543903475004e-05, 1.960704846669135e-04, 3.097159794816570e-04,\n",
       "         3.890583261757321e-04, 4.340975247491387e-04, 4.448335752018771e-04,\n",
       "         4.212664775339470e-04, 3.633962317453484e-04, 2.712228378360815e-04,\n",
       "         1.447462958061462e-04],\n",
       "        [1.960704846669134e-04, 4.201233641085949e-05, 2.924719227168476e-04,\n",
       "         5.010570772717949e-04, 6.385578414700411e-04, 7.049742153115861e-04,\n",
       "         7.003061987964299e-04, 6.245537919245726e-04, 4.777169946960141e-04,\n",
       "         2.597958071107545e-04],\n",
       "        [3.097159794816571e-04, 2.924719227168480e-04, 2.617337701813275e-05,\n",
       "         3.612747424875974e-04, 6.276017616083615e-04, 7.860893128066057e-04,\n",
       "         8.367373960823299e-04, 7.795460114355343e-04, 6.145151588662185e-04,\n",
       "         3.416448383743828e-04],\n",
       "        [3.890583261757321e-04, 5.010570772717951e-04, 3.612747424875971e-04,\n",
       "         1.531040803086441e-05, 4.012292851640987e-04, 6.881788676869347e-04,\n",
       "         8.305600693916459e-04, 8.283728902782324e-04, 6.816173303466939e-04,\n",
       "         3.902933895970307e-04],\n",
       "        [4.340975247491387e-04, 6.385578414700413e-04, 6.276017616083612e-04,\n",
       "         4.012292851640986e-04, 8.252264644634110e-06, 4.112428799525736e-04,\n",
       "         6.817742187243784e-04, 7.710344284526673e-04, 6.790235091374408e-04,\n",
       "         4.057414607786987e-04],\n",
       "        [4.448335752018770e-04, 7.049742153115862e-04, 7.860893128066055e-04,\n",
       "         6.881788676869347e-04, 4.112428799525737e-04, 3.984770076305244e-06,\n",
       "         3.903798440805274e-04, 6.075306259588395e-04, 6.067336952384592e-04,\n",
       "         3.879890519193864e-04],\n",
       "        [4.212664775339468e-04, 7.003061987964301e-04, 8.367373960823295e-04,\n",
       "         8.305600693916458e-04, 6.817742187243784e-04, 3.903798440805274e-04,\n",
       "         1.650735564024505e-06, 3.378614827967485e-04, 4.647478886497489e-04,\n",
       "         3.370361630190941e-04],\n",
       "        [3.633962317453484e-04, 6.245537919245727e-04, 7.795460114355339e-04,\n",
       "         8.283728902782322e-04, 7.710344284526673e-04, 6.075306259588395e-04,\n",
       "         3.378614827967485e-04, 5.499603672229501e-07, 2.530660893713101e-04,\n",
       "         2.528827940778216e-04],\n",
       "        [2.712228378360815e-04, 4.777169946960142e-04, 6.145151588662183e-04,\n",
       "         6.816173303466938e-04, 6.790235091374409e-04, 6.067336952384592e-04,\n",
       "         4.647478886497488e-04, 2.530660893713101e-04, 1.392317666154044e-07,\n",
       "         1.355289450955689e-04],\n",
       "        [1.447462958061462e-04, 2.597958071107545e-04, 3.416448383743827e-04,\n",
       "         3.902933895970307e-04, 4.057414607786987e-04, 3.879890519193865e-04,\n",
       "         3.370361630190941e-04, 2.528827940778215e-04, 1.355289450955689e-04,\n",
       "         3.232506420050827e-08]], dtype=torch.float64)"
      ]
     },
     "execution_count": 4,
     "metadata": {},
     "output_type": "execute_result"
    }
   ],
   "source": [
    "%%time\n",
    "hessian_py = hessian(sigmax_end,k1s) #autodiff hessian\n",
    "hessian_py"
   ]
  },
  {
   "cell_type": "code",
   "execution_count": 5,
   "id": "7fb87bcb-3a3e-4582-8ddb-7ec82c2a02ce",
   "metadata": {},
   "outputs": [
    {
     "data": {
      "text/plain": [
       "<matplotlib.colorbar.Colorbar at 0x7f164eac7b80>"
      ]
     },
     "execution_count": 5,
     "metadata": {},
     "output_type": "execute_result"
    },
    {
     "data": {
      "image/png": "[encoded data removed]",
      "text/plain": [
       "<Figure size 432x288 with 2 Axes>"
      ]
     },
     "metadata": {
      "needs_background": "light"
     },
     "output_type": "display_data"
    }
   ],
   "source": [
    "plt.imshow(hessian_py.detach().numpy())\n",
    "plt.colorbar()"
   ]
  },
  {
   "cell_type": "code",
   "execution_count": 6,
   "id": "159f1db7-9133-4423-96ef-5cead7d6c8a1",
   "metadata": {},
   "outputs": [],
   "source": [
    "#Hessian using numerical differentiation\n",
    "\n",
    "bunch_in_np = Particle(*sample.detach().numpy().T, 0, p0c, mc2)\n",
    "\n",
    "L_d = 1.00 # Drift length\n",
    "L_q = 0.1 # Quad length \n",
    "drift = Drift(L_d)\n",
    "def sigmax_end2(k1s):\n",
    "    \"\"\"returns x beamsize after lattice composed by len(k1s)+1 \n",
    "    drifts with len(k1s) quadrupoles in between.\n",
    "    \"\"\"\n",
    "    lattice = [drift]\n",
    "    \n",
    "    for k1 in k1s:\n",
    "        lattice.append(Quadrupole(L=L_q, K1=k1))\n",
    "        lattice.append(drift)\n",
    "\n",
    "    bunch_out = track_a_lattice(bunch_in_np, lattice)[-1]\n",
    "    \n",
    "    return np.std(bunch_out.x)\n",
    "\n",
    "#k1s = np.array([10,-10,10,-10,10,-10,10,-10,10,-10])\n",
    "k1s = np.zeros(10)"
   ]
  },
  {
   "cell_type": "code",
   "execution_count": 7,
   "id": "fe54e34c-f7ca-484b-bd18-8e5ffcc40dce",
   "metadata": {},
   "outputs": [
    {
     "name": "stdout",
     "output_type": "stream",
     "text": [
      "CPU times: user 1min 26s, sys: 311 ms, total: 1min 27s\n",
      "Wall time: 1min 27s\n"
     ]
    },
    {
     "data": {
      "text/plain": [
       "array([[6.960594398725643e-05, 2.184986499561333e-04,\n",
       "        3.370625229115767e-04, 4.196806349661277e-04,\n",
       "        4.663529861191750e-04, 4.770795763697534e-04,\n",
       "        4.518604057197038e-04, 3.906954741653978e-04,\n",
       "        2.935847817093453e-04, 1.605283283510263e-04],\n",
       "       [2.184986499561333e-04, 5.186341846299550e-05,\n",
       "        3.263614450458664e-04, 5.381577152468842e-04,\n",
       "        6.772453775373498e-04, 7.436244319066743e-04,\n",
       "        7.372948783637631e-04, 6.582567169072259e-04,\n",
       "        5.065099475318093e-04, 2.820545702416532e-04],\n",
       "       [3.370625229115767e-04, 3.263614450458664e-04,\n",
       "        3.931538312020879e-05, 4.033198995662425e-04,\n",
       "        6.711693753887885e-04, 8.295735478731985e-04,\n",
       "        8.785324170158666e-04, 8.180459828109866e-04,\n",
       "        6.481142452620941e-04, 3.687372043709181e-04],\n",
       "       [4.196806349661277e-04, 5.381577152468842e-04,\n",
       "        4.033198995662425e-04, 3.063434940296433e-05,\n",
       "        4.481249796789754e-04, 7.349269242624926e-04,\n",
       "        8.755730216751835e-04, 8.700632718775777e-04,\n",
       "        7.183976749029757e-04, 4.205762307397014e-04],\n",
       "       [4.663529861191750e-04, 6.772453775373498e-04,\n",
       "        6.711693753887885e-04, 4.481249796789754e-04,\n",
       "        2.464973822295022e-05, 4.596845610802829e-04,\n",
       "        7.284166923133897e-04, 8.143085841074152e-04,\n",
       "        7.173602364490700e-04, 4.375716493453742e-04],\n",
       "       [4.770795763697534e-04, 7.436244319066743e-04,\n",
       "        8.295735478731985e-04, 7.349269242624926e-04,\n",
       "        4.596845610802829e-04, 2.034788003322380e-05,\n",
       "        4.370634289727554e-04, 6.507819194925712e-04,\n",
       "        6.450019299064067e-04, 4.197234601907627e-04],\n",
       "       [4.518604057197038e-04, 7.372948783637631e-04,\n",
       "        8.785324170158666e-04, 8.755730216751835e-04,\n",
       "        7.284166923133897e-04, 4.370634289727554e-04,\n",
       "        1.687201474730777e-05, 3.794832780545049e-04,\n",
       "        5.013227552671000e-04, 3.670316632739482e-04],\n",
       "       [3.906954741653978e-04, 6.582567169072259e-04,\n",
       "        8.180459828109866e-04, 8.700632718775777e-04,\n",
       "        8.143085841074152e-04, 6.507819194925712e-04,\n",
       "        3.794832780545049e-04, 1.352229191969985e-05,\n",
       "        2.863227125445000e-04, 2.794962585953459e-04],\n",
       "       [2.935847817093453e-04, 5.065099475318093e-04,\n",
       "        6.481142452620941e-04, 7.183976749029757e-04,\n",
       "        7.173602364490700e-04, 6.450019299064067e-04,\n",
       "        5.013227552671000e-04, 2.863227125445000e-04,\n",
       "        9.755770434880695e-06, 1.571172461549658e-04],\n",
       "       [1.605283283510263e-04, 2.820545702416532e-04,\n",
       "        3.687372043709181e-04, 4.205762307397014e-04,\n",
       "        4.375716493453742e-04, 4.197234601907627e-04,\n",
       "        3.670316632739482e-04, 2.794962585953459e-04,\n",
       "        1.571172461549658e-04, 5.186418786353391e-06]])"
      ]
     },
     "execution_count": 7,
     "metadata": {},
     "output_type": "execute_result"
    }
   ],
   "source": [
    "%%time\n",
    "hessian_nd = nd.Hessian(sigmax_end2)(k1s) # numerical diff hessian\n",
    "hessian_nd"
   ]
  },
  {
   "cell_type": "code",
   "execution_count": 8,
   "id": "54d17110-eda0-403e-8b6e-316a4ffb99f0",
   "metadata": {},
   "outputs": [
    {
     "data": {
      "text/plain": [
       "<matplotlib.colorbar.Colorbar at 0x7f164e930640>"
      ]
     },
     "execution_count": 8,
     "metadata": {},
     "output_type": "execute_result"
    },
    {
     "data": {
      "image/png": "[encoded data removed]",
      "text/plain": [
       "<Figure size 432x288 with 2 Axes>"
      ]
     },
     "metadata": {
      "needs_background": "light"
     },
     "output_type": "display_data"
    }
   ],
   "source": [
    "plt.imshow(hessian_nd)\n",
    "plt.colorbar()"
   ]
  },
  {
   "cell_type": "code",
   "execution_count": 9,
   "id": "06bcfcac-64a9-4e5b-bff3-9029856c4cad",
   "metadata": {},
   "outputs": [
    {
     "data": {
      "text/plain": [
       "False"
      ]
     },
     "execution_count": 9,
     "metadata": {},
     "output_type": "execute_result"
    }
   ],
   "source": [
    "# not equal since numerical differentiation is innacurate\n",
    "np.allclose(hessian_nd, hessian_py.detach().numpy())"
   ]
  },
  {
   "cell_type": "code",
   "execution_count": 10,
   "id": "2ba0383e-4d34-4ae9-b193-9a0c0b947743",
   "metadata": {},
   "outputs": [
    {
     "data": {
      "text/plain": [
       "<matplotlib.colorbar.Colorbar at 0x7f164e7fe280>"
      ]
     },
     "execution_count": 10,
     "metadata": {},
     "output_type": "execute_result"
    },
    {
     "data": {
      "image/png": "[encoded data removed]",
      "text/plain": [
       "<Figure size 720x720 with 4 Axes>"
      ]
     },
     "metadata": {
      "needs_background": "light"
     },
     "output_type": "display_data"
    }
   ],
   "source": [
    "# but they are very close:\n",
    "fig, axs = plt.subplots(2, figsize=(10,10))\n",
    "cm = axs[0].imshow(hessian_py.detach().numpy())\n",
    "fig.colorbar(cm,ax=axs[0])\n",
    "cm = axs[1].imshow(hessian_nd)\n",
    "fig.colorbar(cm,ax=axs[1])"
   ]
  }
 ],
 "metadata": {
  "kernelspec": {
   "display_name": "Python 3 (ipykernel)",
   "language": "python",
   "name": "python3"
  },
  "language_info": {
   "codemirror_mode": {
    "name": "ipython",
    "version": 3
   },
   "file_extension": ".py",
   "mimetype": "text/x-python",
   "name": "python",
   "nbconvert_exporter": "python",
   "pygments_lexer": "ipython3",
   "version": "3.9.13"
  }
 },
 "nbformat": 4,
 "nbformat_minor": 5
}
