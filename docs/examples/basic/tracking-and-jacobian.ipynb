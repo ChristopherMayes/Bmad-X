{
 "cells": [
  {
   "cell_type": "markdown",
   "id": "cfe2f3e6-ab7f-4493-8ca4-acd56731bc0b",
   "metadata": {
    "tags": []
   },
   "source": [
    "# Tracking through elements\n",
    "In this example, we track single particles through different elements and calculate the Jacobian matrix by using PyTorch autograd. We compare the results with bmad_standard, which uses analytic formulas to calculate the Jacobian. We also test functionalities such as element offsets and tilts. As of now, only transverse transformations are supported."
   ]
  },
  {
   "cell_type": "code",
   "execution_count": 1,
   "id": "8af3d886-d3bd-4e34-9556-d645ee9f761e",
   "metadata": {
    "tags": []
   },
   "outputs": [
    {
     "data": {
      "text/plain": [
       "('1.11.0', '0.1.7')"
      ]
     },
     "execution_count": 1,
     "metadata": {},
     "output_type": "execute_result"
    }
   ],
   "source": [
    "import torch\n",
    "from torch.autograd.functional import jacobian\n",
    "from pytao import Tao\n",
    "import pytao\n",
    "import time\n",
    "import os\n",
    "tkwargs = {\n",
    "    \"dtype\" : torch.double\n",
    "}\n",
    "torch.set_printoptions(precision= 15, sci_mode=True)\n",
    "torch.__version__, pytao.__version__"
   ]
  },
  {
   "cell_type": "code",
   "execution_count": 2,
   "id": "75849dda-45a9-477f-8940-b64dd8a15b5f",
   "metadata": {},
   "outputs": [
    {
     "data": {
      "text/plain": [
       "'/home/jg2347/Repositories/Bmad-X'"
      ]
     },
     "execution_count": 2,
     "metadata": {},
     "output_type": "execute_result"
    }
   ],
   "source": [
    "from pathlib import Path\n",
    "\n",
    "def find_repo(path):\n",
    "    \"Find repository root from the path's parents\"\n",
    "    for path in Path(path).parents:\n",
    "        # Check whether \"path/.git\" exists and is a directory\n",
    "        git_dir = path / \".git\"\n",
    "        if git_dir.is_dir():\n",
    "            return path\n",
    "\n",
    "import os\n",
    "nb_dir = os.getcwd()\n",
    "# Find the repo root where the script is\n",
    "repo_path = str(find_repo(nb_dir))\n",
    "repo_path"
   ]
  },
  {
   "cell_type": "markdown",
   "id": "4195b788-22c6-4f75-bb00-a417cf041292",
   "metadata": {
    "tags": []
   },
   "source": [
    "# Constants"
   ]
  },
  {
   "cell_type": "code",
   "execution_count": 3,
   "id": "c3f66538-b1d3-448d-a15b-82cae88067f6",
   "metadata": {
    "tags": []
   },
   "outputs": [],
   "source": [
    "from bmadx import M_ELECTRON"
   ]
  },
  {
   "cell_type": "markdown",
   "id": "7638cac6-72c7-4e95-ae44-6ff97b375ae3",
   "metadata": {
    "tags": []
   },
   "source": [
    "# Drift tests"
   ]
  },
  {
   "cell_type": "code",
   "execution_count": 4,
   "id": "0d7dda97-6185-49cc-84e0-569fad082f3a",
   "metadata": {},
   "outputs": [],
   "source": [
    "from bmadx import Particle, Drift\n",
    "from bmadx import make_track_a_drift"
   ]
  },
  {
   "cell_type": "code",
   "execution_count": 5,
   "id": "ee6fdf69-c492-4bc0-83c9-9b6a0400ef1f",
   "metadata": {
    "tags": []
   },
   "outputs": [
    {
     "data": {
      "text/plain": [
       "Drift(L=tensor(1.000000000000000e+00, dtype=torch.float64))"
      ]
     },
     "execution_count": 5,
     "metadata": {},
     "output_type": "execute_result"
    }
   ],
   "source": [
    "# Create drift\n",
    "L=1.0 # Drift length in m\n",
    "d1 = Drift(L=torch.tensor(L, **tkwargs)) #named tuple is in track.py module\n",
    "d1"
   ]
  },
  {
   "cell_type": "markdown",
   "id": "f47cc1d4-c514-4f23-a70b-b692e4a0c4dc",
   "metadata": {
    "tags": []
   },
   "source": [
    "## Drift one particle test"
   ]
  },
  {
   "cell_type": "code",
   "execution_count": 6,
   "id": "22f5b59f-a16b-4e85-bc07-d9a6022c9dc2",
   "metadata": {
    "tags": []
   },
   "outputs": [
    {
     "data": {
      "text/plain": [
       "Particle(x=tensor(2.000000000000000e-03, dtype=torch.float64, grad_fn=<UnbindBackward0>), px=tensor(3.000000000000000e-03, dtype=torch.float64, grad_fn=<UnbindBackward0>), y=tensor(-3.000000000000000e-03, dtype=torch.float64, grad_fn=<UnbindBackward0>), py=tensor(-1.000000000000000e-03, dtype=torch.float64, grad_fn=<UnbindBackward0>), z=tensor(2.000000000000000e-03, dtype=torch.float64, grad_fn=<UnbindBackward0>), pz=tensor(-2.000000000000000e-03, dtype=torch.float64, grad_fn=<UnbindBackward0>), s=tensor(0., dtype=torch.float64), p0c=tensor(4.000000000000000e+07, dtype=torch.float64), mc2=tensor( 5.109989500000000e+05, dtype=torch.float64))"
      ]
     },
     "execution_count": 6,
     "metadata": {},
     "output_type": "execute_result"
    }
   ],
   "source": [
    "# Incoming particle\n",
    "s = 0.0 #initial s\n",
    "p0c = 4.0E+07 #Reference particle momentum in eV\n",
    "mc2 = 1*M_ELECTRON # electron mass in eV\n",
    "ts = torch.tensor(s, **tkwargs)\n",
    "tp0c = torch.tensor(p0c, **tkwargs)\n",
    "tmc2 = torch.tensor(mc2, **tkwargs)\n",
    "pvec1 = [2e-3,3e-3,-3e-3,-1e-3,2e-3,-2e-3] \n",
    "tvec1 = torch.tensor(pvec1, requires_grad=True, **tkwargs)\n",
    "p_in = Particle(*tvec1,ts, tp0c, tmc2)\n",
    "p_in"
   ]
  },
  {
   "cell_type": "code",
   "execution_count": 7,
   "id": "2f852ced-da43-4f95-8578-779f46d15eb1",
   "metadata": {},
   "outputs": [
    {
     "data": {
      "text/plain": [
       "tensor([5.006027114522933e-03, 3.000000000000000e-03, -4.002009038174311e-03,\n",
       "        -1.000000000000000e-03, 1.994652573892362e-03, -2.000000000000000e-03],\n",
       "       dtype=torch.float64)"
      ]
     },
     "execution_count": 7,
     "metadata": {},
     "output_type": "execute_result"
    }
   ],
   "source": [
    "#create track_a_drift_torch\n",
    "track_a_drift_torch = make_track_a_drift(torch)\n",
    "# Outgoing particle\n",
    "p_out = track_a_drift_torch(p_in, d1)\n",
    "x_py = torch.hstack([p_out.x,p_out.px,p_out.y,p_out.py,p_out.z,p_out.pz]).detach()\n",
    "x_py"
   ]
  },
  {
   "cell_type": "code",
   "execution_count": 8,
   "id": "7a6c2d68-8d1e-4eaa-9fd0-aa67111276da",
   "metadata": {
    "tags": []
   },
   "outputs": [],
   "source": [
    "# bmad lattice for comparison\n",
    "tao = Tao('-lat '+repo_path+'/tests/bmad_lattices/test_drift.bmad -noplot')\n",
    "tao.cmd('set particle_start x='+str(pvec1[0]))\n",
    "tao.cmd('set particle_start px='+str(pvec1[1]))\n",
    "tao.cmd('set particle_start y='+str(pvec1[2]))\n",
    "tao.cmd('set particle_start py='+str(pvec1[3]))\n",
    "tao.cmd('set particle_start z='+str(pvec1[4]))\n",
    "tao.cmd('set particle_start pz='+str(pvec1[5]))\n",
    "orbit_out=tao.orbit_at_s(ele=1)\n",
    "#orbit_out"
   ]
  },
  {
   "cell_type": "code",
   "execution_count": 9,
   "id": "f986a53a-edc8-48cc-93b7-28911872bc94",
   "metadata": {},
   "outputs": [
    {
     "data": {
      "text/plain": [
       "tensor([5.006027114522930e-03, 3.000000000000000e-03, -4.002009038174310e-03,\n",
       "        -1.000000000000000e-03, 1.994652573892360e-03, -2.000000000000000e-03],\n",
       "       dtype=torch.float64)"
      ]
     },
     "execution_count": 9,
     "metadata": {},
     "output_type": "execute_result"
    }
   ],
   "source": [
    "# bmad outgoing particle\n",
    "x_tao = torch.tensor([orbit_out['x'],orbit_out['px'],orbit_out['y'],orbit_out['py'],orbit_out['z'],orbit_out['pz']],**tkwargs)\n",
    "x_tao"
   ]
  },
  {
   "cell_type": "code",
   "execution_count": 10,
   "id": "729e2c24-ee37-4d5b-8b76-81d1f5107dbf",
   "metadata": {},
   "outputs": [
    {
     "data": {
      "text/plain": [
       "True"
      ]
     },
     "execution_count": 10,
     "metadata": {},
     "output_type": "execute_result"
    }
   ],
   "source": [
    "torch.allclose(x_py, x_tao, atol=0, rtol=1.0e-14)"
   ]
  },
  {
   "cell_type": "markdown",
   "id": "d8fae022-eda1-4b37-89a3-48d9c9fc3ddb",
   "metadata": {
    "tags": []
   },
   "source": [
    "## Drift Jacobian test"
   ]
  },
  {
   "cell_type": "code",
   "execution_count": 11,
   "id": "062c3a71-b3b9-48b5-85a3-d332f716496d",
   "metadata": {},
   "outputs": [
    {
     "data": {
      "text/plain": [
       "tensor([[ 1.000000000000000e+00,  1.002018092527393e+00,  0.000000000000000e+00,\n",
       "         -3.018117694005117e-06,  0.000000000000000e+00, -3.012081458617107e-03],\n",
       "        [ 0.000000000000000e+00,  1.000000000000000e+00,  0.000000000000000e+00,\n",
       "          0.000000000000000e+00,  0.000000000000000e+00,  0.000000000000000e+00],\n",
       "        [ 0.000000000000000e+00, -3.018117694005117e-06,  1.000000000000000e+00,\n",
       "          1.002010044213542e+00,  0.000000000000000e+00,  1.004027152872369e-03],\n",
       "        [ 0.000000000000000e+00,  0.000000000000000e+00,  0.000000000000000e+00,\n",
       "          1.000000000000000e+00,  0.000000000000000e+00,  0.000000000000000e+00],\n",
       "        [ 0.000000000000000e+00, -3.012081458617106e-03,  0.000000000000000e+00,\n",
       "          1.004027152872369e-03,  1.000000000000000e+00,  1.742165247481025e-04],\n",
       "        [ 0.000000000000000e+00,  0.000000000000000e+00,  0.000000000000000e+00,\n",
       "          0.000000000000000e+00,  0.000000000000000e+00,  1.000000000000000e+00]],\n",
       "       dtype=torch.float64)"
      ]
     },
     "execution_count": 11,
     "metadata": {},
     "output_type": "execute_result"
    }
   ],
   "source": [
    "# autodiff Jacobian matrix\n",
    "f_drift = lambda x: track_a_drift_torch(Particle(*x, ts, tp0c, tmc2), d1)[:6]\n",
    "J = jacobian(f_drift, tvec1)\n",
    "mat_py = torch.vstack(J)\n",
    "mat_py"
   ]
  },
  {
   "cell_type": "code",
   "execution_count": 12,
   "id": "9f168d28-5c4a-4db0-a649-c8bde823496c",
   "metadata": {},
   "outputs": [
    {
     "data": {
      "text/plain": [
       "tensor([[ 1.000000000000000e+00,  1.002018092527390e+00,  0.000000000000000e+00,\n",
       "         -3.018117694005120e-06,  0.000000000000000e+00, -3.012081458617110e-03],\n",
       "        [ 0.000000000000000e+00,  1.000000000000000e+00,  0.000000000000000e+00,\n",
       "          0.000000000000000e+00,  0.000000000000000e+00,  0.000000000000000e+00],\n",
       "        [ 0.000000000000000e+00, -3.018117694005120e-06,  1.000000000000000e+00,\n",
       "          1.002010044213540e+00,  0.000000000000000e+00,  1.004027152872370e-03],\n",
       "        [ 0.000000000000000e+00,  0.000000000000000e+00,  0.000000000000000e+00,\n",
       "          1.000000000000000e+00,  0.000000000000000e+00,  0.000000000000000e+00],\n",
       "        [ 0.000000000000000e+00, -3.012081458617110e-03,  0.000000000000000e+00,\n",
       "          1.004027152872370e-03,  1.000000000000000e+00,  1.742165247481030e-04],\n",
       "        [ 0.000000000000000e+00,  0.000000000000000e+00,  0.000000000000000e+00,\n",
       "          0.000000000000000e+00,  0.000000000000000e+00,  1.000000000000000e+00]],\n",
       "       dtype=torch.float64)"
      ]
     },
     "execution_count": 12,
     "metadata": {},
     "output_type": "execute_result"
    }
   ],
   "source": [
    "# Bmad formula Jacobian\n",
    "drift_tao = tao.matrix(0,1)\n",
    "mat_tao = torch.tensor(drift_tao['mat6'], **tkwargs)\n",
    "mat_tao"
   ]
  },
  {
   "cell_type": "code",
   "execution_count": 13,
   "id": "4707f2f9-3e23-4497-9dda-78205b54965f",
   "metadata": {},
   "outputs": [
    {
     "data": {
      "text/plain": [
       "True"
      ]
     },
     "execution_count": 13,
     "metadata": {},
     "output_type": "execute_result"
    }
   ],
   "source": [
    "# is it close to Tao result?\n",
    "torch.allclose(mat_py, mat_tao, atol=0, rtol=1.0e-14)"
   ]
  },
  {
   "cell_type": "markdown",
   "id": "c3f3188a-39d8-4d68-bb0e-131a8dbb22a6",
   "metadata": {
    "tags": []
   },
   "source": [
    "# Quadrupole tests"
   ]
  },
  {
   "cell_type": "code",
   "execution_count": 14,
   "id": "f610b92d-3f10-4a88-a3fb-73dd3d8acb8f",
   "metadata": {},
   "outputs": [],
   "source": [
    "from bmadx import Quadrupole\n",
    "from bmadx import make_track_a_quadrupole"
   ]
  },
  {
   "cell_type": "code",
   "execution_count": 15,
   "id": "9e48ff76-4946-4386-9a86-716f08cc1a8b",
   "metadata": {},
   "outputs": [],
   "source": [
    "def torch_quadrupole(L: torch.Tensor, K1: torch.Tensor, NUM_STEPS=1,\n",
    "                     X_OFFSET: torch.Tensor=torch.tensor(0.0,**tkwargs),\n",
    "                     Y_OFFSET: torch.Tensor=torch.tensor(0.0,**tkwargs),\n",
    "                     TILT: torch.Tensor=torch.tensor(0.0,**tkwargs)):\n",
    "    return Quadrupole(L=L, K1=K1, NUM_STEPS=NUM_STEPS, X_OFFSET=X_OFFSET,\n",
    "                      Y_OFFSET=Y_OFFSET, TILT=TILT)"
   ]
  },
  {
   "cell_type": "code",
   "execution_count": 16,
   "id": "5dcd7b1a-ba3f-4b45-a5e6-455650fd6598",
   "metadata": {
    "tags": []
   },
   "outputs": [
    {
     "data": {
      "text/plain": [
       "Quadrupole(L=tensor(1.000000000000000e-01, dtype=torch.float64), K1=tensor(1.000000000000000e+01, dtype=torch.float64), NUM_STEPS=1, X_OFFSET=tensor(0., dtype=torch.float64), Y_OFFSET=tensor(0., dtype=torch.float64), TILT=tensor(0., dtype=torch.float64))"
      ]
     },
     "execution_count": 16,
     "metadata": {},
     "output_type": "execute_result"
    }
   ],
   "source": [
    "# Create quad\n",
    "L = 0.1 #Length in m\n",
    "K1 = 10 #Quad focusing strength. Positive is focusing in x\n",
    "#NUM_STEPS = 1 #number of divisions for tracking. 1 is bmad default when there are no other multipoles\n",
    "q1 = torch_quadrupole(L=torch.tensor(L, **tkwargs), K1=torch.tensor(K1, **tkwargs))\n",
    "q1"
   ]
  },
  {
   "cell_type": "markdown",
   "id": "b73fdb87-f4bd-4b42-8ad9-6eb54030ad99",
   "metadata": {
    "tags": []
   },
   "source": [
    "## Quadrupole one particle test"
   ]
  },
  {
   "cell_type": "code",
   "execution_count": 17,
   "id": "0d16dea9-7c66-4c92-bd7e-b0bca1097b8f",
   "metadata": {},
   "outputs": [
    {
     "data": {
      "text/plain": [
       "tensor([2.196239719302552e-03, 8.841834264853368e-04, -3.253441973269224e-03,\n",
       "        -4.100871741572859e-03, 1.999394664225331e-03, -2.000000000000000e-03],\n",
       "       dtype=torch.float64)"
      ]
     },
     "execution_count": 17,
     "metadata": {},
     "output_type": "execute_result"
    }
   ],
   "source": [
    "# create track_a_quadrupole_torch\n",
    "track_a_quadrupole_torch = make_track_a_quadrupole(torch)\n",
    "# Outgoing particle\n",
    "p_out = track_a_quadrupole_torch(p_in, q1)\n",
    "x_py = torch.hstack(p_out[:6]).detach()\n",
    "x_py"
   ]
  },
  {
   "cell_type": "code",
   "execution_count": 18,
   "id": "7670ad81-5961-41bc-8719-1e23e97fb9a0",
   "metadata": {},
   "outputs": [],
   "source": [
    "# Bmad lattice to compare\n",
    "tao = Tao('-lat '+repo_path+'/tests/bmad_lattices/test_quad.bmad -noplot')\n",
    "tao.cmd('set particle_start x='+str(pvec1[0]))\n",
    "tao.cmd('set particle_start px='+str(pvec1[1]))\n",
    "tao.cmd('set particle_start y='+str(pvec1[2]))\n",
    "tao.cmd('set particle_start py='+str(pvec1[3]))\n",
    "tao.cmd('set particle_start z='+str(pvec1[4]))\n",
    "tao.cmd('set particle_start pz='+str(pvec1[5]))\n",
    "orbit_out = tao.orbit_at_s(ele=1)"
   ]
  },
  {
   "cell_type": "code",
   "execution_count": 19,
   "id": "82aa9e17-97ec-4556-93d1-2f54163d7f35",
   "metadata": {},
   "outputs": [
    {
     "data": {
      "text/plain": [
       "tensor([2.196239719302550e-03, 8.841834264853370e-04, -3.253441973269220e-03,\n",
       "        -4.100871741572860e-03, 1.999394664225330e-03, -2.000000000000000e-03],\n",
       "       dtype=torch.float64)"
      ]
     },
     "execution_count": 19,
     "metadata": {},
     "output_type": "execute_result"
    }
   ],
   "source": [
    "# Bmad outgoing particle\n",
    "x_tao = torch.tensor([orbit_out['x'],orbit_out['px'],orbit_out['y'],orbit_out['py'],orbit_out['z'],orbit_out['pz']],**tkwargs)\n",
    "x_tao"
   ]
  },
  {
   "cell_type": "code",
   "execution_count": 20,
   "id": "0174f8be-14cc-4aab-8b10-cecb0f044eb3",
   "metadata": {},
   "outputs": [
    {
     "data": {
      "text/plain": [
       "True"
      ]
     },
     "execution_count": 20,
     "metadata": {},
     "output_type": "execute_result"
    }
   ],
   "source": [
    "# close to Tao result?\n",
    "torch.allclose(x_py, x_tao, atol=0, rtol=1.0e-14)"
   ]
  },
  {
   "cell_type": "markdown",
   "id": "18d8ab23-f846-44e9-88c9-987b2267f9a1",
   "metadata": {
    "tags": []
   },
   "source": [
    "## Quadrupole Jacobian test"
   ]
  },
  {
   "cell_type": "code",
   "execution_count": 21,
   "id": "ea343dea-8c1f-4ce8-8d5c-3aa0f89d9812",
   "metadata": {},
   "outputs": [
    {
     "data": {
      "text/plain": [
       "tensor([[ 9.503167431875498e-01,  9.853541097581728e-02,  0.000000000000000e+00,\n",
       "          0.000000000000000e+00,  0.000000000000000e+00, -1.924858550317723e-04],\n",
       "        [-9.833834015386563e-01,  9.503167431875498e-01, -0.000000000000000e+00,\n",
       "          0.000000000000000e+00,  0.000000000000000e+00,  1.149663908944082e-04],\n",
       "        [ 0.000000000000000e+00,  0.000000000000000e+00,  1.050519938506054e+00,\n",
       "          1.018821577510623e-01,  0.000000000000000e+00,  2.569093937337833e-04],\n",
       "        [-0.000000000000000e+00,  0.000000000000000e+00,  1.016783934355602e+00,\n",
       "          1.050519938506054e+00,  0.000000000000000e+00,  1.017485822657404e-04],\n",
       "        [ 8.003290869842023e-05, -1.942507914386516e-04,  1.543324297486644e-04,\n",
       "          2.595220753974964e-04,  1.000000000000000e+00,  1.756709202142694e-05],\n",
       "        [ 0.000000000000000e+00,  0.000000000000000e+00,  0.000000000000000e+00,\n",
       "          0.000000000000000e+00,  0.000000000000000e+00,  1.000000000000000e+00]],\n",
       "       dtype=torch.float64)"
      ]
     },
     "execution_count": 21,
     "metadata": {},
     "output_type": "execute_result"
    }
   ],
   "source": [
    "# autodiff Jacobian matrix\n",
    "f_quadrupole = lambda x: track_a_quadrupole_torch(Particle(*x,ts, tp0c, tmc2), q1)[:6]\n",
    "J = jacobian(f_quadrupole, tvec1)\n",
    "mat_py = torch.vstack(J)\n",
    "mat_py"
   ]
  },
  {
   "cell_type": "code",
   "execution_count": 22,
   "id": "9e6cd8cc-4f9d-4072-a48b-b27961ad5762",
   "metadata": {},
   "outputs": [
    {
     "data": {
      "text/plain": [
       "tensor([[ 9.503167431875500e-01,  9.853541097581731e-02,  0.000000000000000e+00,\n",
       "          0.000000000000000e+00,  0.000000000000000e+00, -1.924858550317720e-04],\n",
       "        [-9.833834015386560e-01,  9.503167431875500e-01,  0.000000000000000e+00,\n",
       "          0.000000000000000e+00,  0.000000000000000e+00,  1.149663908944080e-04],\n",
       "        [ 0.000000000000000e+00,  0.000000000000000e+00,  1.050519938506050e+00,\n",
       "          1.018821577510620e-01,  0.000000000000000e+00,  2.569093937337830e-04],\n",
       "        [ 0.000000000000000e+00,  0.000000000000000e+00,  1.016783934355600e+00,\n",
       "          1.050519938506050e+00,  0.000000000000000e+00,  1.017485822657410e-04],\n",
       "        [ 8.003290869842020e-05, -1.942507914386520e-04,  1.543324297486640e-04,\n",
       "          2.595220753974960e-04,  1.000000000000000e+00,  1.756709202142690e-05],\n",
       "        [ 0.000000000000000e+00,  0.000000000000000e+00,  0.000000000000000e+00,\n",
       "          0.000000000000000e+00,  0.000000000000000e+00,  1.000000000000000e+00]],\n",
       "       dtype=torch.float64)"
      ]
     },
     "execution_count": 22,
     "metadata": {},
     "output_type": "execute_result"
    }
   ],
   "source": [
    "# Bmad formula Jacobian\n",
    "quad_tao = tao.matrix(0,1)\n",
    "mat_tao = torch.tensor(quad_tao['mat6'], **tkwargs)\n",
    "mat_tao"
   ]
  },
  {
   "cell_type": "code",
   "execution_count": 23,
   "id": "daea008b-7368-4f75-9fe0-fb3de156d68f",
   "metadata": {},
   "outputs": [
    {
     "data": {
      "text/plain": [
       "True"
      ]
     },
     "execution_count": 23,
     "metadata": {},
     "output_type": "execute_result"
    }
   ],
   "source": [
    "# close to Tao result?\n",
    "torch.allclose(mat_py, mat_tao, atol=0, rtol=1.0e-14)"
   ]
  },
  {
   "cell_type": "markdown",
   "id": "f973149b-da83-4b8c-9da4-88b4578c9ebe",
   "metadata": {
    "tags": []
   },
   "source": [
    "## Quadrupole offset test"
   ]
  },
  {
   "cell_type": "code",
   "execution_count": 24,
   "id": "4542eae6-b1b7-4438-a985-fe7733144f54",
   "metadata": {},
   "outputs": [],
   "source": [
    "# Quad params\n",
    "L = 0.1 #Length in m\n",
    "K1 = 10 #Quad focusing strength. Positive is focusing in x\n",
    "\n",
    "# quad w/o offsets\n",
    "q_no_off = torch_quadrupole(L=torch.tensor(L, **tkwargs), K1=torch.tensor(K1, **tkwargs))\n",
    "# quad with offsets\n",
    "x_off = 1e-3\n",
    "y_off = -2e-3\n",
    "q_off = torch_quadrupole(L=torch.tensor(L, **tkwargs), K1=torch.tensor(K1, **tkwargs), \n",
    "                         X_OFFSET=torch.tensor(x_off, **tkwargs),\n",
    "                         Y_OFFSET=torch.tensor(y_off, **tkwargs) )"
   ]
  },
  {
   "cell_type": "code",
   "execution_count": 25,
   "id": "eef795f4-4537-4430-853f-fa81c201a181",
   "metadata": {},
   "outputs": [
    {
     "data": {
      "text/plain": [
       "tensor([2.196239719302552e-03, 8.841834264853368e-04, -3.253441973269224e-03,\n",
       "        -4.100871741572859e-03, 1.999394664225331e-03, -2.000000000000000e-03],\n",
       "       dtype=torch.float64)"
      ]
     },
     "execution_count": 25,
     "metadata": {},
     "output_type": "execute_result"
    }
   ],
   "source": [
    "# Outgoing particle no offset\n",
    "p_out = track_a_quadrupole_torch(p_in, q_no_off)\n",
    "x_py = torch.hstack(p_out[:6]).detach()\n",
    "x_py"
   ]
  },
  {
   "cell_type": "code",
   "execution_count": 26,
   "id": "7d5f8fdd-2fe1-4e40-a4e8-4547779a8cf3",
   "metadata": {},
   "outputs": [
    {
     "data": {
      "text/plain": [
       "tensor([2.245922976115002e-03, 1.867566828023993e-03, -3.152402096257116e-03,\n",
       "        -2.067303872861656e-03, 1.999538606428305e-03, -2.000000000000000e-03],\n",
       "       dtype=torch.float64)"
      ]
     },
     "execution_count": 26,
     "metadata": {},
     "output_type": "execute_result"
    }
   ],
   "source": [
    "# Outgoing particle offset\n",
    "p_out = track_a_quadrupole_torch(p_in, q_off)\n",
    "x_py = torch.hstack(p_out[:6]).detach()\n",
    "x_py"
   ]
  },
  {
   "cell_type": "code",
   "execution_count": 27,
   "id": "3d6da4fc-be97-465f-923e-9b89394ed2fa",
   "metadata": {},
   "outputs": [
    {
     "name": "stdout",
     "output_type": "stream",
     "text": [
      "CPU times: user 42.6 ms, sys: 7.58 ms, total: 50.1 ms\n",
      "Wall time: 74.4 ms\n"
     ]
    }
   ],
   "source": [
    "%%time\n",
    "# Bmad lattice to compare\n",
    "tao = Tao('-lat '+repo_path+'/tests/bmad_lattices/test_quad_offset.bmad -noplot')\n",
    "tao.cmd('set particle_start x='+str(pvec1[0]))\n",
    "tao.cmd('set particle_start px='+str(pvec1[1]))\n",
    "tao.cmd('set particle_start y='+str(pvec1[2]))\n",
    "tao.cmd('set particle_start py='+str(pvec1[3]))\n",
    "tao.cmd('set particle_start z='+str(pvec1[4]))\n",
    "tao.cmd('set particle_start pz='+str(pvec1[5]))\n",
    "orbit_out = tao.orbit_at_s(ele=1)"
   ]
  },
  {
   "cell_type": "code",
   "execution_count": 28,
   "id": "54771004-092a-4669-9429-7b33b867dbea",
   "metadata": {
    "tags": []
   },
   "outputs": [
    {
     "data": {
      "text/plain": [
       "tensor([2.245922976115000e-03, 1.867566828023990e-03, -3.152402096257120e-03,\n",
       "        -2.067303872861660e-03, 1.999538606428300e-03, -2.000000000000000e-03],\n",
       "       dtype=torch.float64)"
      ]
     },
     "execution_count": 28,
     "metadata": {},
     "output_type": "execute_result"
    }
   ],
   "source": [
    "# Bmad outgoing particle\n",
    "x_tao = torch.tensor([orbit_out['x'],orbit_out['px'],orbit_out['y'],orbit_out['py'],orbit_out['z'],orbit_out['pz']],**tkwargs)\n",
    "x_tao"
   ]
  },
  {
   "cell_type": "code",
   "execution_count": 29,
   "id": "fda592ee-2116-436b-a46a-2d7be549a8f5",
   "metadata": {},
   "outputs": [
    {
     "data": {
      "text/plain": [
       "True"
      ]
     },
     "execution_count": 29,
     "metadata": {},
     "output_type": "execute_result"
    }
   ],
   "source": [
    "# close to Tao result?\n",
    "torch.allclose(x_py, x_tao, atol=0, rtol=1.0e-14)"
   ]
  },
  {
   "cell_type": "markdown",
   "id": "f8d7bedf-6116-41d3-8eac-5a3000e2b7bb",
   "metadata": {
    "tags": []
   },
   "source": [
    "## Quadrupole tilt test (transverse rotation)"
   ]
  },
  {
   "cell_type": "code",
   "execution_count": 30,
   "id": "e7873687-1fee-4033-91b1-f3090a4d166d",
   "metadata": {},
   "outputs": [],
   "source": [
    "# Quad params\n",
    "L = 0.1 #Length in m\n",
    "K1 = 10 #Quad focusing strength. Positive is focusing in x\n",
    "\n",
    "# quad w/o tilt\n",
    "q_no_tilt = torch_quadrupole(L=torch.tensor(L, **tkwargs), K1=torch.tensor(K1, **tkwargs))\n",
    "# quad with tilt\n",
    "tilt = 0.3\n",
    "q_tilt = torch_quadrupole(L=torch.tensor(L, **tkwargs), K1=torch.tensor(K1, **tkwargs),\n",
    "                          TILT = torch.tensor(tilt, **tkwargs))"
   ]
  },
  {
   "cell_type": "code",
   "execution_count": 31,
   "id": "500e6c60-e125-49f3-8417-0bed6931112e",
   "metadata": {},
   "outputs": [
    {
     "data": {
      "text/plain": [
       "tensor([2.196239719302552e-03, 8.841834264853368e-04, -3.253441973269224e-03,\n",
       "        -4.100871741572859e-03, 1.999394664225331e-03, -2.000000000000000e-03],\n",
       "       dtype=torch.float64)"
      ]
     },
     "execution_count": 31,
     "metadata": {},
     "output_type": "execute_result"
    }
   ],
   "source": [
    "# Outgoing particle no tilt\n",
    "p_out = track_a_quadrupole_torch(p_in, q_no_tilt)\n",
    "x_py = torch.hstack(p_out[:6]).detach()\n",
    "x_py"
   ]
  },
  {
   "cell_type": "code",
   "execution_count": 32,
   "id": "d2e966bb-05fa-46f8-9ad0-3d56a85c625a",
   "metadata": {},
   "outputs": [
    {
     "data": {
      "text/plain": [
       "tensor([2.300431812756860e-03, 2.982152956166943e-03, -3.286310353406088e-03,\n",
       "        -4.782331681936468e-03, 1.999046404985869e-03, -2.000000000000000e-03],\n",
       "       dtype=torch.float64)"
      ]
     },
     "execution_count": 32,
     "metadata": {},
     "output_type": "execute_result"
    }
   ],
   "source": [
    "# Outgoing particle tilt\n",
    "p_out = track_a_quadrupole_torch(Particle(*tvec1,ts, tp0c, tmc2), q_tilt)\n",
    "x_py = torch.hstack(p_out[:6]).detach()\n",
    "x_py"
   ]
  },
  {
   "cell_type": "code",
   "execution_count": 33,
   "id": "eef6f7ec-81ae-4109-96b6-179c6e2fdb0d",
   "metadata": {},
   "outputs": [
    {
     "name": "stdout",
     "output_type": "stream",
     "text": [
      "CPU times: user 25.8 ms, sys: 59.7 ms, total: 85.5 ms\n",
      "Wall time: 230 ms\n"
     ]
    }
   ],
   "source": [
    "%%time\n",
    "# Bmad lattice to compare\n",
    "tao = Tao('-lat '+repo_path+'/tests/bmad_lattices/test_quad_tilt.bmad -noplot')\n",
    "tao.cmd('set particle_start x='+str(pvec1[0]))\n",
    "tao.cmd('set particle_start px='+str(pvec1[1]))\n",
    "tao.cmd('set particle_start y='+str(pvec1[2]))\n",
    "tao.cmd('set particle_start py='+str(pvec1[3]))\n",
    "tao.cmd('set particle_start z='+str(pvec1[4]))\n",
    "tao.cmd('set particle_start pz='+str(pvec1[5]))\n",
    "orbit_out = tao.orbit_at_s(ele=1)"
   ]
  },
  {
   "cell_type": "code",
   "execution_count": 34,
   "id": "91c33264-efb9-438f-9d4b-778fabe27616",
   "metadata": {},
   "outputs": [
    {
     "data": {
      "text/plain": [
       "tensor([2.300431812756860e-03, 2.982152956166940e-03, -3.286310353406090e-03,\n",
       "        -4.782331681936470e-03, 1.999046404985870e-03, -2.000000000000000e-03],\n",
       "       dtype=torch.float64)"
      ]
     },
     "execution_count": 34,
     "metadata": {},
     "output_type": "execute_result"
    }
   ],
   "source": [
    "# Bmad outgoing particle\n",
    "x_tao = torch.tensor([orbit_out['x'],orbit_out['px'],orbit_out['y'],orbit_out['py'],orbit_out['z'],orbit_out['pz']],**tkwargs)\n",
    "x_tao"
   ]
  },
  {
   "cell_type": "code",
   "execution_count": 35,
   "id": "7ee01084-9bf2-4f96-988a-72523ff39f66",
   "metadata": {},
   "outputs": [
    {
     "data": {
      "text/plain": [
       "True"
      ]
     },
     "execution_count": 35,
     "metadata": {},
     "output_type": "execute_result"
    }
   ],
   "source": [
    "# close to Tao result?\n",
    "torch.allclose(x_py, x_tao, atol=0, rtol=1.0e-14)"
   ]
  },
  {
   "cell_type": "markdown",
   "id": "bb2c4002-6b17-4768-a52c-7653b2c7404b",
   "metadata": {},
   "source": [
    "# Crab_Cavity tests"
   ]
  },
  {
   "cell_type": "code",
   "execution_count": 36,
   "id": "9bd47b9b-f080-4534-9b28-47e735a209a7",
   "metadata": {},
   "outputs": [],
   "source": [
    "from bmadx import CrabCavity\n",
    "from bmadx import make_track_a_crab_cavity"
   ]
  },
  {
   "cell_type": "code",
   "execution_count": 37,
   "id": "4fa1a040-79ec-4726-a7f7-d45eacf3283b",
   "metadata": {},
   "outputs": [],
   "source": [
    "def torch_crab_cavity(L: torch.Tensor, VOLTAGE: torch.Tensor,\n",
    "                      PHI0: torch.Tensor, RF_FREQUENCY: torch.Tensor,\n",
    "                      X_OFFSET: torch.Tensor=torch.tensor(0.0,**tkwargs),\n",
    "                      Y_OFFSET: torch.Tensor=torch.tensor(0.0,**tkwargs),\n",
    "                      TILT: torch.Tensor=torch.tensor(0.0,**tkwargs)):\n",
    "    return CrabCavity(L=L, VOLTAGE=VOLTAGE, PHI0=PHI0,\n",
    "                      RF_FREQUENCY=RF_FREQUENCY, X_OFFSET=X_OFFSET,\n",
    "                      Y_OFFSET=Y_OFFSET, TILT=TILT)"
   ]
  },
  {
   "cell_type": "code",
   "execution_count": 38,
   "id": "3d9734e1-68f4-4d04-bfa4-69558d320996",
   "metadata": {},
   "outputs": [
    {
     "data": {
      "text/plain": [
       "CrabCavity(L=tensor(2.000000000000000e-01, dtype=torch.float64), VOLTAGE=tensor(1.000000000000000e+04, dtype=torch.float64), PHI0=tensor(5.000000000000000e-01, dtype=torch.float64), RF_FREQUENCY=tensor(1.000000000000000e+09, dtype=torch.float64), X_OFFSET=tensor(0., dtype=torch.float64), Y_OFFSET=tensor(0., dtype=torch.float64), TILT=tensor(0., dtype=torch.float64))"
      ]
     },
     "execution_count": 38,
     "metadata": {},
     "output_type": "execute_result"
    }
   ],
   "source": [
    "# Create cavity\n",
    "L = 0.2\n",
    "voltage = 1.0e4\n",
    "phi0 = 0.5\n",
    "rf = 1.0e9\n",
    "cav = torch_crab_cavity(L=torch.tensor(L, **tkwargs),\n",
    "                        VOLTAGE=torch.tensor(voltage, **tkwargs),\n",
    "                        PHI0=torch.tensor(phi0, **tkwargs),\n",
    "                        RF_FREQUENCY=torch.tensor(rf, **tkwargs))\n",
    "cav"
   ]
  },
  {
   "cell_type": "markdown",
   "id": "fc5fa6e5-3613-4c64-977d-c8c8caf1b592",
   "metadata": {},
   "source": [
    "## Crab_cavity one particle test"
   ]
  },
  {
   "cell_type": "code",
   "execution_count": 39,
   "id": "8443c9f2-aa5d-45d2-9109-730bf8d985b3",
   "metadata": {},
   "outputs": [
    {
     "data": {
      "text/plain": [
       "tensor([2.600159503009856e-03, 2.989525785200116e-03, -3.200403013811110e-03,\n",
       "        -1.000000000000000e-03, 1.998933450470348e-03, -2.012044669173099e-03],\n",
       "       dtype=torch.float64)"
      ]
     },
     "execution_count": 39,
     "metadata": {},
     "output_type": "execute_result"
    }
   ],
   "source": [
    "# create track_a_crab_cavity_torch\n",
    "track_a_crab_cavity_torch = make_track_a_crab_cavity(torch)\n",
    "# Outgoing particle\n",
    "p_out = track_a_crab_cavity_torch(p_in, cav)\n",
    "#p_out\n",
    "x_py = torch.hstack(p_out[:6]).detach()\n",
    "x_py"
   ]
  },
  {
   "cell_type": "code",
   "execution_count": 40,
   "id": "f6fb4e2c-c0a4-4bb7-9c57-a2c4b72d47c6",
   "metadata": {},
   "outputs": [],
   "source": [
    "# Bmad lattice to compare\n",
    "tao = Tao('-lat '+repo_path+'/tests/bmad_lattices/test_crab_cavity.bmad -noplot')\n",
    "tao.cmd('set particle_start x='+str(pvec1[0]))\n",
    "tao.cmd('set particle_start px='+str(pvec1[1]))\n",
    "tao.cmd('set particle_start y='+str(pvec1[2]))\n",
    "tao.cmd('set particle_start py='+str(pvec1[3]))\n",
    "tao.cmd('set particle_start z='+str(pvec1[4]))\n",
    "tao.cmd('set particle_start pz='+str(pvec1[5]))\n",
    "orbit_out = tao.orbit_at_s(ele=1)"
   ]
  },
  {
   "cell_type": "code",
   "execution_count": 41,
   "id": "ca5eb104-b9fa-4e7d-aef6-283d8dc5d902",
   "metadata": {},
   "outputs": [
    {
     "data": {
      "text/plain": [
       "tensor([2.600159503009860e-03, 2.989525785200120e-03, -3.200403013811110e-03,\n",
       "        -1.000000000000000e-03, 1.998933450470350e-03, -2.012044669173100e-03],\n",
       "       dtype=torch.float64)"
      ]
     },
     "execution_count": 41,
     "metadata": {},
     "output_type": "execute_result"
    }
   ],
   "source": [
    "# Bmad outgoing particle\n",
    "x_tao = torch.tensor([orbit_out['x'],orbit_out['px'],orbit_out['y'],orbit_out['py'],orbit_out['z'],orbit_out['pz']],**tkwargs)\n",
    "x_tao"
   ]
  },
  {
   "cell_type": "code",
   "execution_count": 42,
   "id": "166f4fff-bc17-4098-ba28-ed0ee121174e",
   "metadata": {},
   "outputs": [
    {
     "data": {
      "text/plain": [
       "True"
      ]
     },
     "execution_count": 42,
     "metadata": {},
     "output_type": "execute_result"
    }
   ],
   "source": [
    "# close to Tao result?\n",
    "torch.allclose(x_py, x_tao, atol=0, rtol=1.0e-14)"
   ]
  },
  {
   "cell_type": "markdown",
   "id": "6cba34c7-84d1-4174-a9cc-51ec5bca5379",
   "metadata": {},
   "source": [
    "## Crab_cavity Jacobian test"
   ]
  },
  {
   "cell_type": "code",
   "execution_count": 43,
   "id": "df914c77-c924-4c3f-8042-61d850cbfb6b",
   "metadata": {},
   "outputs": [
    {
     "data": {
      "text/plain": [
       "tensor([[ 1.000001571489388e+00,  2.004051338856653e-01,  0.000000000000000e+00,\n",
       "         -6.552534052264527e-07, -5.246100940167111e-04, -6.013813103820471e-04],\n",
       "        [ 0.000000000000000e+00,  1.000001576957398e+00,  0.000000000000000e+00,\n",
       "         -5.256524659788450e-07, -5.235440739575950e-03, -8.949162872176157e-08],\n",
       "        [-5.256651057680826e-07, -6.552540421507948e-07,  1.000000000000000e+00,\n",
       "          2.004032150230133e-01,  2.637597029868803e-09,  2.008080032283205e-04],\n",
       "        [ 0.000000000000000e+00,  0.000000000000000e+00,  0.000000000000000e+00,\n",
       "          1.000000000000000e+00, -0.000000000000000e+00,  0.000000000000000e+00],\n",
       "        [-9.289874897604998e-08, -6.013816504874850e-04, -0.000000000000000e+00,\n",
       "          2.008080022802770e-04,  1.000001569699991e+00,  3.483769060576969e-05],\n",
       "        [-5.235440749927688e-03, -5.246038241196926e-04, -0.000000000000000e+00,\n",
       "          2.643031443043208e-09,  1.058650459477272e-05,  1.000001579115604e+00]],\n",
       "       dtype=torch.float64)"
      ]
     },
     "execution_count": 43,
     "metadata": {},
     "output_type": "execute_result"
    }
   ],
   "source": [
    "# autodiff Jacobian matrix\n",
    "f_crab_cavity = lambda x: track_a_crab_cavity_torch(Particle(*x,ts, tp0c, tmc2), cav)[:6]\n",
    "J = jacobian(f_crab_cavity, tvec1)\n",
    "mat_py = torch.vstack(J)\n",
    "mat_py"
   ]
  },
  {
   "cell_type": "code",
   "execution_count": 44,
   "id": "0cb14d82-ae25-402d-acd5-c879c6ceae30",
   "metadata": {},
   "outputs": [
    {
     "data": {
      "text/plain": [
       "tensor([[ 1.000001571489390e+00,  2.004051338856650e-01,  0.000000000000000e+00,\n",
       "         -6.552534052264531e-07, -5.246100940167110e-04, -6.013813103820470e-04],\n",
       "        [ 0.000000000000000e+00,  1.000001576957400e+00,  0.000000000000000e+00,\n",
       "         -5.256524659788450e-07, -5.235440739575950e-03, -8.949162872175810e-08],\n",
       "        [-5.256651057680830e-07, -6.552540421507950e-07,  1.000000000000000e+00,\n",
       "          2.004032150230130e-01,  2.637597029868800e-09,  2.008080032283200e-04],\n",
       "        [ 0.000000000000000e+00,  0.000000000000000e+00,  0.000000000000000e+00,\n",
       "          1.000000000000000e+00,  0.000000000000000e+00,  0.000000000000000e+00],\n",
       "        [-9.289874897604990e-08, -6.013816504874850e-04,  0.000000000000000e+00,\n",
       "          2.008080022802770e-04,  1.000001569699990e+00,  3.483769060576920e-05],\n",
       "        [-5.235440749927690e-03, -5.246038241196930e-04,  0.000000000000000e+00,\n",
       "          2.643031443043210e-09,  1.058650459477270e-05,  1.000001579115600e+00]],\n",
       "       dtype=torch.float64)"
      ]
     },
     "execution_count": 44,
     "metadata": {},
     "output_type": "execute_result"
    }
   ],
   "source": [
    "# Bmad formula Jacobian\n",
    "cav_tao = tao.matrix(0,1)\n",
    "mat_tao = torch.tensor(cav_tao['mat6'], **tkwargs)\n",
    "mat_tao"
   ]
  },
  {
   "cell_type": "code",
   "execution_count": 45,
   "id": "559f4dce-229e-4a33-8e42-819449e0d19f",
   "metadata": {
    "tags": []
   },
   "outputs": [
    {
     "data": {
      "text/plain": [
       "True"
      ]
     },
     "execution_count": 45,
     "metadata": {},
     "output_type": "execute_result"
    }
   ],
   "source": [
    "# close to Tao result up to 13th decimal place\n",
    "torch.allclose(mat_py, mat_tao, atol=0, rtol=1.0e-13)"
   ]
  },
  {
   "cell_type": "code",
   "execution_count": 46,
   "id": "4e1d4df3-7b43-48a8-9135-deb761da0c04",
   "metadata": {
    "tags": []
   },
   "outputs": [
    {
     "data": {
      "text/plain": [
       "tensor([[ True,  True,  True,  True,  True,  True],\n",
       "        [ True,  True,  True,  True,  True, False],\n",
       "        [ True,  True,  True,  True,  True,  True],\n",
       "        [ True,  True,  True,  True,  True,  True],\n",
       "        [ True,  True,  True,  True,  True, False],\n",
       "        [ True,  True,  True,  True,  True,  True]])"
      ]
     },
     "execution_count": 46,
     "metadata": {},
     "output_type": "execute_result"
    }
   ],
   "source": [
    "# but not up to 14th decimal place\n",
    "torch.isclose(mat_py, mat_tao, atol=0, rtol=1e-14)"
   ]
  },
  {
   "cell_type": "markdown",
   "id": "e0c8100c-e605-4d9e-b12e-f02375e03be9",
   "metadata": {
    "tags": []
   },
   "source": [
    "## Crab_cavity offset test"
   ]
  },
  {
   "cell_type": "code",
   "execution_count": 47,
   "id": "610c4ccc-88a0-4f7c-bdb9-2c6dec6a6458",
   "metadata": {},
   "outputs": [],
   "source": [
    "# Cavity params\n",
    "L = 0.2\n",
    "voltage = 1.0e3\n",
    "phi0 = 0.5\n",
    "rf = 1.0e9\n",
    "\n",
    "# cav w/o offsets\n",
    "cav_no_off = torch_crab_cavity(L=torch.tensor(L, **tkwargs),\n",
    "                               VOLTAGE=torch.tensor(voltage, **tkwargs),\n",
    "                               PHI0=torch.tensor(phi0, **tkwargs),\n",
    "                               RF_FREQUENCY=torch.tensor(rf, **tkwargs))\n",
    "\n",
    "#cav with offsets\n",
    "x_off = 1e-3\n",
    "y_off = -2e-3\n",
    "cav_off = torch_crab_cavity(L=torch.tensor(L, **tkwargs),\n",
    "                            VOLTAGE=torch.tensor(voltage, **tkwargs),\n",
    "                            PHI0=torch.tensor(phi0, **tkwargs),\n",
    "                            RF_FREQUENCY=torch.tensor(rf, **tkwargs),\n",
    "                            X_OFFSET=torch.tensor(x_off, **tkwargs),\n",
    "                            Y_OFFSET=torch.tensor(y_off, **tkwargs))"
   ]
  },
  {
   "cell_type": "code",
   "execution_count": 48,
   "id": "a7a31988-a34e-4115-ae37-f241019894d7",
   "metadata": {},
   "outputs": [
    {
     "data": {
      "text/plain": [
       "tensor([2.601100832046753e-03, 2.998952578520011e-03, -3.200401928250687e-03,\n",
       "        -1.000000000000000e-03, 1.998930808836860e-03, -2.001204466916434e-03],\n",
       "       dtype=torch.float64)"
      ]
     },
     "execution_count": 48,
     "metadata": {},
     "output_type": "execute_result"
    }
   ],
   "source": [
    "# Outgoing particle no offset\n",
    "p_out = track_a_crab_cavity_torch(p_in, cav_no_off)\n",
    "x_py = torch.hstack(p_out[:6]).detach()\n",
    "x_py"
   ]
  },
  {
   "cell_type": "code",
   "execution_count": 49,
   "id": "259c7c46-f77b-42bc-b4c3-84cba1a515ca",
   "metadata": {},
   "outputs": [
    {
     "data": {
      "text/plain": [
       "tensor([2.601100674405775e-03, 2.998952578520011e-03, -3.200401875685341e-03,\n",
       "        -1.000000000000000e-03, 1.998930818129399e-03, -2.000680922842398e-03],\n",
       "       dtype=torch.float64)"
      ]
     },
     "execution_count": 49,
     "metadata": {},
     "output_type": "execute_result"
    }
   ],
   "source": [
    "# Outgoing particle offset\n",
    "p_out = track_a_crab_cavity_torch(Particle(*tvec1,ts, tp0c, tmc2), cav_off)\n",
    "x_py = torch.hstack(p_out[:6]).detach()\n",
    "x_py"
   ]
  },
  {
   "cell_type": "code",
   "execution_count": 50,
   "id": "1e75081a-5ee6-4769-ab3a-925da2812147",
   "metadata": {},
   "outputs": [],
   "source": [
    "# Bmad lattice to compare\n",
    "tao = Tao('-lat '+repo_path+'/tests/bmad_lattices/test_crab_cavity_offset.bmad -noplot')\n",
    "tao.cmd('set particle_start x='+str(pvec1[0]))\n",
    "tao.cmd('set particle_start px='+str(pvec1[1]))\n",
    "tao.cmd('set particle_start y='+str(pvec1[2]))\n",
    "tao.cmd('set particle_start py='+str(pvec1[3]))\n",
    "tao.cmd('set particle_start z='+str(pvec1[4]))\n",
    "tao.cmd('set particle_start pz='+str(pvec1[5]))\n",
    "orbit_out = tao.orbit_at_s(ele=1)"
   ]
  },
  {
   "cell_type": "code",
   "execution_count": 51,
   "id": "3ed4736e-e777-40c4-9e71-1d8e5cd77c62",
   "metadata": {},
   "outputs": [
    {
     "data": {
      "text/plain": [
       "tensor([2.601100674405770e-03, 2.998952578520010e-03, -3.200401875685340e-03,\n",
       "        -1.000000000000000e-03, 1.998930818129400e-03, -2.000680922842400e-03],\n",
       "       dtype=torch.float64)"
      ]
     },
     "execution_count": 51,
     "metadata": {},
     "output_type": "execute_result"
    }
   ],
   "source": [
    "# Bmad outgoing particle\n",
    "x_tao = torch.tensor([orbit_out['x'],orbit_out['px'],orbit_out['y'],orbit_out['py'],orbit_out['z'],orbit_out['pz']],**tkwargs)\n",
    "x_tao"
   ]
  },
  {
   "cell_type": "code",
   "execution_count": 52,
   "id": "cb11edd9-764f-48d1-9ac2-00faddd5e33f",
   "metadata": {
    "tags": []
   },
   "outputs": [
    {
     "data": {
      "text/plain": [
       "True"
      ]
     },
     "execution_count": 52,
     "metadata": {},
     "output_type": "execute_result"
    }
   ],
   "source": [
    "# close to Tao result?\n",
    "torch.allclose(x_py, x_tao, atol=0, rtol=1.0e-14)"
   ]
  },
  {
   "cell_type": "markdown",
   "id": "21dc9574-1086-4549-af96-1f1972fbeced",
   "metadata": {},
   "source": [
    "## Crab_cavity tilt test"
   ]
  },
  {
   "cell_type": "code",
   "execution_count": 53,
   "id": "d015a01e-cfba-49df-b581-c6795bc8106a",
   "metadata": {},
   "outputs": [],
   "source": [
    "# Cavity params\n",
    "L = 0.2 #Length in m\n",
    "voltage = 1.0e3 #Quad focusing strength. Positive is focusing in x\n",
    "phi0 = 0.5\n",
    "rf = 1.0e9\n",
    "\n",
    "# cav w/o tilt\n",
    "cav_no_tilt = torch_crab_cavity(L=torch.tensor(L, **tkwargs),\n",
    "                                VOLTAGE=torch.tensor(voltage, **tkwargs),\n",
    "                                PHI0=torch.tensor(phi0, **tkwargs),\n",
    "                                RF_FREQUENCY=torch.tensor(rf, **tkwargs))\n",
    "\n",
    "#cav with tilt\n",
    "x_off = 1e-3\n",
    "y_off = -2e-3\n",
    "tilt = 0.3\n",
    "cav_tilt = torch_crab_cavity(L=torch.tensor(L, **tkwargs),\n",
    "                             VOLTAGE=torch.tensor(voltage, **tkwargs),\n",
    "                             PHI0=torch.tensor(phi0, **tkwargs),\n",
    "                             RF_FREQUENCY=torch.tensor(rf, **tkwargs),\n",
    "                             TILT=torch.tensor(tilt, **tkwargs))"
   ]
  },
  {
   "cell_type": "code",
   "execution_count": 54,
   "id": "943a2c42-010d-49fb-9363-1085155c89fc",
   "metadata": {},
   "outputs": [
    {
     "data": {
      "text/plain": [
       "tensor([2.601100832046753e-03, 2.998952578520011e-03, -3.200401928250687e-03,\n",
       "        -1.000000000000000e-03, 1.998930808836860e-03, -2.001204466916434e-03],\n",
       "       dtype=torch.float64)"
      ]
     },
     "execution_count": 54,
     "metadata": {},
     "output_type": "execute_result"
    }
   ],
   "source": [
    "# Outgoing particle no offset\n",
    "p_out = track_a_crab_cavity_torch(p_in, cav_no_tilt)\n",
    "x_py = torch.hstack(p_out[:6]).detach()\n",
    "x_py"
   ]
  },
  {
   "cell_type": "code",
   "execution_count": 55,
   "id": "e2e55acc-54e0-4509-9c57-968a723d1d9d",
   "metadata": {},
   "outputs": [
    {
     "data": {
      "text/plain": [
       "tensor([2.601105359111942e-03, 2.998999360040673e-03, -3.200432890364399e-03,\n",
       "        -1.000309534212228e-03, 1.998930773136149e-03, -2.000671014767513e-03],\n",
       "       dtype=torch.float64)"
      ]
     },
     "execution_count": 55,
     "metadata": {},
     "output_type": "execute_result"
    }
   ],
   "source": [
    "# Outgoing particle offset and tilt\n",
    "p_out = track_a_crab_cavity_torch(Particle(*tvec1,ts, tp0c, tmc2), cav_tilt)\n",
    "x_py = torch.hstack(p_out[:6]).detach()\n",
    "x_py"
   ]
  },
  {
   "cell_type": "code",
   "execution_count": 56,
   "id": "10ac2a40-cf6d-43e2-93e8-f2681f710584",
   "metadata": {},
   "outputs": [],
   "source": [
    "# Bmad lattice to compare\n",
    "tao = Tao('-lat '+repo_path+'/tests/bmad_lattices/test_crab_cavity_tilt.bmad -noplot')\n",
    "tao.cmd('set particle_start x='+str(pvec1[0]))\n",
    "tao.cmd('set particle_start px='+str(pvec1[1]))\n",
    "tao.cmd('set particle_start y='+str(pvec1[2]))\n",
    "tao.cmd('set particle_start py='+str(pvec1[3]))\n",
    "tao.cmd('set particle_start z='+str(pvec1[4]))\n",
    "tao.cmd('set particle_start pz='+str(pvec1[5]))\n",
    "orbit_out = tao.orbit_at_s(ele=1)"
   ]
  },
  {
   "cell_type": "code",
   "execution_count": 57,
   "id": "96d459e4-9540-44d6-8034-2ce10af7f003",
   "metadata": {},
   "outputs": [
    {
     "data": {
      "text/plain": [
       "tensor([2.601105359111940e-03, 2.998999360040670e-03, -3.200432890364400e-03,\n",
       "        -1.000309534212230e-03, 1.998930773136150e-03, -2.000671014767510e-03],\n",
       "       dtype=torch.float64)"
      ]
     },
     "execution_count": 57,
     "metadata": {},
     "output_type": "execute_result"
    }
   ],
   "source": [
    "# Bmad outgoing particle\n",
    "x_tao = torch.tensor([orbit_out['x'],orbit_out['px'],orbit_out['y'],orbit_out['py'],orbit_out['z'],orbit_out['pz']],**tkwargs)\n",
    "x_tao"
   ]
  },
  {
   "cell_type": "code",
   "execution_count": 58,
   "id": "8dc5323a-30f4-44d1-b0ad-867244cdbb76",
   "metadata": {},
   "outputs": [
    {
     "data": {
      "text/plain": [
       "True"
      ]
     },
     "execution_count": 58,
     "metadata": {},
     "output_type": "execute_result"
    }
   ],
   "source": [
    "# close to Tao result?\n",
    "torch.allclose(x_py, x_tao, atol=0, rtol=1.0e-14)"
   ]
  },
  {
   "cell_type": "code",
   "execution_count": 59,
   "id": "9d4a0dfc-2e7f-41cc-b148-85d9f948529f",
   "metadata": {},
   "outputs": [
    {
     "data": {
      "text/plain": [
       "tensor([[ 1.000000150602446e+00,  2.004037151906528e-01,  4.658679586544423e-08,\n",
       "         -6.039807690927379e-07, -5.011717697334090e-05, -6.023171246175704e-04],\n",
       "        [ 0.000000000000000e+00,  1.000000150652494e+00,  0.000000000000000e+00,\n",
       "         -5.021749810429910e-08, -5.001607575171654e-04, -8.549461838918098e-09],\n",
       "        [-5.023310933882641e-08, -6.039807756291760e-07,  9.999999844610783e-01,\n",
       "          2.004020728926290e-01, -1.550268447215676e-05,  2.008363914804506e-04],\n",
       "        [ 0.000000000000000e+00,  4.660227759245572e-08,  0.000000000000000e+00,\n",
       "          9.999999844659074e-01, -1.547178529322681e-04, -2.644658461431463e-09],\n",
       "        [-8.877538963465590e-09, -6.023171574216554e-04, -2.746144608721748e-09,\n",
       "          2.008363812799022e-04,  1.000000134963841e+00,  3.484280382627325e-05],\n",
       "        [-5.001607575722588e-04, -5.011714377673051e-05, -1.547178529493105e-04,\n",
       "         -1.550267409755359e-05,  5.897796618608915e-07,  1.000000135238635e+00]],\n",
       "       dtype=torch.float64)"
      ]
     },
     "execution_count": 59,
     "metadata": {},
     "output_type": "execute_result"
    }
   ],
   "source": [
    "f_crab_cavity = lambda x: track_a_crab_cavity_torch(Particle(*x,ts, tp0c, tmc2), cav_tilt)[:6]\n",
    "J = jacobian(f_crab_cavity, tvec1)\n",
    "mat_py = torch.vstack(J)\n",
    "mat_py"
   ]
  },
  {
   "cell_type": "code",
   "execution_count": 60,
   "id": "33fbbecf-e11c-4f92-9145-f53b521b705d",
   "metadata": {},
   "outputs": [
    {
     "data": {
      "text/plain": [
       "tensor([[ 1.000000150602450e+00,  2.004037151906530e-01,  4.658679586544420e-08,\n",
       "         -6.039807690857990e-07, -5.011717697334090e-05, -6.023171246175700e-04],\n",
       "        [ 0.000000000000000e+00,  1.000000150652490e+00,  0.000000000000000e+00,\n",
       "         -5.021749810429910e-08, -5.001607575171650e-04, -8.549461838917659e-09],\n",
       "        [-5.023310933882640e-08, -6.039807756222370e-07,  9.999999844610780e-01,\n",
       "          2.004020728926290e-01, -1.550268447215680e-05,  2.008363914804510e-04],\n",
       "        [ 0.000000000000000e+00,  4.660227764796690e-08,  0.000000000000000e+00,\n",
       "          9.999999844659070e-01, -1.547178529322680e-04, -2.644658461431380e-09],\n",
       "        [-8.877538963465760e-09, -6.023171574216550e-04, -2.746144608721800e-09,\n",
       "          2.008363812799020e-04,  1.000000134963840e+00,  3.484280382627260e-05],\n",
       "        [-5.001607575722590e-04, -5.011714377673050e-05, -1.547178529493100e-04,\n",
       "         -1.550267409755360e-05,  5.897796618608910e-07,  1.000000135238630e+00]],\n",
       "       dtype=torch.float64)"
      ]
     },
     "execution_count": 60,
     "metadata": {},
     "output_type": "execute_result"
    }
   ],
   "source": [
    "cav_tao = tao.matrix(0,1)\n",
    "mat_tao = torch.tensor(cav_tao['mat6'], **tkwargs)\n",
    "mat_tao"
   ]
  },
  {
   "cell_type": "code",
   "execution_count": 61,
   "id": "ee06a22b-e0b8-40be-b489-dccefb2e2868",
   "metadata": {},
   "outputs": [
    {
     "data": {
      "text/plain": [
       "tensor([[ True,  True,  True,  True,  True,  True],\n",
       "        [ True,  True,  True,  True,  True,  True],\n",
       "        [ True,  True,  True,  True,  True,  True],\n",
       "        [ True, False,  True,  True,  True,  True],\n",
       "        [ True,  True,  True,  True,  True,  True],\n",
       "        [ True,  True,  True,  True,  True,  True]])"
      ]
     },
     "execution_count": 61,
     "metadata": {},
     "output_type": "execute_result"
    }
   ],
   "source": [
    "torch.isclose(mat_py, mat_tao, atol=0, rtol=1.0e-10)"
   ]
  },
  {
   "cell_type": "code",
   "execution_count": 62,
   "id": "86c1faeb-8931-408a-acb5-fd0c970e59b2",
   "metadata": {},
   "outputs": [],
   "source": [
    "# Something is wrong with the Jacobian matrix of a tilted cavity. Currently debuging."
   ]
  },
  {
   "cell_type": "markdown",
   "id": "5b399e60-6f72-4331-90e8-5994a3978e72",
   "metadata": {},
   "source": [
    "# RF_Cavity tests"
   ]
  },
  {
   "cell_type": "code",
   "execution_count": 63,
   "id": "d7b2e856-5ec6-4ae4-8676-8ed8313a0bd6",
   "metadata": {},
   "outputs": [],
   "source": [
    "from bmadx import RFCavity\n",
    "from bmadx import make_track_a_rf_cavity"
   ]
  },
  {
   "cell_type": "code",
   "execution_count": 64,
   "id": "811b3789-884f-40fa-8ae8-1a026d880ac5",
   "metadata": {},
   "outputs": [],
   "source": [
    "def torch_rf_cavity(L: torch.Tensor, VOLTAGE: torch.Tensor,\n",
    "                    PHI0: torch.Tensor, RF_FREQUENCY: torch.Tensor,\n",
    "                    X_OFFSET: torch.Tensor=torch.tensor(0.0,**tkwargs),\n",
    "                    Y_OFFSET: torch.Tensor=torch.tensor(0.0,**tkwargs),\n",
    "                    TILT: torch.Tensor=torch.tensor(0.0,**tkwargs)):\n",
    "    return RFCavity(L=L, VOLTAGE=VOLTAGE, PHI0=PHI0,\n",
    "                    RF_FREQUENCY=RF_FREQUENCY, X_OFFSET=X_OFFSET,\n",
    "                    Y_OFFSET=Y_OFFSET, TILT=TILT)"
   ]
  },
  {
   "cell_type": "code",
   "execution_count": 65,
   "id": "06940029-0be4-46a7-a7d3-94b8609d0e7f",
   "metadata": {},
   "outputs": [
    {
     "data": {
      "text/plain": [
       "RFCavity(L=tensor(2.000000000000000e-01, dtype=torch.float64), VOLTAGE=tensor(1.000000000000000e+04, dtype=torch.float64), PHI0=tensor(5.000000000000000e-01, dtype=torch.float64), RF_FREQUENCY=tensor(1.000000000000000e+09, dtype=torch.float64), X_OFFSET=tensor(0., dtype=torch.float64), Y_OFFSET=tensor(0., dtype=torch.float64), TILT=tensor(0., dtype=torch.float64))"
      ]
     },
     "execution_count": 65,
     "metadata": {},
     "output_type": "execute_result"
    }
   ],
   "source": [
    "# Create cavity\n",
    "L = 0.2\n",
    "voltage = 1.0e4\n",
    "phi0 = 0.5\n",
    "rf = 1.0e9\n",
    "cav = torch_rf_cavity(L=torch.tensor(L, **tkwargs),\n",
    "                      VOLTAGE=torch.tensor(voltage, **tkwargs),\n",
    "                      PHI0=torch.tensor(phi0, **tkwargs),\n",
    "                      RF_FREQUENCY=torch.tensor(rf, **tkwargs))\n",
    "cav"
   ]
  },
  {
   "cell_type": "markdown",
   "id": "fb257879-e134-4c7e-9b5e-d12c0263a001",
   "metadata": {},
   "source": [
    "## RF_Cavity one particle test"
   ]
  },
  {
   "cell_type": "code",
   "execution_count": 66,
   "id": "23b2e30b-66c5-43ba-a94d-f0095ee85c4d",
   "metadata": {},
   "outputs": [
    {
     "data": {
      "text/plain": [
       "tensor([2.601208578941774e-03, 3.000000000000000e-03, -3.200402859647258e-03,\n",
       "        -1.000000000000000e-03, 1.998930328796947e-03, -2.010475072419949e-03],\n",
       "       dtype=torch.float64)"
      ]
     },
     "execution_count": 66,
     "metadata": {},
     "output_type": "execute_result"
    }
   ],
   "source": [
    "# create track_a_rf_cavity_torch\n",
    "track_a_rf_cavity_torch = make_track_a_rf_cavity(torch)\n",
    "# Outgoing particle\n",
    "p_out = track_a_rf_cavity_torch(p_in, cav)\n",
    "#p_out\n",
    "x_py = torch.hstack(p_out[:6]).detach()\n",
    "x_py"
   ]
  },
  {
   "cell_type": "code",
   "execution_count": 67,
   "id": "105c88e1-8b76-4329-84f7-cf939fd121ce",
   "metadata": {},
   "outputs": [],
   "source": [
    "# Bmad lattice to compare\n",
    "tao = Tao('-lat '+repo_path+'/tests/bmad_lattices/test_rf_cavity.bmad -noplot')\n",
    "tao.cmd('set particle_start x='+str(pvec1[0]))\n",
    "tao.cmd('set particle_start px='+str(pvec1[1]))\n",
    "tao.cmd('set particle_start y='+str(pvec1[2]))\n",
    "tao.cmd('set particle_start py='+str(pvec1[3]))\n",
    "tao.cmd('set particle_start z='+str(pvec1[4]))\n",
    "tao.cmd('set particle_start pz='+str(pvec1[5]))\n",
    "orbit_out = tao.orbit_at_s(ele=1)"
   ]
  },
  {
   "cell_type": "code",
   "execution_count": 68,
   "id": "d652a61e-d877-4825-a6b0-53ee4955212b",
   "metadata": {},
   "outputs": [
    {
     "data": {
      "text/plain": [
       "tensor([2.601208578941770e-03, 3.000000000000000e-03, -3.200402859647260e-03,\n",
       "        -1.000000000000000e-03, 1.998930328796950e-03, -2.010475072419950e-03],\n",
       "       dtype=torch.float64)"
      ]
     },
     "execution_count": 68,
     "metadata": {},
     "output_type": "execute_result"
    }
   ],
   "source": [
    "# Bmad outgoing particle\n",
    "x_tao = torch.tensor([orbit_out['x'],orbit_out['px'],orbit_out['y'],orbit_out['py'],orbit_out['z'],orbit_out['pz']],**tkwargs)\n",
    "x_tao"
   ]
  },
  {
   "cell_type": "code",
   "execution_count": 69,
   "id": "ec7f7c04-e085-4e38-95d4-a6af98f4c4f2",
   "metadata": {},
   "outputs": [
    {
     "data": {
      "text/plain": [
       "True"
      ]
     },
     "execution_count": 69,
     "metadata": {},
     "output_type": "execute_result"
    }
   ],
   "source": [
    "# close to Tao result?\n",
    "torch.allclose(x_py, x_tao, atol=0, rtol=1.0e-14)"
   ]
  },
  {
   "cell_type": "markdown",
   "id": "18bce176-6de2-4d38-9c36-8944e7fb7635",
   "metadata": {},
   "source": [
    "## RF_Cavity Jacobian test"
   ]
  },
  {
   "cell_type": "code",
   "execution_count": 70,
   "id": "5783b93b-af70-4a5f-b8b4-77498715014f",
   "metadata": {},
   "outputs": [
    {
     "data": {
      "text/plain": [
       "tensor([[ 1.000000000000000e+00,  2.004046705463930e-01,  0.000000000000000e+00,\n",
       "         -6.036330450442983e-07,  1.577102406617731e-06, -6.024226175949689e-04],\n",
       "        [ 0.000000000000000e+00,  1.000000000000000e+00,  0.000000000000000e+00,\n",
       "          0.000000000000000e+00,  0.000000000000000e+00,  0.000000000000000e+00],\n",
       "        [ 0.000000000000000e+00, -6.036330450442982e-07,  1.000000000000000e+00,\n",
       "          2.004030608582729e-01, -5.257008022059102e-07,  2.008075391983230e-04],\n",
       "        [ 0.000000000000000e+00,  0.000000000000000e+00,  0.000000000000000e+00,\n",
       "          1.000000000000000e+00,  0.000000000000000e+00,  0.000000000000000e+00],\n",
       "        [ 0.000000000000000e+00, -6.024226155237540e-04,  0.000000000000000e+00,\n",
       "          2.008075385079180e-04,  9.999999053429351e-01,  3.484386392945851e-05],\n",
       "        [ 0.000000000000000e+00,  1.577103892075475e-06,  0.000000000000000e+00,\n",
       "         -5.257012973584918e-07, -5.235869418127461e-03,  9.999999122191349e-01]],\n",
       "       dtype=torch.float64)"
      ]
     },
     "execution_count": 70,
     "metadata": {},
     "output_type": "execute_result"
    }
   ],
   "source": [
    "# autodiff Jacobian matrix\n",
    "f_rf_cavity = lambda x: track_a_rf_cavity_torch(Particle(*x,ts, tp0c, tmc2), cav)[:6]\n",
    "J = jacobian(f_rf_cavity, tvec1)\n",
    "mat_py = torch.vstack(J)\n",
    "mat_py"
   ]
  },
  {
   "cell_type": "code",
   "execution_count": 71,
   "id": "3f21b36b-000a-4705-9f84-a4642a576fa9",
   "metadata": {},
   "outputs": [
    {
     "data": {
      "text/plain": [
       "tensor([[ 1.000000000000000e+00,  2.004046705463930e-01,  0.000000000000000e+00,\n",
       "         -6.036330450442980e-07,  1.577102406617730e-06, -6.024226175949690e-04],\n",
       "        [ 0.000000000000000e+00,  1.000000000000000e+00,  0.000000000000000e+00,\n",
       "          0.000000000000000e+00,  0.000000000000000e+00,  0.000000000000000e+00],\n",
       "        [ 0.000000000000000e+00, -6.036330450442980e-07,  1.000000000000000e+00,\n",
       "          2.004030608582730e-01, -5.257008022059100e-07,  2.008075391983230e-04],\n",
       "        [ 0.000000000000000e+00,  0.000000000000000e+00,  0.000000000000000e+00,\n",
       "          1.000000000000000e+00,  0.000000000000000e+00,  0.000000000000000e+00],\n",
       "        [ 0.000000000000000e+00, -6.024226155237540e-04,  0.000000000000000e+00,\n",
       "          2.008075385079180e-04,  9.999999053429350e-01,  3.484386392945810e-05],\n",
       "        [ 0.000000000000000e+00,  1.577103892075480e-06,  0.000000000000000e+00,\n",
       "         -5.257012973584920e-07, -5.235869418127460e-03,  9.999999122191350e-01]],\n",
       "       dtype=torch.float64)"
      ]
     },
     "execution_count": 71,
     "metadata": {},
     "output_type": "execute_result"
    }
   ],
   "source": [
    "# Bmad formula Jacobian\n",
    "quad_tao = tao.matrix(0,1)\n",
    "mat_tao = torch.tensor(quad_tao['mat6'], **tkwargs)\n",
    "mat_tao"
   ]
  },
  {
   "cell_type": "code",
   "execution_count": 72,
   "id": "19b14b9a-c60a-4d58-986c-3c16883a992b",
   "metadata": {
    "tags": []
   },
   "outputs": [
    {
     "data": {
      "text/plain": [
       "True"
      ]
     },
     "execution_count": 72,
     "metadata": {},
     "output_type": "execute_result"
    }
   ],
   "source": [
    "# close to Tao result?\n",
    "torch.allclose(mat_py, mat_tao, atol=0, rtol=1.0e-13)"
   ]
  },
  {
   "cell_type": "markdown",
   "id": "10777ade-5261-4f31-99ce-a636bc74dd43",
   "metadata": {},
   "source": [
    "## RF_Cavity offset test"
   ]
  },
  {
   "cell_type": "code",
   "execution_count": 73,
   "id": "9e2dab1c-7875-4bd8-be45-f0f8b6315a07",
   "metadata": {},
   "outputs": [],
   "source": [
    "# Cavity params\n",
    "L = 0.2\n",
    "voltage = 1.0e3\n",
    "phi0 = 0.5\n",
    "rf = 1.0e9\n",
    "\n",
    "# cav w/o offsets\n",
    "cav_no_off = torch_rf_cavity(L=torch.tensor(L, **tkwargs),\n",
    "                               VOLTAGE=torch.tensor(voltage, **tkwargs),\n",
    "                               PHI0=torch.tensor(phi0, **tkwargs),\n",
    "                               RF_FREQUENCY=torch.tensor(rf, **tkwargs))\n",
    "\n",
    "# cav with offsets\n",
    "x_off = 1e-3\n",
    "y_off = -2e-3\n",
    "cav_off = torch_rf_cavity(L=torch.tensor(L, **tkwargs),\n",
    "                          VOLTAGE=torch.tensor(voltage, **tkwargs),\n",
    "                          PHI0=torch.tensor(phi0, **tkwargs),\n",
    "                          RF_FREQUENCY=torch.tensor(rf, **tkwargs),\n",
    "                          X_OFFSET=torch.tensor(x_off, **tkwargs),\n",
    "                          Y_OFFSET=torch.tensor(y_off, **tkwargs))"
   ]
  },
  {
   "cell_type": "code",
   "execution_count": 74,
   "id": "ed650f68-9d00-4f47-b08a-d39ecb329d0b",
   "metadata": {},
   "outputs": [
    {
     "data": {
      "text/plain": [
       "tensor([2.601205738506814e-03, 3.000000000000000e-03, -3.200401912835605e-03,\n",
       "        -1.000000000000000e-03, 1.998930496180454e-03, -2.001047507284194e-03],\n",
       "       dtype=torch.float64)"
      ]
     },
     "execution_count": 74,
     "metadata": {},
     "output_type": "execute_result"
    }
   ],
   "source": [
    "# Outgoing particle no offset\n",
    "p_out = track_a_rf_cavity_torch(p_in, cav_no_off)\n",
    "x_py = torch.hstack(p_out[:6]).detach()\n",
    "x_py"
   ]
  },
  {
   "cell_type": "code",
   "execution_count": 75,
   "id": "34b1125f-4888-46d7-84d2-6338305e2878",
   "metadata": {},
   "outputs": [
    {
     "data": {
      "text/plain": [
       "tensor([2.601205738506814e-03, 3.000000000000000e-03, -3.200401912835605e-03,\n",
       "        -1.000000000000000e-03, 1.998930496180454e-03, -2.001047507284194e-03],\n",
       "       dtype=torch.float64)"
      ]
     },
     "execution_count": 75,
     "metadata": {},
     "output_type": "execute_result"
    }
   ],
   "source": [
    "# Outgoing particle offset\n",
    "p_out = track_a_rf_cavity_torch(Particle(*tvec1,ts, tp0c, tmc2), cav_off)\n",
    "x_py = torch.hstack(p_out[:6]).detach()\n",
    "x_py"
   ]
  },
  {
   "cell_type": "code",
   "execution_count": 76,
   "id": "466bdc4e-5a29-48d5-86f8-f4da02532836",
   "metadata": {},
   "outputs": [],
   "source": [
    "# Bmad lattice to compare\n",
    "tao = Tao('-lat '+repo_path+'/tests/bmad_lattices/test_rf_cavity_offset.bmad -noplot')\n",
    "tao.cmd('set particle_start x='+str(pvec1[0]))\n",
    "tao.cmd('set particle_start px='+str(pvec1[1]))\n",
    "tao.cmd('set particle_start y='+str(pvec1[2]))\n",
    "tao.cmd('set particle_start py='+str(pvec1[3]))\n",
    "tao.cmd('set particle_start z='+str(pvec1[4]))\n",
    "tao.cmd('set particle_start pz='+str(pvec1[5]))\n",
    "orbit_out = tao.orbit_at_s(ele=1)"
   ]
  },
  {
   "cell_type": "code",
   "execution_count": 77,
   "id": "b2ca323e-02a4-478e-8987-58a9ed1381e8",
   "metadata": {},
   "outputs": [
    {
     "data": {
      "text/plain": [
       "tensor([2.601205738506810e-03, 3.000000000000000e-03, -3.200401912835600e-03,\n",
       "        -1.000000000000000e-03, 1.998930496180450e-03, -2.001047507284190e-03],\n",
       "       dtype=torch.float64)"
      ]
     },
     "execution_count": 77,
     "metadata": {},
     "output_type": "execute_result"
    }
   ],
   "source": [
    "# Bmad outgoing particle\n",
    "x_tao = torch.tensor([orbit_out['x'],orbit_out['px'],orbit_out['y'],orbit_out['py'],orbit_out['z'],orbit_out['pz']],**tkwargs)\n",
    "x_tao"
   ]
  },
  {
   "cell_type": "code",
   "execution_count": 78,
   "id": "59d1c818-3a07-4e96-a84e-87b415f1032b",
   "metadata": {},
   "outputs": [
    {
     "data": {
      "text/plain": [
       "True"
      ]
     },
     "execution_count": 78,
     "metadata": {},
     "output_type": "execute_result"
    }
   ],
   "source": [
    "# close to Tao result?\n",
    "torch.allclose(x_py, x_tao, atol=0, rtol=1.0e-14)"
   ]
  },
  {
   "cell_type": "markdown",
   "id": "a068c3c7-0b83-4948-ac3e-9e9c700de595",
   "metadata": {},
   "source": [
    "## RF_Cavity tilt test"
   ]
  },
  {
   "cell_type": "code",
   "execution_count": 79,
   "id": "4157f30f-8ae7-4bcb-92a1-bdb17e3c866b",
   "metadata": {},
   "outputs": [],
   "source": [
    "# Cavity params\n",
    "L = 0.2 #Length in m\n",
    "voltage = 1.0e3 #Quad focusing strength. Positive is focusing in x\n",
    "phi0 = 0.5\n",
    "rf = 1.0e9\n",
    "\n",
    "# cav w/o tilt\n",
    "cav_no_tilt = torch_rf_cavity(L=torch.tensor(L, **tkwargs),\n",
    "                              VOLTAGE=torch.tensor(voltage, **tkwargs),\n",
    "                              PHI0=torch.tensor(phi0, **tkwargs),\n",
    "                              RF_FREQUENCY=torch.tensor(rf, **tkwargs))\n",
    "\n",
    "#cav with tilt\n",
    "x_off = 1e-3\n",
    "y_off = -2e-3\n",
    "tilt = 0.3\n",
    "cav_tilt = torch_rf_cavity(L=torch.tensor(L, **tkwargs),\n",
    "                           VOLTAGE=torch.tensor(voltage, **tkwargs),\n",
    "                           PHI0=torch.tensor(phi0, **tkwargs),\n",
    "                           RF_FREQUENCY=torch.tensor(rf, **tkwargs),\n",
    "                           TILT=torch.tensor(tilt, **tkwargs))"
   ]
  },
  {
   "cell_type": "code",
   "execution_count": 80,
   "id": "facd0e1b-b013-45d6-9c55-afd453270a9e",
   "metadata": {},
   "outputs": [
    {
     "data": {
      "text/plain": [
       "tensor([2.601205738506814e-03, 3.000000000000000e-03, -3.200401912835605e-03,\n",
       "        -1.000000000000000e-03, 1.998930496180454e-03, -2.001047507284194e-03],\n",
       "       dtype=torch.float64)"
      ]
     },
     "execution_count": 80,
     "metadata": {},
     "output_type": "execute_result"
    }
   ],
   "source": [
    "# Outgoing particle no offset\n",
    "p_out = track_a_rf_cavity_torch(p_in, cav_no_tilt)\n",
    "x_py = torch.hstack(p_out[:6]).detach()\n",
    "x_py"
   ]
  },
  {
   "cell_type": "code",
   "execution_count": 81,
   "id": "6fb9cc00-a24a-4e98-bc69-fdacf4692c7c",
   "metadata": {},
   "outputs": [
    {
     "data": {
      "text/plain": [
       "tensor([2.601205738506814e-03, 3.000000000000000e-03, -3.200401912835605e-03,\n",
       "        -1.000000000000000e-03, 1.998930496180454e-03, -2.001047507284194e-03],\n",
       "       dtype=torch.float64)"
      ]
     },
     "execution_count": 81,
     "metadata": {},
     "output_type": "execute_result"
    }
   ],
   "source": [
    "# Outgoing particle offset and tilt\n",
    "p_out = track_a_rf_cavity_torch(Particle(*tvec1,ts, tp0c, tmc2), cav_tilt)\n",
    "x_py = torch.hstack(p_out[:6]).detach()\n",
    "x_py"
   ]
  },
  {
   "cell_type": "code",
   "execution_count": 82,
   "id": "3754c7f1-afc8-41b9-aa86-33d066faaade",
   "metadata": {},
   "outputs": [],
   "source": [
    "# Bmad lattice to compare\n",
    "tao = Tao('-lat '+repo_path+'/tests/bmad_lattices/test_rf_cavity_tilt.bmad -noplot')\n",
    "tao.cmd('set particle_start x='+str(pvec1[0]))\n",
    "tao.cmd('set particle_start px='+str(pvec1[1]))\n",
    "tao.cmd('set particle_start y='+str(pvec1[2]))\n",
    "tao.cmd('set particle_start py='+str(pvec1[3]))\n",
    "tao.cmd('set particle_start z='+str(pvec1[4]))\n",
    "tao.cmd('set particle_start pz='+str(pvec1[5]))\n",
    "orbit_out = tao.orbit_at_s(ele=1)"
   ]
  },
  {
   "cell_type": "code",
   "execution_count": 83,
   "id": "1a6f5274-e18d-427d-8991-16f8cf28324f",
   "metadata": {},
   "outputs": [
    {
     "data": {
      "text/plain": [
       "tensor([2.601205738506810e-03, 3.000000000000000e-03, -3.200401912835600e-03,\n",
       "        -1.000000000000000e-03, 1.998930496180450e-03, -2.001047507284190e-03],\n",
       "       dtype=torch.float64)"
      ]
     },
     "execution_count": 83,
     "metadata": {},
     "output_type": "execute_result"
    }
   ],
   "source": [
    "# Bmad outgoing particle\n",
    "x_tao = torch.tensor([orbit_out['x'],orbit_out['px'],orbit_out['y'],orbit_out['py'],orbit_out['z'],orbit_out['pz']],**tkwargs)\n",
    "x_tao"
   ]
  },
  {
   "cell_type": "code",
   "execution_count": 84,
   "id": "4543c707-b1d5-411a-af06-18df7f697210",
   "metadata": {},
   "outputs": [
    {
     "data": {
      "text/plain": [
       "True"
      ]
     },
     "execution_count": 84,
     "metadata": {},
     "output_type": "execute_result"
    }
   ],
   "source": [
    "# close to Tao result?\n",
    "torch.allclose(x_py, x_tao, atol=0, rtol=1.0e-14)"
   ]
  }
 ],
 "metadata": {
  "kernelspec": {
   "display_name": "Python 3 (ipykernel)",
   "language": "python",
   "name": "python3"
  },
  "language_info": {
   "codemirror_mode": {
    "name": "ipython",
    "version": 3
   },
   "file_extension": ".py",
   "mimetype": "text/x-python",
   "name": "python",
   "nbconvert_exporter": "python",
   "pygments_lexer": "ipython3",
   "version": "3.9.13"
  },
  "toc-autonumbering": true,
  "toc-showcode": false,
  "toc-showmarkdowntxt": false,
  "toc-showtags": false
 },
 "nbformat": 4,
 "nbformat_minor": 5
}
