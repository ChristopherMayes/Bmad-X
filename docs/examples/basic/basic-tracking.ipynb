{
 "cells": [
  {
   "cell_type": "markdown",
   "id": "2cccffec-2e41-4cf7-a252-3f70656a5f65",
   "metadata": {},
   "source": [
    "# Minimal tracking examples using NumPy"
   ]
  },
  {
   "cell_type": "code",
   "execution_count": 1,
   "id": "fe03792d-5258-4cf1-8e3e-552cea2b4ad2",
   "metadata": {},
   "outputs": [],
   "source": [
    "import matplotlib.pyplot as plt\n",
    "%config InlineBackend.figure_format = 'retina' # for high DPI displays in MacOS"
   ]
  },
  {
   "cell_type": "code",
   "execution_count": 2,
   "id": "8f91b2c8-c4b3-43dc-918a-d5720964b28a",
   "metadata": {},
   "outputs": [],
   "source": [
    "import numpy as np"
   ]
  },
  {
   "cell_type": "code",
   "execution_count": 3,
   "id": "f5f22098-9c57-4597-89c0-5b1b27cbe95e",
   "metadata": {},
   "outputs": [
    {
     "data": {
      "text/plain": [
       "Particle(x=0.001, px=0.001, y=0.001, py=0.001, z=0.001, pz=0.001, s=0.0, p0c=40000000.0, mc2=510998.94999999995)"
      ]
     },
     "execution_count": 3,
     "metadata": {},
     "output_type": "execute_result"
    }
   ],
   "source": [
    "# Create single particle\n",
    "from bmadx import Particle, M_ELECTRON\n",
    "\n",
    "coords = np.ones(6)*1e-3\n",
    "s = 0.0\n",
    "p0c = 4e7\n",
    "p = Particle(*coords, s, p0c, M_ELECTRON)\n",
    "# Particle is a named tuple with: cannonical coords (x, px, y, py, z, pz), s, p0c, mc2:\n",
    "p"
   ]
  },
  {
   "cell_type": "code",
   "execution_count": 4,
   "id": "621ec34d-44ab-497a-ab3e-cf3b49c3936e",
   "metadata": {},
   "outputs": [
    {
     "data": {
      "text/plain": [
       "0.001"
      ]
     },
     "execution_count": 4,
     "metadata": {},
     "output_type": "execute_result"
    }
   ],
   "source": [
    "# Access elements by name using dot notation:\n",
    "p.x"
   ]
  },
  {
   "cell_type": "code",
   "execution_count": 5,
   "id": "29cc26f9-2714-4967-9898-a7963da7f742",
   "metadata": {},
   "outputs": [
    {
     "data": {
      "text/plain": [
       "Particle(x=array([ 0.00092636,  0.00146798,  0.00118915, ...,  0.00095321,\n",
       "        0.00065277, -0.00050456]), px=array([ 6.14160735e-04, -1.00654940e-03,  7.63846994e-05, ...,\n",
       "       -7.91042292e-04,  1.67114769e-04,  2.18488469e-03]), y=array([-0.0009564 , -0.00160297,  0.00017236, ..., -0.0010561 ,\n",
       "       -0.00056936, -0.00192811]), py=array([-2.57791864e-03, -4.62728558e-05, -1.07945817e-03, ...,\n",
       "        1.28435155e-03,  2.01057063e-04, -5.57208114e-04]), z=array([1.24303940e-03, 1.06396319e-04, 1.62540707e-03, ...,\n",
       "       9.84196916e-04, 1.19970434e-05, 5.75175300e-04]), pz=array([-0.0010642 ,  0.00036681,  0.00038136, ...,  0.00121602,\n",
       "        0.0013161 , -0.00049984]), s=0.0, p0c=40000000.0, mc2=510998.94999999995)"
      ]
     },
     "execution_count": 5,
     "metadata": {},
     "output_type": "execute_result"
    }
   ],
   "source": [
    "# Create particle beam\n",
    "n_particles = 10_000 # number of particles in beam\n",
    "coords = np.random.multivariate_normal(mean = np.zeros(6),\n",
    "                                       cov = 1e-6*np.identity(6),\n",
    "                                       size = n_particles\n",
    "                                      )\n",
    "beam = Particle(*coords.T, s, p0c, M_ELECTRON)\n",
    "beam"
   ]
  },
  {
   "cell_type": "code",
   "execution_count": 6,
   "id": "8403067a-307b-446f-845b-1f1384395f76",
   "metadata": {},
   "outputs": [
    {
     "data": {
      "text/plain": [
       "Text(0, 0.5, '$y$ (mm)')"
      ]
     },
     "execution_count": 6,
     "metadata": {},
     "output_type": "execute_result"
    },
    {
     "data": {
      "image/png": "[encoded data removed]",
      "text/plain": [
       "<Figure size 432x288 with 1 Axes>"
      ]
     },
     "metadata": {
      "image/png": {
       "height": 262,
       "width": 302
      },
      "needs_background": "light"
     },
     "output_type": "display_data"
    }
   ],
   "source": [
    "# plot beam x,y histogram:\n",
    "fig, ax = plt.subplots()\n",
    "ax.hist2d(beam.x*1e3, beam.y*1e3, bins=(20,20))\n",
    "ax.set_aspect('equal')\n",
    "ax.set_xlabel(r'$x$ (mm)')\n",
    "ax.set_ylabel(r'$y$ (mm)')"
   ]
  },
  {
   "cell_type": "code",
   "execution_count": 7,
   "id": "bbff053d-93f7-4fc8-913e-7cb2d0059923",
   "metadata": {},
   "outputs": [
    {
     "data": {
      "text/plain": [
       "Drift(L=1.0)"
      ]
     },
     "execution_count": 7,
     "metadata": {},
     "output_type": "execute_result"
    }
   ],
   "source": [
    "# Create a drift element: \n",
    "from bmadx import Drift\n",
    "\n",
    "d = Drift(L=1.0)\n",
    "# Drift is a named tuple with: L (drift length): \n",
    "d"
   ]
  },
  {
   "cell_type": "code",
   "execution_count": 8,
   "id": "26420a66-d128-4fb3-9f75-f8e6bcaa13bd",
   "metadata": {},
   "outputs": [
    {
     "data": {
      "text/plain": [
       "Particle(x=array([0.00154118, 0.0004618 , 0.00126551, ..., 0.00016313, 0.00081967,\n",
       "       0.00168143]), px=array([ 6.14160735e-04, -1.00654940e-03,  7.63846994e-05, ...,\n",
       "       -7.91042292e-04,  1.67114769e-04,  2.18488469e-03]), y=array([-0.00353708, -0.00164923, -0.00090669, ...,  0.00022669,\n",
       "       -0.00036857, -0.0024856 ]), py=array([-2.57791864e-03, -4.62728558e-05, -1.07945817e-03, ...,\n",
       "        1.28435155e-03,  2.01057063e-04, -5.57208114e-04]), z=array([1.23934654e-03, 1.05948869e-04, 1.62488418e-03, ...,\n",
       "       9.83260083e-04, 1.21772861e-05, 5.72549025e-04]), pz=array([-0.0010642 ,  0.00036681,  0.00038136, ...,  0.00121602,\n",
       "        0.0013161 , -0.00049984]), s=1.0, p0c=40000000.0, mc2=510998.94999999995)"
      ]
     },
     "execution_count": 8,
     "metadata": {},
     "output_type": "execute_result"
    }
   ],
   "source": [
    "# Track though drift\n",
    "from bmadx import track_element\n",
    "\n",
    "track_element(beam, d) # returns outgoing particle beam"
   ]
  },
  {
   "cell_type": "code",
   "execution_count": 9,
   "id": "a779ed4f-d392-4446-9337-03db7fa03011",
   "metadata": {},
   "outputs": [
    {
     "data": {
      "text/plain": [
       "Quadrupole(L=0.1, K1=10.0, NUM_STEPS=1, X_OFFSET=0.0, Y_OFFSET=0.0, TILT=0.0)"
      ]
     },
     "execution_count": 9,
     "metadata": {},
     "output_type": "execute_result"
    }
   ],
   "source": [
    "# Create a quarupole element:\n",
    "from bmadx import Quadrupole\n",
    "\n",
    "q_focus = Quadrupole(L=0.1, K1=10.0)\n",
    "# Quadrupole is a named tuple with: L, K1, X_OFFSET=0, Y_OFFSET=0, TILT=0\n",
    "q_focus"
   ]
  },
  {
   "cell_type": "code",
   "execution_count": 10,
   "id": "3332c866-5bc8-449a-a5b9-dfa2b777dfc7",
   "metadata": {},
   "outputs": [
    {
     "data": {
      "text/plain": [
       "Particle(x=array([ 0.00094084,  0.00129627,  0.00113772, ...,  0.0008283 ,\n",
       "        0.00063686, -0.00026456]), px=array([-0.0003273 , -0.0024003 , -0.00109684, ..., -0.00168929,\n",
       "       -0.00048312,  0.00257268]), y=array([-1.26707002e-03, -1.68846498e-03,  7.13369531e-05, ...,\n",
       "       -9.78855894e-04, -5.77614323e-04, -2.08205686e-03]), py=array([-0.00368047, -0.00167842, -0.00095861, ...,  0.00027526,\n",
       "       -0.00036771, -0.00254574]), z=array([1.24252961e-03, 1.06199157e-04, 1.62534322e-03, ...,\n",
       "       9.84101295e-04, 1.20137669e-05, 5.74743569e-04]), pz=array([-0.0010642 ,  0.00036681,  0.00038136, ...,  0.00121602,\n",
       "        0.0013161 , -0.00049984]), s=0.1, p0c=40000000.0, mc2=510998.94999999995)"
      ]
     },
     "execution_count": 10,
     "metadata": {},
     "output_type": "execute_result"
    }
   ],
   "source": [
    "# Track though quadrupole\n",
    "track_element(beam, q_focus)"
   ]
  },
  {
   "cell_type": "code",
   "execution_count": 11,
   "id": "bef9a080-0cb1-4fbf-9305-578e2490082a",
   "metadata": {},
   "outputs": [
    {
     "data": {
      "text/plain": [
       "Particle(x=array([-0.0004007 , -0.00256934, -0.00120779, ..., -0.00180381,\n",
       "       -0.0005395 ,  0.00268053]), px=array([-5.05646307e-04,  1.33052091e-03,  1.15914571e-04, ...,\n",
       "        1.00980089e-03, -7.26404830e-05, -2.44339742e-03]), y=array([-0.00820385, -0.00147304, -0.00296403, ...,  0.0028157 ,\n",
       "        0.00010166, -0.00320802]), py=array([-0.00203762,  0.00012911, -0.00092034, ...,  0.00118605,\n",
       "        0.00022712, -0.00025829]), z=array([1.20580604e-03, 9.74007359e-05, 1.62022752e-03, ...,\n",
       "       9.79007490e-04, 1.23932770e-05, 5.56093492e-04]), pz=array([-0.0010642 ,  0.00036681,  0.00038136, ...,  0.00121602,\n",
       "        0.0013161 , -0.00049984]), s=4.300000000000001, p0c=40000000.0, mc2=510998.94999999995)"
      ]
     },
     "execution_count": 11,
     "metadata": {},
     "output_type": "execute_result"
    }
   ],
   "source": [
    "# Track through a lattice\n",
    "from bmadx import track_lattice\n",
    "\n",
    "q_defocus =  Quadrupole(L=0.1, K1=-10.0)\n",
    "lat = [d, q_focus, d, q_defocus, d, q_focus, d] # lattice is a list of elements\n",
    "track_lattice(beam, lat) # returns outgoing particle beam"
   ]
  },
  {
   "cell_type": "code",
   "execution_count": 12,
   "id": "63269175-b578-4aae-919f-7ef0db27e54a",
   "metadata": {},
   "outputs": [],
   "source": [
    "# Track through a lattice saving stats after each element\n",
    "from bmadx import track_lattice_save_stats\n",
    "\n",
    "all_p = track_lattice_save_stats(beam, lat) \n",
    "# returns a dictionary with stats after each element"
   ]
  },
  {
   "cell_type": "code",
   "execution_count": 13,
   "id": "e831054a-33b7-482c-b427-cd44834a7ce2",
   "metadata": {},
   "outputs": [
    {
     "data": {
      "text/plain": [
       "Text(0, 0.5, 'beam size (mm)')"
      ]
     },
     "execution_count": 13,
     "metadata": {},
     "output_type": "execute_result"
    },
    {
     "data": {
      "image/png": "[encoded data removed]",
      "text/plain": [
       "<Figure size 432x288 with 1 Axes>"
      ]
     },
     "metadata": {
      "image/png": {
       "height": 264,
       "width": 404
      },
      "needs_background": "light"
     },
     "output_type": "display_data"
    }
   ],
   "source": [
    "# Plot x and y beamsize though lattice:\n",
    "\n",
    "plt.plot(all_p['s'], all_p['sigma_x'], '.', label = r'$\\sigma_x$')\n",
    "plt.plot(all_p['s'], all_p['sigma_y'], '.', label = r'$\\sigma_y$')\n",
    "plt.legend()\n",
    "plt.xlabel(r'$s$ (m)')\n",
    "plt.ylabel(r'beam size (mm)')"
   ]
  },
  {
   "cell_type": "code",
   "execution_count": 14,
   "id": "70bf93cb-4714-46e5-94b1-a4024b30a7c0",
   "metadata": {},
   "outputs": [
    {
     "data": {
      "text/plain": [
       "<matplotlib.legend.Legend at 0x7f10815bc3d0>"
      ]
     },
     "execution_count": 14,
     "metadata": {},
     "output_type": "execute_result"
    },
    {
     "data": {
      "image/png": "[encoded data removed]",
      "text/plain": [
       "<Figure size 432x288 with 1 Axes>"
      ]
     },
     "metadata": {
      "image/png": {
       "height": 248,
       "width": 391
      },
      "needs_background": "light"
     },
     "output_type": "display_data"
    }
   ],
   "source": [
    "# one can slice every element in the lattice for plotting purposes:\n",
    "\n",
    "stats = track_lattice_save_stats(beam, lat, n_slices=10)\n",
    "plt.plot(stats['s'], stats['sigma_x'], '.', label=r'$\\sigma_x$')\n",
    "plt.plot(stats['s'], stats['sigma_y'], '.', label=r'$\\sigma_y$')\n",
    "plt.legend()"
   ]
  }
 ],
 "metadata": {
  "kernelspec": {
   "display_name": "NERSC Python",
   "language": "python",
   "name": "python3"
  },
  "language_info": {
   "codemirror_mode": {
    "name": "ipython",
    "version": 3
   },
   "file_extension": ".py",
   "mimetype": "text/x-python",
   "name": "python",
   "nbconvert_exporter": "python",
   "pygments_lexer": "ipython3",
   "version": "3.9.7"
  }
 },
 "nbformat": 4,
 "nbformat_minor": 5
}
