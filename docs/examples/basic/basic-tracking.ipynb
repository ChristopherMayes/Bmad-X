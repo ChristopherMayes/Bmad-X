{
 "cells": [
  {
   "cell_type": "markdown",
   "id": "2cccffec-2e41-4cf7-a252-3f70656a5f65",
   "metadata": {},
   "source": [
    "# Minimal tracking examples using NumPy and PyTorch"
   ]
  },
  {
   "cell_type": "code",
   "execution_count": 1,
   "id": "fe03792d-5258-4cf1-8e3e-552cea2b4ad2",
   "metadata": {},
   "outputs": [],
   "source": [
    "import matplotlib.pyplot as plt"
   ]
  },
  {
   "cell_type": "markdown",
   "id": "f57b21b6-d49b-4185-bca4-cff23d8cb60d",
   "metadata": {},
   "source": [
    "## NumPy"
   ]
  },
  {
   "cell_type": "code",
   "execution_count": 2,
   "id": "8f91b2c8-c4b3-43dc-918a-d5720964b28a",
   "metadata": {},
   "outputs": [],
   "source": [
    "import numpy as np"
   ]
  },
  {
   "cell_type": "code",
   "execution_count": 3,
   "id": "f5f22098-9c57-4597-89c0-5b1b27cbe95e",
   "metadata": {},
   "outputs": [
    {
     "data": {
      "text/plain": [
       "Particle(x=0.001, px=0.001, y=0.001, py=0.001, z=0.001, pz=0.001, s=0.0, p0c=40000000.0, mc2=510998.94999999995)"
      ]
     },
     "execution_count": 3,
     "metadata": {},
     "output_type": "execute_result"
    }
   ],
   "source": [
    "# Create single particle\n",
    "from bmadx import Particle, M_ELECTRON\n",
    "\n",
    "coords = np.ones(6)*1e-3\n",
    "s = 0.0\n",
    "p0c = 4e7\n",
    "p = Particle(*coords, s, p0c, M_ELECTRON)\n",
    "# Particle is a named tuple with: cannonical coords (x, px, y, py, z, pz), s, p0c, mc2:\n",
    "p"
   ]
  },
  {
   "cell_type": "code",
   "execution_count": 4,
   "id": "621ec34d-44ab-497a-ab3e-cf3b49c3936e",
   "metadata": {},
   "outputs": [
    {
     "data": {
      "text/plain": [
       "0.001"
      ]
     },
     "execution_count": 4,
     "metadata": {},
     "output_type": "execute_result"
    }
   ],
   "source": [
    "# Access elements by name using dot notation:\n",
    "p.x"
   ]
  },
  {
   "cell_type": "code",
   "execution_count": 5,
   "id": "29cc26f9-2714-4967-9898-a7963da7f742",
   "metadata": {},
   "outputs": [
    {
     "data": {
      "text/plain": [
       "Particle(x=array([-0.00061399,  0.00102235,  0.00083702, ...,  0.00029746,\n",
       "        0.00211336,  0.00103384]), px=array([ 4.46292684e-05, -1.28016346e-04, -4.73141368e-04, ...,\n",
       "        6.69670782e-04,  4.31180419e-04, -7.82403745e-05]), y=array([-0.0005588 , -0.00120673,  0.00037897, ..., -0.00045599,\n",
       "       -0.00106374, -0.00110806]), py=array([ 4.10663375e-04, -9.25252723e-05, -1.51422753e-04, ...,\n",
       "        1.33047560e-03,  1.09957452e-03,  8.19841690e-04]), z=array([-9.61885328e-04, -1.04599213e-03, -6.80929725e-04, ...,\n",
       "       -3.81225766e-04, -3.76520266e-04, -5.13104946e-05]), pz=array([ 0.0004402 , -0.00117363, -0.00013023, ..., -0.00033949,\n",
       "       -0.00013019, -0.00116607]), s=0.0, p0c=40000000.0, mc2=510998.94999999995)"
      ]
     },
     "execution_count": 5,
     "metadata": {},
     "output_type": "execute_result"
    }
   ],
   "source": [
    "# Create particle beam\n",
    "n_particles = 1_000_000 # number of particles in beam\n",
    "coords = np.random.multivariate_normal(mean = np.zeros(6),\n",
    "                                       cov = 1e-6*np.identity(6),\n",
    "                                       size = n_particles\n",
    "                                      )\n",
    "beam = Particle(*coords.T, s, p0c, M_ELECTRON)\n",
    "beam"
   ]
  },
  {
   "cell_type": "code",
   "execution_count": 6,
   "id": "8403067a-307b-446f-845b-1f1384395f76",
   "metadata": {},
   "outputs": [
    {
     "data": {
      "text/plain": [
       "Text(0, 0.5, '$y$ (mm)')"
      ]
     },
     "execution_count": 6,
     "metadata": {},
     "output_type": "execute_result"
    },
    {
     "data": {
      "image/png": "[encoded data removed]",
      "text/plain": [
       "<Figure size 640x480 with 1 Axes>"
      ]
     },
     "metadata": {},
     "output_type": "display_data"
    }
   ],
   "source": [
    "# plot beam x,y histogram:\n",
    "fig, ax = plt.subplots()\n",
    "ax.hist2d(beam.x*1e3, beam.y*1e3, bins=(100,100))\n",
    "ax.set_aspect('equal')\n",
    "ax.set_xlabel(r'$x$ (mm)')\n",
    "ax.set_ylabel(r'$y$ (mm)')"
   ]
  },
  {
   "cell_type": "code",
   "execution_count": 7,
   "id": "bbff053d-93f7-4fc8-913e-7cb2d0059923",
   "metadata": {},
   "outputs": [
    {
     "data": {
      "text/plain": [
       "Drift(L=1.0)"
      ]
     },
     "execution_count": 7,
     "metadata": {},
     "output_type": "execute_result"
    }
   ],
   "source": [
    "# Create a drift element: \n",
    "from bmadx import Drift\n",
    "\n",
    "d = Drift(L=1.0)\n",
    "# Drift is a named tuple with: L (drift length): \n",
    "d"
   ]
  },
  {
   "cell_type": "code",
   "execution_count": 8,
   "id": "26420a66-d128-4fb3-9f75-f8e6bcaa13bd",
   "metadata": {},
   "outputs": [
    {
     "data": {
      "text/plain": [
       "Particle(x=array([-0.00056938,  0.00089419,  0.00036381, ...,  0.00096736,\n",
       "        0.0025446 ,  0.0009555 ]), px=array([ 4.46292684e-05, -1.28016346e-04, -4.73141368e-04, ...,\n",
       "        6.69670782e-04,  4.31180419e-04, -7.82403745e-05]), y=array([-1.48317768e-04, -1.29936752e-03,  2.27523607e-04, ...,\n",
       "        8.74935329e-04,  3.59755186e-05, -2.87258725e-04]), py=array([ 4.10663375e-04, -9.25252723e-05, -1.51422753e-04, ...,\n",
       "        1.33047560e-03,  1.09957452e-03,  8.19841690e-04]), z=array([-9.61898789e-04, -1.04619647e-03, -6.81074407e-04, ...,\n",
       "       -3.82391257e-04, -3.77239187e-04, -5.18410222e-05]), pz=array([ 0.0004402 , -0.00117363, -0.00013023, ..., -0.00033949,\n",
       "       -0.00013019, -0.00116607]), s=1.0, p0c=40000000.0, mc2=510998.94999999995)"
      ]
     },
     "execution_count": 8,
     "metadata": {},
     "output_type": "execute_result"
    }
   ],
   "source": [
    "# Track though drift\n",
    "from bmadx import track_element\n",
    "\n",
    "track_element(beam, d) # returns outgoing particle beam"
   ]
  },
  {
   "cell_type": "code",
   "execution_count": 9,
   "id": "a779ed4f-d392-4446-9337-03db7fa03011",
   "metadata": {},
   "outputs": [
    {
     "data": {
      "text/plain": [
       "Quadrupole(L=0.1, K1=10.0, NUM_STEPS=1, X_OFFSET=0, Y_OFFSET=0, TILT=0)"
      ]
     },
     "execution_count": 9,
     "metadata": {},
     "output_type": "execute_result"
    }
   ],
   "source": [
    "# Create a quarupole element:\n",
    "from bmadx import Quadrupole\n",
    "\n",
    "q_focus = Quadrupole(L=0.1, K1=10.0)\n",
    "# Quadrupole is a named tuple with: L, K1, X_OFFSET=0, Y_OFFSET=0, TILT=0\n",
    "q_focus"
   ]
  },
  {
   "cell_type": "code",
   "execution_count": 10,
   "id": "3332c866-5bc8-449a-a5b9-dfa2b777dfc7",
   "metadata": {},
   "outputs": [
    {
     "data": {
      "text/plain": [
       "Particle(x=array([-0.00057917,  0.000959  ,  0.00074897, ...,  0.00034859,\n",
       "        0.00205096,  0.00097481]), px=array([ 0.00064623, -0.00112704, -0.00127281, ...,  0.00034393,\n",
       "       -0.00166851, -0.00109103]), y=array([-0.00054523, -0.00127707,  0.00038268, ..., -0.00034367,\n",
       "       -0.00100557, -0.00108053]), py=array([-1.36797324e-04, -1.32416617e-03,  2.26256492e-04, ...,\n",
       "        9.33944390e-04,  7.34570291e-05, -2.65414591e-04]), z=array([-9.61887888e-04, -1.04606661e-03, -6.80973946e-04, ...,\n",
       "       -3.81308559e-04, -3.76581588e-04, -5.13599638e-05]), pz=array([ 0.0004402 , -0.00117363, -0.00013023, ..., -0.00033949,\n",
       "       -0.00013019, -0.00116607]), s=0.1, p0c=40000000.0, mc2=510998.94999999995)"
      ]
     },
     "execution_count": 10,
     "metadata": {},
     "output_type": "execute_result"
    }
   ],
   "source": [
    "# Track though quadrupole\n",
    "track_element(beam, q_focus)"
   ]
  },
  {
   "cell_type": "code",
   "execution_count": 11,
   "id": "bef9a080-0cb1-4fbf-9305-578e2490082a",
   "metadata": {},
   "outputs": [
    {
     "data": {
      "text/plain": [
       "Particle(x=array([ 0.00070594, -0.00122901, -0.0013661 , ...,  0.00033389,\n",
       "       -0.00185849, -0.00119282]), px=array([-0.00015044,  0.00031234,  0.00065108, ..., -0.00067262,\n",
       "       -0.00011038,  0.00026052]), y=array([ 0.0007153 , -0.00126763, -0.00011967, ...,  0.00344761,\n",
       "        0.00227693,  0.00143635]), py=array([ 4.01756532e-04,  5.37465275e-05, -1.66381165e-04, ...,\n",
       "        1.15703506e-03,  1.02958390e-03,  8.00438668e-04]), z=array([-9.62269654e-04, -1.05032080e-03, -6.82762613e-04, ...,\n",
       "       -3.87084248e-04, -3.82837905e-04, -5.43657240e-05]), pz=array([ 0.0004402 , -0.00117363, -0.00013023, ..., -0.00033949,\n",
       "       -0.00013019, -0.00116607]), s=4.300000000000001, p0c=40000000.0, mc2=510998.94999999995)"
      ]
     },
     "execution_count": 11,
     "metadata": {},
     "output_type": "execute_result"
    }
   ],
   "source": [
    "# Track through a lattice\n",
    "from bmadx import track_lattice\n",
    "\n",
    "q_defocus =  Quadrupole(L=0.1, K1=-10.0)\n",
    "lat = [d, q_focus, d, q_defocus, d, q_focus, d] # lattice is a list of elements\n",
    "track_lattice(beam, lat) # returns outgoing particle beam"
   ]
  },
  {
   "cell_type": "code",
   "execution_count": 12,
   "id": "63269175-b578-4aae-919f-7ef0db27e54a",
   "metadata": {},
   "outputs": [],
   "source": [
    "# Track through a lattice saving Particle tuples after each element\n",
    "from bmadx import track_lattice_save_stats\n",
    "\n",
    "all_p = track_lattice_save_stats(beam, lat) \n",
    "# returns a list of Particles: all_p[0] is the incoming Particle and \n",
    "# all_p[i] is the Particle after the 'i'th element. "
   ]
  },
  {
   "cell_type": "code",
   "execution_count": 14,
   "id": "e831054a-33b7-482c-b427-cd44834a7ce2",
   "metadata": {},
   "outputs": [
    {
     "data": {
      "text/plain": [
       "Text(0, 0.5, 'beam size (mm)')"
      ]
     },
     "execution_count": 14,
     "metadata": {},
     "output_type": "execute_result"
    },
    {
     "data": {
      "image/png": "[encoded data removed]",
      "text/plain": [
       "<Figure size 640x480 with 1 Axes>"
      ]
     },
     "metadata": {},
     "output_type": "display_data"
    }
   ],
   "source": [
    "# Plot x and y beamsize though lattice:\n",
    "\n",
    "plt.plot(all_p['s'], all_p['sigma_x'], '.', label = r'$\\sigma_x$')\n",
    "plt.plot(all_p['s'], all_p['sigma_y'], '.', label = r'$\\sigma_y$')\n",
    "plt.legend()\n",
    "plt.xlabel(r'$s$ (m)')\n",
    "plt.ylabel(r'beam size (mm)')"
   ]
  },
  {
   "cell_type": "code",
   "execution_count": null,
   "id": "899a3299-397f-4d74-86c4-61dc530b3f23",
   "metadata": {},
   "outputs": [],
   "source": [
    "# one can slice every element in the lattice for plotting purposes:\n",
    "all_p_sliced = track_sliced_lattice(beam, lat, n_slices=10)\n",
    "\n",
    "# Plot x and y beamsize though lattice:\n",
    "beamsize_x_sliced = np.array([np.std(particle.x) for particle in all_p_sliced])\n",
    "beamsize_y_sliced = np.array([np.std(particle.y) for particle in all_p_sliced])\n",
    "s_sliced = np.array([particle.s for particle in all_p_sliced])\n",
    "plt.plot(s, beamsize_x*1e3, '.', color='C0', label = r'$\\sigma_x$ slicing off')\n",
    "plt.plot(s, beamsize_y*1e3, '.', color='C1', label = r'$\\sigma_y$ slicing off')\n",
    "plt.plot(s_sliced, beamsize_x_sliced*1e3, color='C0', linestyle='--', label = r'$\\sigma_x$ slicing on')\n",
    "plt.plot(s_sliced, beamsize_y_sliced*1e3, color='C1', linestyle='--', label = r'$\\sigma_y$ slicing on')\n",
    "plt.legend()\n",
    "plt.xlabel(r'$s$ (m)')\n",
    "plt.ylabel(r'beam size (mm)')"
   ]
  },
  {
   "cell_type": "code",
   "execution_count": null,
   "id": "70bf93cb-4714-46e5-94b1-a4024b30a7c0",
   "metadata": {},
   "outputs": [],
   "source": [
    "from bmadx import track_lattice_save_stats\n",
    "stats = track_lattice_save_stats(beam, lat, n_slices=10)\n",
    "plt.plot(stats['s'], stats['sigma_x'], label=r'$\\sigma_x$')\n",
    "plt.plot(stats['s'], stats['sigma_y'], label=r'$\\sigma_y$')\n",
    "plt.legend()"
   ]
  },
  {
   "cell_type": "markdown",
   "id": "eea4abda-bd5c-40c0-8404-a119a6923107",
   "metadata": {},
   "source": [
    "## PyTorch"
   ]
  },
  {
   "cell_type": "code",
   "execution_count": null,
   "id": "bf574cfb-5aa0-4b10-bb10-0ba55384bd4d",
   "metadata": {},
   "outputs": [],
   "source": [
    "import torch"
   ]
  },
  {
   "cell_type": "code",
   "execution_count": null,
   "id": "f7989a33-0f67-44de-b83e-e5161d676959",
   "metadata": {},
   "outputs": [],
   "source": [
    "# Create particle beam\n",
    "tcoords = torch.tensor(coords)\n",
    "tbeam = Particle(*tcoords.T,\n",
    "                 torch.tensor(s),\n",
    "                 torch.tensor(p0c),\n",
    "                 torch.tensor(M_ELECTRON))\n",
    "tbeam"
   ]
  },
  {
   "cell_type": "code",
   "execution_count": null,
   "id": "252d34c5-9e14-4fd4-8cb8-eb4051f3a9bc",
   "metadata": {},
   "outputs": [],
   "source": [
    "# Tracking though element takes incoming particle coordinate\n",
    "# type (i.e., torch tensor in this case) for the tracking regarldless\n",
    "# the element parameter types.\n",
    "q = Quadrupole(L=0.1, K1=10)\n",
    "track_element(tbeam, q)"
   ]
  },
  {
   "cell_type": "code",
   "execution_count": null,
   "id": "2966fc4e-35bd-4e70-bc1d-dddfcff0a575",
   "metadata": {},
   "outputs": [],
   "source": [
    "# we can use PyTorch autograd to calculate derivatives\n",
    "from torch.autograd.functional import jacobian\n",
    "\n",
    "# calculate jacobian around 0 though quadrupole:\n",
    "# define tracking as function of 6d coordinates:\n",
    "f_quadrupole = lambda coord: track_element(Particle(*coord,\n",
    "                                                    s = torch.tensor(0.0),\n",
    "                                                    p0c = torch.tensor(4e7),\n",
    "                                                    mc2 = torch.tensor(M_ELECTRON)), \n",
    "                                           q)\n",
    "\n",
    "# Incoming particle coords\n",
    "tvec = torch.zeros(6, requires_grad=True)\n",
    "\n",
    "# Jacobian using pytorch autograd:\n",
    "J = jacobian(f_quadrupole, tvec)\n",
    "J = torch.vstack(J)\n",
    "J"
   ]
  },
  {
   "cell_type": "code",
   "execution_count": null,
   "id": "d6dc9137-3244-4206-abb8-9995f2afef69",
   "metadata": {},
   "outputs": [],
   "source": [
    "# calculate gradient of beamsize with respect to quadrupole strengths:\n",
    "\n",
    "beam_in = tbeam # incoming beam\n",
    "\n",
    "def beamsize(quad_strengths):\n",
    "    \"\"\"Function of beamsize with respect to quad strengths\"\"\"\n",
    "    # create lattice of len(quad_strengths) quadrupoles separated by drifts:\n",
    "    L_d = 0.9 # drift length\n",
    "    L_q = 0.1 # quad length\n",
    "    half_drift = Drift(L=L_d/2) # half drift\n",
    "    lattice = [] # initialize lattice\n",
    "    # create lattice:\n",
    "    for k1 in quad_strengths:\n",
    "        lattice.append( half_drift )\n",
    "        lattice.append( Quadrupole(L=L_q, K1=k1) )\n",
    "        lattice.append( half_drift )\n",
    "        \n",
    "    beam_out = track_lattice(beam_in, lattice)\n",
    "    return beam_out.x.std()\n",
    "\n",
    "# calculate gradient:\n",
    "\n",
    "gradient = jacobian(beamsize, torch.zeros(5))\n",
    "gradient"
   ]
  },
  {
   "cell_type": "code",
   "execution_count": null,
   "id": "5526b266-3223-47a6-bf6e-bafe8d2f5092",
   "metadata": {},
   "outputs": [],
   "source": [
    "# calculate hessian:\n",
    "from torch.autograd.functional import hessian\n",
    "\n",
    "hessian = hessian(beamsize, torch.zeros(5))\n",
    "#hessian = torch.vstack(hessian)\n",
    "hessian"
   ]
  },
  {
   "cell_type": "code",
   "execution_count": null,
   "id": "bac0e758-87f8-4f3c-ba58-4293f69c32ec",
   "metadata": {},
   "outputs": [],
   "source": [
    "# plot hessian\n",
    "plt.imshow(hessian.numpy())\n",
    "plt.colorbar()"
   ]
  },
  {
   "cell_type": "code",
   "execution_count": null,
   "id": "f59eba3f-6e44-452b-9a6d-903e1635d3fc",
   "metadata": {},
   "outputs": [],
   "source": []
  }
 ],
 "metadata": {
  "kernelspec": {
   "display_name": "Python 3 (ipykernel)",
   "language": "python",
   "name": "python3"
  },
  "language_info": {
   "codemirror_mode": {
    "name": "ipython",
    "version": 3
   },
   "file_extension": ".py",
   "mimetype": "text/x-python",
   "name": "python",
   "nbconvert_exporter": "python",
   "pygments_lexer": "ipython3",
   "version": "3.9.13"
  }
 },
 "nbformat": 4,
 "nbformat_minor": 5
}
