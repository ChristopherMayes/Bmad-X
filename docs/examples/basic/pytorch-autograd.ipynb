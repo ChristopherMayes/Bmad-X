{
 "cells": [
  {
   "cell_type": "markdown",
   "id": "5cf8ffd7-9933-41fe-9410-765c285de984",
   "metadata": {},
   "source": [
    "## PyTorch autograd examples\n",
    "\n",
    "In this example, we calculate transfer maps using PyTorch autograd Jacobian and compare times against numerical differentiation. We also calculate the gradient and the Hessian of the beamsize of a 10 quadrupole lattice with respect to the quadrupole strengths. "
   ]
  },
  {
   "cell_type": "code",
   "execution_count": 1,
   "id": "de0a3af7-3cc1-474c-b9b3-d4110873df0e",
   "metadata": {},
   "outputs": [],
   "source": [
    "import torch\n",
    "import numpy as np\n",
    "\n",
    "from bmadx import Particle, Drift, Quadrupole\n",
    "from bmadx import track_element, track_lattice\n",
    "\n",
    "import matplotlib.pyplot as plt\n",
    "%config InlineBackend.figure_format = 'retina' # for high DPI displays in MacOS\n",
    "\n",
    "torch.set_printoptions(precision= 8, sci_mode=True)"
   ]
  },
  {
   "cell_type": "code",
   "execution_count": 2,
   "id": "9085f9de-f3e1-4592-ac3c-ddfa4914d1f7",
   "metadata": {},
   "outputs": [],
   "source": [
    "# Create torch particle beam\n",
    "\n",
    "from bmadx import Particle, M_ELECTRON\n",
    "\n",
    "s = 0.0 # initial s\n",
    "p0c = 4e7 # reference momentum in eV\n",
    "\n",
    "# Initial beam distribution\n",
    "n_particles = 10_000 # number of particles in beam\n",
    "coords = np.random.multivariate_normal(mean = np.zeros(6),\n",
    "                                       cov = 1e-6*np.identity(6),\n",
    "                                       size = n_particles\n",
    "                                      )\n",
    "beam_np = Particle(*coords.T, s=s, p0c=p0c, mc2=M_ELECTRON)\n",
    "\n",
    "beam_torch = Particle(*torch.tensor(coords.T),\n",
    "                      s=torch.tensor(s),\n",
    "                      p0c=torch.tensor(p0c),\n",
    "                      mc2=torch.tensor(M_ELECTRON))"
   ]
  },
  {
   "cell_type": "code",
   "execution_count": 3,
   "id": "7d215c40-be4f-4af7-9137-c4d64b9bd17b",
   "metadata": {},
   "outputs": [
    {
     "data": {
      "text/plain": [
       "Particle(x=tensor([-4.45677719e-04, 4.44459070e-04, -6.44109487e-04,  ..., -1.28037107e-03,\n",
       "        2.84366105e-03, -3.83917434e-04], dtype=torch.float64), px=tensor([-2.44977111e-03, -1.73484396e-03,  1.56178082e-03,  ...,\n",
       "        -8.63835896e-05, -1.64931144e-03, -1.75396379e-04],\n",
       "       dtype=torch.float64), y=tensor([-5.46088639e-05,  1.13884843e-03, -1.22042103e-03,  ...,\n",
       "         1.13439365e-03,  9.52307298e-04, -1.89289734e-03],\n",
       "       dtype=torch.float64), py=tensor([5.79689316e-04, 2.95800948e-04, -3.55329798e-04,  ..., 1.44602444e-03,\n",
       "        2.23911707e-03, -2.06573485e-03], dtype=torch.float64), z=tensor([-1.14955373e-04, -4.74741302e-04, -1.61562758e-05,  ...,\n",
       "        -5.04109745e-04, -1.80247843e-04, -3.72884956e-04],\n",
       "       dtype=torch.float64), pz=tensor([ 5.38909016e-05, -4.45496702e-04,  2.11823973e-03,  ...,\n",
       "         9.12645340e-04, -5.15879887e-04,  1.53636242e-04],\n",
       "       dtype=torch.float64), s=tensor(1.00000000e-01, dtype=torch.float64), p0c=tensor(4.00000000e+07), mc2=tensor( 5.10998938e+05))"
      ]
     },
     "execution_count": 3,
     "metadata": {},
     "output_type": "execute_result"
    }
   ],
   "source": [
    "# Tracking though element takes incoming particle coordinate\n",
    "# type (i.e., torch tensor in this case) for the tracking regarldless\n",
    "# the element parameter types.\n",
    "q = Quadrupole(L=0.1, K1=10.0)\n",
    "track_element(beam_torch, q)"
   ]
  },
  {
   "cell_type": "code",
   "execution_count": 4,
   "id": "207531e3-d53f-4725-977b-cb77ea867f52",
   "metadata": {},
   "outputs": [],
   "source": [
    "# we can use PyTorch autograd to calculate derivatives\n",
    "\n",
    "# calculate Jacobian around 0 through quadrupole:\n",
    "# define tracking as function of 6d coordinates:\n",
    "f_quadrupole_torch = lambda coord: track_element(Particle(*coord,\n",
    "                                                    s = torch.tensor(s),\n",
    "                                                    p0c = torch.tensor(p0c),\n",
    "                                                    mc2 = torch.tensor(M_ELECTRON)), \n",
    "                                                 q)[:6]\n",
    "f_quadrupole_np = lambda coord: np.array(track_element(Particle(*coord,\n",
    "                                                                s = s,\n",
    "                                                                p0c = p0c,\n",
    "                                                                mc2 = M_ELECTRON), \n",
    "                                                       q)[:6])"
   ]
  },
  {
   "cell_type": "code",
   "execution_count": 5,
   "id": "84822f7b-a74f-4f8d-ba75-6a9079802f18",
   "metadata": {},
   "outputs": [],
   "source": [
    "import torch.autograd.functional as ad"
   ]
  },
  {
   "cell_type": "code",
   "execution_count": 6,
   "id": "f27665eb-f91a-43b9-84d1-2e8ec37de61f",
   "metadata": {},
   "outputs": [
    {
     "name": "stdout",
     "output_type": "stream",
     "text": [
      "CPU times: user 25.5 ms, sys: 2.08 ms, total: 27.5 ms\n",
      "Wall time: 25.2 ms\n"
     ]
    },
    {
     "data": {
      "text/plain": [
       "tensor([[ 9.50415313e-01,  9.83416438e-02,  0.00000000e+00,  0.00000000e+00,\n",
       "          0.00000000e+00,  0.00000000e+00],\n",
       "        [-9.83416438e-01,  9.50415313e-01, -0.00000000e+00,  0.00000000e+00,\n",
       "          0.00000000e+00, -0.00000000e+00],\n",
       "        [ 0.00000000e+00,  0.00000000e+00,  1.05041802e+00,  1.01675019e-01,\n",
       "          0.00000000e+00, -0.00000000e+00],\n",
       "        [-0.00000000e+00,  0.00000000e+00,  1.01675022e+00,  1.05041802e+00,\n",
       "          0.00000000e+00,  0.00000000e+00],\n",
       "        [ 0.00000000e+00,  0.00000000e+00,  0.00000000e+00,  0.00000000e+00,\n",
       "          1.00000000e+00,  1.63173318e-05],\n",
       "        [ 0.00000000e+00,  0.00000000e+00,  0.00000000e+00,  0.00000000e+00,\n",
       "          0.00000000e+00,  1.00000000e+00]])"
      ]
     },
     "execution_count": 6,
     "metadata": {},
     "output_type": "execute_result"
    }
   ],
   "source": [
    "%%time\n",
    "# Jacobian evaluated at 0 using pytorch autograd:\n",
    "J_ad = ad.jacobian(f_quadrupole_torch, torch.zeros(6))\n",
    "J_ad = torch.vstack(J_ad)\n",
    "J_ad"
   ]
  },
  {
   "cell_type": "code",
   "execution_count": 7,
   "id": "4436a9b9-fd6a-4708-aa57-bc4edc4ef582",
   "metadata": {},
   "outputs": [],
   "source": [
    "import numdifftools as nd"
   ]
  },
  {
   "cell_type": "code",
   "execution_count": 8,
   "id": "6f04ac9a-49a5-490b-bb4c-aff9df09397e",
   "metadata": {},
   "outputs": [
    {
     "name": "stdout",
     "output_type": "stream",
     "text": [
      "CPU times: user 133 ms, sys: 7.63 ms, total: 141 ms\n",
      "Wall time: 139 ms\n"
     ]
    },
    {
     "name": "stderr",
     "output_type": "stream",
     "text": [
      "/home/jg2347/Repositories/Bmad-X/bmadx/bmad/low_level/track_a_quadrupole.py:40: RuntimeWarning: divide by zero encountered in double_scalars\n",
      "  k1 = b1/(l*rel_p)\n",
      "/home/jg2347/Repositories/Bmad-X/bmadx/bmad/low_level/quad_mat2_calc.py:28: RuntimeWarning: invalid value encountered in cos\n",
      "  cx = cos(sk_l) * (k1<=0) + cosh(sk_l) * (k1>0)\n",
      "/home/jg2347/Repositories/Bmad-X/bmadx/bmad/low_level/quad_mat2_calc.py:28: RuntimeWarning: invalid value encountered in multiply\n",
      "  cx = cos(sk_l) * (k1<=0) + cosh(sk_l) * (k1>0)\n",
      "/home/jg2347/Repositories/Bmad-X/bmadx/bmad/low_level/quad_mat2_calc.py:29: RuntimeWarning: invalid value encountered in sin\n",
      "  sx = (sin(sk_l)/(sqrt_k))*(k1<=0) + (sinh(sk_l)/(sqrt_k))*(k1>0)\n",
      "/home/jg2347/Repositories/Bmad-X/bmadx/bmad/low_level/quad_mat2_calc.py:29: RuntimeWarning: invalid value encountered in double_scalars\n",
      "  sx = (sin(sk_l)/(sqrt_k))*(k1<=0) + (sinh(sk_l)/(sqrt_k))*(k1>0)\n"
     ]
    },
    {
     "data": {
      "text/plain": [
       "array([[ 9.50415280e-01,  9.83416469e-02,  0.00000000e+00,\n",
       "         0.00000000e+00,  0.00000000e+00,  0.00000000e+00],\n",
       "       [-9.83416469e-01,  9.50415280e-01,  0.00000000e+00,\n",
       "         0.00000000e+00,  0.00000000e+00,  0.00000000e+00],\n",
       "       [ 0.00000000e+00,  0.00000000e+00,  1.05041806e+00,\n",
       "         1.01675020e-01,  0.00000000e+00,  0.00000000e+00],\n",
       "       [ 0.00000000e+00,  0.00000000e+00,  1.01675020e+00,\n",
       "         1.05041806e+00,  0.00000000e+00,  0.00000000e+00],\n",
       "       [ 0.00000000e+00,  0.00000000e+00,  0.00000000e+00,\n",
       "         0.00000000e+00,  1.00000000e+00,  1.63173324e-05],\n",
       "       [ 0.00000000e+00,  0.00000000e+00,  0.00000000e+00,\n",
       "         0.00000000e+00,  0.00000000e+00,  1.00000000e+00]])"
      ]
     },
     "execution_count": 8,
     "metadata": {},
     "output_type": "execute_result"
    }
   ],
   "source": [
    "%%time\n",
    "# Jacobian evaluated at 0 using numerical differentiation:\n",
    "J_nd = nd.Jacobian(f_quadrupole_np)(np.zeros(6))\n",
    "J_nd"
   ]
  },
  {
   "cell_type": "code",
   "execution_count": 9,
   "id": "9dbec8c4-bde5-4605-b525-e59fbe441e11",
   "metadata": {},
   "outputs": [],
   "source": [
    "# calculate gradient of beamsize with respect to quadrupole strengths:\n",
    "\n",
    "# fixed parameters:\n",
    "half_drift = Drift(L=0.9/2) # half drift\n",
    "L_q = 0.1 # quad length\n",
    "\n",
    "def beamsize(beam_in, quad_strengths):\n",
    "    \"\"\"Function of beamsize with respect to quad strengths\"\"\"\n",
    "    # create lattice of len(quad_strengths) quadrupoles separated by drifts:\n",
    "    lattice = [] # initialize lattice\n",
    "    for k1 in quad_strengths:\n",
    "        lattice.append( half_drift )\n",
    "        lattice.append( Quadrupole(L=L_q, K1=k1) )\n",
    "        lattice.append( half_drift )\n",
    "        \n",
    "    beam_out = track_lattice(beam_in, lattice)\n",
    "    return beam_out.x.std()\n",
    "\n",
    "beamsize_torch = lambda k1s: beamsize(beam_torch, k1s)\n",
    "beamsize_np = lambda k1s: beamsize(beam_np, k1s)"
   ]
  },
  {
   "cell_type": "code",
   "execution_count": 10,
   "id": "f2a614f2-7081-4775-a5bd-7d58154d5d9f",
   "metadata": {},
   "outputs": [
    {
     "name": "stdout",
     "output_type": "stream",
     "text": [
      "CPU times: user 1.14 s, sys: 197 ms, total: 1.34 s\n",
      "Wall time: 784 ms\n"
     ]
    },
    {
     "data": {
      "text/plain": [
       "tensor([-5.18615823e-04, -1.31526042e-03, -1.91036088e-03, -2.30391696e-03, -2.49592867e-03,\n",
       "        -2.48639612e-03, -2.27531930e-03, -1.86269835e-03, -1.24853302e-03, -4.32823348e-04])"
      ]
     },
     "execution_count": 10,
     "metadata": {},
     "output_type": "execute_result"
    }
   ],
   "source": [
    "%%time\n",
    "# calculate gradient of beamsize with respect to quad strengths using torch autograd:\n",
    "grad_ad = ad.jacobian(beamsize_torch, torch.zeros(10))\n",
    "grad_ad"
   ]
  },
  {
   "cell_type": "code",
   "execution_count": 11,
   "id": "47b929b1-dc17-4e4a-b8f1-6c8e74ff9489",
   "metadata": {},
   "outputs": [
    {
     "name": "stdout",
     "output_type": "stream",
     "text": [
      "CPU times: user 53.9 s, sys: 0 ns, total: 53.9 s\n",
      "Wall time: 53.9 s\n"
     ]
    },
    {
     "data": {
      "text/plain": [
       "array([[-0.00056911, -0.00136572, -0.00196079, -0.00235433, -0.00254633,\n",
       "        -0.0025368 , -0.00232573, -0.00191313, -0.00129899, -0.00048333]])"
      ]
     },
     "execution_count": 11,
     "metadata": {},
     "output_type": "execute_result"
    }
   ],
   "source": [
    "%%time\n",
    "# calculate gradient of beamsize with respect to quad strengths using numerical diff:\n",
    "grad_nd = nd.Jacobian(beamsize_np)(np.zeros(10))\n",
    "grad_nd"
   ]
  },
  {
   "cell_type": "code",
   "execution_count": 12,
   "id": "b2b0503b-293d-4504-937f-2bb716de5093",
   "metadata": {},
   "outputs": [
    {
     "name": "stdout",
     "output_type": "stream",
     "text": [
      "CPU times: user 10.9 s, sys: 885 ms, total: 11.8 s\n",
      "Wall time: 8.17 s\n"
     ]
    },
    {
     "data": {
      "text/plain": [
       "tensor([[7.96372988e-05, 1.05492698e-04, 1.27322579e-04, 1.39940588e-04,\n",
       "         1.43346726e-04, 1.37540992e-04, 1.22523386e-04, 9.82939164e-05,\n",
       "         6.48525674e-05, 2.21993523e-05],\n",
       "        [1.05492698e-04, 5.10406644e-05, 1.44106656e-04, 2.20606729e-04,\n",
       "         2.67387979e-04, 2.84450391e-04, 2.71793950e-04, 2.29418700e-04,\n",
       "         1.57324612e-04, 5.55116785e-05],\n",
       "        [1.27322579e-04, 1.44106656e-04, 3.09408715e-05, 1.72100103e-04,\n",
       "         2.82176683e-04, 3.42066545e-04, 3.51769733e-04, 3.11286247e-04,\n",
       "         2.20616042e-04, 7.97591492e-05],\n",
       "        [1.39940588e-04, 2.20606729e-04, 1.72100103e-04, 1.74603647e-05,\n",
       "         1.87712838e-04, 3.10389500e-04, 3.62450752e-04, 3.43896536e-04,\n",
       "         2.54726881e-04, 9.49417736e-05],\n",
       "        [1.43346726e-04, 2.67387979e-04, 2.82176683e-04, 1.87712838e-04,\n",
       "         8.95623089e-06, 1.89419239e-04, 3.03836947e-04, 3.27249552e-04,\n",
       "         2.59657099e-04, 1.01059537e-04],\n",
       "        [1.37540992e-04, 2.84450391e-04, 3.42066545e-04, 3.10389500e-04,\n",
       "         1.89419239e-04, 4.02019532e-06, 1.75928362e-04, 2.61345354e-04,\n",
       "         2.35406711e-04, 9.81124540e-05],\n",
       "        [1.22523386e-04, 2.71793950e-04, 3.51769733e-04, 3.62450752e-04,\n",
       "         3.03836947e-04, 1.75928362e-04, 1.47862124e-06, 1.46183884e-04,\n",
       "         1.81975731e-04, 8.61005174e-05],\n",
       "        [9.82939164e-05, 2.29418700e-04, 3.11286247e-04, 3.43896536e-04,\n",
       "         3.27249552e-04, 2.61345354e-04, 1.46183884e-04, 3.92513329e-07,\n",
       "         9.93641443e-05, 6.50237271e-05],\n",
       "        [6.48525674e-05, 1.57324612e-04, 2.20616042e-04, 2.54726881e-04,\n",
       "         2.59657099e-04, 2.35406711e-04, 1.81975731e-04, 9.93641443e-05,\n",
       "         5.75148320e-08, 3.48820868e-05],\n",
       "        [2.21993523e-05, 5.55116785e-05, 7.97591492e-05, 9.49417736e-05,\n",
       "         1.01059537e-04, 9.81124540e-05, 8.61005174e-05, 6.50237271e-05,\n",
       "         3.48820868e-05, 3.90865562e-09]])"
      ]
     },
     "execution_count": 12,
     "metadata": {},
     "output_type": "execute_result"
    }
   ],
   "source": [
    "%%time\n",
    "# calculate Hessian of beamsize with respect to quad strengths using torch autograd:\n",
    "hes_ad = ad.hessian(beamsize_torch, torch.zeros(10))\n",
    "hes_ad"
   ]
  },
  {
   "cell_type": "code",
   "execution_count": 13,
   "id": "de06115f-8a08-416d-a59d-dfc94120e2f1",
   "metadata": {},
   "outputs": [
    {
     "name": "stdout",
     "output_type": "stream",
     "text": [
      "CPU times: user 9min 2s, sys: 69.7 ms, total: 9min 2s\n",
      "Wall time: 9min 2s\n"
     ]
    },
    {
     "data": {
      "text/plain": [
       "array([[8.14521291e-05, 1.14610889e-04, 1.39448167e-04, 1.54066402e-04,\n",
       "        1.58465593e-04, 1.52645741e-04, 1.36606845e-04, 1.10348906e-04,\n",
       "        7.38719228e-05, 2.71758966e-05],\n",
       "       [1.14610889e-04, 5.55111921e-05, 1.60180327e-04, 2.38677435e-04,\n",
       "        2.86449560e-04, 3.03496704e-04, 2.89818865e-04, 2.45416045e-04,\n",
       "        1.70288243e-04, 6.44354585e-05],\n",
       "       [1.39448167e-04, 1.60180327e-04, 3.73949943e-05, 1.93114538e-04,\n",
       "        3.04178821e-04, 3.64051289e-04, 3.72731940e-04, 3.30220776e-04,\n",
       "        2.36517796e-04, 9.16229995e-05],\n",
       "       [1.54066402e-04, 2.38677435e-04, 1.93114538e-04, 2.52260758e-05,\n",
       "        2.11653377e-04, 3.34309496e-04, 3.85346069e-04, 3.64763098e-04,\n",
       "        2.72560581e-04, 1.08738519e-04],\n",
       "       [1.58465593e-04, 2.86449560e-04, 3.04178821e-04, 2.11653377e-04,\n",
       "        1.73616041e-05, 2.14271324e-04, 3.27661252e-04, 3.49043011e-04,\n",
       "        2.78416599e-04, 1.15782018e-04],\n",
       "       [1.52645741e-04, 3.03496704e-04, 3.64051289e-04, 3.34309496e-04,\n",
       "        2.14271324e-04, 1.23933748e-05, 1.99677489e-04, 2.83060515e-04,\n",
       "        2.54085850e-04, 1.12753496e-04],\n",
       "       [1.36606845e-04, 2.89818865e-04, 3.72731940e-04, 3.85346069e-04,\n",
       "        3.27661252e-04, 1.99677489e-04, 9.14781097e-06, 1.66815610e-04,\n",
       "        1.99568334e-04, 9.96529526e-05],\n",
       "       [1.10348906e-04, 2.45416045e-04, 3.30220776e-04, 3.64763098e-04,\n",
       "        3.49043011e-04, 2.83060515e-04, 1.66815610e-04, 6.68596359e-06,\n",
       "        1.14864050e-04, 7.64803882e-05],\n",
       "       [7.38719228e-05, 1.70288243e-04, 2.36517796e-04, 2.72560581e-04,\n",
       "        2.78416599e-04, 2.54085850e-04, 1.99568334e-04, 1.14864050e-04,\n",
       "        4.30351129e-06, 4.32358028e-05],\n",
       "       [2.71758966e-05, 6.44354585e-05, 9.16229995e-05, 1.08738519e-04,\n",
       "        1.15782018e-04, 1.12753496e-04, 9.96529526e-05, 7.64803882e-05,\n",
       "        4.32358028e-05, 1.53076047e-06]])"
      ]
     },
     "execution_count": 13,
     "metadata": {},
     "output_type": "execute_result"
    }
   ],
   "source": [
    "%%time\n",
    "# calculate Hessian of beamsize with respect to quad strengths using numerical diff:\n",
    "hes_nd = nd.Hessian(beamsize_np)(np.zeros(10))\n",
    "hes_nd"
   ]
  },
  {
   "cell_type": "code",
   "execution_count": 16,
   "id": "61757de3-d8eb-426e-894f-4f2905dfb915",
   "metadata": {},
   "outputs": [
    {
     "data": {
      "text/plain": [
       "<matplotlib.colorbar.Colorbar at 0x7fb4e8bdd6a0>"
      ]
     },
     "execution_count": 16,
     "metadata": {},
     "output_type": "execute_result"
    },
    {
     "data": {
      "image/png": "[encoded data removed]",
      "text/plain": [
       "<Figure size 720x720 with 4 Axes>"
      ]
     },
     "metadata": {
      "image/png": {
       "height": 589,
       "width": 398
      },
      "needs_background": "light"
     },
     "output_type": "display_data"
    }
   ],
   "source": [
    "fig, axs = plt.subplots(2, figsize=(10,10))\n",
    "cm = axs[0].imshow(hes_ad.detach().numpy())\n",
    "axs[0].set_xlabel(r'$k_i$')\n",
    "axs[0].set_ylabel(r'$k_j$')\n",
    "fig.colorbar(cm,ax=axs[0], label=r'$\\partial^2 \\sigma_x / (\\partial k_i \\partial k_j)$')\n",
    "cm = axs[1].imshow(hes_nd)\n",
    "axs[1].set_xlabel(r'$k_i$')\n",
    "axs[1].set_ylabel(r'$k_j$')\n",
    "fig.colorbar(cm,ax=axs[1], label=r'$\\partial^2 \\sigma_x / (\\partial k_i \\partial k_j)$')"
   ]
  }
 ],
 "metadata": {
  "kernelspec": {
   "display_name": "Python 3 (ipykernel)",
   "language": "python",
   "name": "python3"
  },
  "language_info": {
   "codemirror_mode": {
    "name": "ipython",
    "version": 3
   },
   "file_extension": ".py",
   "mimetype": "text/x-python",
   "name": "python",
   "nbconvert_exporter": "python",
   "pygments_lexer": "ipython3",
   "version": "3.9.13"
  }
 },
 "nbformat": 4,
 "nbformat_minor": 5
}
