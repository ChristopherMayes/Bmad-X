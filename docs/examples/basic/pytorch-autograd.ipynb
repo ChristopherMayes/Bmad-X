{
 "cells": [
  {
   "cell_type": "markdown",
   "id": "5cf8ffd7-9933-41fe-9410-765c285de984",
   "metadata": {},
   "source": [
    "## PyTorch autograd examples\n",
    "\n",
    "In this example, we calculate transfer maps using PyTorch autograd Jacobian and compare times against numerical differentiation. We also calculate the gradient and the Hessian of the beamsize of a 10 quadrupole lattice with respect to the quadrupole strengths. "
   ]
  },
  {
   "cell_type": "code",
   "execution_count": 1,
   "id": "de0a3af7-3cc1-474c-b9b3-d4110873df0e",
   "metadata": {},
   "outputs": [],
   "source": [
    "import torch\n",
    "import numpy as np\n",
    "\n",
    "from bmadx import Particle, Drift, Quadrupole\n",
    "from bmadx import track_element, track_lattice\n",
    "from bmadx import M_ELECTRON\n",
    "\n",
    "\n",
    "import matplotlib.pyplot as plt\n",
    "%config InlineBackend.figure_format = 'retina' # for high DPI displays in MacOS\n",
    "\n",
    "torch.set_printoptions(precision= 8, sci_mode=True)"
   ]
  },
  {
   "cell_type": "code",
   "execution_count": 2,
   "id": "9085f9de-f3e1-4592-ac3c-ddfa4914d1f7",
   "metadata": {},
   "outputs": [],
   "source": [
    "# Create torch particle beam\n",
    "s = 0.0 # initial s\n",
    "p0c = 4e7 # reference momentum in eV\n",
    "\n",
    "# Initial beam distribution\n",
    "n_particles = 10_000 # number of particles in beam\n",
    "coords = np.random.multivariate_normal(mean = np.zeros(6),\n",
    "                                       cov = 1e-6*np.identity(6),\n",
    "                                       size = n_particles\n",
    "                                      )\n",
    "beam_np = Particle(*coords.T, s=s, p0c=p0c, mc2=M_ELECTRON)\n",
    "\n",
    "beam_torch = Particle(*torch.tensor(coords.T),\n",
    "                      s=torch.tensor(s),\n",
    "                      p0c=torch.tensor(p0c),\n",
    "                      mc2=torch.tensor(M_ELECTRON))"
   ]
  },
  {
   "cell_type": "code",
   "execution_count": 3,
   "id": "7d215c40-be4f-4af7-9137-c4d64b9bd17b",
   "metadata": {},
   "outputs": [
    {
     "data": {
      "text/plain": [
       "Particle(x=tensor([ 8.57547392e-04, -4.48009639e-05, -9.48887744e-04,  ...,\n",
       "         1.46583808e-03,  4.33444682e-05,  8.17708981e-04],\n",
       "       dtype=torch.float64), px=tensor([-1.21091155e-03, -1.07366598e-03, 3.28958473e-04,  ..., -1.73374331e-03,\n",
       "        1.09766809e-04, -6.71714216e-04], dtype=torch.float64), y=tensor([-5.84690261e-04, -2.26083872e-03,  1.06809707e-03,  ...,\n",
       "         9.79335079e-05, -5.47009867e-05,  4.31609461e-04],\n",
       "       dtype=torch.float64), py=tensor([-1.60181842e-03, -4.19318714e-03,  5.88492562e-04,  ...,\n",
       "         6.54512373e-04,  4.30206959e-04, -8.72212250e-05],\n",
       "       dtype=torch.float64), z=tensor([-7.75706244e-04,  6.02419314e-04, -1.52169083e-03,  ...,\n",
       "        -1.47490889e-03,  1.48174210e-03, -6.26448989e-05],\n",
       "       dtype=torch.float64), pz=tensor([ 2.33228564e-04, -1.92086018e-03,  1.25268022e-05,  ...,\n",
       "         1.22779163e-03, -7.36382790e-04, -3.44036896e-04],\n",
       "       dtype=torch.float64), s=tensor(1.00000000e-01, dtype=torch.float64), p0c=tensor(4.00000000e+07), mc2=tensor( 5.10998938e+05))"
      ]
     },
     "execution_count": 3,
     "metadata": {},
     "output_type": "execute_result"
    }
   ],
   "source": [
    "# Tracking though element takes incoming particle coordinate\n",
    "# type (i.e., torch tensor in this case) for the tracking regarldless\n",
    "# the element parameter types.\n",
    "q = Quadrupole(L=0.1, K1=10.0)\n",
    "track_element(beam_torch, q)"
   ]
  },
  {
   "cell_type": "code",
   "execution_count": 4,
   "id": "207531e3-d53f-4725-977b-cb77ea867f52",
   "metadata": {},
   "outputs": [],
   "source": [
    "# we can use PyTorch autograd to calculate derivatives\n",
    "\n",
    "# calculate Jacobian around 0 through quadrupole:\n",
    "# define tracking as function of 6d coordinates:\n",
    "f_quadrupole_torch = lambda coord: track_element(Particle(*coord,\n",
    "                                                    s = torch.tensor(s),\n",
    "                                                    p0c = torch.tensor(p0c),\n",
    "                                                    mc2 = torch.tensor(M_ELECTRON)), \n",
    "                                                 q)[:6]\n",
    "f_quadrupole_np = lambda coord: np.array(track_element(Particle(*coord,\n",
    "                                                                s = s,\n",
    "                                                                p0c = p0c,\n",
    "                                                                mc2 = M_ELECTRON), \n",
    "                                                       q)[:6])"
   ]
  },
  {
   "cell_type": "code",
   "execution_count": 5,
   "id": "84822f7b-a74f-4f8d-ba75-6a9079802f18",
   "metadata": {},
   "outputs": [],
   "source": [
    "import torch.autograd.functional as ad"
   ]
  },
  {
   "cell_type": "code",
   "execution_count": 6,
   "id": "f27665eb-f91a-43b9-84d1-2e8ec37de61f",
   "metadata": {},
   "outputs": [
    {
     "name": "stdout",
     "output_type": "stream",
     "text": [
      "CPU times: user 5.59 ms, sys: 4.79 ms, total: 10.4 ms\n",
      "Wall time: 16.8 ms\n"
     ]
    },
    {
     "data": {
      "text/plain": [
       "tensor([[ 9.50415254e-01,  9.83416438e-02,  0.00000000e+00,  0.00000000e+00,\n",
       "          0.00000000e+00,  0.00000000e+00],\n",
       "        [-9.83416438e-01,  9.50415254e-01, -0.00000000e+00,  0.00000000e+00,\n",
       "          0.00000000e+00, -0.00000000e+00],\n",
       "        [ 0.00000000e+00,  0.00000000e+00,  1.05041802e+00,  1.01675019e-01,\n",
       "          0.00000000e+00, -0.00000000e+00],\n",
       "        [-0.00000000e+00,  0.00000000e+00,  1.01675022e+00,  1.05041802e+00,\n",
       "          0.00000000e+00,  0.00000000e+00],\n",
       "        [ 0.00000000e+00,  0.00000000e+00,  0.00000000e+00,  0.00000000e+00,\n",
       "          1.00000000e+00,  1.63173318e-05],\n",
       "        [ 0.00000000e+00,  0.00000000e+00,  0.00000000e+00,  0.00000000e+00,\n",
       "          0.00000000e+00,  1.00000000e+00]])"
      ]
     },
     "execution_count": 6,
     "metadata": {},
     "output_type": "execute_result"
    }
   ],
   "source": [
    "%%time\n",
    "# Jacobian evaluated at 0 using pytorch autograd:\n",
    "J_ad = ad.jacobian(f_quadrupole_torch, torch.zeros(6))\n",
    "J_ad = torch.vstack(J_ad)\n",
    "J_ad"
   ]
  },
  {
   "cell_type": "code",
   "execution_count": 7,
   "id": "4436a9b9-fd6a-4708-aa57-bc4edc4ef582",
   "metadata": {},
   "outputs": [],
   "source": [
    "import numdifftools as nd"
   ]
  },
  {
   "cell_type": "code",
   "execution_count": 8,
   "id": "6f04ac9a-49a5-490b-bb4c-aff9df09397e",
   "metadata": {},
   "outputs": [
    {
     "name": "stdout",
     "output_type": "stream",
     "text": [
      "CPU times: user 8.91 ms, sys: 1.33 ms, total: 10.2 ms\n",
      "Wall time: 10.8 ms\n"
     ]
    },
    {
     "name": "stderr",
     "output_type": "stream",
     "text": [
      "/Users/jpga/Repositories/Bmad-X/bmadx/bmad/low_level/track_a_quadrupole.py:40: RuntimeWarning: divide by zero encountered in double_scalars\n",
      "  k1 = b1/(l*rel_p)\n",
      "/Users/jpga/Repositories/Bmad-X/bmadx/bmad/low_level/quad_mat2_calc.py:28: RuntimeWarning: invalid value encountered in cos\n",
      "  cx = cos(sk_l) * (k1<=0) + cosh(sk_l) * (k1>0)\n",
      "/Users/jpga/Repositories/Bmad-X/bmadx/bmad/low_level/quad_mat2_calc.py:28: RuntimeWarning: invalid value encountered in double_scalars\n",
      "  cx = cos(sk_l) * (k1<=0) + cosh(sk_l) * (k1>0)\n",
      "/Users/jpga/Repositories/Bmad-X/bmadx/bmad/low_level/quad_mat2_calc.py:29: RuntimeWarning: invalid value encountered in sin\n",
      "  sx = (sin(sk_l)/(sqrt_k))*(k1<=0) + (sinh(sk_l)/(sqrt_k))*(k1>0)\n",
      "/Users/jpga/Repositories/Bmad-X/bmadx/bmad/low_level/quad_mat2_calc.py:29: RuntimeWarning: invalid value encountered in double_scalars\n",
      "  sx = (sin(sk_l)/(sqrt_k))*(k1<=0) + (sinh(sk_l)/(sqrt_k))*(k1>0)\n"
     ]
    },
    {
     "data": {
      "text/plain": [
       "array([[ 9.50415280e-01,  9.83416469e-02,  0.00000000e+00,\n",
       "         0.00000000e+00,  0.00000000e+00,  0.00000000e+00],\n",
       "       [-9.83416469e-01,  9.50415280e-01,  0.00000000e+00,\n",
       "         0.00000000e+00,  0.00000000e+00,  0.00000000e+00],\n",
       "       [ 0.00000000e+00,  0.00000000e+00,  1.05041806e+00,\n",
       "         1.01675020e-01,  0.00000000e+00,  0.00000000e+00],\n",
       "       [ 0.00000000e+00,  0.00000000e+00,  1.01675020e+00,\n",
       "         1.05041806e+00,  0.00000000e+00,  0.00000000e+00],\n",
       "       [ 0.00000000e+00,  0.00000000e+00,  0.00000000e+00,\n",
       "         0.00000000e+00,  1.00000000e+00,  1.63173324e-05],\n",
       "       [ 0.00000000e+00,  0.00000000e+00,  0.00000000e+00,\n",
       "         0.00000000e+00,  0.00000000e+00,  1.00000000e+00]])"
      ]
     },
     "execution_count": 8,
     "metadata": {},
     "output_type": "execute_result"
    }
   ],
   "source": [
    "%%time\n",
    "# Jacobian evaluated at 0 using numerical differentiation:\n",
    "J_nd = nd.Jacobian(f_quadrupole_np)(np.zeros(6))\n",
    "J_nd"
   ]
  },
  {
   "cell_type": "code",
   "execution_count": 9,
   "id": "9dbec8c4-bde5-4605-b525-e59fbe441e11",
   "metadata": {},
   "outputs": [],
   "source": [
    "# calculate gradient of beamsize with respect to quadrupole strengths:\n",
    "\n",
    "# fixed parameters:\n",
    "half_drift = Drift(L=0.9/2) # half drift\n",
    "L_q = 0.1 # quad length\n",
    "\n",
    "def beamsize(beam_in, quad_strengths):\n",
    "    \"\"\"Function of beamsize with respect to quad strengths\"\"\"\n",
    "    # create lattice of len(quad_strengths) quadrupoles separated by drifts:\n",
    "    lattice = [] # initialize lattice\n",
    "    for k1 in quad_strengths:\n",
    "        lattice.append( half_drift )\n",
    "        lattice.append( Quadrupole(L=L_q, K1=k1) )\n",
    "        lattice.append( half_drift )\n",
    "        \n",
    "    beam_out = track_lattice(beam_in, lattice)\n",
    "    return beam_out.x.std()\n",
    "\n",
    "beamsize_torch = lambda k1s: beamsize(beam_torch, k1s)\n",
    "beamsize_np = lambda k1s: beamsize(beam_np, k1s)"
   ]
  },
  {
   "cell_type": "code",
   "execution_count": 10,
   "id": "f2a614f2-7081-4775-a5bd-7d58154d5d9f",
   "metadata": {},
   "outputs": [
    {
     "name": "stdout",
     "output_type": "stream",
     "text": [
      "CPU times: user 26 ms, sys: 10.5 ms, total: 36.5 ms\n",
      "Wall time: 33.2 ms\n"
     ]
    },
    {
     "data": {
      "text/plain": [
       "tensor([-5.03742893e-04, -1.27981242e-03, -1.85958017e-03, -2.24304572e-03, -2.43020966e-03,\n",
       "        -2.42107152e-03, -2.21563131e-03, -1.81388925e-03, -1.21584523e-03, -4.21499339e-04])"
      ]
     },
     "execution_count": 10,
     "metadata": {},
     "output_type": "execute_result"
    }
   ],
   "source": [
    "%%time\n",
    "# calculate gradient of beamsize with respect to quad strengths using torch autograd:\n",
    "grad_ad = ad.jacobian(beamsize_torch, torch.zeros(10))\n",
    "grad_ad"
   ]
  },
  {
   "cell_type": "code",
   "execution_count": 11,
   "id": "47b929b1-dc17-4e4a-b8f1-6c8e74ff9489",
   "metadata": {},
   "outputs": [
    {
     "name": "stdout",
     "output_type": "stream",
     "text": [
      "CPU times: user 2.82 s, sys: 211 ms, total: 3.03 s\n",
      "Wall time: 3.03 s\n"
     ]
    },
    {
     "data": {
      "text/plain": [
       "array([[-0.00055292, -0.00132895, -0.00190869, -0.00229214, -0.00247929,\n",
       "        -0.00247015, -0.00226472, -0.001863  , -0.00126499, -0.00047068]])"
      ]
     },
     "execution_count": 11,
     "metadata": {},
     "output_type": "execute_result"
    }
   ],
   "source": [
    "%%time\n",
    "# calculate gradient of beamsize with respect to quad strengths using numerical diff:\n",
    "grad_nd = nd.Jacobian(beamsize_np)(np.zeros(10))\n",
    "grad_nd"
   ]
  },
  {
   "cell_type": "code",
   "execution_count": 12,
   "id": "b2b0503b-293d-4504-937f-2bb716de5093",
   "metadata": {},
   "outputs": [
    {
     "name": "stdout",
     "output_type": "stream",
     "text": [
      "CPU times: user 320 ms, sys: 64.8 ms, total: 385 ms\n",
      "Wall time: 373 ms\n"
     ]
    },
    {
     "data": {
      "text/plain": [
       "tensor([[8.21035646e-05, 1.06269261e-04, 1.26630301e-04, 1.38149117e-04,\n",
       "         1.40825709e-04, 1.34660077e-04, 1.19652228e-04, 9.58021556e-05,\n",
       "         6.31098592e-05, 2.15753371e-05],\n",
       "        [1.06269261e-04, 5.26204931e-05, 1.42522898e-04, 2.16387867e-04,\n",
       "         2.61417008e-04, 2.77610321e-04, 2.64967792e-04, 2.23489449e-04,\n",
       "         1.53175279e-04, 5.40252731e-05],\n",
       "        [1.26630301e-04, 1.42522898e-04, 3.18977691e-05, 1.68861079e-04,\n",
       "         2.75631406e-04, 3.33612639e-04, 3.42804764e-04, 3.03207751e-04,\n",
       "         2.14821644e-04, 7.76464294e-05],\n",
       "        [1.38149117e-04, 2.16387867e-04, 1.68861079e-04, 1.79995786e-05,\n",
       "         1.83468917e-04, 3.02667031e-04, 3.53163108e-04, 3.34957062e-04,\n",
       "         2.48048978e-04, 9.24388078e-05],\n",
       "        [1.40825709e-04, 2.61417008e-04, 2.75631406e-04, 1.83468917e-04,\n",
       "         9.23205062e-06, 1.84773540e-04, 2.96042825e-04, 3.18737410e-04,\n",
       "         2.52857251e-04, 9.84024009e-05],\n",
       "        [1.34660077e-04, 2.77610321e-04, 3.33612639e-04, 3.02667031e-04,\n",
       "         1.84773540e-04, 4.14323767e-06, 1.71443928e-04, 2.54548737e-04,\n",
       "         2.29246492e-04, 9.55372161e-05],\n",
       "        [1.19652228e-04, 2.64967792e-04, 3.42804764e-04, 3.53163108e-04,\n",
       "         2.96042825e-04, 1.71443928e-04, 1.52312191e-06, 1.42391073e-04,\n",
       "         1.77216672e-04, 8.38432534e-05],\n",
       "        [9.58021556e-05, 2.23489449e-04, 3.03207751e-04, 3.34957062e-04,\n",
       "         3.18737410e-04, 2.54548737e-04, 1.42391073e-04, 4.03617520e-07,\n",
       "         9.67678134e-05, 6.33205054e-05],\n",
       "        [6.31098592e-05, 1.53175279e-04, 2.14821644e-04, 2.48048978e-04,\n",
       "         2.52857251e-04, 2.29246492e-04, 1.77216672e-04, 9.67678134e-05,\n",
       "         5.85674442e-08, 3.39689832e-05],\n",
       "        [2.15753371e-05, 5.40252731e-05, 7.76464294e-05, 9.24388078e-05,\n",
       "         9.84024009e-05, 9.55372161e-05, 8.38432534e-05, 6.33205054e-05,\n",
       "         3.39689832e-05, 3.74469611e-09]])"
      ]
     },
     "execution_count": 12,
     "metadata": {},
     "output_type": "execute_result"
    }
   ],
   "source": [
    "%%time\n",
    "# calculate Hessian of beamsize with respect to quad strengths using torch autograd:\n",
    "hes_ad = ad.hessian(beamsize_torch, torch.zeros(10))\n",
    "hes_ad"
   ]
  },
  {
   "cell_type": "code",
   "execution_count": 13,
   "id": "de06115f-8a08-416d-a59d-dfc94120e2f1",
   "metadata": {},
   "outputs": [
    {
     "name": "stdout",
     "output_type": "stream",
     "text": [
      "CPU times: user 28.3 s, sys: 3.52 s, total: 31.9 s\n",
      "Wall time: 31.9 s\n"
     ]
    },
    {
     "data": {
      "text/plain": [
       "array([[8.38666115e-05, 1.15137218e-04, 1.38428177e-04, 1.51895938e-04,\n",
       "        1.55540500e-04, 1.49361863e-04, 1.33360026e-04, 1.07534991e-04,\n",
       "        7.18867567e-05, 2.64153234e-05],\n",
       "       [1.15137218e-04, 5.69706696e-05, 1.58166901e-04, 2.33977690e-04,\n",
       "        2.79972674e-04, 2.96151854e-04, 2.82515228e-04, 2.39062798e-04,\n",
       "        1.65794563e-04, 6.27105235e-05],\n",
       "       [1.38428177e-04, 1.58166901e-04, 3.81804346e-05, 1.89318768e-04,\n",
       "        2.97051863e-04, 3.55016867e-04, 3.63213781e-04, 3.21642604e-04,\n",
       "        2.30303336e-04, 8.91959771e-05],\n",
       "       [1.51895938e-04, 2.33977690e-04, 1.89318768e-04, 2.55601974e-05,\n",
       "        2.06778066e-04, 3.25956904e-04, 3.75455685e-04, 3.55274409e-04,\n",
       "        2.65413075e-04, 1.05871684e-04],\n",
       "       [1.55540500e-04, 2.79972674e-04, 2.97051863e-04, 2.06778066e-04,\n",
       "        1.74161665e-05, 2.08971964e-04, 3.19240940e-04, 3.39958213e-04,\n",
       "        2.71123781e-04, 1.12737645e-04],\n",
       "       [1.49361863e-04, 2.96151854e-04, 3.55016867e-04, 3.25956904e-04,\n",
       "        2.08971964e-04, 1.22964681e-05, 1.94569547e-04, 2.75694015e-04,\n",
       "        2.47435453e-04, 1.09793858e-04],\n",
       "       [1.33360026e-04, 2.82515228e-04, 3.63213781e-04, 3.75455685e-04,\n",
       "        3.19240940e-04, 1.94569547e-04, 8.99114637e-06, 1.62481817e-04,\n",
       "        1.94348091e-04, 9.70403256e-05],\n",
       "       [1.07534991e-04, 2.39062798e-04, 3.21642604e-04, 3.55274409e-04,\n",
       "        3.39958213e-04, 2.75694015e-04, 1.62481817e-04, 6.53216291e-06,\n",
       "        1.11861695e-04, 7.44770462e-05],\n",
       "       [7.18867567e-05, 1.65794563e-04, 2.30303336e-04, 2.65413075e-04,\n",
       "        2.71123781e-04, 2.47435453e-04, 1.94348091e-04, 1.11861695e-04,\n",
       "        4.19339723e-06, 4.21040203e-05],\n",
       "       [2.64153234e-05, 6.27105235e-05, 8.91959771e-05, 1.05871684e-04,\n",
       "        1.12737645e-04, 1.09793858e-04, 9.70403256e-05, 7.44770462e-05,\n",
       "        4.21040203e-05, 1.49064651e-06]])"
      ]
     },
     "execution_count": 13,
     "metadata": {},
     "output_type": "execute_result"
    }
   ],
   "source": [
    "%%time\n",
    "# calculate Hessian of beamsize with respect to quad strengths using numerical diff:\n",
    "hes_nd = nd.Hessian(beamsize_np)(np.zeros(10))\n",
    "hes_nd"
   ]
  },
  {
   "cell_type": "markdown",
   "id": "74c4781b-99b3-472e-bf99-631f42b51ccf",
   "metadata": {},
   "source": [
    "### fig, axs = plt.subplots(2, figsize=(10,10))\n",
    "cm = axs[0].imshow(hes_ad.detach().numpy())\n",
    "axs[0].set_xlabel(r'$k_i$')\n",
    "axs[0].set_ylabel(r'$k_j$')\n",
    "fig.colorbar(cm,ax=axs[0], label=r'$\\partial^2 \\sigma_x / (\\partial k_i \\partial k_j)$')\n",
    "cm = axs[1].imshow(hes_nd)\n",
    "axs[1].set_xlabel(r'$k_i$')\n",
    "axs[1].set_ylabel(r'$k_j$')\n",
    "fig.colorbar(cm,ax=axs[1], label=r'$\\partial^2 \\sigma_x / (\\partial k_i \\partial k_j)$')"
   ]
  }
 ],
 "metadata": {
  "kernelspec": {
   "display_name": "Python 3 (ipykernel)",
   "language": "python",
   "name": "python3"
  },
  "language_info": {
   "codemirror_mode": {
    "name": "ipython",
    "version": 3
   },
   "file_extension": ".py",
   "mimetype": "text/x-python",
   "name": "python",
   "nbconvert_exporter": "python",
   "pygments_lexer": "ipython3",
   "version": "3.9.13"
  }
 },
 "nbformat": 4,
 "nbformat_minor": 5
}
