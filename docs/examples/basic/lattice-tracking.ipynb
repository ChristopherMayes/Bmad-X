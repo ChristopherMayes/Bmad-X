{
 "cells": [
  {
   "cell_type": "markdown",
   "id": "8a27101a-b84d-45da-b5a8-effc1f9a6bbe",
   "metadata": {
    "tags": []
   },
   "source": [
    "# Lattice tracking"
   ]
  },
  {
   "cell_type": "code",
   "execution_count": 1,
   "id": "61831fc6-3e2e-47aa-a051-41f801e27598",
   "metadata": {},
   "outputs": [
    {
     "data": {
      "text/plain": [
       "('1.11.0', '1.22.4', '0.1.7')"
      ]
     },
     "execution_count": 1,
     "metadata": {},
     "output_type": "execute_result"
    }
   ],
   "source": [
    "import numpy as np\n",
    "import torch\n",
    "from torch.autograd.functional import jacobian\n",
    "from pytao import Tao\n",
    "import matplotlib.pyplot as plt\n",
    "tkwargs = {\n",
    "    \"dtype\" : torch.double\n",
    "}\n",
    "import time\n",
    "import os\n",
    "np.set_printoptions(precision= 15, suppress=False)\n",
    "torch.set_printoptions(precision= 15, sci_mode=True)\n",
    "import pytao\n",
    "torch.__version__, np.__version__, pytao.__version__"
   ]
  },
  {
   "cell_type": "code",
   "execution_count": 2,
   "id": "bc7d44cb-ada9-4f15-93ae-ad15662b1e91",
   "metadata": {},
   "outputs": [
    {
     "data": {
      "text/plain": [
       "'/home/jg2347/Repositories/Bmad-X'"
      ]
     },
     "execution_count": 2,
     "metadata": {},
     "output_type": "execute_result"
    }
   ],
   "source": [
    "from pathlib import Path\n",
    "\n",
    "def find_repo(path):\n",
    "    \"Find repository root from the path's parents\"\n",
    "    for path in Path(path).parents:\n",
    "        # Check whether \"path/.git\" exists and is a directory\n",
    "        git_dir = path / \".git\"\n",
    "        if git_dir.is_dir():\n",
    "            return path\n",
    "\n",
    "import os\n",
    "nb_dir = os.getcwd()\n",
    "# Find the repo root where the script is\n",
    "repo_path = str(find_repo(nb_dir))\n",
    "repo_path"
   ]
  },
  {
   "cell_type": "markdown",
   "id": "270a5847-377e-40fc-8272-57408a92324d",
   "metadata": {
    "tags": []
   },
   "source": [
    "## Lattice one particle test"
   ]
  },
  {
   "cell_type": "code",
   "execution_count": 3,
   "id": "a1a0c181-1ae5-48d5-9fbe-d38ce114f3d7",
   "metadata": {},
   "outputs": [
    {
     "data": {
      "text/plain": [
       "Particle(x=tensor(2.000000000000000e-03, dtype=torch.float64, grad_fn=<UnbindBackward0>), px=tensor(3.000000000000000e-03, dtype=torch.float64, grad_fn=<UnbindBackward0>), y=tensor(-3.000000000000000e-03, dtype=torch.float64, grad_fn=<UnbindBackward0>), py=tensor(-1.000000000000000e-03, dtype=torch.float64, grad_fn=<UnbindBackward0>), z=tensor(2.000000000000000e-03, dtype=torch.float64, grad_fn=<UnbindBackward0>), pz=tensor(-2.000000000000000e-03, dtype=torch.float64, grad_fn=<UnbindBackward0>), s=tensor(0., dtype=torch.float64), p0c=tensor(4.000000000000000e+07, dtype=torch.float64), mc2=tensor( 5.109989500000000e+05, dtype=torch.float64))"
      ]
     },
     "execution_count": 3,
     "metadata": {},
     "output_type": "execute_result"
    }
   ],
   "source": [
    "# Create incoming particle\n",
    "\n",
    "from bmadx import M_ELECTRON, Particle\n",
    "\n",
    "s = 0.0 #initial s\n",
    "p0c = 4.0E+07 #Reference particle momentum in eV\n",
    "mc2 = 1*M_ELECTRON # electron mass in eV\n",
    "ts = torch.tensor(s, **tkwargs)\n",
    "tp0c = torch.tensor(p0c, **tkwargs)\n",
    "tmc2 = torch.tensor(mc2, **tkwargs)\n",
    "pvec1 = [2e-3,3e-3,-3e-3,-1e-3,2e-3,-2e-3] \n",
    "tvec1 = torch.tensor(pvec1, requires_grad=True, **tkwargs)\n",
    "p_in = Particle(*tvec1,ts, tp0c, tmc2)\n",
    "p_in"
   ]
  },
  {
   "cell_type": "code",
   "execution_count": 4,
   "id": "d1ce6005-c187-47b8-bae9-b940a1debed3",
   "metadata": {
    "tags": []
   },
   "outputs": [],
   "source": [
    "# Create drift\n",
    "\n",
    "from bmadx import Drift\n",
    "\n",
    "L_d = 1.0 # Drift length in m\n",
    "d1 = Drift(torch.tensor(L_d, **tkwargs))"
   ]
  },
  {
   "cell_type": "code",
   "execution_count": 5,
   "id": "bd3a96c6-4d1e-41bf-a5da-2227ce362a1c",
   "metadata": {},
   "outputs": [],
   "source": [
    "# Create quad\n",
    "\n",
    "from bmadx import Quadrupole\n",
    "\n",
    "def torch_quadrupole(L: torch.Tensor, K1: torch.Tensor, NUM_STEPS=1,\n",
    "                     X_OFFSET: torch.Tensor=torch.tensor(0.0,**tkwargs),\n",
    "                     Y_OFFSET: torch.Tensor=torch.tensor(0.0,**tkwargs),\n",
    "                     TILT: torch.Tensor=torch.tensor(0.0,**tkwargs)):\n",
    "    return Quadrupole(L=L, K1=K1, NUM_STEPS=NUM_STEPS, X_OFFSET=X_OFFSET,\n",
    "                      Y_OFFSET=Y_OFFSET, TILT=TILT)\n",
    "\n",
    "L_q = 0.1  # quad length in m\n",
    "K1 = 10  # Quad focusing strength. Positive is focusing in x\n",
    "q1 = torch_quadrupole(L=torch.tensor(L_q, **tkwargs), K1=torch.tensor(K1, **tkwargs))"
   ]
  },
  {
   "cell_type": "code",
   "execution_count": 6,
   "id": "43fcd3ca-cccc-4d7e-a11b-ccf333028bf4",
   "metadata": {},
   "outputs": [
    {
     "data": {
      "text/plain": [
       "tensor([-2.281967961209991e-03, -4.896330349656308e-03, -2.543913165908659e-02,\n",
       "        -1.497282967847466e-02, 1.847324681974169e-03, -2.000000000000000e-03],\n",
       "       dtype=torch.float64)"
      ]
     },
     "execution_count": 6,
     "metadata": {},
     "output_type": "execute_result"
    }
   ],
   "source": [
    "# Lattice example\n",
    "\n",
    "from bmadx import track_a_lattice\n",
    "\n",
    "lattice = [d1, q1, d1, q1, d1]  # lattice is a list of elements\n",
    "\n",
    "# track_a_lattice returns list of particle coordinates after each element:\n",
    "p_list = track_a_lattice(p_in, lattice)\n",
    "x_list = [torch.hstack(coords[:6]).detach() for coords in p_list]\n",
    "\n",
    "# Outgoing particle after complete lattice:\n",
    "x_py = torch.hstack(track_a_lattice(p_in, lattice)[-1][:6]).detach()\n",
    "# alternative: x_list[-1]\n",
    "x_py"
   ]
  },
  {
   "cell_type": "code",
   "execution_count": 7,
   "id": "898daac4-eb81-4629-80f9-83b2cc0f0acc",
   "metadata": {},
   "outputs": [],
   "source": [
    "# Bmad lattice to compare\n",
    "tao = Tao('-lat '+repo_path+'/tests/bmad_lattices/test_drift_quad.bmad -noplot')\n",
    "tao.cmd('set particle_start x='+str(pvec1[0]))\n",
    "tao.cmd('set particle_start px='+str(pvec1[1]))\n",
    "tao.cmd('set particle_start y='+str(pvec1[2]))\n",
    "tao.cmd('set particle_start py='+str(pvec1[3]))\n",
    "tao.cmd('set particle_start z='+str(pvec1[4]))\n",
    "tao.cmd('set particle_start pz='+str(pvec1[5]))\n",
    "orbit_out = tao.orbit_at_s(ele=5)"
   ]
  },
  {
   "cell_type": "code",
   "execution_count": 8,
   "id": "996e333d-07e7-4286-a290-badaf13e7eec",
   "metadata": {},
   "outputs": [
    {
     "data": {
      "text/plain": [
       "tensor([-2.281967961209990e-03, -4.896330349656310e-03, -2.543913165908660e-02,\n",
       "        -1.497282967847470e-02, 1.847324681974170e-03, -2.000000000000000e-03],\n",
       "       dtype=torch.float64)"
      ]
     },
     "execution_count": 8,
     "metadata": {},
     "output_type": "execute_result"
    }
   ],
   "source": [
    "# Bmad outgoing particle\n",
    "x_tao = torch.tensor([orbit_out['x'],orbit_out['px'],orbit_out['y'],orbit_out['py'],orbit_out['z'],orbit_out['pz']],**tkwargs)\n",
    "x_tao"
   ]
  },
  {
   "cell_type": "code",
   "execution_count": 9,
   "id": "75db8cb3-2b70-4a5f-ba1f-b2474ab042cb",
   "metadata": {},
   "outputs": [
    {
     "data": {
      "text/plain": [
       "True"
      ]
     },
     "execution_count": 9,
     "metadata": {},
     "output_type": "execute_result"
    }
   ],
   "source": [
    "# close to Tao result?\n",
    "torch.allclose(x_py, x_tao, atol=0, rtol=1.0e-14)"
   ]
  },
  {
   "cell_type": "markdown",
   "id": "4b34ba59-502e-47e0-ae5e-d93c5cd46871",
   "metadata": {
    "tags": []
   },
   "source": [
    "## Lattice Jacobian test"
   ]
  },
  {
   "cell_type": "code",
   "execution_count": 10,
   "id": "a30122df-d988-45ee-af34-0512def1c084",
   "metadata": {
    "tags": []
   },
   "outputs": [],
   "source": [
    "f_driftquadrupole = lambda x: track_a_lattice(Particle(*x, ts, tp0c, tmc2), lattice)[-1][:6]\n",
    "J = jacobian(f_driftquadrupole, tvec1)"
   ]
  },
  {
   "cell_type": "code",
   "execution_count": 11,
   "id": "6b5bd767-4f26-44e8-a1f8-1e227ff6d92d",
   "metadata": {},
   "outputs": [
    {
     "data": {
      "text/plain": [
       "tensor([[-1.032202390317458e+00, -7.256968115101181e-02,  2.336717479636538e-04,\n",
       "          4.049003895819779e-04,  0.000000000000000e+00,  8.218283945153969e-03],\n",
       "        [-9.000515317112638e-01, -1.032080978292848e+00, -1.067067115329933e-05,\n",
       "         -1.900037293643618e-05,  0.000000000000000e+00,  5.547564231500580e-04],\n",
       "        [-8.812732879846703e-05, -9.339294371369415e-05,  5.457258390307320e+00,\n",
       "          9.071019578396722e+00,  0.000000000000000e+00,  3.361265895544615e-02],\n",
       "        [-1.067067115329933e-05, -9.954618543668099e-06,  3.172268131080336e+00,\n",
       "          5.456165751278677e+00,  0.000000000000000e+00,  9.391470418309955e-03],\n",
       "        [-6.823789171283308e-03, -8.441133541388406e-03,  5.537646874208031e-02,\n",
       "          9.820564579614072e-02,  1.000000000000000e+00,  9.919963196451456e-04],\n",
       "        [ 0.000000000000000e+00,  0.000000000000000e+00,  0.000000000000000e+00,\n",
       "          0.000000000000000e+00,  0.000000000000000e+00,  1.000000000000000e+00]],\n",
       "       dtype=torch.float64)"
      ]
     },
     "execution_count": 11,
     "metadata": {},
     "output_type": "execute_result"
    }
   ],
   "source": [
    "# autodiff Jacobian matrix\n",
    "mat_py = torch.vstack(J)\n",
    "mat_py"
   ]
  },
  {
   "cell_type": "code",
   "execution_count": 12,
   "id": "ec775f75-05c7-4388-921b-03185a296a2a",
   "metadata": {},
   "outputs": [
    {
     "data": {
      "text/plain": [
       "tensor([[-1.032202390317460e+00, -7.256968115101139e-02,  2.336717479636540e-04,\n",
       "          4.049003895819780e-04,  0.000000000000000e+00,  8.218283945153960e-03],\n",
       "        [-9.000515317112640e-01, -1.032080978292850e+00, -1.067067115329930e-05,\n",
       "         -1.900037293643620e-05,  0.000000000000000e+00,  5.547564231500580e-04],\n",
       "        [-8.812732879846700e-05, -9.339294371369409e-05,  5.457258390307320e+00,\n",
       "          9.071019578396720e+00,  0.000000000000000e+00,  3.361265895544610e-02],\n",
       "        [-1.067067115329930e-05, -9.954618543668099e-06,  3.172268131080340e+00,\n",
       "          5.456165751278680e+00,  0.000000000000000e+00,  9.391470418309950e-03],\n",
       "        [-6.823789171283310e-03, -8.441133541388410e-03,  5.537646874208030e-02,\n",
       "          9.820564579614070e-02,  1.000000000000000e+00,  9.919963196451461e-04],\n",
       "        [ 0.000000000000000e+00,  0.000000000000000e+00,  0.000000000000000e+00,\n",
       "          0.000000000000000e+00,  0.000000000000000e+00,  1.000000000000000e+00]],\n",
       "       dtype=torch.float64)"
      ]
     },
     "execution_count": 12,
     "metadata": {},
     "output_type": "execute_result"
    }
   ],
   "source": [
    "# Bmad formula Jacobian\n",
    "lat_tao = tao.matrix(0,5)\n",
    "mat_tao = torch.tensor(lat_tao['mat6'], **tkwargs)\n",
    "mat_tao"
   ]
  },
  {
   "cell_type": "code",
   "execution_count": 13,
   "id": "ad49b6e3-a31f-4737-920a-53f088d9f1f0",
   "metadata": {},
   "outputs": [
    {
     "data": {
      "text/plain": [
       "True"
      ]
     },
     "execution_count": 13,
     "metadata": {},
     "output_type": "execute_result"
    }
   ],
   "source": [
    "# close to Tao result?\n",
    "torch.allclose(mat_py, mat_tao, atol=0, rtol=1.0e-14)"
   ]
  },
  {
   "cell_type": "markdown",
   "id": "8614de7a-93bf-4ec1-8cb5-f5f37b9332d5",
   "metadata": {
    "tags": []
   },
   "source": [
    "## Multi-particle propagation through lattice"
   ]
  },
  {
   "cell_type": "code",
   "execution_count": 14,
   "id": "f8d54dcb-5752-49cb-b9ce-69577c93c272",
   "metadata": {
    "tags": []
   },
   "outputs": [],
   "source": [
    "# Particle bunch with Gaussian distribution\n",
    "sample_size = 1000\n",
    "mean = torch.zeros(6, **tkwargs)\n",
    "cov = torch.diag(torch.tensor([1e-6, 2e-6, 1e-6, 2e-6, 1e-6, 2e-6],**tkwargs))\n",
    "dist = torch.distributions.multivariate_normal.MultivariateNormal(mean, cov)\n",
    "sample = dist.sample(torch.Size([sample_size]))\n",
    "bunch_in = Particle(*sample.T, ts, tp0c, tmc2)"
   ]
  },
  {
   "cell_type": "code",
   "execution_count": 15,
   "id": "c04e348e-c80b-48a5-9301-187359483d24",
   "metadata": {},
   "outputs": [],
   "source": [
    "bunch_out = track_a_lattice(bunch_in, lattice)"
   ]
  },
  {
   "cell_type": "code",
   "execution_count": 16,
   "id": "253f0e2b-26ed-4245-b4bf-682e2334a4ed",
   "metadata": {},
   "outputs": [
    {
     "data": {
      "text/plain": [
       "(tensor(9.965035397978051e-04, dtype=torch.float64),\n",
       " tensor(1.451631809951503e-02, dtype=torch.float64))"
      ]
     },
     "execution_count": 16,
     "metadata": {},
     "output_type": "execute_result"
    }
   ],
   "source": [
    "# some beam properties up and downstream\n",
    "torch.std(bunch_out[0].y),torch.std(bunch_out[-1].y)"
   ]
  },
  {
   "cell_type": "markdown",
   "id": "507f112c-5e31-41b8-b058-7a0bea3f8a1c",
   "metadata": {
    "tags": []
   },
   "source": [
    "## Stub element test"
   ]
  },
  {
   "cell_type": "code",
   "execution_count": 17,
   "id": "8a3f5a85-002b-432c-9030-4522eca9c5e5",
   "metadata": {},
   "outputs": [],
   "source": [
    "from bmadx import stub_element, stub_lattice"
   ]
  },
  {
   "cell_type": "code",
   "execution_count": 18,
   "id": "2718dff4-4441-467e-a74f-bd79a4abe46d",
   "metadata": {},
   "outputs": [
    {
     "data": {
      "text/plain": [
       "[Quadrupole(L=tensor(1.000000000000000e-02, dtype=torch.float64), K1=tensor(1.000000000000000e+01, dtype=torch.float64), NUM_STEPS=1, X_OFFSET=tensor(0., dtype=torch.float64), Y_OFFSET=tensor(0., dtype=torch.float64), TILT=tensor(0., dtype=torch.float64)),\n",
       " Quadrupole(L=tensor(1.000000000000000e-02, dtype=torch.float64), K1=tensor(1.000000000000000e+01, dtype=torch.float64), NUM_STEPS=1, X_OFFSET=tensor(0., dtype=torch.float64), Y_OFFSET=tensor(0., dtype=torch.float64), TILT=tensor(0., dtype=torch.float64)),\n",
       " Quadrupole(L=tensor(1.000000000000000e-02, dtype=torch.float64), K1=tensor(1.000000000000000e+01, dtype=torch.float64), NUM_STEPS=1, X_OFFSET=tensor(0., dtype=torch.float64), Y_OFFSET=tensor(0., dtype=torch.float64), TILT=tensor(0., dtype=torch.float64)),\n",
       " Quadrupole(L=tensor(1.000000000000000e-02, dtype=torch.float64), K1=tensor(1.000000000000000e+01, dtype=torch.float64), NUM_STEPS=1, X_OFFSET=tensor(0., dtype=torch.float64), Y_OFFSET=tensor(0., dtype=torch.float64), TILT=tensor(0., dtype=torch.float64)),\n",
       " Quadrupole(L=tensor(1.000000000000000e-02, dtype=torch.float64), K1=tensor(1.000000000000000e+01, dtype=torch.float64), NUM_STEPS=1, X_OFFSET=tensor(0., dtype=torch.float64), Y_OFFSET=tensor(0., dtype=torch.float64), TILT=tensor(0., dtype=torch.float64)),\n",
       " Quadrupole(L=tensor(1.000000000000000e-02, dtype=torch.float64), K1=tensor(1.000000000000000e+01, dtype=torch.float64), NUM_STEPS=1, X_OFFSET=tensor(0., dtype=torch.float64), Y_OFFSET=tensor(0., dtype=torch.float64), TILT=tensor(0., dtype=torch.float64)),\n",
       " Quadrupole(L=tensor(1.000000000000000e-02, dtype=torch.float64), K1=tensor(1.000000000000000e+01, dtype=torch.float64), NUM_STEPS=1, X_OFFSET=tensor(0., dtype=torch.float64), Y_OFFSET=tensor(0., dtype=torch.float64), TILT=tensor(0., dtype=torch.float64)),\n",
       " Quadrupole(L=tensor(1.000000000000000e-02, dtype=torch.float64), K1=tensor(1.000000000000000e+01, dtype=torch.float64), NUM_STEPS=1, X_OFFSET=tensor(0., dtype=torch.float64), Y_OFFSET=tensor(0., dtype=torch.float64), TILT=tensor(0., dtype=torch.float64)),\n",
       " Quadrupole(L=tensor(1.000000000000000e-02, dtype=torch.float64), K1=tensor(1.000000000000000e+01, dtype=torch.float64), NUM_STEPS=1, X_OFFSET=tensor(0., dtype=torch.float64), Y_OFFSET=tensor(0., dtype=torch.float64), TILT=tensor(0., dtype=torch.float64)),\n",
       " Quadrupole(L=tensor(1.000000000000000e-02, dtype=torch.float64), K1=tensor(1.000000000000000e+01, dtype=torch.float64), NUM_STEPS=1, X_OFFSET=tensor(0., dtype=torch.float64), Y_OFFSET=tensor(0., dtype=torch.float64), TILT=tensor(0., dtype=torch.float64))]"
      ]
     },
     "execution_count": 18,
     "metadata": {},
     "output_type": "execute_result"
    }
   ],
   "source": [
    "# divide a quad into 10 parts\n",
    "divided_quad = stub_element(q1, 10)\n",
    "divided_quad"
   ]
  },
  {
   "cell_type": "markdown",
   "id": "7d6c5cc9-bf23-45a7-bd76-c54e1c4e0b57",
   "metadata": {},
   "source": [
    "## Plotting using stub_lattice"
   ]
  },
  {
   "cell_type": "code",
   "execution_count": 19,
   "id": "b72644ab-dcb0-4da9-b448-26d9995a754d",
   "metadata": {},
   "outputs": [],
   "source": [
    "# make a quadrupole triplet\n",
    "L_d = 1.5  # Drift length in m\n",
    "d1 = Drift(torch.tensor(L_d, **tkwargs)) # drift\n",
    "L_q = 0.1  # Quadrupole length in m\n",
    "K1 = 10  # Quadrupole strengths\n",
    "NUM_STEPS = 1\n",
    "q1 = torch_quadrupole(L=torch.tensor(L_q,**tkwargs), K1=torch.tensor(K1, **tkwargs))  # x-focusing\n",
    "q2 = torch_quadrupole(L=torch.tensor(L_q,**tkwargs), K1=torch.tensor(-K1, **tkwargs))  # y-focusing\n",
    "lattice = [d1, q1, d1, q2, d1, q1, d1]\n",
    "\n",
    "# stub each element into n equal parts each\n",
    "n=50\n",
    "stubbed_lattice = stub_lattice(lattice, n)"
   ]
  },
  {
   "cell_type": "code",
   "execution_count": 20,
   "id": "889abf76-5498-4f14-9271-49496d949f1c",
   "metadata": {},
   "outputs": [
    {
     "data": {
      "text/plain": [
       "<matplotlib.legend.Legend at 0x7fe01e481640>"
      ]
     },
     "execution_count": 20,
     "metadata": {},
     "output_type": "execute_result"
    },
    {
     "data": {
      "image/png": "[encoded data removed]",
      "text/plain": [
       "<Figure size 432x288 with 1 Axes>"
      ]
     },
     "metadata": {
      "needs_background": "light"
     },
     "output_type": "display_data"
    }
   ],
   "source": [
    "# compare plots using stubbed and nonstubbed lattice: \n",
    "# non-stubbed lattice only records particles at the entrance and exit of each element\n",
    "all_p = track_a_lattice(bunch_in, lattice)\n",
    "all_p_stubbed = track_a_lattice(bunch_in, stubbed_lattice)\n",
    "stdx = np.array([torch.std(par.x).item() for par in all_p])\n",
    "stdy = np.array([torch.std(par.y).item() for par in all_p])\n",
    "stdx_stubbed = np.array([torch.std(par.x).item() for par in all_p_stubbed])\n",
    "stdy_stubbed = np.array([torch.std(par.y).item() for par in all_p_stubbed])\n",
    "s = np.array([par.s.item() for par in all_p])\n",
    "s_stubbed = np.array([par.s.item() for par in all_p_stubbed])\n",
    "plt.plot(s, stdx*1000, '.', color='C0', label=r'$\\sigma_x$')\n",
    "plt.plot(s, stdy*1000, '.', color='C1', label=r'$\\sigma_y$')\n",
    "plt.plot(s_stubbed, stdx_stubbed*1000, color='C0', linestyle='--', label=r'$\\sigma_x$ stubbed')\n",
    "plt.plot(s_stubbed, stdy_stubbed*1000, color='C1', linestyle='--',label=r'$\\sigma_y$ stubbed')\n",
    "plt.xlabel(r'$s$ (m)')\n",
    "plt.ylabel(r'$\\sigma_{x,y}$ (mm)')\n",
    "plt.legend()"
   ]
  }
 ],
 "metadata": {
  "kernelspec": {
   "display_name": "Python 3 (ipykernel)",
   "language": "python",
   "name": "python3"
  },
  "language_info": {
   "codemirror_mode": {
    "name": "ipython",
    "version": 3
   },
   "file_extension": ".py",
   "mimetype": "text/x-python",
   "name": "python",
   "nbconvert_exporter": "python",
   "pygments_lexer": "ipython3",
   "version": "3.9.13"
  }
 },
 "nbformat": 4,
 "nbformat_minor": 5
}
