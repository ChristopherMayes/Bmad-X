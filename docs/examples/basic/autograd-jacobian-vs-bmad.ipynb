{
 "cells": [
  {
   "cell_type": "markdown",
   "id": "cfe2f3e6-ab7f-4493-8ca4-acd56731bc0b",
   "metadata": {
    "tags": []
   },
   "source": [
    "# Autograd vs Bmad Jacobians\n",
    "In this example, we track single particles through different elements and calculate the Jacobian matrix by using PyTorch autograd. We compare the results with bmad_standard, which uses analytic formulas to calculate the Jacobian. We also test functionalities such as element offsets and tilts. As of now, only transverse transformations are supported."
   ]
  },
  {
   "cell_type": "code",
   "execution_count": 1,
   "id": "8af3d886-d3bd-4e34-9556-d645ee9f761e",
   "metadata": {
    "tags": []
   },
   "outputs": [],
   "source": [
    "import torch\n",
    "#from pytao import Tao\n",
    "#import pytao\n",
    "import time\n",
    "import os\n",
    "torch.set_printoptions(precision= 15, sci_mode=True)\n",
    "#torch.__version__, pytao.__version__"
   ]
  },
  {
   "cell_type": "code",
   "execution_count": 2,
   "id": "75849dda-45a9-477f-8940-b64dd8a15b5f",
   "metadata": {},
   "outputs": [
    {
     "data": {
      "text/plain": [
       "'/Users/jpga/Repositories/Bmad-X'"
      ]
     },
     "execution_count": 2,
     "metadata": {},
     "output_type": "execute_result"
    }
   ],
   "source": [
    "from pathlib import Path\n",
    "\n",
    "def find_repo(path):\n",
    "    \"Find repository root from the path's parents\"\n",
    "    for path in Path(path).parents:\n",
    "        # Check whether \"path/.git\" exists and is a directory\n",
    "        git_dir = path / \".git\"\n",
    "        if git_dir.is_dir():\n",
    "            return path\n",
    "\n",
    "import os\n",
    "nb_dir = os.getcwd()\n",
    "# Find the repo root where the script is\n",
    "repo_path = str(find_repo(nb_dir))\n",
    "repo_path"
   ]
  },
  {
   "cell_type": "markdown",
   "id": "4195b788-22c6-4f75-bb00-a417cf041292",
   "metadata": {
    "tags": []
   },
   "source": [
    "# Constants"
   ]
  },
  {
   "cell_type": "markdown",
   "id": "7638cac6-72c7-4e95-ae44-6ff97b375ae3",
   "metadata": {
    "tags": []
   },
   "source": [
    "# Drift tests"
   ]
  },
  {
   "cell_type": "code",
   "execution_count": 3,
   "id": "ee6fdf69-c492-4bc0-83c9-9b6a0400ef1f",
   "metadata": {
    "tags": []
   },
   "outputs": [
    {
     "data": {
      "text/plain": [
       "Drift(L=1.0)"
      ]
     },
     "execution_count": 3,
     "metadata": {},
     "output_type": "execute_result"
    }
   ],
   "source": [
    "# Create drift\n",
    "from bmadx import Drift\n",
    "\n",
    "d = Drift(L=1.0)\n",
    "d"
   ]
  },
  {
   "cell_type": "markdown",
   "id": "f47cc1d4-c514-4f23-a70b-b692e4a0c4dc",
   "metadata": {
    "tags": []
   },
   "source": [
    "## Drift one particle test"
   ]
  },
  {
   "cell_type": "code",
   "execution_count": 4,
   "id": "22f5b59f-a16b-4e85-bc07-d9a6022c9dc2",
   "metadata": {
    "tags": []
   },
   "outputs": [
    {
     "data": {
      "text/plain": [
       "Particle(x=tensor(2.000000094994903e-03), px=tensor(3.000000026077032e-03), y=tensor(-3.000000026077032e-03), py=tensor(-1.000000047497451e-03), z=tensor(2.000000094994903e-03), pz=tensor(-2.000000094994903e-03), s=tensor(0.), p0c=tensor(4.000000000000000e+07), mc2=510998.94999999995)"
      ]
     },
     "execution_count": 4,
     "metadata": {},
     "output_type": "execute_result"
    }
   ],
   "source": [
    "# create incoming particle\n",
    "from bmadx import Particle, M_ELECTRON\n",
    "\n",
    "coords_t = torch.tensor([2e-3,3e-3,-3e-3,-1e-3,2e-3,-2e-3])\n",
    "p_in = Particle(*coords_t,\n",
    "                s=torch.tensor(0.0),\n",
    "                p0c=torch.tensor(4.0e7),\n",
    "                mc2 = M_ELECTRON)\n",
    "p_in"
   ]
  },
  {
   "cell_type": "code",
   "execution_count": 5,
   "id": "2f852ced-da43-4f95-8578-779f46d15eb1",
   "metadata": {},
   "outputs": [
    {
     "data": {
      "text/plain": [
       "tensor([5.006027407944202e-03, 3.000000026077032e-03, -4.002009052783251e-03,\n",
       "        -1.000000047497451e-03, 1.994652673602104e-03, -2.000000094994903e-03])"
      ]
     },
     "execution_count": 5,
     "metadata": {},
     "output_type": "execute_result"
    }
   ],
   "source": [
    "# Outgoing particle:\n",
    "from bmadx import track_element\n",
    "\n",
    "p_out = track_element(p_in, d)\n",
    "\n",
    "# coordinates as tensor:\n",
    "x_py = torch.hstack(p_out[:6])\n",
    "x_py"
   ]
  },
  {
   "cell_type": "code",
   "execution_count": 6,
   "id": "7a6c2d68-8d1e-4eaa-9fd0-aa67111276da",
   "metadata": {
    "tags": []
   },
   "outputs": [
    {
     "ename": "NameError",
     "evalue": "name 'Tao' is not defined",
     "output_type": "error",
     "traceback": [
      "\u001b[0;31m---------------------------------------------------------------------------\u001b[0m",
      "\u001b[0;31mNameError\u001b[0m                                 Traceback (most recent call last)",
      "Cell \u001b[0;32mIn [6], line 2\u001b[0m\n\u001b[1;32m      1\u001b[0m \u001b[38;5;66;03m# bmad lattice for comparison\u001b[39;00m\n\u001b[0;32m----> 2\u001b[0m tao \u001b[38;5;241m=\u001b[39m \u001b[43mTao\u001b[49m(\u001b[38;5;124m'\u001b[39m\u001b[38;5;124m-lat \u001b[39m\u001b[38;5;124m'\u001b[39m\u001b[38;5;241m+\u001b[39mrepo_path\u001b[38;5;241m+\u001b[39m\u001b[38;5;124m'\u001b[39m\u001b[38;5;124m/tests/bmad_lattices/test_drift.bmad -noplot\u001b[39m\u001b[38;5;124m'\u001b[39m)\n\u001b[1;32m      3\u001b[0m tao\u001b[38;5;241m.\u001b[39mcmd(\u001b[38;5;124m'\u001b[39m\u001b[38;5;124mset particle_start x=\u001b[39m\u001b[38;5;124m'\u001b[39m\u001b[38;5;241m+\u001b[39m\u001b[38;5;28mstr\u001b[39m(pvec1[\u001b[38;5;241m0\u001b[39m]))\n\u001b[1;32m      4\u001b[0m tao\u001b[38;5;241m.\u001b[39mcmd(\u001b[38;5;124m'\u001b[39m\u001b[38;5;124mset particle_start px=\u001b[39m\u001b[38;5;124m'\u001b[39m\u001b[38;5;241m+\u001b[39m\u001b[38;5;28mstr\u001b[39m(pvec1[\u001b[38;5;241m1\u001b[39m]))\n",
      "\u001b[0;31mNameError\u001b[0m: name 'Tao' is not defined"
     ]
    }
   ],
   "source": [
    "# bmad lattice for comparison\n",
    "tao = Tao('-lat '+repo_path+'/tests/bmad_lattices/test_drift.bmad -noplot')\n",
    "tao.cmd('set particle_start x='+str(pvec1[0]))\n",
    "tao.cmd('set particle_start px='+str(pvec1[1]))\n",
    "tao.cmd('set particle_start y='+str(pvec1[2]))\n",
    "tao.cmd('set particle_start py='+str(pvec1[3]))\n",
    "tao.cmd('set particle_start z='+str(pvec1[4]))\n",
    "tao.cmd('set particle_start pz='+str(pvec1[5]))\n",
    "orbit_out=tao.orbit_at_s(ele=1)"
   ]
  },
  {
   "cell_type": "code",
   "execution_count": null,
   "id": "f986a53a-edc8-48cc-93b7-28911872bc94",
   "metadata": {},
   "outputs": [],
   "source": [
    "# bmad outgoing particle\n",
    "x_tao = torch.tensor([orbit_out['x'],\n",
    "                      orbit_out['px'],\n",
    "                      orbit_out['y'],\n",
    "                      orbit_out['py'],\n",
    "                      orbit_out['z'],\n",
    "                      orbit_out['pz']])\n",
    "x_tao"
   ]
  },
  {
   "cell_type": "code",
   "execution_count": null,
   "id": "729e2c24-ee37-4d5b-8b76-81d1f5107dbf",
   "metadata": {},
   "outputs": [],
   "source": [
    "torch.allclose(x_py, x_tao, atol=0, rtol=1.0e-14)"
   ]
  },
  {
   "cell_type": "markdown",
   "id": "d8fae022-eda1-4b37-89a3-48d9c9fc3ddb",
   "metadata": {
    "tags": []
   },
   "source": [
    "## Drift Jacobian test"
   ]
  },
  {
   "cell_type": "code",
   "execution_count": null,
   "id": "062c3a71-b3b9-48b5-85a3-d332f716496d",
   "metadata": {},
   "outputs": [],
   "source": [
    "# autodiff Jacobian\n",
    "from torch.autograd.functional import jacobian\n",
    "\n",
    "f_drift = lambda x: track_element(Particle(*x, s=p_in.s, p0c=p_in.p0c, mc2=p_in.mc2), d)[:6]\n",
    "\n",
    "diff_coords = coords_t.clone().detach().requires_grad_(True)\n",
    "\n",
    "J = jacobian(f_drift, diff_coords)\n",
    "mat_py = torch.vstack(J)\n",
    "mat_py"
   ]
  },
  {
   "cell_type": "code",
   "execution_count": null,
   "id": "9f168d28-5c4a-4db0-a649-c8bde823496c",
   "metadata": {},
   "outputs": [],
   "source": [
    "# Bmad analytical Jacobian\n",
    "drift_tao = tao.matrix(0,1)\n",
    "mat_tao = torch.tensor(drift_tao['mat6'])\n",
    "mat_tao"
   ]
  },
  {
   "cell_type": "code",
   "execution_count": null,
   "id": "4707f2f9-3e23-4497-9dda-78205b54965f",
   "metadata": {},
   "outputs": [],
   "source": [
    "# is it close to Tao result?\n",
    "torch.allclose(mat_py, mat_tao, atol=0, rtol=1.0e-14)"
   ]
  },
  {
   "cell_type": "markdown",
   "id": "c3f3188a-39d8-4d68-bb0e-131a8dbb22a6",
   "metadata": {
    "tags": []
   },
   "source": [
    "# Quadrupole tests"
   ]
  },
  {
   "cell_type": "code",
   "execution_count": null,
   "id": "5dcd7b1a-ba3f-4b45-a5e6-455650fd6598",
   "metadata": {
    "tags": []
   },
   "outputs": [],
   "source": [
    "# Create quad\n",
    "from bmadx import Quadrupole\n",
    "\n",
    "q = Quadrupole(L=0.1, K1=10.)\n",
    "q"
   ]
  },
  {
   "cell_type": "markdown",
   "id": "b73fdb87-f4bd-4b42-8ad9-6eb54030ad99",
   "metadata": {
    "tags": []
   },
   "source": [
    "## Quadrupole one particle test"
   ]
  },
  {
   "cell_type": "code",
   "execution_count": null,
   "id": "0d16dea9-7c66-4c92-bd7e-b0bca1097b8f",
   "metadata": {},
   "outputs": [],
   "source": [
    "# Outgoing particle\n",
    "p_out = track_a_quadrupole_torch(p_in, q)\n",
    "\n",
    "x_py = torch.hstack(p_out[:6])\n",
    "x_py"
   ]
  },
  {
   "cell_type": "code",
   "execution_count": null,
   "id": "7670ad81-5961-41bc-8719-1e23e97fb9a0",
   "metadata": {},
   "outputs": [],
   "source": [
    "# Bmad lattice to compare\n",
    "tao = Tao('-lat '+repo_path+'/tests/bmad_lattices/test_quad.bmad -noplot')\n",
    "tao.cmd('set particle_start x='+str(pvec1[0]))\n",
    "tao.cmd('set particle_start px='+str(pvec1[1]))\n",
    "tao.cmd('set particle_start y='+str(pvec1[2]))\n",
    "tao.cmd('set particle_start py='+str(pvec1[3]))\n",
    "tao.cmd('set particle_start z='+str(pvec1[4]))\n",
    "tao.cmd('set particle_start pz='+str(pvec1[5]))\n",
    "orbit_out = tao.orbit_at_s(ele=1)"
   ]
  },
  {
   "cell_type": "code",
   "execution_count": null,
   "id": "82aa9e17-97ec-4556-93d1-2f54163d7f35",
   "metadata": {},
   "outputs": [],
   "source": [
    "# Bmad outgoing particle\n",
    "x_tao = torch.tensor([orbit_out['x'],\n",
    "                      orbit_out['px'],\n",
    "                      orbit_out['y'],\n",
    "                      orbit_out['py'],\n",
    "                      orbit_out['z'],\n",
    "                      orbit_out['pz']])\n",
    "x_tao"
   ]
  },
  {
   "cell_type": "code",
   "execution_count": null,
   "id": "0174f8be-14cc-4aab-8b10-cecb0f044eb3",
   "metadata": {},
   "outputs": [],
   "source": [
    "# close to Tao result?\n",
    "torch.allclose(x_py, x_tao, atol=0, rtol=1.0e-14)"
   ]
  },
  {
   "cell_type": "markdown",
   "id": "18d8ab23-f846-44e9-88c9-987b2267f9a1",
   "metadata": {
    "tags": []
   },
   "source": [
    "## Quadrupole Jacobian test"
   ]
  },
  {
   "cell_type": "code",
   "execution_count": null,
   "id": "ea343dea-8c1f-4ce8-8d5c-3aa0f89d9812",
   "metadata": {},
   "outputs": [],
   "source": [
    "# autodiff Jacobian matrix\n",
    "f_quadrupole = lambda x: track_element(Particle(*x, s=p_in.s, p0c=p_in.p0c, mc2=p_in.mc2), q)[:6]\n",
    "\n",
    "J = jacobian(f_quadrupole, diff_coords)\n",
    "mat_py = torch.vstack(J)\n",
    "mat_py"
   ]
  },
  {
   "cell_type": "code",
   "execution_count": null,
   "id": "9e6cd8cc-4f9d-4072-a48b-b27961ad5762",
   "metadata": {},
   "outputs": [],
   "source": [
    "# Bmad formula Jacobian\n",
    "quad_tao = tao.matrix(0,1)\n",
    "mat_tao = torch.tensor(quad_tao['mat6'])\n",
    "mat_tao"
   ]
  },
  {
   "cell_type": "code",
   "execution_count": null,
   "id": "daea008b-7368-4f75-9fe0-fb3de156d68f",
   "metadata": {},
   "outputs": [],
   "source": [
    "# close to Tao result?\n",
    "torch.allclose(mat_py, mat_tao, atol=0, rtol=1.0e-14)"
   ]
  },
  {
   "cell_type": "markdown",
   "id": "f973149b-da83-4b8c-9da4-88b4578c9ebe",
   "metadata": {
    "tags": []
   },
   "source": [
    "## Quadrupole offset test"
   ]
  },
  {
   "cell_type": "code",
   "execution_count": null,
   "id": "4542eae6-b1b7-4438-a985-fe7733144f54",
   "metadata": {},
   "outputs": [],
   "source": [
    "# Create quad with offsetss\n",
    "q_off = track_quadrupole(L = 0.1,\n",
    "                         K1 = 10.,\n",
    "                         X_OFFSET = 1e-3,\n",
    "                         Y_OFFSET = -2e-3)\n",
    "q_off"
   ]
  },
  {
   "cell_type": "code",
   "execution_count": null,
   "id": "eef795f4-4537-4430-853f-fa81c201a181",
   "metadata": {},
   "outputs": [],
   "source": [
    "# Outgoing particle no offset\n",
    "p_out = track_a_quadrupole_torch(p_in, q)\n",
    "\n",
    "x_py = torch.hstack(p_out[:6])\n",
    "x_py"
   ]
  },
  {
   "cell_type": "code",
   "execution_count": null,
   "id": "7d5f8fdd-2fe1-4e40-a4e8-4547779a8cf3",
   "metadata": {},
   "outputs": [],
   "source": [
    "# Outgoing particle offset\n",
    "p_out = track_a_quadrupole_torch(p_in, q_off)\n",
    "\n",
    "x_py = torch.hstack(p_out[:6])\n",
    "x_py"
   ]
  },
  {
   "cell_type": "code",
   "execution_count": null,
   "id": "3d6da4fc-be97-465f-923e-9b89394ed2fa",
   "metadata": {},
   "outputs": [],
   "source": [
    "# Bmad lattice to compare\n",
    "tao = Tao('-lat '+repo_path+'/tests/bmad_lattices/test_quad_offset.bmad -noplot')\n",
    "tao.cmd('set particle_start x='+str(pvec1[0]))\n",
    "tao.cmd('set particle_start px='+str(pvec1[1]))\n",
    "tao.cmd('set particle_start y='+str(pvec1[2]))\n",
    "tao.cmd('set particle_start py='+str(pvec1[3]))\n",
    "tao.cmd('set particle_start z='+str(pvec1[4]))\n",
    "tao.cmd('set particle_start pz='+str(pvec1[5]))\n",
    "orbit_out = tao.orbit_at_s(ele=1)"
   ]
  },
  {
   "cell_type": "code",
   "execution_count": null,
   "id": "54771004-092a-4669-9429-7b33b867dbea",
   "metadata": {
    "tags": []
   },
   "outputs": [],
   "source": [
    "# Bmad outgoing particle\n",
    "x_tao = torch.tensor([orbit_out['x'],\n",
    "                      orbit_out['px'],\n",
    "                      orbit_out['y'],\n",
    "                      orbit_out['py'],\n",
    "                      orbit_out['z'],\n",
    "                      orbit_out['pz']])\n",
    "x_tao"
   ]
  },
  {
   "cell_type": "code",
   "execution_count": null,
   "id": "fda592ee-2116-436b-a46a-2d7be549a8f5",
   "metadata": {},
   "outputs": [],
   "source": [
    "# close to Tao result?\n",
    "torch.allclose(x_py, x_tao, atol=0, rtol=1.0e-14)"
   ]
  },
  {
   "cell_type": "markdown",
   "id": "f8d7bedf-6116-41d3-8eac-5a3000e2b7bb",
   "metadata": {
    "tags": []
   },
   "source": [
    "## Quadrupole tilt test (transverse rotation)"
   ]
  },
  {
   "cell_type": "code",
   "execution_count": null,
   "id": "e7873687-1fee-4033-91b1-f3090a4d166d",
   "metadata": {},
   "outputs": [],
   "source": [
    "# Create quadrupole with tilt\n",
    "q_tilt = Quadrupole(L = 0.1,\n",
    "                    K1 = 10.,\n",
    "                    TILT = 0.3)\n",
    "q_tilt"
   ]
  },
  {
   "cell_type": "code",
   "execution_count": null,
   "id": "500e6c60-e125-49f3-8417-0bed6931112e",
   "metadata": {},
   "outputs": [],
   "source": [
    "# Outgoing particle no tilt\n",
    "p_out = track_element(p_in, q)\n",
    "x_py = torch.hstack(p_out[:6])\n",
    "x_py"
   ]
  },
  {
   "cell_type": "code",
   "execution_count": null,
   "id": "d2e966bb-05fa-46f8-9ad0-3d56a85c625a",
   "metadata": {},
   "outputs": [],
   "source": [
    "# Outgoing particle tilt\n",
    "p_out = track_a_quadrupole_torch(p_in, q_tilt)\n",
    "\n",
    "x_py = torch.hstack(p_out[:6])\n",
    "x_py"
   ]
  },
  {
   "cell_type": "code",
   "execution_count": null,
   "id": "eef6f7ec-81ae-4109-96b6-179c6e2fdb0d",
   "metadata": {},
   "outputs": [],
   "source": [
    "# Bmad lattice to compare\n",
    "tao = Tao('-lat '+repo_path+'/tests/bmad_lattices/test_quad_tilt.bmad -noplot')\n",
    "tao.cmd('set particle_start x='+str(pvec1[0]))\n",
    "tao.cmd('set particle_start px='+str(pvec1[1]))\n",
    "tao.cmd('set particle_start y='+str(pvec1[2]))\n",
    "tao.cmd('set particle_start py='+str(pvec1[3]))\n",
    "tao.cmd('set particle_start z='+str(pvec1[4]))\n",
    "tao.cmd('set particle_start pz='+str(pvec1[5]))\n",
    "orbit_out = tao.orbit_at_s(ele=1)"
   ]
  },
  {
   "cell_type": "code",
   "execution_count": null,
   "id": "91c33264-efb9-438f-9d4b-778fabe27616",
   "metadata": {},
   "outputs": [],
   "source": [
    "# Bmad outgoing particle\n",
    "x_tao = torch.tensor([orbit_out['x'],\n",
    "                      orbit_out['px'],\n",
    "                      orbit_out['y'],\n",
    "                      orbit_out['py'],\n",
    "                      orbit_out['z'],\n",
    "                      orbit_out['pz']])\n",
    "x_tao"
   ]
  },
  {
   "cell_type": "code",
   "execution_count": null,
   "id": "7ee01084-9bf2-4f96-988a-72523ff39f66",
   "metadata": {},
   "outputs": [],
   "source": [
    "# close to Tao result?\n",
    "torch.allclose(x_py, x_tao, atol=0, rtol=1.0e-14)"
   ]
  },
  {
   "cell_type": "markdown",
   "id": "bb2c4002-6b17-4768-a52c-7653b2c7404b",
   "metadata": {},
   "source": [
    "# Crab_Cavity tests"
   ]
  },
  {
   "cell_type": "code",
   "execution_count": null,
   "id": "3d9734e1-68f4-4d04-bfa4-69558d320996",
   "metadata": {},
   "outputs": [],
   "source": [
    "# Create cavity\n",
    "from bmadx import CrabCavity\n",
    "\n",
    "cav = CrabCavity(L=0.2,\n",
    "                 VOLTAGE=1e4,\n",
    "                 PHI0=0.5,\n",
    "                 RF_FREQUENCY=1e9)\n",
    "cav"
   ]
  },
  {
   "cell_type": "markdown",
   "id": "fc5fa6e5-3613-4c64-977d-c8c8caf1b592",
   "metadata": {},
   "source": [
    "## Crab_cavity one particle test"
   ]
  },
  {
   "cell_type": "code",
   "execution_count": null,
   "id": "8443c9f2-aa5d-45d2-9109-730bf8d985b3",
   "metadata": {},
   "outputs": [],
   "source": [
    "# Outgoing particle\n",
    "p_out = track_element(p_in, cav)\n",
    "\n",
    "x_py = torch.hstack(p_out[:6])\n",
    "x_py"
   ]
  },
  {
   "cell_type": "code",
   "execution_count": null,
   "id": "f6fb4e2c-c0a4-4bb7-9c57-a2c4b72d47c6",
   "metadata": {},
   "outputs": [],
   "source": [
    "# Bmad lattice to compare\n",
    "tao = Tao('-lat '+repo_path+'/tests/bmad_lattices/test_crab_cavity.bmad -noplot')\n",
    "tao.cmd('set particle_start x='+str(pvec1[0]))\n",
    "tao.cmd('set particle_start px='+str(pvec1[1]))\n",
    "tao.cmd('set particle_start y='+str(pvec1[2]))\n",
    "tao.cmd('set particle_start py='+str(pvec1[3]))\n",
    "tao.cmd('set particle_start z='+str(pvec1[4]))\n",
    "tao.cmd('set particle_start pz='+str(pvec1[5]))\n",
    "orbit_out = tao.orbit_at_s(ele=1)"
   ]
  },
  {
   "cell_type": "code",
   "execution_count": null,
   "id": "ca5eb104-b9fa-4e7d-aef6-283d8dc5d902",
   "metadata": {},
   "outputs": [],
   "source": [
    "# Bmad outgoing particle\n",
    "x_tao = torch.tensor([orbit_out['x'],\n",
    "                      orbit_out['px'],\n",
    "                      orbit_out['y'],\n",
    "                      orbit_out['py'],\n",
    "                      orbit_out['z'],\n",
    "                      orbit_out['pz']])\n",
    "x_tao"
   ]
  },
  {
   "cell_type": "code",
   "execution_count": null,
   "id": "166f4fff-bc17-4098-ba28-ed0ee121174e",
   "metadata": {},
   "outputs": [],
   "source": [
    "# close to Tao result?\n",
    "torch.allclose(x_py, x_tao, atol=0, rtol=1.0e-14)"
   ]
  },
  {
   "cell_type": "markdown",
   "id": "6cba34c7-84d1-4174-a9cc-51ec5bca5379",
   "metadata": {},
   "source": [
    "## Crab_cavity Jacobian test"
   ]
  },
  {
   "cell_type": "code",
   "execution_count": null,
   "id": "df914c77-c924-4c3f-8042-61d850cbfb6b",
   "metadata": {},
   "outputs": [],
   "source": [
    "# autodiff Jacobian matrix\n",
    "f_crab_cavity = lambda x: track_element(Particle(*x, s=p_in.s, p0c=p_in.p0c, mc2=p_in.mc2), cav)[:6]\n",
    "\n",
    "J = jacobian(f_crab_cavity, diff_coords)\n",
    "mat_py = torch.vstack(J)\n",
    "mat_py"
   ]
  },
  {
   "cell_type": "code",
   "execution_count": null,
   "id": "0cb14d82-ae25-402d-acd5-c879c6ceae30",
   "metadata": {},
   "outputs": [],
   "source": [
    "# Bmad formula Jacobian\n",
    "cav_tao = tao.matrix(0,1)\n",
    "mat_tao = torch.tensor(cav_tao['mat6'])\n",
    "mat_tao"
   ]
  },
  {
   "cell_type": "code",
   "execution_count": null,
   "id": "559f4dce-229e-4a33-8e42-819449e0d19f",
   "metadata": {
    "tags": []
   },
   "outputs": [],
   "source": [
    "# close to Tao result up to 13th decimal place\n",
    "torch.allclose(mat_py, mat_tao, atol=0, rtol=1.0e-13)"
   ]
  },
  {
   "cell_type": "code",
   "execution_count": null,
   "id": "4e1d4df3-7b43-48a8-9135-deb761da0c04",
   "metadata": {
    "tags": []
   },
   "outputs": [],
   "source": [
    "# but not up to 14th decimal place\n",
    "torch.isclose(mat_py, mat_tao, atol=0, rtol=1e-14)"
   ]
  },
  {
   "cell_type": "markdown",
   "id": "e0c8100c-e605-4d9e-b12e-f02375e03be9",
   "metadata": {
    "tags": []
   },
   "source": [
    "## Crab_cavity offset test"
   ]
  },
  {
   "cell_type": "code",
   "execution_count": null,
   "id": "610c4ccc-88a0-4f7c-bdb9-2c6dec6a6458",
   "metadata": {},
   "outputs": [],
   "source": [
    "# Cavity with offsets\n",
    "cav_off = CrabCavity(L=0.2,\n",
    "                     VOLTAGE=1e4,\n",
    "                     PHI0=0.5,\n",
    "                     RF_FREQUENCY=1e9,\n",
    "                     X_OFFSET=1e-3,\n",
    "                     Y_OFFSET=-2e-3)\n",
    "cav_off"
   ]
  },
  {
   "cell_type": "code",
   "execution_count": null,
   "id": "a7a31988-a34e-4115-ae37-f241019894d7",
   "metadata": {},
   "outputs": [],
   "source": [
    "# Outgoing particle no offset\n",
    "p_out = track_element(p_in, cav)\n",
    "\n",
    "x_py = torch.hstack(p_out[:6])\n",
    "x_py"
   ]
  },
  {
   "cell_type": "code",
   "execution_count": null,
   "id": "259c7c46-f77b-42bc-b4c3-84cba1a515ca",
   "metadata": {},
   "outputs": [],
   "source": [
    "# Outgoing particle offset\n",
    "p_out = track_element(p_in, cav_off)\n",
    "\n",
    "x_py = torch.hstack(p_out[:6])\n",
    "x_py"
   ]
  },
  {
   "cell_type": "code",
   "execution_count": null,
   "id": "1e75081a-5ee6-4769-ab3a-925da2812147",
   "metadata": {},
   "outputs": [],
   "source": [
    "# Bmad lattice to compare\n",
    "tao = Tao('-lat '+repo_path+'/tests/bmad_lattices/test_crab_cavity_offset.bmad -noplot')\n",
    "tao.cmd('set particle_start x='+str(pvec1[0]))\n",
    "tao.cmd('set particle_start px='+str(pvec1[1]))\n",
    "tao.cmd('set particle_start y='+str(pvec1[2]))\n",
    "tao.cmd('set particle_start py='+str(pvec1[3]))\n",
    "tao.cmd('set particle_start z='+str(pvec1[4]))\n",
    "tao.cmd('set particle_start pz='+str(pvec1[5]))\n",
    "orbit_out = tao.orbit_at_s(ele=1)"
   ]
  },
  {
   "cell_type": "code",
   "execution_count": null,
   "id": "3ed4736e-e777-40c4-9e71-1d8e5cd77c62",
   "metadata": {},
   "outputs": [],
   "source": [
    "# Bmad outgoing particle\n",
    "x_tao = torch.tensor([orbit_out['x'],\n",
    "                      orbit_out['px'],\n",
    "                      orbit_out['y'],\n",
    "                      orbit_out['py'],\n",
    "                      orbit_out['z'],\n",
    "                      orbit_out['pz']])\n",
    "x_tao"
   ]
  },
  {
   "cell_type": "code",
   "execution_count": null,
   "id": "cb11edd9-764f-48d1-9ac2-00faddd5e33f",
   "metadata": {
    "tags": []
   },
   "outputs": [],
   "source": [
    "# close to Tao result?\n",
    "torch.allclose(x_py, x_tao, atol=0, rtol=1.0e-14)"
   ]
  },
  {
   "cell_type": "markdown",
   "id": "21dc9574-1086-4549-af96-1f1972fbeced",
   "metadata": {},
   "source": [
    "## Crab_cavity tilt test"
   ]
  },
  {
   "cell_type": "code",
   "execution_count": null,
   "id": "d015a01e-cfba-49df-b581-c6795bc8106a",
   "metadata": {},
   "outputs": [],
   "source": [
    "# Cavity with tilts\n",
    "cav_tilt = CrabCavity(L=0.2,\n",
    "                      VOLTAGE=1e4,\n",
    "                      PHI0=0.5,\n",
    "                      RF_FREQUENCY=1e9,\n",
    "                      X_OFFSET=1e-3,\n",
    "                      Y_OFFSET=-2e-3\n",
    "                      TILT=0.3)\n",
    "cav_tilt"
   ]
  },
  {
   "cell_type": "code",
   "execution_count": null,
   "id": "943a2c42-010d-49fb-9363-1085155c89fc",
   "metadata": {},
   "outputs": [],
   "source": [
    "# Outgoing particle no offset\n",
    "p_out = track_element(p_in, cav)\n",
    "\n",
    "x_py = torch.hstack(p_out[:6])\n",
    "x_py"
   ]
  },
  {
   "cell_type": "code",
   "execution_count": null,
   "id": "e2e55acc-54e0-4509-9c57-968a723d1d9d",
   "metadata": {},
   "outputs": [],
   "source": [
    "# Outgoing particle offset and tilt\n",
    "p_out = track_element(p_in, cav_tilt)\n",
    "\n",
    "x_py = torch.hstack(p_out[:6])\n",
    "x_py"
   ]
  },
  {
   "cell_type": "code",
   "execution_count": null,
   "id": "10ac2a40-cf6d-43e2-93e8-f2681f710584",
   "metadata": {},
   "outputs": [],
   "source": [
    "# Bmad lattice to compare\n",
    "tao = Tao('-lat '+repo_path+'/tests/bmad_lattices/test_crab_cavity_tilt.bmad -noplot')\n",
    "tao.cmd('set particle_start x='+str(pvec1[0]))\n",
    "tao.cmd('set particle_start px='+str(pvec1[1]))\n",
    "tao.cmd('set particle_start y='+str(pvec1[2]))\n",
    "tao.cmd('set particle_start py='+str(pvec1[3]))\n",
    "tao.cmd('set particle_start z='+str(pvec1[4]))\n",
    "tao.cmd('set particle_start pz='+str(pvec1[5]))\n",
    "orbit_out = tao.orbit_at_s(ele=1)"
   ]
  },
  {
   "cell_type": "code",
   "execution_count": null,
   "id": "96d459e4-9540-44d6-8034-2ce10af7f003",
   "metadata": {},
   "outputs": [],
   "source": [
    "# Bmad outgoing particle\n",
    "x_tao = torch.tensor([orbit_out['x'],\n",
    "                      orbit_out['px'],\n",
    "                      orbit_out['y'],\n",
    "                      orbit_out['py'],\n",
    "                      orbit_out['z'],\n",
    "                      orbit_out['pz']])\n",
    "x_tao"
   ]
  },
  {
   "cell_type": "code",
   "execution_count": null,
   "id": "8dc5323a-30f4-44d1-b0ad-867244cdbb76",
   "metadata": {},
   "outputs": [],
   "source": [
    "# close to Tao result?\n",
    "torch.allclose(x_py, x_tao, atol=0, rtol=1.0e-14)"
   ]
  },
  {
   "cell_type": "code",
   "execution_count": null,
   "id": "9d4a0dfc-2e7f-41cc-b148-85d9f948529f",
   "metadata": {},
   "outputs": [],
   "source": [
    "f_crab_cavity = lambda x: track_element(Particle(*x,s=p_in.s, p0c=p_in.s, mc2=p_in.mc2), cav_tilt)[:6]\n",
    "\n",
    "J = jacobian(f_crab_cavity, diff_coords)\n",
    "mat_py = torch.vstack(J)\n",
    "mat_py"
   ]
  },
  {
   "cell_type": "code",
   "execution_count": null,
   "id": "33fbbecf-e11c-4f92-9145-f53b521b705d",
   "metadata": {},
   "outputs": [],
   "source": [
    "cav_tao = tao.matrix(0,1)\n",
    "mat_tao = torch.tensor(cav_tao['mat6'])\n",
    "mat_tao"
   ]
  },
  {
   "cell_type": "code",
   "execution_count": null,
   "id": "ee06a22b-e0b8-40be-b489-dccefb2e2868",
   "metadata": {},
   "outputs": [],
   "source": [
    "torch.isclose(mat_py, mat_tao, atol=0, rtol=1.0e-10)"
   ]
  },
  {
   "cell_type": "code",
   "execution_count": null,
   "id": "86c1faeb-8931-408a-acb5-fd0c970e59b2",
   "metadata": {},
   "outputs": [],
   "source": [
    "# Something is wrong with the Jacobian matrix of a tilted cavity. Currently debuging."
   ]
  },
  {
   "cell_type": "markdown",
   "id": "5b399e60-6f72-4331-90e8-5994a3978e72",
   "metadata": {},
   "source": [
    "# RF_Cavity tests"
   ]
  },
  {
   "cell_type": "code",
   "execution_count": null,
   "id": "06940029-0be4-46a7-a7d3-94b8609d0e7f",
   "metadata": {},
   "outputs": [],
   "source": [
    "# Create cavity\n",
    "from bmadx import RFCavity\n",
    "\n",
    "cav = RFCavity(L=0.2,\n",
    "               VOLTAGE=1e4,\n",
    "               PHI0=0.5,\n",
    "               RF_FREQUENCY=1e9)\n",
    "cav"
   ]
  },
  {
   "cell_type": "markdown",
   "id": "fb257879-e134-4c7e-9b5e-d12c0263a001",
   "metadata": {},
   "source": [
    "## RF_Cavity one particle test"
   ]
  },
  {
   "cell_type": "code",
   "execution_count": null,
   "id": "23b2e30b-66c5-43ba-a94d-f0095ee85c4d",
   "metadata": {},
   "outputs": [],
   "source": [
    "# Outgoing particle\n",
    "p_out = track_element(p_in, cav)\n",
    "\n",
    "x_py = torch.hstack(p_out[:6])\n",
    "x_py"
   ]
  },
  {
   "cell_type": "code",
   "execution_count": null,
   "id": "105c88e1-8b76-4329-84f7-cf939fd121ce",
   "metadata": {},
   "outputs": [],
   "source": [
    "# Bmad lattice to compare\n",
    "tao = Tao('-lat '+repo_path+'/tests/bmad_lattices/test_rf_cavity.bmad -noplot')\n",
    "tao.cmd('set particle_start x='+str(pvec1[0]))\n",
    "tao.cmd('set particle_start px='+str(pvec1[1]))\n",
    "tao.cmd('set particle_start y='+str(pvec1[2]))\n",
    "tao.cmd('set particle_start py='+str(pvec1[3]))\n",
    "tao.cmd('set particle_start z='+str(pvec1[4]))\n",
    "tao.cmd('set particle_start pz='+str(pvec1[5]))\n",
    "orbit_out = tao.orbit_at_s(ele=1)"
   ]
  },
  {
   "cell_type": "code",
   "execution_count": null,
   "id": "d652a61e-d877-4825-a6b0-53ee4955212b",
   "metadata": {},
   "outputs": [],
   "source": [
    "# Bmad outgoing particle\n",
    "x_tao = torch.tensor([orbit_out['x'],\n",
    "                      orbit_out['px'],\n",
    "                      orbit_out['y'],\n",
    "                      orbit_out['py'],\n",
    "                      orbit_out['z'],\n",
    "                      orbit_out['pz']])\n",
    "x_tao"
   ]
  },
  {
   "cell_type": "code",
   "execution_count": null,
   "id": "ec7f7c04-e085-4e38-95d4-a6af98f4c4f2",
   "metadata": {},
   "outputs": [],
   "source": [
    "# close to Tao result?\n",
    "torch.allclose(x_py, x_tao, atol=0, rtol=1.0e-14)"
   ]
  },
  {
   "cell_type": "markdown",
   "id": "18bce176-6de2-4d38-9c36-8944e7fb7635",
   "metadata": {},
   "source": [
    "## RF_Cavity Jacobian test"
   ]
  },
  {
   "cell_type": "code",
   "execution_count": null,
   "id": "5783b93b-af70-4a5f-b8b4-77498715014f",
   "metadata": {},
   "outputs": [],
   "source": [
    "# autodiff Jacobian matrix\n",
    "f_rf_cavity = lambda x: track_element(Particle(*x, s=p_in.s, p0c=p_in.p0c, mc2=p_in.mc2), cav)[:6]\n",
    "\n",
    "J = jacobian(f_rf_cavity, diff_coords)\n",
    "mat_py = torch.vstack(J)\n",
    "mat_py"
   ]
  },
  {
   "cell_type": "code",
   "execution_count": null,
   "id": "3f21b36b-000a-4705-9f84-a4642a576fa9",
   "metadata": {},
   "outputs": [],
   "source": [
    "# Bmad formula Jacobian\n",
    "quad_tao = tao.matrix(0,1)\n",
    "mat_tao = torch.tensor(quad_tao['mat6'])\n",
    "mat_tao"
   ]
  },
  {
   "cell_type": "code",
   "execution_count": null,
   "id": "19b14b9a-c60a-4d58-986c-3c16883a992b",
   "metadata": {
    "tags": []
   },
   "outputs": [],
   "source": [
    "# close to Tao result?\n",
    "torch.allclose(mat_py, mat_tao, atol=0, rtol=1.0e-13)"
   ]
  },
  {
   "cell_type": "markdown",
   "id": "10777ade-5261-4f31-99ce-a636bc74dd43",
   "metadata": {},
   "source": [
    "## RF_Cavity offset test"
   ]
  },
  {
   "cell_type": "code",
   "execution_count": null,
   "id": "9e2dab1c-7875-4bd8-be45-f0f8b6315a07",
   "metadata": {},
   "outputs": [],
   "source": [
    "# RF cav with offsets\n",
    "cav_off = RFCavity(L=0.2,\n",
    "                   VOLTAGE = 1e3,\n",
    "                   PHI0 = 0.5,\n",
    "                   RF_FREQUENCY = 1e9,\n",
    "                   X_OFFSET = 1e-3,\n",
    "                   Y_OFFSET = -2e-3)\n",
    "cav_off"
   ]
  },
  {
   "cell_type": "code",
   "execution_count": null,
   "id": "ed650f68-9d00-4f47-b08a-d39ecb329d0b",
   "metadata": {},
   "outputs": [],
   "source": [
    "# Outgoing particle no offset\n",
    "p_out = track_a_rf_cavity_torch(p_in, cav)\n",
    "\n",
    "x_py = torch.hstack(p_out[:6])\n",
    "x_py"
   ]
  },
  {
   "cell_type": "code",
   "execution_count": null,
   "id": "34b1125f-4888-46d7-84d2-6338305e2878",
   "metadata": {},
   "outputs": [],
   "source": [
    "# Outgoing particle offset\n",
    "p_out = track_a_rf_cavity_torch(p_in, cav_off)\n",
    "x_py = torch.hstack(p_out[:6])\n",
    "x_py"
   ]
  },
  {
   "cell_type": "code",
   "execution_count": null,
   "id": "466bdc4e-5a29-48d5-86f8-f4da02532836",
   "metadata": {},
   "outputs": [],
   "source": [
    "# Bmad lattice to compare\n",
    "tao = Tao('-lat '+repo_path+'/tests/bmad_lattices/test_rf_cavity_offset.bmad -noplot')\n",
    "tao.cmd('set particle_start x='+str(pvec1[0]))\n",
    "tao.cmd('set particle_start px='+str(pvec1[1]))\n",
    "tao.cmd('set particle_start y='+str(pvec1[2]))\n",
    "tao.cmd('set particle_start py='+str(pvec1[3]))\n",
    "tao.cmd('set particle_start z='+str(pvec1[4]))\n",
    "tao.cmd('set particle_start pz='+str(pvec1[5]))\n",
    "orbit_out = tao.orbit_at_s(ele=1)"
   ]
  },
  {
   "cell_type": "code",
   "execution_count": null,
   "id": "b2ca323e-02a4-478e-8987-58a9ed1381e8",
   "metadata": {},
   "outputs": [],
   "source": [
    "# Bmad outgoing particle\n",
    "x_tao = torch.tensor([orbit_out['x'],\n",
    "                      orbit_out['px'],\n",
    "                      orbit_out['y'],\n",
    "                      orbit_out['py'],\n",
    "                      orbit_out['z'],\n",
    "                      orbit_out['pz']])\n",
    "x_tao"
   ]
  },
  {
   "cell_type": "code",
   "execution_count": null,
   "id": "59d1c818-3a07-4e96-a84e-87b415f1032b",
   "metadata": {},
   "outputs": [],
   "source": [
    "# close to Tao result?\n",
    "torch.allclose(x_py, x_tao, atol=0, rtol=1.0e-14)"
   ]
  },
  {
   "cell_type": "markdown",
   "id": "a068c3c7-0b83-4948-ac3e-9e9c700de595",
   "metadata": {},
   "source": [
    "## RF_Cavity tilt test"
   ]
  },
  {
   "cell_type": "code",
   "execution_count": null,
   "id": "4157f30f-8ae7-4bcb-92a1-bdb17e3c866b",
   "metadata": {},
   "outputs": [],
   "source": [
    "# RF cav with tilt\n",
    "cav_tilt = RFCavity(L=0.1,\n",
    "                    VOLTAGE=1e3,\n",
    "                    PHI0=0.5,\n",
    "                    RF_FREQUENCY=1e9,\n",
    "                    X_OFFSET=1e-3,\n",
    "                    Y_OFFSET=-2e-3,\n",
    "                    TILT=0.3)\n",
    "cav_tilt"
   ]
  },
  {
   "cell_type": "code",
   "execution_count": null,
   "id": "facd0e1b-b013-45d6-9c55-afd453270a9e",
   "metadata": {},
   "outputs": [],
   "source": [
    "# Outgoing particle no offset\n",
    "p_out = track_a_rf_cavity_torch(p_in, cav)\n",
    "x_py = torch.hstack(p_out[:6])\n",
    "x_py"
   ]
  },
  {
   "cell_type": "code",
   "execution_count": null,
   "id": "6fb9cc00-a24a-4e98-bc69-fdacf4692c7c",
   "metadata": {},
   "outputs": [],
   "source": [
    "# Outgoing particle offset and tilt\n",
    "p_out = track_a_rf_cavity_torch(p_in, cav_tilt)\n",
    "x_py = torch.hstack(p_out[:6])\n",
    "x_py"
   ]
  },
  {
   "cell_type": "code",
   "execution_count": null,
   "id": "3754c7f1-afc8-41b9-aa86-33d066faaade",
   "metadata": {},
   "outputs": [],
   "source": [
    "# Bmad lattice to compare\n",
    "tao = Tao('-lat '+repo_path+'/tests/bmad_lattices/test_rf_cavity_tilt.bmad -noplot')\n",
    "tao.cmd('set particle_start x='+str(pvec1[0]))\n",
    "tao.cmd('set particle_start px='+str(pvec1[1]))\n",
    "tao.cmd('set particle_start y='+str(pvec1[2]))\n",
    "tao.cmd('set particle_start py='+str(pvec1[3]))\n",
    "tao.cmd('set particle_start z='+str(pvec1[4]))\n",
    "tao.cmd('set particle_start pz='+str(pvec1[5]))\n",
    "orbit_out = tao.orbit_at_s(ele=1)"
   ]
  },
  {
   "cell_type": "code",
   "execution_count": null,
   "id": "1a6f5274-e18d-427d-8991-16f8cf28324f",
   "metadata": {},
   "outputs": [],
   "source": [
    "# Bmad outgoing particle\n",
    "x_tao = torch.tensor([orbit_out['x'],\n",
    "                      orbit_out['px'],\n",
    "                      orbit_out['y'],\n",
    "                      orbit_out['py'],\n",
    "                      orbit_out['z'],\n",
    "                      orbit_out['pz']])\n",
    "x_tao"
   ]
  },
  {
   "cell_type": "code",
   "execution_count": null,
   "id": "4543c707-b1d5-411a-af06-18df7f697210",
   "metadata": {},
   "outputs": [],
   "source": [
    "# close to Tao result?\n",
    "torch.allclose(x_py, x_tao, atol=0, rtol=1.0e-14)"
   ]
  }
 ],
 "metadata": {
  "kernelspec": {
   "display_name": "Python 3 (ipykernel)",
   "language": "python",
   "name": "python3"
  },
  "language_info": {
   "codemirror_mode": {
    "name": "ipython",
    "version": 3
   },
   "file_extension": ".py",
   "mimetype": "text/x-python",
   "name": "python",
   "nbconvert_exporter": "python",
   "pygments_lexer": "ipython3",
   "version": "3.9.13"
  },
  "toc-autonumbering": true,
  "toc-showcode": false,
  "toc-showmarkdowntxt": false,
  "toc-showtags": false
 },
 "nbformat": 4,
 "nbformat_minor": 5
}
