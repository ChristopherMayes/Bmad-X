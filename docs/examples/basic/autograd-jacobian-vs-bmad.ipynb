{
 "cells": [
  {
   "cell_type": "markdown",
   "id": "cfe2f3e6-ab7f-4493-8ca4-acd56731bc0b",
   "metadata": {
    "tags": []
   },
   "source": [
    "# Autograd vs Bmad Jacobians\n",
    "In this example, we track single particles through different elements and calculate the Jacobian matrix by using PyTorch autograd. We compare the results with bmad_standard, which uses analytic formulas to calculate the Jacobian. We also test functionalities such as element offsets and tilts. As of now, only transverse transformations are supported."
   ]
  },
  {
   "cell_type": "code",
   "execution_count": 1,
   "id": "8af3d886-d3bd-4e34-9556-d645ee9f761e",
   "metadata": {
    "tags": []
   },
   "outputs": [],
   "source": [
    "import torch\n",
    "from pytao import Tao\n",
    "import time\n",
    "import os\n",
    "torch.set_printoptions(precision= 15, sci_mode=True)"
   ]
  },
  {
   "cell_type": "code",
   "execution_count": 2,
   "id": "75849dda-45a9-477f-8940-b64dd8a15b5f",
   "metadata": {},
   "outputs": [
    {
     "data": {
      "text/plain": [
       "'/home/jg2347/Repositories/Bmad-X'"
      ]
     },
     "execution_count": 2,
     "metadata": {},
     "output_type": "execute_result"
    }
   ],
   "source": [
    "from pathlib import Path\n",
    "\n",
    "def find_repo(path):\n",
    "    \"Find repository root from the path's parents\"\n",
    "    for path in Path(path).parents:\n",
    "        # Check whether \"path/.git\" exists and is a directory\n",
    "        git_dir = path / \".git\"\n",
    "        if git_dir.is_dir():\n",
    "            return path\n",
    "\n",
    "import os\n",
    "nb_dir = os.getcwd()\n",
    "# Find the repo root where the script is\n",
    "repo_path = str(find_repo(nb_dir))\n",
    "repo_path"
   ]
  },
  {
   "cell_type": "code",
   "execution_count": 3,
   "id": "22f5b59f-a16b-4e85-bc07-d9a6022c9dc2",
   "metadata": {
    "tags": []
   },
   "outputs": [
    {
     "data": {
      "text/plain": [
       "Particle(x=tensor(2.000000000000000e-03, dtype=torch.float64), px=tensor(3.000000000000000e-03, dtype=torch.float64), y=tensor(-3.000000000000000e-03, dtype=torch.float64), py=tensor(-1.000000000000000e-03, dtype=torch.float64), z=tensor(2.000000000000000e-03, dtype=torch.float64), pz=tensor(-2.000000000000000e-03, dtype=torch.float64), s=tensor(0., dtype=torch.float64), p0c=tensor(4.000000000000000e+07, dtype=torch.float64), mc2=tensor( 5.109989500000000e+05, dtype=torch.float64))"
      ]
     },
     "execution_count": 3,
     "metadata": {},
     "output_type": "execute_result"
    }
   ],
   "source": [
    "# create incoming particle\n",
    "from bmadx import Particle, M_ELECTRON\n",
    "\n",
    "coords = [2e-3,3e-3,-3e-3,-1e-3,2e-3,-2e-3]\n",
    "coords_t = torch.tensor(coords, dtype=torch.double)\n",
    "p_in = Particle(*coords_t,\n",
    "                s = torch.tensor(0.0, dtype=torch.double),\n",
    "                p0c = torch.tensor(4.0e7, dtype=torch.double),\n",
    "                mc2 = torch.tensor(M_ELECTRON, dtype=torch.double))\n",
    "p_in"
   ]
  },
  {
   "cell_type": "markdown",
   "id": "7638cac6-72c7-4e95-ae44-6ff97b375ae3",
   "metadata": {
    "tags": []
   },
   "source": [
    "# Drift tests"
   ]
  },
  {
   "cell_type": "code",
   "execution_count": 4,
   "id": "ee6fdf69-c492-4bc0-83c9-9b6a0400ef1f",
   "metadata": {
    "tags": []
   },
   "outputs": [
    {
     "data": {
      "text/plain": [
       "Drift(L=1.0)"
      ]
     },
     "execution_count": 4,
     "metadata": {},
     "output_type": "execute_result"
    }
   ],
   "source": [
    "# Create drift\n",
    "from bmadx import Drift\n",
    "\n",
    "d = Drift(L=1.0)\n",
    "d"
   ]
  },
  {
   "cell_type": "markdown",
   "id": "f47cc1d4-c514-4f23-a70b-b692e4a0c4dc",
   "metadata": {
    "tags": []
   },
   "source": [
    "## Drift one particle test"
   ]
  },
  {
   "cell_type": "code",
   "execution_count": 5,
   "id": "2f852ced-da43-4f95-8578-779f46d15eb1",
   "metadata": {},
   "outputs": [
    {
     "data": {
      "text/plain": [
       "tensor([5.006027114522933e-03, 3.000000000000000e-03, -4.002009038174311e-03,\n",
       "        -1.000000000000000e-03, 1.994652573892362e-03, -2.000000000000000e-03],\n",
       "       dtype=torch.float64)"
      ]
     },
     "execution_count": 5,
     "metadata": {},
     "output_type": "execute_result"
    }
   ],
   "source": [
    "# Outgoing particle:\n",
    "from bmadx import track_element\n",
    "\n",
    "p_out = track_element(p_in, d)\n",
    "\n",
    "# coordinates as tensor:\n",
    "x_py = torch.hstack(p_out[:6])\n",
    "x_py"
   ]
  },
  {
   "cell_type": "code",
   "execution_count": 6,
   "id": "7a6c2d68-8d1e-4eaa-9fd0-aa67111276da",
   "metadata": {
    "tags": []
   },
   "outputs": [],
   "source": [
    "# bmad lattice for comparison\n",
    "tao = Tao('-lat '+repo_path+'/tests/bmad_lattices/test_drift.bmad -noplot')\n",
    "tao.cmd('set particle_start x='+str(coords[0]))\n",
    "tao.cmd('set particle_start px='+str(coords[1]))\n",
    "tao.cmd('set particle_start y='+str(coords[2]))\n",
    "tao.cmd('set particle_start py='+str(coords[3]))\n",
    "tao.cmd('set particle_start z='+str(coords[4]))\n",
    "tao.cmd('set particle_start pz='+str(coords[5]))\n",
    "orbit_out=tao.orbit_at_s(ele=1)"
   ]
  },
  {
   "cell_type": "code",
   "execution_count": 7,
   "id": "f986a53a-edc8-48cc-93b7-28911872bc94",
   "metadata": {},
   "outputs": [
    {
     "data": {
      "text/plain": [
       "tensor([5.006027114522930e-03, 3.000000000000000e-03, -4.002009038174310e-03,\n",
       "        -1.000000000000000e-03, 1.994652573892360e-03, -2.000000000000000e-03],\n",
       "       dtype=torch.float64)"
      ]
     },
     "execution_count": 7,
     "metadata": {},
     "output_type": "execute_result"
    }
   ],
   "source": [
    "# bmad outgoing particle\n",
    "x_tao = torch.tensor([orbit_out['x'],\n",
    "                      orbit_out['px'],\n",
    "                      orbit_out['y'],\n",
    "                      orbit_out['py'],\n",
    "                      orbit_out['z'],\n",
    "                      orbit_out['pz']], dtype=torch.double)\n",
    "x_tao"
   ]
  },
  {
   "cell_type": "code",
   "execution_count": 8,
   "id": "729e2c24-ee37-4d5b-8b76-81d1f5107dbf",
   "metadata": {},
   "outputs": [
    {
     "data": {
      "text/plain": [
       "True"
      ]
     },
     "execution_count": 8,
     "metadata": {},
     "output_type": "execute_result"
    }
   ],
   "source": [
    "torch.allclose(x_py, x_tao, atol=0, rtol=1.0e-14)"
   ]
  },
  {
   "cell_type": "markdown",
   "id": "d8fae022-eda1-4b37-89a3-48d9c9fc3ddb",
   "metadata": {
    "tags": []
   },
   "source": [
    "## Drift Jacobian test"
   ]
  },
  {
   "cell_type": "code",
   "execution_count": 9,
   "id": "062c3a71-b3b9-48b5-85a3-d332f716496d",
   "metadata": {},
   "outputs": [
    {
     "data": {
      "text/plain": [
       "tensor([[ 1.000000000000000e+00,  1.002018092527393e+00,  0.000000000000000e+00,\n",
       "         -3.018117694005117e-06,  0.000000000000000e+00, -3.012081458617107e-03],\n",
       "        [ 0.000000000000000e+00,  1.000000000000000e+00,  0.000000000000000e+00,\n",
       "          0.000000000000000e+00,  0.000000000000000e+00,  0.000000000000000e+00],\n",
       "        [ 0.000000000000000e+00, -3.018117694005117e-06,  1.000000000000000e+00,\n",
       "          1.002010044213542e+00,  0.000000000000000e+00,  1.004027152872369e-03],\n",
       "        [ 0.000000000000000e+00,  0.000000000000000e+00,  0.000000000000000e+00,\n",
       "          1.000000000000000e+00,  0.000000000000000e+00,  0.000000000000000e+00],\n",
       "        [ 0.000000000000000e+00, -3.012081458617106e-03,  0.000000000000000e+00,\n",
       "          1.004027152872369e-03,  1.000000000000000e+00,  1.742165247481025e-04],\n",
       "        [ 0.000000000000000e+00,  0.000000000000000e+00,  0.000000000000000e+00,\n",
       "          0.000000000000000e+00,  0.000000000000000e+00,  1.000000000000000e+00]],\n",
       "       dtype=torch.float64)"
      ]
     },
     "execution_count": 9,
     "metadata": {},
     "output_type": "execute_result"
    }
   ],
   "source": [
    "# autodiff Jacobian\n",
    "from torch.autograd.functional import jacobian\n",
    "\n",
    "f_drift = lambda x: track_element(Particle(*x, s=p_in.s, p0c=p_in.p0c, mc2=p_in.mc2), d)[:6]\n",
    "\n",
    "diff_coords = coords_t.clone().detach().requires_grad_(True)\n",
    "\n",
    "J = jacobian(f_drift, diff_coords)\n",
    "mat_py = torch.vstack(J)\n",
    "mat_py"
   ]
  },
  {
   "cell_type": "code",
   "execution_count": 10,
   "id": "9f168d28-5c4a-4db0-a649-c8bde823496c",
   "metadata": {},
   "outputs": [
    {
     "data": {
      "text/plain": [
       "tensor([[ 1.000000000000000e+00,  1.002018092527390e+00,  0.000000000000000e+00,\n",
       "         -3.018117694005120e-06,  0.000000000000000e+00, -3.012081458617110e-03],\n",
       "        [ 0.000000000000000e+00,  1.000000000000000e+00,  0.000000000000000e+00,\n",
       "          0.000000000000000e+00,  0.000000000000000e+00,  0.000000000000000e+00],\n",
       "        [ 0.000000000000000e+00, -3.018117694005120e-06,  1.000000000000000e+00,\n",
       "          1.002010044213540e+00,  0.000000000000000e+00,  1.004027152872370e-03],\n",
       "        [ 0.000000000000000e+00,  0.000000000000000e+00,  0.000000000000000e+00,\n",
       "          1.000000000000000e+00,  0.000000000000000e+00,  0.000000000000000e+00],\n",
       "        [ 0.000000000000000e+00, -3.012081458617110e-03,  0.000000000000000e+00,\n",
       "          1.004027152872370e-03,  1.000000000000000e+00,  1.742165247481030e-04],\n",
       "        [ 0.000000000000000e+00,  0.000000000000000e+00,  0.000000000000000e+00,\n",
       "          0.000000000000000e+00,  0.000000000000000e+00,  1.000000000000000e+00]],\n",
       "       dtype=torch.float64)"
      ]
     },
     "execution_count": 10,
     "metadata": {},
     "output_type": "execute_result"
    }
   ],
   "source": [
    "# Bmad analytical Jacobian\n",
    "drift_tao = tao.matrix(0,1)\n",
    "mat_tao = torch.tensor(drift_tao['mat6'])\n",
    "mat_tao"
   ]
  },
  {
   "cell_type": "code",
   "execution_count": 11,
   "id": "4707f2f9-3e23-4497-9dda-78205b54965f",
   "metadata": {},
   "outputs": [
    {
     "data": {
      "text/plain": [
       "True"
      ]
     },
     "execution_count": 11,
     "metadata": {},
     "output_type": "execute_result"
    }
   ],
   "source": [
    "# is it close to Tao result?\n",
    "torch.allclose(mat_py, mat_tao, atol=0, rtol=1.0e-14)"
   ]
  },
  {
   "cell_type": "markdown",
   "id": "c3f3188a-39d8-4d68-bb0e-131a8dbb22a6",
   "metadata": {
    "tags": []
   },
   "source": [
    "# Quadrupole tests"
   ]
  },
  {
   "cell_type": "code",
   "execution_count": 12,
   "id": "5dcd7b1a-ba3f-4b45-a5e6-455650fd6598",
   "metadata": {
    "tags": []
   },
   "outputs": [
    {
     "data": {
      "text/plain": [
       "Quadrupole(L=0.1, K1=10.0, NUM_STEPS=1, X_OFFSET=0.0, Y_OFFSET=0.0, TILT=0.0)"
      ]
     },
     "execution_count": 12,
     "metadata": {},
     "output_type": "execute_result"
    }
   ],
   "source": [
    "# Create quad\n",
    "from bmadx import Quadrupole\n",
    "\n",
    "q = Quadrupole(L=0.1, K1=10.0)\n",
    "q"
   ]
  },
  {
   "cell_type": "markdown",
   "id": "b73fdb87-f4bd-4b42-8ad9-6eb54030ad99",
   "metadata": {
    "tags": []
   },
   "source": [
    "## Quadrupole one particle test"
   ]
  },
  {
   "cell_type": "code",
   "execution_count": 13,
   "id": "0d16dea9-7c66-4c92-bd7e-b0bca1097b8f",
   "metadata": {},
   "outputs": [
    {
     "data": {
      "text/plain": [
       "tensor([2.196239719302552e-03, 8.841834264853368e-04, -3.253441973269224e-03,\n",
       "        -4.100871741572859e-03, 1.999394664225331e-03, -2.000000000000000e-03],\n",
       "       dtype=torch.float64)"
      ]
     },
     "execution_count": 13,
     "metadata": {},
     "output_type": "execute_result"
    }
   ],
   "source": [
    "# Outgoing particle\n",
    "p_out = track_element(p_in, q)\n",
    "\n",
    "x_py = torch.hstack(p_out[:6])\n",
    "x_py"
   ]
  },
  {
   "cell_type": "code",
   "execution_count": 14,
   "id": "7670ad81-5961-41bc-8719-1e23e97fb9a0",
   "metadata": {},
   "outputs": [],
   "source": [
    "# Bmad lattice to compare\n",
    "tao = Tao('-lat '+repo_path+'/tests/bmad_lattices/test_quad.bmad -noplot')\n",
    "tao.cmd('set particle_start x='+str(coords[0]))\n",
    "tao.cmd('set particle_start px='+str(coords[1]))\n",
    "tao.cmd('set particle_start y='+str(coords[2]))\n",
    "tao.cmd('set particle_start py='+str(coords[3]))\n",
    "tao.cmd('set particle_start z='+str(coords[4]))\n",
    "tao.cmd('set particle_start pz='+str(coords[5]))\n",
    "orbit_out = tao.orbit_at_s(ele=1)"
   ]
  },
  {
   "cell_type": "code",
   "execution_count": 15,
   "id": "82aa9e17-97ec-4556-93d1-2f54163d7f35",
   "metadata": {},
   "outputs": [
    {
     "data": {
      "text/plain": [
       "tensor([2.196239719302550e-03, 8.841834264853370e-04, -3.253441973269220e-03,\n",
       "        -4.100871741572860e-03, 1.999394664225330e-03, -2.000000000000000e-03],\n",
       "       dtype=torch.float64)"
      ]
     },
     "execution_count": 15,
     "metadata": {},
     "output_type": "execute_result"
    }
   ],
   "source": [
    "# Bmad outgoing particle\n",
    "x_tao = torch.tensor([orbit_out['x'],\n",
    "                      orbit_out['px'],\n",
    "                      orbit_out['y'],\n",
    "                      orbit_out['py'],\n",
    "                      orbit_out['z'],\n",
    "                      orbit_out['pz']], dtype=torch.double)\n",
    "x_tao"
   ]
  },
  {
   "cell_type": "code",
   "execution_count": 16,
   "id": "0174f8be-14cc-4aab-8b10-cecb0f044eb3",
   "metadata": {},
   "outputs": [
    {
     "data": {
      "text/plain": [
       "True"
      ]
     },
     "execution_count": 16,
     "metadata": {},
     "output_type": "execute_result"
    }
   ],
   "source": [
    "# close to Tao result?\n",
    "torch.allclose(x_py, x_tao, atol=0, rtol=1.0e-14)"
   ]
  },
  {
   "cell_type": "markdown",
   "id": "18d8ab23-f846-44e9-88c9-987b2267f9a1",
   "metadata": {
    "tags": []
   },
   "source": [
    "## Quadrupole Jacobian test"
   ]
  },
  {
   "cell_type": "code",
   "execution_count": 17,
   "id": "ea343dea-8c1f-4ce8-8d5c-3aa0f89d9812",
   "metadata": {},
   "outputs": [
    {
     "data": {
      "text/plain": [
       "tensor([[ 9.503167431875498e-01,  9.853541097581728e-02,  0.000000000000000e+00,\n",
       "          0.000000000000000e+00,  0.000000000000000e+00, -1.924858550317723e-04],\n",
       "        [-9.833834015386563e-01,  9.503167431875498e-01, -0.000000000000000e+00,\n",
       "          0.000000000000000e+00,  0.000000000000000e+00,  1.149663908944082e-04],\n",
       "        [ 0.000000000000000e+00,  0.000000000000000e+00,  1.050519938506054e+00,\n",
       "          1.018821577510623e-01,  0.000000000000000e+00,  2.569093937337833e-04],\n",
       "        [-0.000000000000000e+00,  0.000000000000000e+00,  1.016783934355602e+00,\n",
       "          1.050519938506054e+00,  0.000000000000000e+00,  1.017485822657404e-04],\n",
       "        [ 8.003290869842023e-05, -1.942507914386516e-04,  1.543324297486644e-04,\n",
       "          2.595220753974964e-04,  1.000000000000000e+00,  1.756709202142694e-05],\n",
       "        [ 0.000000000000000e+00,  0.000000000000000e+00,  0.000000000000000e+00,\n",
       "          0.000000000000000e+00,  0.000000000000000e+00,  1.000000000000000e+00]],\n",
       "       dtype=torch.float64)"
      ]
     },
     "execution_count": 17,
     "metadata": {},
     "output_type": "execute_result"
    }
   ],
   "source": [
    "# autodiff Jacobian matrix\n",
    "f_quadrupole = lambda x: track_element(Particle(*x, s=p_in.s, p0c=p_in.p0c, mc2=p_in.mc2), q)[:6]\n",
    "\n",
    "J = jacobian(f_quadrupole, diff_coords)\n",
    "mat_py = torch.vstack(J)\n",
    "mat_py"
   ]
  },
  {
   "cell_type": "code",
   "execution_count": 18,
   "id": "9e6cd8cc-4f9d-4072-a48b-b27961ad5762",
   "metadata": {},
   "outputs": [
    {
     "data": {
      "text/plain": [
       "tensor([[ 9.503167431875500e-01,  9.853541097581731e-02,  0.000000000000000e+00,\n",
       "          0.000000000000000e+00,  0.000000000000000e+00, -1.924858550317720e-04],\n",
       "        [-9.833834015386560e-01,  9.503167431875500e-01,  0.000000000000000e+00,\n",
       "          0.000000000000000e+00,  0.000000000000000e+00,  1.149663908944080e-04],\n",
       "        [ 0.000000000000000e+00,  0.000000000000000e+00,  1.050519938506050e+00,\n",
       "          1.018821577510620e-01,  0.000000000000000e+00,  2.569093937337830e-04],\n",
       "        [ 0.000000000000000e+00,  0.000000000000000e+00,  1.016783934355600e+00,\n",
       "          1.050519938506050e+00,  0.000000000000000e+00,  1.017485822657410e-04],\n",
       "        [ 8.003290869842020e-05, -1.942507914386520e-04,  1.543324297486640e-04,\n",
       "          2.595220753974960e-04,  1.000000000000000e+00,  1.756709202142690e-05],\n",
       "        [ 0.000000000000000e+00,  0.000000000000000e+00,  0.000000000000000e+00,\n",
       "          0.000000000000000e+00,  0.000000000000000e+00,  1.000000000000000e+00]],\n",
       "       dtype=torch.float64)"
      ]
     },
     "execution_count": 18,
     "metadata": {},
     "output_type": "execute_result"
    }
   ],
   "source": [
    "# Bmad formula Jacobian\n",
    "quad_tao = tao.matrix(0,1)\n",
    "mat_tao = torch.tensor(quad_tao['mat6'])\n",
    "mat_tao"
   ]
  },
  {
   "cell_type": "code",
   "execution_count": 19,
   "id": "daea008b-7368-4f75-9fe0-fb3de156d68f",
   "metadata": {},
   "outputs": [
    {
     "data": {
      "text/plain": [
       "True"
      ]
     },
     "execution_count": 19,
     "metadata": {},
     "output_type": "execute_result"
    }
   ],
   "source": [
    "# close to Tao result?\n",
    "torch.allclose(mat_py, mat_tao, atol=0, rtol=1.0e-14)"
   ]
  },
  {
   "cell_type": "markdown",
   "id": "f973149b-da83-4b8c-9da4-88b4578c9ebe",
   "metadata": {
    "tags": []
   },
   "source": [
    "## Quadrupole offset test"
   ]
  },
  {
   "cell_type": "code",
   "execution_count": 20,
   "id": "4542eae6-b1b7-4438-a985-fe7733144f54",
   "metadata": {},
   "outputs": [
    {
     "data": {
      "text/plain": [
       "Quadrupole(L=0.1, K1=10.0, NUM_STEPS=1, X_OFFSET=0.001, Y_OFFSET=-0.002, TILT=0.0)"
      ]
     },
     "execution_count": 20,
     "metadata": {},
     "output_type": "execute_result"
    }
   ],
   "source": [
    "# Create quad with offsetss\n",
    "q_off = Quadrupole(L = 0.1,\n",
    "                   K1 = 10.0,\n",
    "                   X_OFFSET = 1e-3,\n",
    "                   Y_OFFSET = -2e-3)\n",
    "q_off"
   ]
  },
  {
   "cell_type": "code",
   "execution_count": 21,
   "id": "eef795f4-4537-4430-853f-fa81c201a181",
   "metadata": {},
   "outputs": [
    {
     "data": {
      "text/plain": [
       "tensor([2.196239719302552e-03, 8.841834264853368e-04, -3.253441973269224e-03,\n",
       "        -4.100871741572859e-03, 1.999394664225331e-03, -2.000000000000000e-03],\n",
       "       dtype=torch.float64)"
      ]
     },
     "execution_count": 21,
     "metadata": {},
     "output_type": "execute_result"
    }
   ],
   "source": [
    "# Outgoing particle no offset\n",
    "p_out = track_element(p_in, q)\n",
    "\n",
    "x_py = torch.hstack(p_out[:6])\n",
    "x_py"
   ]
  },
  {
   "cell_type": "code",
   "execution_count": 22,
   "id": "7d5f8fdd-2fe1-4e40-a4e8-4547779a8cf3",
   "metadata": {},
   "outputs": [
    {
     "data": {
      "text/plain": [
       "tensor([2.245922976115002e-03, 1.867566828023993e-03, -3.152402096257116e-03,\n",
       "        -2.067303872861656e-03, 1.999538606428305e-03, -2.000000000000000e-03],\n",
       "       dtype=torch.float64)"
      ]
     },
     "execution_count": 22,
     "metadata": {},
     "output_type": "execute_result"
    }
   ],
   "source": [
    "# Outgoing particle offset\n",
    "p_out = track_element(p_in, q_off)\n",
    "\n",
    "x_py = torch.hstack(p_out[:6])\n",
    "x_py"
   ]
  },
  {
   "cell_type": "code",
   "execution_count": 23,
   "id": "3d6da4fc-be97-465f-923e-9b89394ed2fa",
   "metadata": {},
   "outputs": [],
   "source": [
    "# Bmad lattice to compare\n",
    "tao = Tao('-lat '+repo_path+'/tests/bmad_lattices/test_quad_offset.bmad -noplot')\n",
    "tao.cmd('set particle_start x='+str(coords[0]))\n",
    "tao.cmd('set particle_start px='+str(coords[1]))\n",
    "tao.cmd('set particle_start y='+str(coords[2]))\n",
    "tao.cmd('set particle_start py='+str(coords[3]))\n",
    "tao.cmd('set particle_start z='+str(coords[4]))\n",
    "tao.cmd('set particle_start pz='+str(coords[5]))\n",
    "orbit_out = tao.orbit_at_s(ele=1)"
   ]
  },
  {
   "cell_type": "code",
   "execution_count": 24,
   "id": "54771004-092a-4669-9429-7b33b867dbea",
   "metadata": {
    "tags": []
   },
   "outputs": [
    {
     "data": {
      "text/plain": [
       "tensor([2.245922976115000e-03, 1.867566828023990e-03, -3.152402096257120e-03,\n",
       "        -2.067303872861660e-03, 1.999538606428300e-03, -2.000000000000000e-03],\n",
       "       dtype=torch.float64)"
      ]
     },
     "execution_count": 24,
     "metadata": {},
     "output_type": "execute_result"
    }
   ],
   "source": [
    "# Bmad outgoing particle\n",
    "x_tao = torch.tensor([orbit_out['x'],\n",
    "                      orbit_out['px'],\n",
    "                      orbit_out['y'],\n",
    "                      orbit_out['py'],\n",
    "                      orbit_out['z'],\n",
    "                      orbit_out['pz']], dtype=torch.double)\n",
    "x_tao"
   ]
  },
  {
   "cell_type": "code",
   "execution_count": 25,
   "id": "fda592ee-2116-436b-a46a-2d7be549a8f5",
   "metadata": {},
   "outputs": [
    {
     "data": {
      "text/plain": [
       "True"
      ]
     },
     "execution_count": 25,
     "metadata": {},
     "output_type": "execute_result"
    }
   ],
   "source": [
    "# close to Tao result?\n",
    "torch.allclose(x_py, x_tao, atol=0, rtol=1.0e-14)"
   ]
  },
  {
   "cell_type": "code",
   "execution_count": 26,
   "id": "0ce18e70-4ad0-45fe-b148-4da792951324",
   "metadata": {},
   "outputs": [
    {
     "data": {
      "text/plain": [
       "tensor([[ 9.503167431875498e-01,  9.853541097581728e-02,  0.000000000000000e+00,\n",
       "          0.000000000000000e+00,  0.000000000000000e+00, -2.418522933964102e-04],\n",
       "        [-9.833834015386563e-01,  9.503167431875498e-01, -0.000000000000000e+00,\n",
       "          0.000000000000000e+00,  0.000000000000000e+00,  1.315328529941612e-04],\n",
       "        [ 0.000000000000000e+00,  0.000000000000000e+00,  1.050519938506054e+00,\n",
       "          1.018821577510623e-01,  0.000000000000000e+00,  1.548230633218972e-04],\n",
       "        [-0.000000000000000e+00,  0.000000000000000e+00,  1.016783934355602e+00,\n",
       "          1.050519938506054e+00,  0.000000000000000e+00,  6.794497089254226e-05],\n",
       "        [ 1.128356584705092e-04, -2.427969275195176e-04,  8.604405680959595e-05,\n",
       "          1.557223347173730e-04,  1.000000000000000e+00,  1.726852196136135e-05],\n",
       "        [ 0.000000000000000e+00,  0.000000000000000e+00,  0.000000000000000e+00,\n",
       "          0.000000000000000e+00,  0.000000000000000e+00,  1.000000000000000e+00]],\n",
       "       dtype=torch.float64)"
      ]
     },
     "execution_count": 26,
     "metadata": {},
     "output_type": "execute_result"
    }
   ],
   "source": [
    "# autodiff Jacobian matrix\n",
    "f_quadrupole_off = lambda x: track_element(Particle(*x, s=p_in.s, p0c=p_in.p0c, mc2=p_in.mc2), q_off)[:6]\n",
    "\n",
    "J = jacobian(f_quadrupole_off, diff_coords)\n",
    "mat_py = torch.vstack(J)\n",
    "mat_py"
   ]
  },
  {
   "cell_type": "code",
   "execution_count": 27,
   "id": "c651d04b-752c-4b4e-8ef8-cfd6e6003933",
   "metadata": {},
   "outputs": [
    {
     "data": {
      "text/plain": [
       "tensor([[ 9.503167431875500e-01,  9.853541097581731e-02,  0.000000000000000e+00,\n",
       "          0.000000000000000e+00,  0.000000000000000e+00, -2.418522933964100e-04],\n",
       "        [-9.833834015386560e-01,  9.503167431875500e-01,  0.000000000000000e+00,\n",
       "          0.000000000000000e+00,  0.000000000000000e+00,  1.315328529941610e-04],\n",
       "        [ 0.000000000000000e+00,  0.000000000000000e+00,  1.050519938506050e+00,\n",
       "          1.018821577510620e-01,  0.000000000000000e+00,  1.548230633218970e-04],\n",
       "        [ 0.000000000000000e+00,  0.000000000000000e+00,  1.016783934355600e+00,\n",
       "          1.050519938506050e+00,  0.000000000000000e+00,  6.794497089254231e-05],\n",
       "        [ 1.128356584705090e-04, -2.427969275195180e-04,  8.604405680959591e-05,\n",
       "          1.557223347173730e-04,  1.000000000000000e+00,  1.726852196136140e-05],\n",
       "        [ 0.000000000000000e+00,  0.000000000000000e+00,  0.000000000000000e+00,\n",
       "          0.000000000000000e+00,  0.000000000000000e+00,  1.000000000000000e+00]],\n",
       "       dtype=torch.float64)"
      ]
     },
     "execution_count": 27,
     "metadata": {},
     "output_type": "execute_result"
    }
   ],
   "source": [
    "# Bmad formula Jacobian\n",
    "quad_tao = tao.matrix(0,1)\n",
    "mat_tao = torch.tensor(quad_tao['mat6'])\n",
    "mat_tao"
   ]
  },
  {
   "cell_type": "code",
   "execution_count": 28,
   "id": "4970ae15-e587-4b35-8b3c-c5eaab017c9d",
   "metadata": {},
   "outputs": [
    {
     "data": {
      "text/plain": [
       "True"
      ]
     },
     "execution_count": 28,
     "metadata": {},
     "output_type": "execute_result"
    }
   ],
   "source": [
    "# close to Tao result?\n",
    "torch.allclose(mat_py, mat_tao, atol=0, rtol=1.0e-14)"
   ]
  },
  {
   "cell_type": "markdown",
   "id": "f8d7bedf-6116-41d3-8eac-5a3000e2b7bb",
   "metadata": {
    "tags": []
   },
   "source": [
    "## Quadrupole tilt test (transverse rotation)"
   ]
  },
  {
   "cell_type": "code",
   "execution_count": 29,
   "id": "e7873687-1fee-4033-91b1-f3090a4d166d",
   "metadata": {},
   "outputs": [
    {
     "data": {
      "text/plain": [
       "Quadrupole(L=0.1, K1=10.0, NUM_STEPS=1, X_OFFSET=0.0, Y_OFFSET=0.0, TILT=0.3)"
      ]
     },
     "execution_count": 29,
     "metadata": {},
     "output_type": "execute_result"
    }
   ],
   "source": [
    "# Create quadrupole with tilt\n",
    "q_tilt = Quadrupole(L = 0.1,\n",
    "                    K1 = 10.0,\n",
    "                    TILT = 0.3)\n",
    "q_tilt"
   ]
  },
  {
   "cell_type": "code",
   "execution_count": 30,
   "id": "500e6c60-e125-49f3-8417-0bed6931112e",
   "metadata": {},
   "outputs": [
    {
     "data": {
      "text/plain": [
       "tensor([2.196239719302552e-03, 8.841834264853368e-04, -3.253441973269224e-03,\n",
       "        -4.100871741572859e-03, 1.999394664225331e-03, -2.000000000000000e-03],\n",
       "       dtype=torch.float64)"
      ]
     },
     "execution_count": 30,
     "metadata": {},
     "output_type": "execute_result"
    }
   ],
   "source": [
    "# Outgoing particle no tilt\n",
    "p_out = track_element(p_in, q)\n",
    "x_py = torch.hstack(p_out[:6])\n",
    "x_py"
   ]
  },
  {
   "cell_type": "code",
   "execution_count": 31,
   "id": "d2e966bb-05fa-46f8-9ad0-3d56a85c625a",
   "metadata": {},
   "outputs": [
    {
     "data": {
      "text/plain": [
       "tensor([2.300431812756860e-03, 2.982152956166943e-03, -3.286310353406088e-03,\n",
       "        -4.782331681936468e-03, 1.999046404985869e-03, -2.000000000000000e-03],\n",
       "       dtype=torch.float64)"
      ]
     },
     "execution_count": 31,
     "metadata": {},
     "output_type": "execute_result"
    }
   ],
   "source": [
    "# Outgoing particle tilt\n",
    "p_out = track_element(p_in, q_tilt)\n",
    "\n",
    "x_py = torch.hstack(p_out[:6])\n",
    "x_py"
   ]
  },
  {
   "cell_type": "code",
   "execution_count": 32,
   "id": "eef6f7ec-81ae-4109-96b6-179c6e2fdb0d",
   "metadata": {},
   "outputs": [],
   "source": [
    "# Bmad lattice to compare\n",
    "tao = Tao('-lat '+repo_path+'/tests/bmad_lattices/test_quad_tilt.bmad -noplot')\n",
    "tao.cmd('set particle_start x='+str(coords[0]))\n",
    "tao.cmd('set particle_start px='+str(coords[1]))\n",
    "tao.cmd('set particle_start y='+str(coords[2]))\n",
    "tao.cmd('set particle_start py='+str(coords[3]))\n",
    "tao.cmd('set particle_start z='+str(coords[4]))\n",
    "tao.cmd('set particle_start pz='+str(coords[5]))\n",
    "orbit_out = tao.orbit_at_s(ele=1)"
   ]
  },
  {
   "cell_type": "code",
   "execution_count": 33,
   "id": "91c33264-efb9-438f-9d4b-778fabe27616",
   "metadata": {},
   "outputs": [
    {
     "data": {
      "text/plain": [
       "tensor([2.300431812756860e-03, 2.982152956166940e-03, -3.286310353406090e-03,\n",
       "        -4.782331681936470e-03, 1.999046404985870e-03, -2.000000000000000e-03],\n",
       "       dtype=torch.float64)"
      ]
     },
     "execution_count": 33,
     "metadata": {},
     "output_type": "execute_result"
    }
   ],
   "source": [
    "# Bmad outgoing particle\n",
    "x_tao = torch.tensor([orbit_out['x'],\n",
    "                      orbit_out['px'],\n",
    "                      orbit_out['y'],\n",
    "                      orbit_out['py'],\n",
    "                      orbit_out['z'],\n",
    "                      orbit_out['pz']], dtype=torch.double)\n",
    "x_tao"
   ]
  },
  {
   "cell_type": "code",
   "execution_count": 34,
   "id": "7ee01084-9bf2-4f96-988a-72523ff39f66",
   "metadata": {},
   "outputs": [
    {
     "data": {
      "text/plain": [
       "True"
      ]
     },
     "execution_count": 34,
     "metadata": {},
     "output_type": "execute_result"
    }
   ],
   "source": [
    "# close to Tao result?\n",
    "torch.allclose(x_py, x_tao, atol=0, rtol=1.0e-14)"
   ]
  },
  {
   "cell_type": "code",
   "execution_count": 35,
   "id": "64da7782-1269-43c7-9dd0-908d4fa876dd",
   "metadata": {},
   "outputs": [
    {
     "data": {
      "text/plain": [
       "tensor([[ 9.590677079347456e-01,  9.882768970959287e-02, -2.828949002336301e-02,\n",
       "         -9.448576885006041e-04,  0.000000000000000e+00, -2.987178598581627e-04],\n",
       "        [-8.087044026377975e-01,  9.590677079347456e-01, -5.646897158716462e-01,\n",
       "         -2.828949002336301e-02,  0.000000000000000e+00,  5.996905851096495e-05],\n",
       "        [-2.828949002336301e-02, -9.448576885006041e-04,  1.041768973758858e+00,\n",
       "          1.015898790172867e-01,  0.000000000000000e+00,  2.923927872640420e-04],\n",
       "        [-5.646897158716461e-01, -2.828949002336301e-02,  8.421049354547430e-01,\n",
       "          1.041768973758858e+00,  0.000000000000000e+00,  1.781243721626206e-04],\n",
       "        [ 2.398790860688291e-05, -3.005205973357010e-04,  2.310403623486719e-04,\n",
       "          2.950173386467863e-04,  1.000000000000000e+00,  1.827533631132711e-05],\n",
       "        [ 0.000000000000000e+00,  0.000000000000000e+00,  0.000000000000000e+00,\n",
       "          0.000000000000000e+00,  0.000000000000000e+00,  1.000000000000000e+00]],\n",
       "       dtype=torch.float64)"
      ]
     },
     "execution_count": 35,
     "metadata": {},
     "output_type": "execute_result"
    }
   ],
   "source": [
    "# autodiff Jacobian matrix\n",
    "f_quadrupole_tilt = lambda x: track_element(Particle(*x, s=p_in.s, p0c=p_in.p0c, mc2=p_in.mc2), q_tilt)[:6]\n",
    "\n",
    "J = jacobian(f_quadrupole_tilt, diff_coords)\n",
    "mat_py = torch.vstack(J)\n",
    "mat_py"
   ]
  },
  {
   "cell_type": "code",
   "execution_count": 36,
   "id": "29fc348f-21b4-4651-a270-7aaa2f1ff131",
   "metadata": {},
   "outputs": [
    {
     "data": {
      "text/plain": [
       "tensor([[ 9.590677079347460e-01,  9.882768970959289e-02, -2.828949002336300e-02,\n",
       "         -9.448576885006040e-04,  0.000000000000000e+00, -2.987178598581630e-04],\n",
       "        [-8.087044026377980e-01,  9.590677079347460e-01, -5.646897158716460e-01,\n",
       "         -2.828949002336300e-02,  0.000000000000000e+00,  5.996905851096470e-05],\n",
       "        [-2.828949002336300e-02, -9.448576885006040e-04,  1.041768973758860e+00,\n",
       "          1.015898790172870e-01,  0.000000000000000e+00,  2.923927872640420e-04],\n",
       "        [-5.646897158716460e-01, -2.828949002336300e-02,  8.421049354547430e-01,\n",
       "          1.041768973758860e+00,  0.000000000000000e+00,  1.781243721626220e-04],\n",
       "        [ 2.398790860688290e-05, -3.005205973357010e-04,  2.310403623486720e-04,\n",
       "          2.950173386467860e-04,  1.000000000000000e+00,  1.827533631132710e-05],\n",
       "        [ 0.000000000000000e+00,  0.000000000000000e+00,  0.000000000000000e+00,\n",
       "          0.000000000000000e+00,  0.000000000000000e+00,  1.000000000000000e+00]],\n",
       "       dtype=torch.float64)"
      ]
     },
     "execution_count": 36,
     "metadata": {},
     "output_type": "execute_result"
    }
   ],
   "source": [
    "# Bmad formula Jacobian\n",
    "quad_tao = tao.matrix(0,1)\n",
    "mat_tao = torch.tensor(quad_tao['mat6'])\n",
    "mat_tao"
   ]
  },
  {
   "cell_type": "code",
   "execution_count": 37,
   "id": "e09c1177-fe47-4050-8142-9445db6c97e4",
   "metadata": {},
   "outputs": [
    {
     "data": {
      "text/plain": [
       "True"
      ]
     },
     "execution_count": 37,
     "metadata": {},
     "output_type": "execute_result"
    }
   ],
   "source": [
    "# close to Tao result?\n",
    "torch.allclose(mat_py, mat_tao, atol=0, rtol=1.0e-14)"
   ]
  },
  {
   "cell_type": "markdown",
   "id": "bb2c4002-6b17-4768-a52c-7653b2c7404b",
   "metadata": {},
   "source": [
    "# Crab_Cavity tests"
   ]
  },
  {
   "cell_type": "code",
   "execution_count": 38,
   "id": "3d9734e1-68f4-4d04-bfa4-69558d320996",
   "metadata": {},
   "outputs": [
    {
     "data": {
      "text/plain": [
       "CrabCavity(L=0.2, VOLTAGE=10000.0, PHI0=0.5, RF_FREQUENCY=1000000000.0, X_OFFSET=0.0, Y_OFFSET=0.0, TILT=0.0)"
      ]
     },
     "execution_count": 38,
     "metadata": {},
     "output_type": "execute_result"
    }
   ],
   "source": [
    "# Create cavity\n",
    "from bmadx import CrabCavity\n",
    "\n",
    "cav = CrabCavity(L=0.2,\n",
    "                 VOLTAGE=1e4,\n",
    "                 PHI0=0.5,\n",
    "                 RF_FREQUENCY=1e9)\n",
    "cav"
   ]
  },
  {
   "cell_type": "markdown",
   "id": "fc5fa6e5-3613-4c64-977d-c8c8caf1b592",
   "metadata": {},
   "source": [
    "## Crab_cavity one particle test"
   ]
  },
  {
   "cell_type": "code",
   "execution_count": 39,
   "id": "8443c9f2-aa5d-45d2-9109-730bf8d985b3",
   "metadata": {},
   "outputs": [
    {
     "data": {
      "text/plain": [
       "tensor([2.600159503009856e-03, 2.989525785200116e-03, -3.200403013811110e-03,\n",
       "        -1.000000000000000e-03, 1.998933450470348e-03, -2.012044669173099e-03],\n",
       "       dtype=torch.float64)"
      ]
     },
     "execution_count": 39,
     "metadata": {},
     "output_type": "execute_result"
    }
   ],
   "source": [
    "# Outgoing particle\n",
    "p_out = track_element(p_in, cav)\n",
    "\n",
    "x_py = torch.hstack(p_out[:6])\n",
    "x_py"
   ]
  },
  {
   "cell_type": "code",
   "execution_count": 40,
   "id": "f6fb4e2c-c0a4-4bb7-9c57-a2c4b72d47c6",
   "metadata": {},
   "outputs": [],
   "source": [
    "# Bmad lattice to compare\n",
    "tao = Tao('-lat '+repo_path+'/tests/bmad_lattices/test_crab_cavity.bmad -noplot')\n",
    "tao.cmd('set particle_start x='+str(coords[0]))\n",
    "tao.cmd('set particle_start px='+str(coords[1]))\n",
    "tao.cmd('set particle_start y='+str(coords[2]))\n",
    "tao.cmd('set particle_start py='+str(coords[3]))\n",
    "tao.cmd('set particle_start z='+str(coords[4]))\n",
    "tao.cmd('set particle_start pz='+str(coords[5]))\n",
    "orbit_out = tao.orbit_at_s(ele=1)"
   ]
  },
  {
   "cell_type": "code",
   "execution_count": 41,
   "id": "ca5eb104-b9fa-4e7d-aef6-283d8dc5d902",
   "metadata": {},
   "outputs": [
    {
     "data": {
      "text/plain": [
       "tensor([2.600159503009860e-03, 2.989525785200120e-03, -3.200403013811110e-03,\n",
       "        -1.000000000000000e-03, 1.998933450470350e-03, -2.012044669173100e-03],\n",
       "       dtype=torch.float64)"
      ]
     },
     "execution_count": 41,
     "metadata": {},
     "output_type": "execute_result"
    }
   ],
   "source": [
    "# Bmad outgoing particle\n",
    "x_tao = torch.tensor([orbit_out['x'],\n",
    "                      orbit_out['px'],\n",
    "                      orbit_out['y'],\n",
    "                      orbit_out['py'],\n",
    "                      orbit_out['z'],\n",
    "                      orbit_out['pz']], dtype=torch.double)\n",
    "x_tao"
   ]
  },
  {
   "cell_type": "code",
   "execution_count": 42,
   "id": "166f4fff-bc17-4098-ba28-ed0ee121174e",
   "metadata": {},
   "outputs": [
    {
     "data": {
      "text/plain": [
       "True"
      ]
     },
     "execution_count": 42,
     "metadata": {},
     "output_type": "execute_result"
    }
   ],
   "source": [
    "# close to Tao result?\n",
    "torch.allclose(x_py, x_tao, atol=0, rtol=1.0e-14)"
   ]
  },
  {
   "cell_type": "markdown",
   "id": "6cba34c7-84d1-4174-a9cc-51ec5bca5379",
   "metadata": {},
   "source": [
    "## Crab_cavity Jacobian test"
   ]
  },
  {
   "cell_type": "code",
   "execution_count": 43,
   "id": "df914c77-c924-4c3f-8042-61d850cbfb6b",
   "metadata": {},
   "outputs": [
    {
     "data": {
      "text/plain": [
       "tensor([[ 1.000001571489388e+00,  2.004051338856653e-01,  0.000000000000000e+00,\n",
       "         -6.552534052264527e-07, -5.246100940167111e-04, -6.013813103820471e-04],\n",
       "        [ 0.000000000000000e+00,  1.000001576957398e+00,  0.000000000000000e+00,\n",
       "         -5.256524659788450e-07, -5.235440739575950e-03, -8.949162872176154e-08],\n",
       "        [-5.256651057680826e-07, -6.552540421507948e-07,  1.000000000000000e+00,\n",
       "          2.004032150230133e-01,  2.637597029868803e-09,  2.008080032283205e-04],\n",
       "        [ 0.000000000000000e+00,  0.000000000000000e+00,  0.000000000000000e+00,\n",
       "          1.000000000000000e+00, -0.000000000000000e+00,  0.000000000000000e+00],\n",
       "        [-9.289874897604998e-08, -6.013816504874850e-04, -0.000000000000000e+00,\n",
       "          2.008080022802770e-04,  1.000001569699991e+00,  3.483769060576968e-05],\n",
       "        [-5.235440749927688e-03, -5.246038241196926e-04, -0.000000000000000e+00,\n",
       "          2.643031443043208e-09,  1.058650459477272e-05,  1.000001579115604e+00]],\n",
       "       dtype=torch.float64)"
      ]
     },
     "execution_count": 43,
     "metadata": {},
     "output_type": "execute_result"
    }
   ],
   "source": [
    "# autodiff Jacobian matrix\n",
    "f_crab_cavity = lambda x: track_element(Particle(*x, s=p_in.s, p0c=p_in.p0c, mc2=p_in.mc2), cav)[:6]\n",
    "\n",
    "J = jacobian(f_crab_cavity, diff_coords)\n",
    "mat_py = torch.vstack(J)\n",
    "mat_py"
   ]
  },
  {
   "cell_type": "code",
   "execution_count": 44,
   "id": "0cb14d82-ae25-402d-acd5-c879c6ceae30",
   "metadata": {},
   "outputs": [
    {
     "data": {
      "text/plain": [
       "tensor([[ 1.000001571489390e+00,  2.004051338856650e-01,  0.000000000000000e+00,\n",
       "         -6.552534052264531e-07, -5.246100940167110e-04, -6.013813103820470e-04],\n",
       "        [ 0.000000000000000e+00,  1.000001576957400e+00,  0.000000000000000e+00,\n",
       "         -5.256524659788450e-07, -5.235440739575950e-03, -8.949162872175810e-08],\n",
       "        [-5.256651057680830e-07, -6.552540421507950e-07,  1.000000000000000e+00,\n",
       "          2.004032150230130e-01,  2.637597029868800e-09,  2.008080032283200e-04],\n",
       "        [ 0.000000000000000e+00,  0.000000000000000e+00,  0.000000000000000e+00,\n",
       "          1.000000000000000e+00,  0.000000000000000e+00,  0.000000000000000e+00],\n",
       "        [-9.289874897604990e-08, -6.013816504874850e-04,  0.000000000000000e+00,\n",
       "          2.008080022802770e-04,  1.000001569699990e+00,  3.483769060576920e-05],\n",
       "        [-5.235440749927690e-03, -5.246038241196930e-04,  0.000000000000000e+00,\n",
       "          2.643031443043210e-09,  1.058650459477270e-05,  1.000001579115600e+00]],\n",
       "       dtype=torch.float64)"
      ]
     },
     "execution_count": 44,
     "metadata": {},
     "output_type": "execute_result"
    }
   ],
   "source": [
    "# Bmad formula Jacobian\n",
    "cav_tao = tao.matrix(0,1)\n",
    "mat_tao = torch.tensor(cav_tao['mat6'])\n",
    "mat_tao"
   ]
  },
  {
   "cell_type": "code",
   "execution_count": 45,
   "id": "559f4dce-229e-4a33-8e42-819449e0d19f",
   "metadata": {
    "tags": []
   },
   "outputs": [
    {
     "data": {
      "text/plain": [
       "True"
      ]
     },
     "execution_count": 45,
     "metadata": {},
     "output_type": "execute_result"
    }
   ],
   "source": [
    "# close to Tao result up to 13th decimal place\n",
    "torch.allclose(mat_py, mat_tao, atol=0, rtol=1.0e-13)"
   ]
  },
  {
   "cell_type": "code",
   "execution_count": 46,
   "id": "4e1d4df3-7b43-48a8-9135-deb761da0c04",
   "metadata": {
    "tags": []
   },
   "outputs": [
    {
     "data": {
      "text/plain": [
       "tensor([[ True,  True,  True,  True,  True,  True],\n",
       "        [ True,  True,  True,  True,  True, False],\n",
       "        [ True,  True,  True,  True,  True,  True],\n",
       "        [ True,  True,  True,  True,  True,  True],\n",
       "        [ True,  True,  True,  True,  True, False],\n",
       "        [ True,  True,  True,  True,  True,  True]])"
      ]
     },
     "execution_count": 46,
     "metadata": {},
     "output_type": "execute_result"
    }
   ],
   "source": [
    "# but not up to 14th decimal place\n",
    "torch.isclose(mat_py, mat_tao, atol=0, rtol=1e-14)"
   ]
  },
  {
   "cell_type": "markdown",
   "id": "e0c8100c-e605-4d9e-b12e-f02375e03be9",
   "metadata": {
    "tags": []
   },
   "source": [
    "## Crab_cavity offset test"
   ]
  },
  {
   "cell_type": "code",
   "execution_count": 47,
   "id": "610c4ccc-88a0-4f7c-bdb9-2c6dec6a6458",
   "metadata": {},
   "outputs": [
    {
     "data": {
      "text/plain": [
       "CrabCavity(L=0.2, VOLTAGE=10000.0, PHI0=0.5, RF_FREQUENCY=1000000000.0, X_OFFSET=0.001, Y_OFFSET=-0.002, TILT=0.0)"
      ]
     },
     "execution_count": 47,
     "metadata": {},
     "output_type": "execute_result"
    }
   ],
   "source": [
    "# Cavity with offsets\n",
    "cav_off = CrabCavity(L=0.2,\n",
    "                     VOLTAGE=1e4,\n",
    "                     PHI0=0.5,\n",
    "                     RF_FREQUENCY=1e9,\n",
    "                     X_OFFSET=1e-3,\n",
    "                     Y_OFFSET=-2e-3)\n",
    "cav_off"
   ]
  },
  {
   "cell_type": "code",
   "execution_count": 48,
   "id": "a7a31988-a34e-4115-ae37-f241019894d7",
   "metadata": {},
   "outputs": [
    {
     "data": {
      "text/plain": [
       "tensor([2.600159503009856e-03, 2.989525785200116e-03, -3.200403013811110e-03,\n",
       "        -1.000000000000000e-03, 1.998933450470348e-03, -2.012044669173099e-03],\n",
       "       dtype=torch.float64)"
      ]
     },
     "execution_count": 48,
     "metadata": {},
     "output_type": "execute_result"
    }
   ],
   "source": [
    "# Outgoing particle no offset\n",
    "p_out = track_element(p_in, cav)\n",
    "\n",
    "x_py = torch.hstack(p_out[:6])\n",
    "x_py"
   ]
  },
  {
   "cell_type": "code",
   "execution_count": 49,
   "id": "259c7c46-f77b-42bc-b4c3-84cba1a515ca",
   "metadata": {},
   "outputs": [
    {
     "data": {
      "text/plain": [
       "tensor([2.600157931528713e-03, 2.989525785200116e-03, -3.200402488148762e-03,\n",
       "        -1.000000000000000e-03, 1.998933543368366e-03, -2.006809228425473e-03],\n",
       "       dtype=torch.float64)"
      ]
     },
     "execution_count": 49,
     "metadata": {},
     "output_type": "execute_result"
    }
   ],
   "source": [
    "# Outgoing particle offset\n",
    "p_out = track_element(p_in, cav_off)\n",
    "\n",
    "x_py = torch.hstack(p_out[:6])\n",
    "x_py"
   ]
  },
  {
   "cell_type": "code",
   "execution_count": 50,
   "id": "1e75081a-5ee6-4769-ab3a-925da2812147",
   "metadata": {},
   "outputs": [],
   "source": [
    "# Bmad lattice to compare\n",
    "tao = Tao('-lat '+repo_path+'/tests/bmad_lattices/test_crab_cavity_offset.bmad -noplot')\n",
    "tao.cmd('set particle_start x='+str(coords[0]))\n",
    "tao.cmd('set particle_start px='+str(coords[1]))\n",
    "tao.cmd('set particle_start y='+str(coords[2]))\n",
    "tao.cmd('set particle_start py='+str(coords[3]))\n",
    "tao.cmd('set particle_start z='+str(coords[4]))\n",
    "tao.cmd('set particle_start pz='+str(coords[5]))\n",
    "orbit_out = tao.orbit_at_s(ele=1)"
   ]
  },
  {
   "cell_type": "code",
   "execution_count": 51,
   "id": "3ed4736e-e777-40c4-9e71-1d8e5cd77c62",
   "metadata": {},
   "outputs": [
    {
     "data": {
      "text/plain": [
       "tensor([2.600157931528710e-03, 2.989525785200120e-03, -3.200402488148760e-03,\n",
       "        -1.000000000000000e-03, 1.998933543368370e-03, -2.006809228425470e-03],\n",
       "       dtype=torch.float64)"
      ]
     },
     "execution_count": 51,
     "metadata": {},
     "output_type": "execute_result"
    }
   ],
   "source": [
    "# Bmad outgoing particle\n",
    "x_tao = torch.tensor([orbit_out['x'],\n",
    "                      orbit_out['px'],\n",
    "                      orbit_out['y'],\n",
    "                      orbit_out['py'],\n",
    "                      orbit_out['z'],\n",
    "                      orbit_out['pz']], dtype=torch.double)\n",
    "x_tao"
   ]
  },
  {
   "cell_type": "code",
   "execution_count": 52,
   "id": "cb11edd9-764f-48d1-9ac2-00faddd5e33f",
   "metadata": {
    "tags": []
   },
   "outputs": [
    {
     "data": {
      "text/plain": [
       "True"
      ]
     },
     "execution_count": 52,
     "metadata": {},
     "output_type": "execute_result"
    }
   ],
   "source": [
    "# close to Tao result?\n",
    "torch.allclose(x_py, x_tao, atol=0, rtol=1.0e-14)"
   ]
  },
  {
   "cell_type": "code",
   "execution_count": 53,
   "id": "b813bc9c-50bc-4bd7-b146-22c5f547a2e7",
   "metadata": {},
   "outputs": [
    {
     "data": {
      "text/plain": [
       "tensor([[ 1.000001571472898e+00,  2.004046082062692e-01,  0.000000000000000e+00,\n",
       "         -6.552482567216043e-07, -5.246059606096404e-04, -6.013781607107568e-04],\n",
       "        [ 0.000000000000000e+00,  1.000001576957398e+00,  0.000000000000000e+00,\n",
       "         -5.256524659788450e-07, -5.235440739575950e-03, -8.949162872176154e-08],\n",
       "        [-5.256595900031537e-07, -6.552486167910892e-07,  1.000000000000000e+00,\n",
       "          2.004026893590357e-01,  2.175539466651803e-09,  2.008069496751906e-04],\n",
       "        [ 0.000000000000000e+00,  0.000000000000000e+00,  0.000000000000000e+00,\n",
       "          1.000000000000000e+00, -0.000000000000000e+00,  0.000000000000000e+00],\n",
       "        [-9.289728709737649e-08, -6.013785012326269e-04, -0.000000000000000e+00,\n",
       "          2.008069488994388e-04,  1.000001570461304e+00,  3.483741139091059e-05],\n",
       "        [-5.235440745428065e-03, -5.246024376227188e-04, -0.000000000000000e+00,\n",
       "          2.181016073880466e-09,  5.984882352954397e-06,  1.000001578177490e+00]],\n",
       "       dtype=torch.float64)"
      ]
     },
     "execution_count": 53,
     "metadata": {},
     "output_type": "execute_result"
    }
   ],
   "source": [
    "# autodiff Jacobian matrix\n",
    "f_crab_cavity_off = lambda x: track_element(Particle(*x, s=p_in.s, p0c=p_in.p0c, mc2=p_in.mc2), cav_off)[:6]\n",
    "\n",
    "J = jacobian(f_crab_cavity_off, diff_coords)\n",
    "mat_py = torch.vstack(J)\n",
    "mat_py"
   ]
  },
  {
   "cell_type": "code",
   "execution_count": 54,
   "id": "c6aa12a5-629e-4fe6-ad91-6d198d472b1e",
   "metadata": {},
   "outputs": [
    {
     "data": {
      "text/plain": [
       "tensor([[ 1.000001571472900e+00,  2.004046082062690e-01,  0.000000000000000e+00,\n",
       "         -6.552482567216040e-07, -5.246059606096400e-04, -6.013781607107571e-04],\n",
       "        [ 0.000000000000000e+00,  1.000001576957400e+00,  0.000000000000000e+00,\n",
       "         -5.256524659788450e-07, -5.235440739575950e-03, -8.949162872175810e-08],\n",
       "        [-5.256595900031540e-07, -6.552486167910890e-07,  1.000000000000000e+00,\n",
       "          2.004026893590360e-01,  2.175539466651800e-09,  2.008069496751910e-04],\n",
       "        [ 0.000000000000000e+00,  0.000000000000000e+00,  0.000000000000000e+00,\n",
       "          1.000000000000000e+00,  0.000000000000000e+00,  0.000000000000000e+00],\n",
       "        [-9.289728709737820e-08, -6.013785012326270e-04,  0.000000000000000e+00,\n",
       "          2.008069488994390e-04,  1.000001570461300e+00,  3.483741139091050e-05],\n",
       "        [-5.235440745428060e-03, -5.246024376227190e-04,  0.000000000000000e+00,\n",
       "          2.181016073880470e-09,  5.984882352954400e-06,  1.000001578177490e+00]],\n",
       "       dtype=torch.float64)"
      ]
     },
     "execution_count": 54,
     "metadata": {},
     "output_type": "execute_result"
    }
   ],
   "source": [
    "# Bmad formula Jacobian\n",
    "cav_tao = tao.matrix(0,1)\n",
    "mat_tao = torch.tensor(cav_tao['mat6'])\n",
    "mat_tao"
   ]
  },
  {
   "cell_type": "code",
   "execution_count": 55,
   "id": "5c7b4b7b-45d0-434e-8ea5-3f135b18454d",
   "metadata": {},
   "outputs": [
    {
     "data": {
      "text/plain": [
       "True"
      ]
     },
     "execution_count": 55,
     "metadata": {},
     "output_type": "execute_result"
    }
   ],
   "source": [
    "# close to Tao result up to 13th decimal place\n",
    "torch.allclose(mat_py, mat_tao, atol=0, rtol=1.0e-13)"
   ]
  },
  {
   "cell_type": "markdown",
   "id": "21dc9574-1086-4549-af96-1f1972fbeced",
   "metadata": {},
   "source": [
    "## Crab_cavity tilt test"
   ]
  },
  {
   "cell_type": "code",
   "execution_count": 56,
   "id": "d015a01e-cfba-49df-b581-c6795bc8106a",
   "metadata": {},
   "outputs": [
    {
     "data": {
      "text/plain": [
       "CrabCavity(L=0.2, VOLTAGE=10000.0, PHI0=0.5, RF_FREQUENCY=1000000000.0, X_OFFSET=0.0, Y_OFFSET=0.0, TILT=0.3)"
      ]
     },
     "execution_count": 56,
     "metadata": {},
     "output_type": "execute_result"
    }
   ],
   "source": [
    "# Cavity with tilts\n",
    "cav_tilt = CrabCavity(L=0.2,\n",
    "                      VOLTAGE=1e4,\n",
    "                      PHI0=0.5,\n",
    "                      RF_FREQUENCY=1e9,\n",
    "                      TILT=0.3)\n",
    "cav_tilt"
   ]
  },
  {
   "cell_type": "code",
   "execution_count": 57,
   "id": "943a2c42-010d-49fb-9363-1085155c89fc",
   "metadata": {},
   "outputs": [
    {
     "data": {
      "text/plain": [
       "tensor([2.600159503009856e-03, 2.989525785200116e-03, -3.200403013811110e-03,\n",
       "        -1.000000000000000e-03, 1.998933450470348e-03, -2.012044669173099e-03],\n",
       "       dtype=torch.float64)"
      ]
     },
     "execution_count": 57,
     "metadata": {},
     "output_type": "execute_result"
    }
   ],
   "source": [
    "# Outgoing particle no offset\n",
    "p_out = track_element(p_in, cav)\n",
    "\n",
    "x_py = torch.hstack(p_out[:6])\n",
    "x_py"
   ]
  },
  {
   "cell_type": "code",
   "execution_count": 58,
   "id": "e2e55acc-54e0-4509-9c57-968a723d1d9d",
   "metadata": {},
   "outputs": [
    {
     "data": {
      "text/plain": [
       "tensor([2.600204778962090e-03, 2.989993600406731e-03, -3.200712636808565e-03,\n",
       "        -1.003095342122277e-03, 1.998933093429908e-03, -2.006710147677921e-03],\n",
       "       dtype=torch.float64)"
      ]
     },
     "execution_count": 58,
     "metadata": {},
     "output_type": "execute_result"
    }
   ],
   "source": [
    "# Outgoing particle offset and tilt\n",
    "p_out = track_element(p_in, cav_tilt)\n",
    "\n",
    "x_py = torch.hstack(p_out[:6])\n",
    "x_py"
   ]
  },
  {
   "cell_type": "code",
   "execution_count": 59,
   "id": "10ac2a40-cf6d-43e2-93e8-f2681f710584",
   "metadata": {},
   "outputs": [],
   "source": [
    "# Bmad lattice to compare\n",
    "tao = Tao('-lat '+repo_path+'/tests/bmad_lattices/test_crab_cavity_tilt.bmad -noplot')\n",
    "tao.cmd('set particle_start x='+str(coords[0]))\n",
    "tao.cmd('set particle_start px='+str(coords[1]))\n",
    "tao.cmd('set particle_start y='+str(coords[2]))\n",
    "tao.cmd('set particle_start py='+str(coords[3]))\n",
    "tao.cmd('set particle_start z='+str(coords[4]))\n",
    "tao.cmd('set particle_start pz='+str(coords[5]))\n",
    "orbit_out = tao.orbit_at_s(ele=1)"
   ]
  },
  {
   "cell_type": "code",
   "execution_count": 60,
   "id": "96d459e4-9540-44d6-8034-2ce10af7f003",
   "metadata": {},
   "outputs": [
    {
     "data": {
      "text/plain": [
       "tensor([2.600204778962090e-03, 2.989993600406730e-03, -3.200712636808560e-03,\n",
       "        -1.003095342122280e-03, 1.998933093429910e-03, -2.006710147677920e-03],\n",
       "       dtype=torch.float64)"
      ]
     },
     "execution_count": 60,
     "metadata": {},
     "output_type": "execute_result"
    }
   ],
   "source": [
    "# Bmad outgoing particle\n",
    "x_tao = torch.tensor([orbit_out['x'],\n",
    "                      orbit_out['px'],\n",
    "                      orbit_out['y'],\n",
    "                      orbit_out['py'],\n",
    "                      orbit_out['z'],\n",
    "                      orbit_out['pz']], dtype=torch.double)\n",
    "x_tao"
   ]
  },
  {
   "cell_type": "code",
   "execution_count": 61,
   "id": "8dc5323a-30f4-44d1-b0ad-867244cdbb76",
   "metadata": {},
   "outputs": [
    {
     "data": {
      "text/plain": [
       "True"
      ]
     },
     "execution_count": 61,
     "metadata": {},
     "output_type": "execute_result"
    }
   ],
   "source": [
    "# close to Tao result?\n",
    "torch.allclose(x_py, x_tao, atol=0, rtol=1.0e-14)"
   ]
  },
  {
   "cell_type": "code",
   "execution_count": 62,
   "id": "9d4a0dfc-2e7f-41cc-b148-85d9f948529f",
   "metadata": {},
   "outputs": [
    {
     "data": {
      "text/plain": [
       "tensor([[ 1.000001501520052e+00,  2.004045849247234e-01,  4.644745816295703e-07,\n",
       "         -6.073329524777793e-07, -5.011747580192464e-04, -6.014246074929699e-04],\n",
       "        [ 0.000000000000000e+00,  1.000001506524944e+00,  0.000000000000000e+00,\n",
       "         -5.021749813760579e-07, -5.001607575171653e-03, -8.549461838918180e-08],\n",
       "        [-5.037361184290212e-07, -6.073336060452572e-07,  9.999998441761583e-01,\n",
       "          2.004026493081451e-01, -1.550277786188271e-04,  2.011150437638263e-04],\n",
       "        [ 0.000000000000000e+00,  4.660227761466018e-07,  0.000000000000000e+00,\n",
       "          9.999998446590745e-01, -1.547178529322680e-03, -2.644658461431483e-08],\n",
       "        [-8.875266924563281e-08, -6.014249329362829e-04, -2.745441784728740e-08,\n",
       "          2.011149416027625e-04,  1.000001344699341e+00,  3.483830346577687e-05],\n",
       "        [-5.001607580681043e-03, -5.011714382641526e-04, -1.547178531026935e-03,\n",
       "         -1.550267411292252e-04,  5.897796624455826e-06,  1.000001352386358e+00]],\n",
       "       dtype=torch.float64)"
      ]
     },
     "execution_count": 62,
     "metadata": {},
     "output_type": "execute_result"
    }
   ],
   "source": [
    "# autodiff Jacobian matrix\n",
    "f_crab_cavity_tilt = lambda x: track_element(Particle(*x, s=p_in.s, p0c=p_in.p0c, mc2=p_in.mc2), cav_tilt)[:6]\n",
    "\n",
    "J = jacobian(f_crab_cavity_tilt, diff_coords)\n",
    "mat_py = torch.vstack(J)\n",
    "mat_py"
   ]
  },
  {
   "cell_type": "code",
   "execution_count": 63,
   "id": "33fbbecf-e11c-4f92-9145-f53b521b705d",
   "metadata": {},
   "outputs": [
    {
     "data": {
      "text/plain": [
       "tensor([[ 1.000001501520050e+00,  2.004045849247230e-01,  4.644745816295700e-07,\n",
       "         -6.073329524847180e-07, -5.011747580192470e-04, -6.014246074929700e-04],\n",
       "        [ 0.000000000000000e+00,  1.000001506524940e+00,  0.000000000000000e+00,\n",
       "         -5.021749813760580e-07, -5.001607575171650e-03, -8.549461838917660e-08],\n",
       "        [-5.037361184290210e-07, -6.073336060452570e-07,  9.999998441761579e-01,\n",
       "          2.004026493081450e-01, -1.550277786188270e-04,  2.011150437638260e-04],\n",
       "        [ 0.000000000000000e+00,  4.660227761466020e-07,  0.000000000000000e+00,\n",
       "          9.999998446590750e-01, -1.547178529322680e-03, -2.644658461431380e-08],\n",
       "        [-8.875266924563231e-08, -6.014249329362829e-04, -2.745441784728720e-08,\n",
       "          2.011149416027630e-04,  1.000001344699340e+00,  3.483830346577600e-05],\n",
       "        [-5.001607580681040e-03, -5.011714382641520e-04, -1.547178531026930e-03,\n",
       "         -1.550267411292250e-04,  5.897796624455820e-06,  1.000001352386360e+00]],\n",
       "       dtype=torch.float64)"
      ]
     },
     "execution_count": 63,
     "metadata": {},
     "output_type": "execute_result"
    }
   ],
   "source": [
    "cav_tao = tao.matrix(0,1)\n",
    "mat_tao = torch.tensor(cav_tao['mat6'])\n",
    "mat_tao"
   ]
  },
  {
   "cell_type": "code",
   "execution_count": 64,
   "id": "ee06a22b-e0b8-40be-b489-dccefb2e2868",
   "metadata": {},
   "outputs": [
    {
     "data": {
      "text/plain": [
       "tensor([[ True,  True,  True, False,  True,  True],\n",
       "        [ True,  True,  True,  True,  True,  True],\n",
       "        [ True,  True,  True,  True,  True,  True],\n",
       "        [ True,  True,  True,  True,  True,  True],\n",
       "        [ True,  True,  True,  True,  True,  True],\n",
       "        [ True,  True,  True,  True,  True,  True]])"
      ]
     },
     "execution_count": 64,
     "metadata": {},
     "output_type": "execute_result"
    }
   ],
   "source": [
    "torch.isclose(mat_py, mat_tao, atol=0, rtol=1.0e-13)"
   ]
  },
  {
   "cell_type": "code",
   "execution_count": 65,
   "id": "02575328-07dc-4996-8d72-9e020a46f90b",
   "metadata": {},
   "outputs": [
    {
     "data": {
      "text/plain": [
       "tensor([[True, True, True, True, True, True],\n",
       "        [True, True, True, True, True, True],\n",
       "        [True, True, True, True, True, True],\n",
       "        [True, True, True, True, True, True],\n",
       "        [True, True, True, True, True, True],\n",
       "        [True, True, True, True, True, True]])"
      ]
     },
     "execution_count": 65,
     "metadata": {},
     "output_type": "execute_result"
    }
   ],
   "source": [
    "torch.isclose(mat_py, mat_tao, atol=0, rtol=1.0e-9)"
   ]
  },
  {
   "cell_type": "code",
   "execution_count": 66,
   "id": "9149c999-441d-4581-aade-d1eaf2ba4ecd",
   "metadata": {},
   "outputs": [
    {
     "data": {
      "text/plain": [
       "True"
      ]
     },
     "execution_count": 66,
     "metadata": {},
     "output_type": "execute_result"
    }
   ],
   "source": [
    "torch.allclose(mat_py, mat_tao, atol=0, rtol=1.0e-8)"
   ]
  },
  {
   "cell_type": "code",
   "execution_count": 67,
   "id": "86c1faeb-8931-408a-acb5-fd0c970e59b2",
   "metadata": {},
   "outputs": [],
   "source": [
    "# Something is wrong with the Jacobian matrix of a tilted cavity. Currently debuging."
   ]
  },
  {
   "cell_type": "markdown",
   "id": "5b399e60-6f72-4331-90e8-5994a3978e72",
   "metadata": {},
   "source": [
    "# RF_Cavity tests"
   ]
  },
  {
   "cell_type": "code",
   "execution_count": 68,
   "id": "06940029-0be4-46a7-a7d3-94b8609d0e7f",
   "metadata": {},
   "outputs": [
    {
     "data": {
      "text/plain": [
       "RFCavity(L=0.2, VOLTAGE=10000.0, PHI0=0.5, RF_FREQUENCY=1000000000.0, X_OFFSET=0.0, Y_OFFSET=0.0, TILT=0.0)"
      ]
     },
     "execution_count": 68,
     "metadata": {},
     "output_type": "execute_result"
    }
   ],
   "source": [
    "# Create cavity\n",
    "from bmadx import RFCavity\n",
    "\n",
    "cav = RFCavity(L=0.2,\n",
    "               VOLTAGE=1e4,\n",
    "               PHI0=0.5,\n",
    "               RF_FREQUENCY=1e9)\n",
    "cav"
   ]
  },
  {
   "cell_type": "markdown",
   "id": "fb257879-e134-4c7e-9b5e-d12c0263a001",
   "metadata": {},
   "source": [
    "## RF_Cavity one particle test"
   ]
  },
  {
   "cell_type": "code",
   "execution_count": 69,
   "id": "23b2e30b-66c5-43ba-a94d-f0095ee85c4d",
   "metadata": {},
   "outputs": [
    {
     "data": {
      "text/plain": [
       "tensor([2.601208578941774e-03, 3.000000000000000e-03, -3.200402859647258e-03,\n",
       "        -1.000000000000000e-03, 1.998930328796947e-03, -2.010475072419949e-03],\n",
       "       dtype=torch.float64)"
      ]
     },
     "execution_count": 69,
     "metadata": {},
     "output_type": "execute_result"
    }
   ],
   "source": [
    "# Outgoing particle\n",
    "p_out = track_element(p_in, cav)\n",
    "\n",
    "x_py = torch.hstack(p_out[:6])\n",
    "x_py"
   ]
  },
  {
   "cell_type": "code",
   "execution_count": 70,
   "id": "105c88e1-8b76-4329-84f7-cf939fd121ce",
   "metadata": {},
   "outputs": [],
   "source": [
    "# Bmad lattice to compare\n",
    "tao = Tao('-lat '+repo_path+'/tests/bmad_lattices/test_rf_cavity.bmad -noplot')\n",
    "tao.cmd('set particle_start x='+str(coords[0]))\n",
    "tao.cmd('set particle_start px='+str(coords[1]))\n",
    "tao.cmd('set particle_start y='+str(coords[2]))\n",
    "tao.cmd('set particle_start py='+str(coords[3]))\n",
    "tao.cmd('set particle_start z='+str(coords[4]))\n",
    "tao.cmd('set particle_start pz='+str(coords[5]))\n",
    "orbit_out = tao.orbit_at_s(ele=1)"
   ]
  },
  {
   "cell_type": "code",
   "execution_count": 71,
   "id": "d652a61e-d877-4825-a6b0-53ee4955212b",
   "metadata": {},
   "outputs": [
    {
     "data": {
      "text/plain": [
       "tensor([2.601208578941770e-03, 3.000000000000000e-03, -3.200402859647260e-03,\n",
       "        -1.000000000000000e-03, 1.998930328796950e-03, -2.010475072419950e-03],\n",
       "       dtype=torch.float64)"
      ]
     },
     "execution_count": 71,
     "metadata": {},
     "output_type": "execute_result"
    }
   ],
   "source": [
    "# Bmad outgoing particle\n",
    "x_tao = torch.tensor([orbit_out['x'],\n",
    "                      orbit_out['px'],\n",
    "                      orbit_out['y'],\n",
    "                      orbit_out['py'],\n",
    "                      orbit_out['z'],\n",
    "                      orbit_out['pz']], dtype=torch.double)\n",
    "x_tao"
   ]
  },
  {
   "cell_type": "code",
   "execution_count": 72,
   "id": "ec7f7c04-e085-4e38-95d4-a6af98f4c4f2",
   "metadata": {},
   "outputs": [
    {
     "data": {
      "text/plain": [
       "True"
      ]
     },
     "execution_count": 72,
     "metadata": {},
     "output_type": "execute_result"
    }
   ],
   "source": [
    "# close to Tao result?\n",
    "torch.allclose(x_py, x_tao, atol=0, rtol=1.0e-14)"
   ]
  },
  {
   "cell_type": "markdown",
   "id": "18bce176-6de2-4d38-9c36-8944e7fb7635",
   "metadata": {},
   "source": [
    "## RF_Cavity Jacobian test"
   ]
  },
  {
   "cell_type": "code",
   "execution_count": 73,
   "id": "5783b93b-af70-4a5f-b8b4-77498715014f",
   "metadata": {},
   "outputs": [
    {
     "data": {
      "text/plain": [
       "tensor([[ 1.000000000000000e+00,  2.004046705463930e-01,  0.000000000000000e+00,\n",
       "         -6.036330450442983e-07,  1.577102406617731e-06, -6.024226175949689e-04],\n",
       "        [ 0.000000000000000e+00,  1.000000000000000e+00,  0.000000000000000e+00,\n",
       "          0.000000000000000e+00,  0.000000000000000e+00,  0.000000000000000e+00],\n",
       "        [ 0.000000000000000e+00, -6.036330450442982e-07,  1.000000000000000e+00,\n",
       "          2.004030608582729e-01, -5.257008022059102e-07,  2.008075391983230e-04],\n",
       "        [ 0.000000000000000e+00,  0.000000000000000e+00,  0.000000000000000e+00,\n",
       "          1.000000000000000e+00,  0.000000000000000e+00,  0.000000000000000e+00],\n",
       "        [ 0.000000000000000e+00, -6.024226155237540e-04,  0.000000000000000e+00,\n",
       "          2.008075385079180e-04,  9.999999053429351e-01,  3.484386392945851e-05],\n",
       "        [ 0.000000000000000e+00,  1.577103892075475e-06,  0.000000000000000e+00,\n",
       "         -5.257012973584918e-07, -5.235869418127461e-03,  9.999999122191349e-01]],\n",
       "       dtype=torch.float64)"
      ]
     },
     "execution_count": 73,
     "metadata": {},
     "output_type": "execute_result"
    }
   ],
   "source": [
    "# autodiff Jacobian matrix\n",
    "f_rf_cavity = lambda x: track_element(Particle(*x, s=p_in.s, p0c=p_in.p0c, mc2=p_in.mc2), cav)[:6]\n",
    "\n",
    "J = jacobian(f_rf_cavity, diff_coords)\n",
    "mat_py = torch.vstack(J)\n",
    "mat_py"
   ]
  },
  {
   "cell_type": "code",
   "execution_count": 74,
   "id": "3f21b36b-000a-4705-9f84-a4642a576fa9",
   "metadata": {},
   "outputs": [
    {
     "data": {
      "text/plain": [
       "tensor([[ 1.000000000000000e+00,  2.004046705463930e-01,  0.000000000000000e+00,\n",
       "         -6.036330450442980e-07,  1.577102406617730e-06, -6.024226175949690e-04],\n",
       "        [ 0.000000000000000e+00,  1.000000000000000e+00,  0.000000000000000e+00,\n",
       "          0.000000000000000e+00,  0.000000000000000e+00,  0.000000000000000e+00],\n",
       "        [ 0.000000000000000e+00, -6.036330450442980e-07,  1.000000000000000e+00,\n",
       "          2.004030608582730e-01, -5.257008022059100e-07,  2.008075391983230e-04],\n",
       "        [ 0.000000000000000e+00,  0.000000000000000e+00,  0.000000000000000e+00,\n",
       "          1.000000000000000e+00,  0.000000000000000e+00,  0.000000000000000e+00],\n",
       "        [ 0.000000000000000e+00, -6.024226155237540e-04,  0.000000000000000e+00,\n",
       "          2.008075385079180e-04,  9.999999053429350e-01,  3.484386392945810e-05],\n",
       "        [ 0.000000000000000e+00,  1.577103892075480e-06,  0.000000000000000e+00,\n",
       "         -5.257012973584920e-07, -5.235869418127460e-03,  9.999999122191350e-01]],\n",
       "       dtype=torch.float64)"
      ]
     },
     "execution_count": 74,
     "metadata": {},
     "output_type": "execute_result"
    }
   ],
   "source": [
    "# Bmad formula Jacobian\n",
    "quad_tao = tao.matrix(0,1)\n",
    "mat_tao = torch.tensor(quad_tao['mat6'])\n",
    "mat_tao"
   ]
  },
  {
   "cell_type": "code",
   "execution_count": 75,
   "id": "19b14b9a-c60a-4d58-986c-3c16883a992b",
   "metadata": {
    "tags": []
   },
   "outputs": [
    {
     "data": {
      "text/plain": [
       "True"
      ]
     },
     "execution_count": 75,
     "metadata": {},
     "output_type": "execute_result"
    }
   ],
   "source": [
    "# close to Tao result?\n",
    "torch.allclose(mat_py, mat_tao, atol=0, rtol=1.0e-13)"
   ]
  },
  {
   "cell_type": "markdown",
   "id": "10777ade-5261-4f31-99ce-a636bc74dd43",
   "metadata": {},
   "source": [
    "## RF_Cavity offset test"
   ]
  },
  {
   "cell_type": "code",
   "execution_count": 76,
   "id": "9e2dab1c-7875-4bd8-be45-f0f8b6315a07",
   "metadata": {},
   "outputs": [
    {
     "data": {
      "text/plain": [
       "RFCavity(L=0.2, VOLTAGE=10000.0, PHI0=0.5, RF_FREQUENCY=1000000000.0, X_OFFSET=0.001, Y_OFFSET=-0.002, TILT=0.0)"
      ]
     },
     "execution_count": 76,
     "metadata": {},
     "output_type": "execute_result"
    }
   ],
   "source": [
    "# RF cav with offsets\n",
    "cav_off = RFCavity(L=0.2,\n",
    "                   VOLTAGE = 1e4,\n",
    "                   PHI0 = 0.5,\n",
    "                   RF_FREQUENCY = 1e9,\n",
    "                   X_OFFSET = 1e-3,\n",
    "                   Y_OFFSET = -2e-3)\n",
    "cav_off"
   ]
  },
  {
   "cell_type": "code",
   "execution_count": 77,
   "id": "ed650f68-9d00-4f47-b08a-d39ecb329d0b",
   "metadata": {},
   "outputs": [
    {
     "data": {
      "text/plain": [
       "tensor([2.601208578941774e-03, 3.000000000000000e-03, -3.200402859647258e-03,\n",
       "        -1.000000000000000e-03, 1.998930328796947e-03, -2.010475072419949e-03],\n",
       "       dtype=torch.float64)"
      ]
     },
     "execution_count": 77,
     "metadata": {},
     "output_type": "execute_result"
    }
   ],
   "source": [
    "# Outgoing particle no offset\n",
    "p_out = track_element(p_in, cav)\n",
    "\n",
    "x_py = torch.hstack(p_out[:6])\n",
    "x_py"
   ]
  },
  {
   "cell_type": "code",
   "execution_count": 78,
   "id": "34b1125f-4888-46d7-84d2-6338305e2878",
   "metadata": {},
   "outputs": [
    {
     "data": {
      "text/plain": [
       "tensor([2.601208578941774e-03, 3.000000000000000e-03, -3.200402859647258e-03,\n",
       "        -1.000000000000000e-03, 1.998930328796947e-03, -2.010475072419949e-03],\n",
       "       dtype=torch.float64)"
      ]
     },
     "execution_count": 78,
     "metadata": {},
     "output_type": "execute_result"
    }
   ],
   "source": [
    "# Outgoing particle offset\n",
    "p_out = track_element(p_in, cav_off)\n",
    "x_py = torch.hstack(p_out[:6])\n",
    "x_py"
   ]
  },
  {
   "cell_type": "code",
   "execution_count": 79,
   "id": "466bdc4e-5a29-48d5-86f8-f4da02532836",
   "metadata": {},
   "outputs": [],
   "source": [
    "# Bmad lattice to compare\n",
    "tao = Tao('-lat '+repo_path+'/tests/bmad_lattices/test_rf_cavity_offset.bmad -noplot')\n",
    "tao.cmd('set particle_start x='+str(coords[0]))\n",
    "tao.cmd('set particle_start px='+str(coords[1]))\n",
    "tao.cmd('set particle_start y='+str(coords[2]))\n",
    "tao.cmd('set particle_start py='+str(coords[3]))\n",
    "tao.cmd('set particle_start z='+str(coords[4]))\n",
    "tao.cmd('set particle_start pz='+str(coords[5]))\n",
    "orbit_out = tao.orbit_at_s(ele=1)"
   ]
  },
  {
   "cell_type": "code",
   "execution_count": 80,
   "id": "b2ca323e-02a4-478e-8987-58a9ed1381e8",
   "metadata": {},
   "outputs": [
    {
     "data": {
      "text/plain": [
       "tensor([2.601208578941770e-03, 3.000000000000000e-03, -3.200402859647260e-03,\n",
       "        -1.000000000000000e-03, 1.998930328796950e-03, -2.010475072419950e-03],\n",
       "       dtype=torch.float64)"
      ]
     },
     "execution_count": 80,
     "metadata": {},
     "output_type": "execute_result"
    }
   ],
   "source": [
    "# Bmad outgoing particle\n",
    "x_tao = torch.tensor([orbit_out['x'],\n",
    "                      orbit_out['px'],\n",
    "                      orbit_out['y'],\n",
    "                      orbit_out['py'],\n",
    "                      orbit_out['z'],\n",
    "                      orbit_out['pz']], dtype=torch.double)\n",
    "x_tao"
   ]
  },
  {
   "cell_type": "code",
   "execution_count": 81,
   "id": "59d1c818-3a07-4e96-a84e-87b415f1032b",
   "metadata": {},
   "outputs": [
    {
     "data": {
      "text/plain": [
       "True"
      ]
     },
     "execution_count": 81,
     "metadata": {},
     "output_type": "execute_result"
    }
   ],
   "source": [
    "# close to Tao result?\n",
    "torch.allclose(x_py, x_tao, atol=0, rtol=1.0e-14)"
   ]
  },
  {
   "cell_type": "markdown",
   "id": "a068c3c7-0b83-4948-ac3e-9e9c700de595",
   "metadata": {},
   "source": [
    "## RF_Cavity tilt test"
   ]
  },
  {
   "cell_type": "code",
   "execution_count": 82,
   "id": "4157f30f-8ae7-4bcb-92a1-bdb17e3c866b",
   "metadata": {},
   "outputs": [
    {
     "data": {
      "text/plain": [
       "RFCavity(L=0.2, VOLTAGE=10000.0, PHI0=0.5, RF_FREQUENCY=1000000000.0, X_OFFSET=0.0, Y_OFFSET=0.0, TILT=0.3)"
      ]
     },
     "execution_count": 82,
     "metadata": {},
     "output_type": "execute_result"
    }
   ],
   "source": [
    "# RF cav with tilt\n",
    "cav_tilt = RFCavity(L=0.2,\n",
    "                    VOLTAGE=1e4,\n",
    "                    PHI0=0.5,\n",
    "                    RF_FREQUENCY=1e9,\n",
    "                    TILT=0.3)\n",
    "cav_tilt"
   ]
  },
  {
   "cell_type": "code",
   "execution_count": 83,
   "id": "facd0e1b-b013-45d6-9c55-afd453270a9e",
   "metadata": {},
   "outputs": [
    {
     "data": {
      "text/plain": [
       "tensor([2.601208578941774e-03, 3.000000000000000e-03, -3.200402859647258e-03,\n",
       "        -1.000000000000000e-03, 1.998930328796947e-03, -2.010475072419949e-03],\n",
       "       dtype=torch.float64)"
      ]
     },
     "execution_count": 83,
     "metadata": {},
     "output_type": "execute_result"
    }
   ],
   "source": [
    "# Outgoing particle no offset\n",
    "p_out = track_element(p_in, cav)\n",
    "x_py = torch.hstack(p_out[:6])\n",
    "x_py"
   ]
  },
  {
   "cell_type": "code",
   "execution_count": 84,
   "id": "6fb9cc00-a24a-4e98-bc69-fdacf4692c7c",
   "metadata": {},
   "outputs": [
    {
     "data": {
      "text/plain": [
       "tensor([2.601208578941774e-03, 3.000000000000000e-03, -3.200402859647258e-03,\n",
       "        -1.000000000000000e-03, 1.998930328796947e-03, -2.010475072419949e-03],\n",
       "       dtype=torch.float64)"
      ]
     },
     "execution_count": 84,
     "metadata": {},
     "output_type": "execute_result"
    }
   ],
   "source": [
    "# Outgoing particle tilt\n",
    "p_out = track_element(p_in, cav_tilt)\n",
    "x_py = torch.hstack(p_out[:6])\n",
    "x_py"
   ]
  },
  {
   "cell_type": "code",
   "execution_count": 85,
   "id": "3754c7f1-afc8-41b9-aa86-33d066faaade",
   "metadata": {},
   "outputs": [],
   "source": [
    "# Bmad lattice to compare\n",
    "tao = Tao('-lat '+repo_path+'/tests/bmad_lattices/test_rf_cavity_tilt.bmad -noplot')\n",
    "tao.cmd('set particle_start x='+str(coords[0]))\n",
    "tao.cmd('set particle_start px='+str(coords[1]))\n",
    "tao.cmd('set particle_start y='+str(coords[2]))\n",
    "tao.cmd('set particle_start py='+str(coords[3]))\n",
    "tao.cmd('set particle_start z='+str(coords[4]))\n",
    "tao.cmd('set particle_start pz='+str(coords[5]))\n",
    "orbit_out = tao.orbit_at_s(ele=1)"
   ]
  },
  {
   "cell_type": "code",
   "execution_count": 86,
   "id": "1a6f5274-e18d-427d-8991-16f8cf28324f",
   "metadata": {},
   "outputs": [
    {
     "data": {
      "text/plain": [
       "tensor([2.601208578941770e-03, 3.000000000000000e-03, -3.200402859647260e-03,\n",
       "        -1.000000000000000e-03, 1.998930328796950e-03, -2.010475072419950e-03],\n",
       "       dtype=torch.float64)"
      ]
     },
     "execution_count": 86,
     "metadata": {},
     "output_type": "execute_result"
    }
   ],
   "source": [
    "# Bmad outgoing particle\n",
    "x_tao = torch.tensor([orbit_out['x'],\n",
    "                      orbit_out['px'],\n",
    "                      orbit_out['y'],\n",
    "                      orbit_out['py'],\n",
    "                      orbit_out['z'],\n",
    "                      orbit_out['pz']], dtype=torch.double)\n",
    "x_tao"
   ]
  },
  {
   "cell_type": "code",
   "execution_count": 87,
   "id": "4543c707-b1d5-411a-af06-18df7f697210",
   "metadata": {},
   "outputs": [
    {
     "data": {
      "text/plain": [
       "True"
      ]
     },
     "execution_count": 87,
     "metadata": {},
     "output_type": "execute_result"
    }
   ],
   "source": [
    "# close to Tao result?\n",
    "torch.allclose(x_py, x_tao, atol=0, rtol=1.0e-14)"
   ]
  }
 ],
 "metadata": {
  "kernelspec": {
   "display_name": "Python 3 (ipykernel)",
   "language": "python",
   "name": "python3"
  },
  "language_info": {
   "codemirror_mode": {
    "name": "ipython",
    "version": 3
   },
   "file_extension": ".py",
   "mimetype": "text/x-python",
   "name": "python",
   "nbconvert_exporter": "python",
   "pygments_lexer": "ipython3",
   "version": "3.9.13"
  },
  "toc-autonumbering": true,
  "toc-showcode": false,
  "toc-showmarkdowntxt": false,
  "toc-showtags": false
 },
 "nbformat": 4,
 "nbformat_minor": 5
}
